{
 "cells": [
  {
   "cell_type": "code",
   "execution_count": 1,
   "id": "cb95b16b-686d-48da-89c3-3e08b8cf0e88",
   "metadata": {},
   "outputs": [],
   "source": [
    "import asyncio\n",
    "import time\n",
    "\n",
    "import aiohttp"
   ]
  },
  {
   "cell_type": "code",
   "execution_count": 2,
   "id": "65939d76-96f8-47d8-99be-9a8bc6bf63ef",
   "metadata": {},
   "outputs": [],
   "source": [
    "def timeit(fn):\n",
    "    async def inner(*args, **kwargs):\n",
    "        t1 = time.time()\n",
    "        res = await fn(*args, **kwargs)\n",
    "\n",
    "        print(f\"{fn=}, {res=}\")\n",
    "        t2 = time.time()\n",
    "        print(\"time\", t2 - t1)\n",
    "\n",
    "        return res\n",
    "    return inner"
   ]
  },
  {
   "cell_type": "code",
   "execution_count": null,
   "id": "58bb89a6-efc0-4d72-b969-50c3fa1a69cb",
   "metadata": {},
   "outputs": [],
   "source": []
  },
  {
   "cell_type": "code",
   "execution_count": null,
   "id": "0f88da48-2306-44d5-be92-a5806bf20b96",
   "metadata": {},
   "outputs": [],
   "source": []
  },
  {
   "cell_type": "code",
   "execution_count": 9,
   "id": "b00ca07c-8728-4a9f-bd47-d154a452c932",
   "metadata": {},
   "outputs": [
    {
     "name": "stdout",
     "output_type": "stream",
     "text": [
      "start fetch_batch_urls\n",
      "fn=<function fetch_batch_urls at 0x106ce5260>, res=50\n",
      "time 0.6526269912719727\n"
     ]
    },
    {
     "data": {
      "text/plain": [
       "50"
      ]
     },
     "execution_count": 9,
     "metadata": {},
     "output_type": "execute_result"
    }
   ],
   "source": [
    "URL = \"https://docs.python.org/3/whatsnew/3.12.html\"\n",
    "N_URLS = 50\n",
    "\n",
    "\n",
    "async def fetch_url(url):\n",
    "    async with aiohttp.ClientSession() as session:\n",
    "        async with session.get(url) as resp:\n",
    "            # print(resp.status)\n",
    "            data = await resp.text()\n",
    "            return data\n",
    "\n",
    "\n",
    "@timeit\n",
    "async def fetch_batch_urls(urls):\n",
    "    print(\"start fetch_batch_urls\")\n",
    "    tasks = []\n",
    "    for url in urls:\n",
    "        # tasks.append(asyncio.create_task(fetch_url(url)))\n",
    "        tasks.append(fetch_url(url))\n",
    "\n",
    "    await asyncio.gather(*tasks)\n",
    "\n",
    "    return len(urls)\n",
    "\n",
    "\n",
    "await fetch_batch_urls([URL] * N_URLS)"
   ]
  },
  {
   "cell_type": "code",
   "execution_count": null,
   "id": "b5d1e358-2a7d-4c90-b7fa-d68e78205634",
   "metadata": {},
   "outputs": [],
   "source": []
  },
  {
   "cell_type": "code",
   "execution_count": null,
   "id": "26e3902e-c2ee-441a-a1ca-79cc1876cd74",
   "metadata": {},
   "outputs": [],
   "source": []
  },
  {
   "cell_type": "code",
   "execution_count": null,
   "id": "760996fa-f233-4247-902a-bf79805ba8ed",
   "metadata": {},
   "outputs": [],
   "source": []
  },
  {
   "cell_type": "code",
   "execution_count": null,
   "id": "6dfdabcb-c267-4d97-8b03-fa110a2aa561",
   "metadata": {},
   "outputs": [],
   "source": []
  },
  {
   "cell_type": "code",
   "execution_count": null,
   "id": "fd589f64-2fc8-4b29-8d08-511da0c06b0c",
   "metadata": {},
   "outputs": [],
   "source": []
  },
  {
   "cell_type": "markdown",
   "id": "c7df5f19-206f-47c2-975c-c11c64a44294",
   "metadata": {},
   "source": [
    "# Semaphore"
   ]
  },
  {
   "cell_type": "code",
   "execution_count": 14,
   "id": "adeb353f-fe73-43cd-9375-ba6ae8207704",
   "metadata": {},
   "outputs": [
    {
     "name": "stdout",
     "output_type": "stream",
     "text": [
      "start fetch_batch_urls\n",
      "fn=<function fetch_batch_urls at 0x10701a020>, res=50\n",
      "time 2.8871710300445557\n"
     ]
    },
    {
     "data": {
      "text/plain": [
       "50"
      ]
     },
     "execution_count": 14,
     "metadata": {},
     "output_type": "execute_result"
    }
   ],
   "source": [
    "URL = \"https://docs.python.org/3/whatsnew/3.12.html\"\n",
    "N_URLS = 50\n",
    "N_SIM = 5\n",
    "\n",
    "\n",
    "async def fetch_url(url, sem):\n",
    "    async with sem:\n",
    "        async with aiohttp.ClientSession() as session:\n",
    "            async with session.get(url) as resp:\n",
    "                # print(resp.status)\n",
    "                data = await resp.text()\n",
    "\n",
    "    return data\n",
    "\n",
    "\n",
    "@timeit\n",
    "async def fetch_batch_urls(urls, n_sim):\n",
    "    print(\"start fetch_batch_urls\")\n",
    "\n",
    "    sem = asyncio.Semaphore(n_sim)\n",
    "    tasks = []\n",
    "    for url in urls:\n",
    "        tasks.append(fetch_url(url, sem))\n",
    "\n",
    "    await asyncio.gather(*tasks)\n",
    "\n",
    "    return len(urls)\n",
    "\n",
    "\n",
    "await fetch_batch_urls([URL] * N_URLS, N_SIM)"
   ]
  },
  {
   "cell_type": "code",
   "execution_count": null,
   "id": "14c0f1d0-ee84-4d00-ae2b-3d5ecb0268fd",
   "metadata": {},
   "outputs": [],
   "source": []
  },
  {
   "cell_type": "code",
   "execution_count": null,
   "id": "ee9ae5ea-66e5-48b2-9562-13c8afbe1b51",
   "metadata": {},
   "outputs": [],
   "source": []
  },
  {
   "cell_type": "code",
   "execution_count": null,
   "id": "519e03c7-97bf-43b2-b696-cc06efb4a1d4",
   "metadata": {},
   "outputs": [],
   "source": []
  },
  {
   "cell_type": "code",
   "execution_count": null,
   "id": "5a0a0e22-c166-4abf-8cb6-e645ad8e3fcb",
   "metadata": {},
   "outputs": [],
   "source": []
  },
  {
   "cell_type": "markdown",
   "id": "aa2ddc18-b3b4-477e-8f81-492e91a72ab7",
   "metadata": {},
   "source": [
    "# Generator"
   ]
  },
  {
   "cell_type": "code",
   "execution_count": 16,
   "id": "55bbe28d-babf-4cfe-a00c-fc141635aeaa",
   "metadata": {},
   "outputs": [
    {
     "name": "stdout",
     "output_type": "stream",
     "text": [
      "x=0\n",
      "yielded i=0\n",
      "x=1\n",
      "yielded i=1\n",
      "x=2\n",
      "yielded i=2\n",
      "x=3\n",
      "yielded i=3\n",
      "x=4\n",
      "yielded i=4\n"
     ]
    }
   ],
   "source": [
    "async def countdown(n):\n",
    "    for i in range(n):\n",
    "        yield i\n",
    "        print(f\"yielded {i=}\")\n",
    "        await asyncio.sleep(0.1)\n",
    "\n",
    "\n",
    "async for x in countdown(5):\n",
    "    print(f\"{x=}\")"
   ]
  },
  {
   "cell_type": "code",
   "execution_count": 17,
   "id": "1f89b746-9a88-4163-8ee1-4d24f1203283",
   "metadata": {},
   "outputs": [
    {
     "name": "stdout",
     "output_type": "stream",
     "text": [
      "x=None\n",
      "x=None\n",
      "x=None\n",
      "x=None\n",
      "x=None\n"
     ]
    }
   ],
   "source": [
    "async def countdown(n):\n",
    "    for i in range(n):\n",
    "        yield await asyncio.sleep(0.1)\n",
    "\n",
    "\n",
    "async for x in countdown(5):\n",
    "    print(f\"{x=}\")"
   ]
  },
  {
   "cell_type": "code",
   "execution_count": null,
   "id": "f9c61fc6-9335-4ff7-aeb0-07d06f6bccc7",
   "metadata": {},
   "outputs": [],
   "source": []
  },
  {
   "cell_type": "code",
   "execution_count": 20,
   "id": "2beac4ec-0406-4166-953c-9ef30bf3e4b1",
   "metadata": {},
   "outputs": [
    {
     "name": "stdout",
     "output_type": "stream",
     "text": [
      "start fetch_batch_urls\n",
      "compl_task, time.time() - start=0.00010824203491210938\n",
      "finished, time.time() - start=0.2556571960449219\n",
      "compl_task, time.time() - start=0.2558102607727051\n",
      "finished, time.time() - start=0.2558321952819824\n",
      "compl_task, time.time() - start=0.2558400630950928\n",
      "finished, time.time() - start=0.264545202255249\n",
      "compl_task, time.time() - start=0.26457715034484863\n",
      "finished, time.time() - start=0.2675762176513672\n",
      "compl_task, time.time() - start=0.26761412620544434\n",
      "finished, time.time() - start=0.2698981761932373\n",
      "fn=<function fetch_batch_urls at 0x106ce53a0>, res=5\n",
      "time 0.27009105682373047\n"
     ]
    },
    {
     "data": {
      "text/plain": [
       "5"
      ]
     },
     "execution_count": 20,
     "metadata": {},
     "output_type": "execute_result"
    }
   ],
   "source": [
    "URL = \"https://docs.python.org/3/whatsnew/3.12.html\"\n",
    "N_URLS = 5\n",
    "\n",
    "\n",
    "async def fetch_url(url):\n",
    "    async with aiohttp.ClientSession() as session:\n",
    "        async with session.get(url) as resp:\n",
    "            # print(resp.status)\n",
    "            data = await resp.text()\n",
    "            return data\n",
    "\n",
    "\n",
    "@timeit\n",
    "async def fetch_batch_urls(urls):\n",
    "    print(\"start fetch_batch_urls\")\n",
    "    tasks = []\n",
    "    for url in urls:\n",
    "        tasks.append(fetch_url(url))\n",
    "\n",
    "    start = time.time()\n",
    "\n",
    "    for compl_task in asyncio.as_completed(tasks):\n",
    "        print(f\"compl_task, {time.time() - start=}\")\n",
    "        res = await compl_task\n",
    "        print(f\"finished, {time.time() - start=}\")\n",
    "\n",
    "    return len(urls)\n",
    "\n",
    "\n",
    "await fetch_batch_urls([URL] * N_URLS)"
   ]
  },
  {
   "cell_type": "code",
   "execution_count": 21,
   "id": "f859bd9e-3fb1-4d05-af97-5666adbddafd",
   "metadata": {},
   "outputs": [
    {
     "name": "stdout",
     "output_type": "stream",
     "text": [
      "start fetch_batch_urls\n",
      "compl_task, time.time() - start=5.793571472167969e-05\n",
      "coro stop name='fetch_3'\n",
      "coro stop name='fetch_2'\n",
      "finished res='fetch_3', time.time() - start=0.31260108947753906\n",
      "compl_task, time.time() - start=0.3126339912414551\n",
      "finished res='fetch_2', time.time() - start=0.31277012825012207\n",
      "compl_task, time.time() - start=0.3127858638763428\n",
      "coro stop name='fetch_1'\n",
      "finished res='fetch_1', time.time() - start=0.41811585426330566\n",
      "compl_task, time.time() - start=0.4181380271911621\n",
      "coro stop name='fetch_5'\n",
      "coro stop name='fetch_4'\n",
      "finished res='fetch_5', time.time() - start=0.42159008979797363\n",
      "compl_task, time.time() - start=0.4216158390045166\n",
      "finished res='fetch_4', time.time() - start=0.421673059463501\n",
      "fn=<function fetch_batch_urls at 0x107267e20>, res=5\n",
      "time 0.4218101501464844\n"
     ]
    },
    {
     "data": {
      "text/plain": [
       "5"
      ]
     },
     "execution_count": 21,
     "metadata": {},
     "output_type": "execute_result"
    }
   ],
   "source": [
    "URL = \"https://docs.python.org/3/whatsnew/3.12.html\"\n",
    "N_URLS = 5\n",
    "\n",
    "\n",
    "async def fetch_url(url, name):\n",
    "    async with aiohttp.ClientSession() as session:\n",
    "        async with session.get(url) as resp:\n",
    "            # print(resp.status)\n",
    "            data = await resp.text()\n",
    "    print(f\"coro stop {name=}\")\n",
    "    return name\n",
    "\n",
    "\n",
    "@timeit\n",
    "async def fetch_batch_urls(urls):\n",
    "    print(\"start fetch_batch_urls\")\n",
    "    tasks = []\n",
    "    for i, url in enumerate(urls, 1):\n",
    "        tasks.append(fetch_url(url, f\"fetch_{i}\"))\n",
    "\n",
    "    start = time.time()\n",
    "\n",
    "    for compl_task in asyncio.as_completed(tasks):\n",
    "        print(f\"compl_task, {time.time() - start=}\")\n",
    "        res = await compl_task\n",
    "        print(f\"finished {res=}, {time.time() - start=}\")\n",
    "\n",
    "    return len(urls)\n",
    "\n",
    "\n",
    "await fetch_batch_urls([URL] * N_URLS)"
   ]
  },
  {
   "cell_type": "code",
   "execution_count": 25,
   "id": "80c1b74d-2cc6-4c50-8b96-bf553c6f5fff",
   "metadata": {
    "scrolled": true
   },
   "outputs": [
    {
     "name": "stdout",
     "output_type": "stream",
     "text": [
      "start fetch_batch_urls\n",
      "generator res fetch_2\n",
      "generator res fetch_6\n",
      "generator res fetch_10\n",
      "generator res fetch_8\n",
      "generator res fetch_4\n",
      "fn=<function fetch_batch_urls at 0x10713a480>, res=10\n",
      "time 0.4074258804321289\n"
     ]
    },
    {
     "data": {
      "text/plain": [
       "10"
      ]
     },
     "execution_count": 25,
     "metadata": {},
     "output_type": "execute_result"
    }
   ],
   "source": [
    "URL = \"https://docs.python.org/3/whatsnew/3.12.html\"\n",
    "N_URLS = 10\n",
    "\n",
    "\n",
    "async def fetch_url(url, name):\n",
    "    async with aiohttp.ClientSession() as session:\n",
    "        async with session.get(url) as resp:\n",
    "            # print(resp.status)\n",
    "            data = await resp.text()\n",
    "    #print(f\"coro stop {name=}\")\n",
    "    return name\n",
    "\n",
    "\n",
    "async def gen_fetch_as_completed(tasks):\n",
    "    start = time.time()\n",
    "\n",
    "    for compl_task in asyncio.as_completed(tasks):\n",
    "        #print(f\"compl_task, {time.time() - start=}\")\n",
    "        res = await compl_task\n",
    "        #print(f\"finished {res=}, {time.time() - start=}\")\n",
    "\n",
    "        num = int(res.split(\"_\")[1])\n",
    "        if num % 2 == 0:\n",
    "            yield res\n",
    "\n",
    "\n",
    "@timeit\n",
    "async def fetch_batch_urls(urls):\n",
    "    print(\"start fetch_batch_urls\")\n",
    "    tasks = []\n",
    "    for i, url in enumerate(urls, 1):\n",
    "        tasks.append(fetch_url(url, f\"fetch_{i}\"))\n",
    "\n",
    "    async for name in gen_fetch_as_completed(tasks):\n",
    "        print(\"generator res\", name)\n",
    "\n",
    "    return len(urls)\n",
    "\n",
    "\n",
    "await fetch_batch_urls([URL] * N_URLS)"
   ]
  },
  {
   "cell_type": "code",
   "execution_count": null,
   "id": "f2975757-3fcf-47e5-881f-2c62985fda56",
   "metadata": {},
   "outputs": [],
   "source": []
  },
  {
   "cell_type": "code",
   "execution_count": null,
   "id": "7de782f3-3437-41b3-80e9-5cf51f073886",
   "metadata": {},
   "outputs": [],
   "source": []
  },
  {
   "cell_type": "markdown",
   "id": "a2d1d4c4-2bfa-40ed-b761-8e86ac9de9d4",
   "metadata": {},
   "source": [
    "# Workers"
   ]
  },
  {
   "cell_type": "code",
   "execution_count": 31,
   "id": "2c0e69dd-37eb-4259-8e6a-934c863f3733",
   "metadata": {},
   "outputs": [
    {
     "name": "stdout",
     "output_type": "stream",
     "text": [
      "start fetch_batch_urls\n",
      "worker_0 started\n",
      "worker_1 started\n",
      "worker_1 finished\n",
      "worker_0 finished\n",
      "fn=<function fetch_batch_urls at 0x107e07560>, res=50\n",
      "time 7.1069159507751465\n"
     ]
    },
    {
     "data": {
      "text/plain": [
       "50"
      ]
     },
     "execution_count": 31,
     "metadata": {},
     "output_type": "execute_result"
    }
   ],
   "source": [
    "URL = \"https://docs.python.org/3/whatsnew/3.12.html\"\n",
    "N_URLS = 50\n",
    "N_WORKERS = 2\n",
    "\n",
    "\n",
    "async def fetch_url(url):\n",
    "    async with aiohttp.ClientSession() as session:\n",
    "        async with session.get(url) as resp:\n",
    "            # print(resp.status)\n",
    "            data = await resp.text()\n",
    "\n",
    "    return data\n",
    "\n",
    "\n",
    "async def worker(que, name):\n",
    "    print(f\"{name} started\")\n",
    "    while True:\n",
    "        url = await que.get()\n",
    "\n",
    "        if url is None:\n",
    "            await que.put(url)\n",
    "            break\n",
    "\n",
    "        try:\n",
    "            result = await fetch_url(url)\n",
    "        except Exception as err:\n",
    "            print(\"Error\", err)\n",
    "\n",
    "    print(f\"{name} finished\")\n",
    "\n",
    "\n",
    "@timeit\n",
    "async def fetch_batch_urls(urls, n_workers):\n",
    "    print(\"start fetch_batch_urls\")\n",
    "\n",
    "    que = asyncio.Queue()\n",
    "    for url in urls:\n",
    "        await que.put(url)\n",
    "    await que.put(None)\n",
    "\n",
    "    workers = [\n",
    "        worker(que, f\"worker_{i}\")\n",
    "        for i in range(n_workers)\n",
    "    ]\n",
    "\n",
    "    await asyncio.gather(*workers)\n",
    "\n",
    "    return len(urls)\n",
    "\n",
    "\n",
    "await fetch_batch_urls([URL] * N_URLS, N_WORKERS)"
   ]
  },
  {
   "cell_type": "code",
   "execution_count": 33,
   "id": "b319bb79-8863-44c1-9580-8eff232d0321",
   "metadata": {},
   "outputs": [
    {
     "name": "stdout",
     "output_type": "stream",
     "text": [
      "start fetch_batch_urls\n",
      "worker_0 started\n",
      "worker_1 started\n",
      "fn=<function fetch_batch_urls at 0x108331120>, res=50\n",
      "time 6.633097887039185\n"
     ]
    },
    {
     "data": {
      "text/plain": [
       "50"
      ]
     },
     "execution_count": 33,
     "metadata": {},
     "output_type": "execute_result"
    }
   ],
   "source": [
    "URL = \"https://docs.python.org/3/whatsnew/3.12.html\"\n",
    "N_URLS = 50\n",
    "N_WORKERS = 2\n",
    "\n",
    "\n",
    "async def fetch_url(url):\n",
    "    async with aiohttp.ClientSession() as session:\n",
    "        async with session.get(url) as resp:\n",
    "            # print(resp.status)\n",
    "            data = await resp.text()\n",
    "\n",
    "    return data\n",
    "\n",
    "\n",
    "async def worker(que, name):\n",
    "    print(f\"{name} started\")\n",
    "    while True:\n",
    "        url = await que.get()\n",
    "\n",
    "        try:\n",
    "            result = await fetch_url(url)\n",
    "        except Exception as err:\n",
    "            print(\"Error\", err)\n",
    "        finally:\n",
    "            que.task_done()\n",
    "\n",
    "    print(f\"{name} finished\")\n",
    "\n",
    "\n",
    "@timeit\n",
    "async def fetch_batch_urls(urls, n_workers):\n",
    "    print(\"start fetch_batch_urls\")\n",
    "\n",
    "    que = asyncio.Queue()\n",
    "    for url in urls:\n",
    "        await que.put(url)\n",
    "\n",
    "    workers = [\n",
    "        asyncio.create_task(worker(que, f\"worker_{i}\"))\n",
    "        for i in range(n_workers)\n",
    "    ]\n",
    "\n",
    "    await que.join()\n",
    "\n",
    "    for wr in workers:\n",
    "        wr.cancel()\n",
    "\n",
    "    return len(urls)\n",
    "\n",
    "\n",
    "await fetch_batch_urls([URL] * N_URLS, N_WORKERS)"
   ]
  },
  {
   "cell_type": "code",
   "execution_count": null,
   "id": "b13b10c0-c65f-463f-be5f-55b69f617382",
   "metadata": {},
   "outputs": [],
   "source": []
  },
  {
   "cell_type": "code",
   "execution_count": null,
   "id": "cbbe1da0-4b30-4dd1-b697-3c82cc781f68",
   "metadata": {},
   "outputs": [],
   "source": []
  },
  {
   "cell_type": "markdown",
   "id": "4bae193c-1a9d-418b-a002-a7c214957be5",
   "metadata": {},
   "source": [
    "# Threads"
   ]
  },
  {
   "cell_type": "code",
   "execution_count": 35,
   "id": "70630b7e-7abe-4c04-ba3a-1be3a4d749be",
   "metadata": {},
   "outputs": [
    {
     "name": "stdout",
     "output_type": "stream",
     "text": [
      "start blocking api n=5\n",
      "finish blocking api n=5\n",
      "start non-blocking api n=5\n",
      "finish non-blocking api n=5\n",
      "fn=<function run at 0x10709fce0>, res=None\n",
      "time 10.006462097167969\n"
     ]
    }
   ],
   "source": [
    "async def bloking_api(n):\n",
    "    print(f\"start blocking api {n=}\")\n",
    "\n",
    "    time.sleep(n)\n",
    "    #urllib.urlopen(n)\n",
    "    #factorial(n)\n",
    "\n",
    "    print(f\"finish blocking api {n=}\")\n",
    "\n",
    "\n",
    "async def non_blocking_api(n):\n",
    "    print(f\"start non-blocking api {n=}\")\n",
    "\n",
    "    await asyncio.sleep(n)\n",
    "    print(f\"finish non-blocking api {n=}\")\n",
    "\n",
    "\n",
    "@timeit\n",
    "async def run(n):\n",
    "    await asyncio.gather(bloking_api(n), non_blocking_api(n))\n",
    "\n",
    "\n",
    "await run(5)"
   ]
  },
  {
   "cell_type": "code",
   "execution_count": 38,
   "id": "66a1d25a-e041-43ee-a52d-3672b060181e",
   "metadata": {},
   "outputs": [
    {
     "name": "stdout",
     "output_type": "stream",
     "text": [
      "start non-blocking api n=5start blocking api n=5\n",
      "\n",
      "finish non-blocking api n=5\n",
      "finish blocking api n=5\n",
      "fn=<function run at 0x107e06f20>, res=None\n",
      "time 5.007159233093262\n"
     ]
    }
   ],
   "source": [
    "def bloking_api(n):\n",
    "    print(f\"start blocking api {n=}\")\n",
    "\n",
    "    time.sleep(n)\n",
    "    #urllib.urlopen(n)\n",
    "    #factorial(n)\n",
    "\n",
    "    print(f\"finish blocking api {n=}\")\n",
    "\n",
    "\n",
    "async def non_blocking_api(n):\n",
    "    print(f\"start non-blocking api {n=}\")\n",
    "\n",
    "    await asyncio.sleep(n)\n",
    "    print(f\"finish non-blocking api {n=}\")\n",
    "\n",
    "\n",
    "@timeit\n",
    "async def run(n):\n",
    "    await asyncio.gather(asyncio.to_thread(bloking_api, n), non_blocking_api(n))\n",
    "\n",
    "\n",
    "await run(5)"
   ]
  },
  {
   "cell_type": "code",
   "execution_count": 39,
   "id": "0703f2e1-1aac-4dd0-ba4c-671a1029474c",
   "metadata": {},
   "outputs": [
    {
     "name": "stdout",
     "output_type": "stream",
     "text": [
      "start blocking api n=5\n",
      "start non-blocking api n=5\n",
      "finish non-blocking api n=5\n",
      "finish blocking api n=5\n",
      "fn=<function run at 0x107e06a20>, res=None\n",
      "time 5.005425214767456\n"
     ]
    }
   ],
   "source": [
    "async def bloking_api(n):\n",
    "    print(f\"start blocking api {n=}\")\n",
    "\n",
    "    await asyncio.to_thread(time.sleep, n)\n",
    "    \n",
    "    # time.sleep(n)\n",
    "    #urllib.urlopen(n)\n",
    "    #factorial(n)\n",
    "\n",
    "    print(f\"finish blocking api {n=}\")\n",
    "\n",
    "\n",
    "async def non_blocking_api(n):\n",
    "    print(f\"start non-blocking api {n=}\")\n",
    "\n",
    "    await asyncio.sleep(n)\n",
    "    print(f\"finish non-blocking api {n=}\")\n",
    "\n",
    "\n",
    "@timeit\n",
    "async def run(n):\n",
    "    await asyncio.gather(bloking_api(n), non_blocking_api(n))\n",
    "\n",
    "\n",
    "await run(5)"
   ]
  },
  {
   "cell_type": "code",
   "execution_count": 40,
   "id": "988b835e-8382-4634-b57d-fc7e274c206e",
   "metadata": {},
   "outputs": [],
   "source": [
    "loop = asyncio.get_running_loop()"
   ]
  },
  {
   "cell_type": "code",
   "execution_count": 41,
   "id": "38eb5a19-7cc5-4fdc-b6f3-883473fbebc6",
   "metadata": {},
   "outputs": [
    {
     "data": {
      "text/plain": [
       "<_UnixSelectorEventLoop running=True closed=False debug=False>"
      ]
     },
     "execution_count": 41,
     "metadata": {},
     "output_type": "execute_result"
    }
   ],
   "source": [
    "loop"
   ]
  },
  {
   "cell_type": "code",
   "execution_count": 46,
   "id": "7f929b61-bc01-40e5-8ae1-82d91642782d",
   "metadata": {},
   "outputs": [],
   "source": [
    "def bloking_api(n):\n",
    "    print(f\"start blocking api {n=}\")\n",
    "\n",
    "    time.sleep(n)\n",
    "    #urllib.urlopen(n)\n",
    "    #factorial(n)\n",
    "\n",
    "    print(f\"finish blocking api {n=}\")\n",
    "\n",
    "\n",
    "await loop.run_in_executor(None, bloking_api, 5)"
   ]
  },
  {
   "cell_type": "code",
   "execution_count": null,
   "id": "c43f6a27-196c-4581-ac8e-79c7eb0753fb",
   "metadata": {},
   "outputs": [],
   "source": []
  },
  {
   "cell_type": "code",
   "execution_count": null,
   "id": "0c472b6e-7781-4b9c-a602-d2efd8da67d1",
   "metadata": {},
   "outputs": [],
   "source": []
  }
 ],
 "metadata": {
  "kernelspec": {
   "display_name": "Python 3 (ipykernel)",
   "language": "python",
   "name": "python3"
  },
  "language_info": {
   "codemirror_mode": {
    "name": "ipython",
    "version": 3
   },
   "file_extension": ".py",
   "mimetype": "text/x-python",
   "name": "python",
   "nbconvert_exporter": "python",
   "pygments_lexer": "ipython3",
   "version": "3.12.5"
  }
 },
 "nbformat": 4,
 "nbformat_minor": 5
}
