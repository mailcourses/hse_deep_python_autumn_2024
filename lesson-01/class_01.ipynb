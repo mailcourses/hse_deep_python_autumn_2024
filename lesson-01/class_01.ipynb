{
 "cells": [
  {
   "cell_type": "markdown",
   "id": "d7355a71-1f99-4649-b553-261fb89d339d",
   "metadata": {},
   "source": [
    "# пример со словарем"
   ]
  },
  {
   "cell_type": "code",
   "execution_count": 3,
   "id": "a19a72d5-fe1d-449e-84fd-19129d6d4197",
   "metadata": {},
   "outputs": [],
   "source": [
    "d = {1: 11, 2: }"
   ]
  },
  {
   "cell_type": "code",
   "execution_count": 5,
   "id": "2ffb135d-1ba4-44cc-bf1a-73ff8546ce55",
   "metadata": {},
   "outputs": [],
   "source": [
    "d[\"str\"] = \"\"\n",
    "d[(14, 52)] = \"dwkjd\""
   ]
  },
  {
   "cell_type": "code",
   "execution_count": 6,
   "id": "447ec9c4-9689-483a-a3ef-0ee504c02d57",
   "metadata": {},
   "outputs": [
    {
     "data": {
      "text/plain": [
       "{1: 11, 2: 22, 'str': '', (14, 52): 'dwkjd'}"
      ]
     },
     "execution_count": 6,
     "metadata": {},
     "output_type": "execute_result"
    }
   ],
   "source": [
    "d"
   ]
  },
  {
   "cell_type": "code",
   "execution_count": 7,
   "id": "ca06ef7a-9cfb-4fb2-8fc2-977a9aaffc46",
   "metadata": {},
   "outputs": [],
   "source": [
    "class User:\n",
    "    pass\n",
    "\n",
    "u = User()\n",
    "\n",
    "d[u] = 88"
   ]
  },
  {
   "cell_type": "code",
   "execution_count": 8,
   "id": "933e5cb8-1fb3-4f5b-bd8b-5106cb9b0cb3",
   "metadata": {},
   "outputs": [
    {
     "data": {
      "text/plain": [
       "{1: 11,\n",
       " 2: 22,\n",
       " 'str': '',\n",
       " (14, 52): 'dwkjd',\n",
       " <__main__.User at 0x10a5824b0>: 88}"
      ]
     },
     "execution_count": 8,
     "metadata": {},
     "output_type": "execute_result"
    }
   ],
   "source": [
    "d"
   ]
  },
  {
   "cell_type": "code",
   "execution_count": 9,
   "id": "3e32bf55-f2fb-4268-a78b-78183cffd744",
   "metadata": {},
   "outputs": [],
   "source": [
    "key = (4, 5, (6, 7, u, [8, 9]), 10)"
   ]
  },
  {
   "cell_type": "code",
   "execution_count": 10,
   "id": "248a75c3-a4e1-4b80-a217-8ffc22716a35",
   "metadata": {},
   "outputs": [
    {
     "ename": "TypeError",
     "evalue": "unhashable type: 'list'",
     "output_type": "error",
     "traceback": [
      "\u001b[0;31m---------------------------------------------------------------------------\u001b[0m",
      "\u001b[0;31mTypeError\u001b[0m                                 Traceback (most recent call last)",
      "Cell \u001b[0;32mIn[10], line 1\u001b[0m\n\u001b[0;32m----> 1\u001b[0m \u001b[43md\u001b[49m\u001b[43m[\u001b[49m\u001b[43mkey\u001b[49m\u001b[43m]\u001b[49m \u001b[38;5;241m=\u001b[39m \u001b[38;5;241m999\u001b[39m\n",
      "\u001b[0;31mTypeError\u001b[0m: unhashable type: 'list'"
     ]
    }
   ],
   "source": [
    "d[key] = 999"
   ]
  },
  {
   "cell_type": "code",
   "execution_count": null,
   "id": "fa1a6c8a-4cdd-4954-8d7a-78d92734ec44",
   "metadata": {},
   "outputs": [],
   "source": []
  },
  {
   "cell_type": "code",
   "execution_count": 12,
   "id": "af8635e9-a3a2-4787-9edb-e559d84041f6",
   "metadata": {},
   "outputs": [],
   "source": [
    "key[2][3].append(99)"
   ]
  },
  {
   "cell_type": "code",
   "execution_count": 13,
   "id": "24852c6b-89fb-4678-89f2-b561ec98c7b4",
   "metadata": {},
   "outputs": [
    {
     "data": {
      "text/plain": [
       "(4, 5, (6, 7, <__main__.User at 0x10a5824b0>, [8, 9, 99]), 10)"
      ]
     },
     "execution_count": 13,
     "metadata": {},
     "output_type": "execute_result"
    }
   ],
   "source": [
    "key"
   ]
  },
  {
   "cell_type": "markdown",
   "id": "bf8e808d-8100-4eef-9ece-4b343fb11c7e",
   "metadata": {},
   "source": [
    "# распаковка enumerate"
   ]
  },
  {
   "cell_type": "code",
   "execution_count": 14,
   "id": "b2e5f395-26e0-416a-a43a-465ab67e4c8c",
   "metadata": {},
   "outputs": [
    {
     "data": {
      "text/plain": [
       "{1: 11,\n",
       " 2: 22,\n",
       " 'str': '',\n",
       " (14, 52): 'dwkjd',\n",
       " <__main__.User at 0x10a5824b0>: 88}"
      ]
     },
     "execution_count": 14,
     "metadata": {},
     "output_type": "execute_result"
    }
   ],
   "source": [
    "d"
   ]
  },
  {
   "cell_type": "code",
   "execution_count": 17,
   "id": "c9410856-2478-4045-94de-d110a161d944",
   "metadata": {},
   "outputs": [
    {
     "ename": "ValueError",
     "evalue": "not enough values to unpack (expected 3, got 2)",
     "output_type": "error",
     "traceback": [
      "\u001b[0;31m---------------------------------------------------------------------------\u001b[0m",
      "\u001b[0;31mValueError\u001b[0m                                Traceback (most recent call last)",
      "Cell \u001b[0;32mIn[17], line 1\u001b[0m\n\u001b[0;32m----> 1\u001b[0m \u001b[38;5;28;01mfor\u001b[39;00m i, k, v \u001b[38;5;129;01min\u001b[39;00m \u001b[38;5;28menumerate\u001b[39m(d\u001b[38;5;241m.\u001b[39mitems()):\n\u001b[1;32m      2\u001b[0m     \u001b[38;5;28mprint\u001b[39m(i, k, v)\n",
      "\u001b[0;31mValueError\u001b[0m: not enough values to unpack (expected 3, got 2)"
     ]
    }
   ],
   "source": [
    "for i, k, v in enumerate(d.items()):\n",
    "    print(i, k, v)"
   ]
  },
  {
   "cell_type": "code",
   "execution_count": 18,
   "id": "fa5dba4f-c099-43e8-b26d-d29e34965cdb",
   "metadata": {},
   "outputs": [
    {
     "name": "stdout",
     "output_type": "stream",
     "text": [
      "0 1 11\n",
      "1 2 22\n",
      "2 str \n",
      "3 (14, 52) dwkjd\n",
      "4 <__main__.User object at 0x10a5824b0> 88\n"
     ]
    }
   ],
   "source": [
    "for i, (k, v) in enumerate(d.items()):\n",
    "    print(i, k, v)"
   ]
  },
  {
   "cell_type": "markdown",
   "id": "3a6962ba-02a4-48dd-bd99-a5fbee59e6f7",
   "metadata": {},
   "source": [
    "# for для файла"
   ]
  },
  {
   "cell_type": "code",
   "execution_count": 22,
   "id": "737c7b3d-4230-4189-9bcd-b4a997ae0052",
   "metadata": {},
   "outputs": [],
   "source": [
    "with open(\"example\", \"w\") as f:\n",
    "    f.write(\"123\\n456\\n789\")"
   ]
  },
  {
   "cell_type": "code",
   "execution_count": 23,
   "id": "55ad7cf7-56d4-4315-8f57-c99c8c9377ab",
   "metadata": {},
   "outputs": [
    {
     "name": "stdout",
     "output_type": "stream",
     "text": [
      "123\n",
      "456\n",
      "789"
     ]
    }
   ],
   "source": [
    "!cat example"
   ]
  },
  {
   "cell_type": "code",
   "execution_count": 25,
   "id": "31b5d18c-672c-400c-bf29-3aa9fd1c48d2",
   "metadata": {},
   "outputs": [
    {
     "name": "stdout",
     "output_type": "stream",
     "text": [
      "123\n",
      "456\n",
      "789\n"
     ]
    }
   ],
   "source": [
    "with open(\"example\", \"r\") as f:\n",
    "    print(f.read())"
   ]
  },
  {
   "cell_type": "code",
   "execution_count": 29,
   "id": "c8649217-7e03-4876-a982-023b4bf0e532",
   "metadata": {},
   "outputs": [
    {
     "name": "stdout",
     "output_type": "stream",
     "text": [
      "73\n",
      "i=0, line='123\\n'\n",
      "i=1, line='456\\n'\n",
      "i=2, line='789'\n"
     ]
    }
   ],
   "source": [
    "with open(\"example\", \"r\") as f:\n",
    "    print(f.fileno())\n",
    "\n",
    "    for i, line in enumerate(f):\n",
    "        print(f\"{i=}, {line=}\")"
   ]
  },
  {
   "cell_type": "code",
   "execution_count": null,
   "id": "26655d05-4961-425c-acd5-d9dfd8f6175e",
   "metadata": {},
   "outputs": [],
   "source": []
  },
  {
   "cell_type": "code",
   "execution_count": null,
   "id": "b42eb62e-d0de-467a-b705-0001240640dc",
   "metadata": {},
   "outputs": [],
   "source": []
  },
  {
   "cell_type": "code",
   "execution_count": null,
   "id": "7a116fde-01d5-4e90-8921-ee5088521932",
   "metadata": {},
   "outputs": [],
   "source": []
  },
  {
   "cell_type": "code",
   "execution_count": null,
   "id": "8020bc21-1cc9-4f02-8a5e-7cd1265c6a56",
   "metadata": {},
   "outputs": [],
   "source": []
  },
  {
   "cell_type": "code",
   "execution_count": 30,
   "id": "b62b0187-46ba-4d11-af9a-c6123c9ba159",
   "metadata": {},
   "outputs": [],
   "source": [
    "class SpecialIterator:\n",
    "    def __init__(self, limit):\n",
    "        self.limit = limit\n",
    "        self.counter = 0\n",
    "\n",
    "    def __iter__(self):\n",
    "        print(\"iter\")\n",
    "        return self\n",
    "        \n",
    "    def __next__(self):\n",
    "        print(\"next\")\n",
    "        if self.counter < self.limit:\n",
    "            self.counter += 1\n",
    "            return self.counter\n",
    "        else:\n",
    "            raise StopIteration"
   ]
  },
  {
   "cell_type": "code",
   "execution_count": 31,
   "id": "3646b9df-42d0-4c75-9203-73dfeaa0734e",
   "metadata": {},
   "outputs": [],
   "source": [
    "spec = SpecialIterator(3)"
   ]
  },
  {
   "cell_type": "code",
   "execution_count": 32,
   "id": "ec2f41aa-49f4-4fd4-ab57-6f351a23d244",
   "metadata": {},
   "outputs": [
    {
     "name": "stdout",
     "output_type": "stream",
     "text": [
      "next\n"
     ]
    },
    {
     "data": {
      "text/plain": [
       "1"
      ]
     },
     "execution_count": 32,
     "metadata": {},
     "output_type": "execute_result"
    }
   ],
   "source": [
    "next(spec)"
   ]
  },
  {
   "cell_type": "code",
   "execution_count": 33,
   "id": "fee849b2-8981-4aa7-a128-2788d7a51b68",
   "metadata": {},
   "outputs": [
    {
     "name": "stdout",
     "output_type": "stream",
     "text": [
      "iter\n"
     ]
    }
   ],
   "source": [
    "it = iter(spec)"
   ]
  },
  {
   "cell_type": "code",
   "execution_count": 34,
   "id": "f414a04d-d12b-45c7-991a-c4da99258c39",
   "metadata": {},
   "outputs": [
    {
     "data": {
      "text/plain": [
       "__main__.SpecialIterator"
      ]
     },
     "execution_count": 34,
     "metadata": {},
     "output_type": "execute_result"
    }
   ],
   "source": [
    "type(it)"
   ]
  },
  {
   "cell_type": "code",
   "execution_count": 35,
   "id": "15926ac5-3d85-400d-8671-83673f944ab2",
   "metadata": {},
   "outputs": [
    {
     "name": "stdout",
     "output_type": "stream",
     "text": [
      "next\n"
     ]
    },
    {
     "data": {
      "text/plain": [
       "2"
      ]
     },
     "execution_count": 35,
     "metadata": {},
     "output_type": "execute_result"
    }
   ],
   "source": [
    "next(it)"
   ]
  },
  {
   "cell_type": "code",
   "execution_count": 36,
   "id": "083b861f-e922-4fcc-9f93-4ea9cef7284d",
   "metadata": {},
   "outputs": [
    {
     "name": "stdout",
     "output_type": "stream",
     "text": [
      "iter\n",
      "next\n"
     ]
    },
    {
     "data": {
      "text/plain": [
       "3"
      ]
     },
     "execution_count": 36,
     "metadata": {},
     "output_type": "execute_result"
    }
   ],
   "source": [
    "it2 = iter(spec)\n",
    "next(it2)"
   ]
  },
  {
   "cell_type": "code",
   "execution_count": 37,
   "id": "33f45068-5f6b-4298-adbb-402e71f4150c",
   "metadata": {},
   "outputs": [
    {
     "name": "stdout",
     "output_type": "stream",
     "text": [
      "next\n"
     ]
    },
    {
     "ename": "StopIteration",
     "evalue": "",
     "output_type": "error",
     "traceback": [
      "\u001b[0;31m---------------------------------------------------------------------------\u001b[0m",
      "\u001b[0;31mStopIteration\u001b[0m                             Traceback (most recent call last)",
      "Cell \u001b[0;32mIn[37], line 1\u001b[0m\n\u001b[0;32m----> 1\u001b[0m \u001b[38;5;28;43mnext\u001b[39;49m\u001b[43m(\u001b[49m\u001b[43mit\u001b[49m\u001b[43m)\u001b[49m\n",
      "Cell \u001b[0;32mIn[30], line 16\u001b[0m, in \u001b[0;36mSpecialIterator.__next__\u001b[0;34m(self)\u001b[0m\n\u001b[1;32m     14\u001b[0m     \u001b[38;5;28;01mreturn\u001b[39;00m \u001b[38;5;28mself\u001b[39m\u001b[38;5;241m.\u001b[39mcounter\n\u001b[1;32m     15\u001b[0m \u001b[38;5;28;01melse\u001b[39;00m:\n\u001b[0;32m---> 16\u001b[0m     \u001b[38;5;28;01mraise\u001b[39;00m \u001b[38;5;167;01mStopIteration\u001b[39;00m\n",
      "\u001b[0;31mStopIteration\u001b[0m: "
     ]
    }
   ],
   "source": [
    "next(it)"
   ]
  },
  {
   "cell_type": "code",
   "execution_count": 38,
   "id": "48a30403-7d50-4bf2-9bef-629ca6d9c7e1",
   "metadata": {},
   "outputs": [
    {
     "name": "stdout",
     "output_type": "stream",
     "text": [
      "iter\n",
      "next\n",
      "1\n",
      "next\n",
      "2\n",
      "next\n",
      "3\n",
      "next\n"
     ]
    }
   ],
   "source": [
    "for i in SpecialIterator(3):\n",
    "    print(i)"
   ]
  },
  {
   "cell_type": "code",
   "execution_count": null,
   "id": "03e388f3-eb69-4589-8951-a5964a83f365",
   "metadata": {},
   "outputs": [],
   "source": []
  },
  {
   "cell_type": "code",
   "execution_count": null,
   "id": "b6c94d53-e369-4341-8114-c56701985036",
   "metadata": {},
   "outputs": [],
   "source": []
  },
  {
   "cell_type": "code",
   "execution_count": null,
   "id": "fc9b665a-de60-4e12-a163-41902cd118e5",
   "metadata": {},
   "outputs": [],
   "source": []
  },
  {
   "cell_type": "code",
   "execution_count": null,
   "id": "6f3b29a0-0df1-4770-95f3-08c7ab574e62",
   "metadata": {},
   "outputs": [],
   "source": []
  },
  {
   "cell_type": "code",
   "execution_count": null,
   "id": "65adc2fb-f41a-4f5f-a131-86c18fb2f2a4",
   "metadata": {},
   "outputs": [],
   "source": []
  },
  {
   "cell_type": "code",
   "execution_count": 40,
   "id": "9ab53320-f40d-44f7-97c0-c9fead1c2588",
   "metadata": {},
   "outputs": [],
   "source": [
    "def empty_gen():\n",
    "    print(\"run\")\n",
    "    if False:\n",
    "        yield\n",
    "    return 42\n",
    "\n",
    "gen = empty_gen()"
   ]
  },
  {
   "cell_type": "code",
   "execution_count": 41,
   "id": "3ee25a2d-8462-4513-8d8f-a22fdd3d69d6",
   "metadata": {},
   "outputs": [
    {
     "name": "stdout",
     "output_type": "stream",
     "text": [
      "run\n"
     ]
    },
    {
     "ename": "StopIteration",
     "evalue": "42",
     "output_type": "error",
     "traceback": [
      "\u001b[0;31m---------------------------------------------------------------------------\u001b[0m",
      "\u001b[0;31mStopIteration\u001b[0m                             Traceback (most recent call last)",
      "Cell \u001b[0;32mIn[41], line 1\u001b[0m\n\u001b[0;32m----> 1\u001b[0m \u001b[38;5;28;43mnext\u001b[39;49m\u001b[43m(\u001b[49m\u001b[43mgen\u001b[49m\u001b[43m)\u001b[49m\n",
      "\u001b[0;31mStopIteration\u001b[0m: 42"
     ]
    }
   ],
   "source": [
    "next(gen)"
   ]
  },
  {
   "cell_type": "code",
   "execution_count": 44,
   "id": "ffa20399-bf02-4ab5-ba4f-2e110c3e530f",
   "metadata": {},
   "outputs": [],
   "source": [
    "def gen_step(limit):\n",
    "    print(\"start\", limit)\n",
    "\n",
    "    count = 0\n",
    "\n",
    "    while count < limit:\n",
    "        print(\"yield\", count)\n",
    "        yield count\n",
    "\n",
    "        print(\"after yield\", count)\n",
    "        count += 1\n",
    "\n",
    "steps = gen_step(5)"
   ]
  },
  {
   "cell_type": "code",
   "execution_count": 45,
   "id": "25331e56-3074-47a6-bb9c-862593fda336",
   "metadata": {},
   "outputs": [
    {
     "data": {
      "text/plain": [
       "generator"
      ]
     },
     "execution_count": 45,
     "metadata": {},
     "output_type": "execute_result"
    }
   ],
   "source": [
    "type(steps)"
   ]
  },
  {
   "cell_type": "code",
   "execution_count": 46,
   "id": "45e6eab8-874b-49a6-b9af-1bc4b1f8b80e",
   "metadata": {},
   "outputs": [
    {
     "name": "stdout",
     "output_type": "stream",
     "text": [
      "start 5\n",
      "yield 0\n"
     ]
    },
    {
     "data": {
      "text/plain": [
       "0"
      ]
     },
     "execution_count": 46,
     "metadata": {},
     "output_type": "execute_result"
    }
   ],
   "source": [
    "next(steps)"
   ]
  },
  {
   "cell_type": "code",
   "execution_count": 47,
   "id": "6b8f50a9-b71c-4bbc-b02a-cef3333f7b18",
   "metadata": {},
   "outputs": [
    {
     "name": "stdout",
     "output_type": "stream",
     "text": [
      "after yield 0\n",
      "yield 1\n"
     ]
    },
    {
     "data": {
      "text/plain": [
       "1"
      ]
     },
     "execution_count": 47,
     "metadata": {},
     "output_type": "execute_result"
    }
   ],
   "source": [
    "next(steps)"
   ]
  },
  {
   "cell_type": "code",
   "execution_count": 48,
   "id": "3dec461a-e213-4e43-951c-e903a2b0ad2f",
   "metadata": {},
   "outputs": [
    {
     "name": "stdout",
     "output_type": "stream",
     "text": [
      "after yield 1\n",
      "yield 2\n"
     ]
    },
    {
     "data": {
      "text/plain": [
       "2"
      ]
     },
     "execution_count": 48,
     "metadata": {},
     "output_type": "execute_result"
    }
   ],
   "source": [
    "next(steps)"
   ]
  },
  {
   "cell_type": "code",
   "execution_count": 49,
   "id": "9265814a-7f82-40c1-8aa0-9a997a5e0b53",
   "metadata": {},
   "outputs": [
    {
     "name": "stdout",
     "output_type": "stream",
     "text": [
      "after yield 2\n",
      "yield 3\n"
     ]
    },
    {
     "data": {
      "text/plain": [
       "3"
      ]
     },
     "execution_count": 49,
     "metadata": {},
     "output_type": "execute_result"
    }
   ],
   "source": [
    "next(steps)"
   ]
  },
  {
   "cell_type": "code",
   "execution_count": 50,
   "id": "049490c0-7c57-4d12-9ec7-c08b20d7a5ff",
   "metadata": {},
   "outputs": [
    {
     "name": "stdout",
     "output_type": "stream",
     "text": [
      "after yield 3\n",
      "yield 4\n"
     ]
    },
    {
     "data": {
      "text/plain": [
       "4"
      ]
     },
     "execution_count": 50,
     "metadata": {},
     "output_type": "execute_result"
    }
   ],
   "source": [
    "next(steps)"
   ]
  },
  {
   "cell_type": "code",
   "execution_count": 51,
   "id": "451f7788-11d5-4263-8f83-58e5b9eb9cb5",
   "metadata": {},
   "outputs": [
    {
     "name": "stdout",
     "output_type": "stream",
     "text": [
      "after yield 4\n"
     ]
    },
    {
     "ename": "StopIteration",
     "evalue": "",
     "output_type": "error",
     "traceback": [
      "\u001b[0;31m---------------------------------------------------------------------------\u001b[0m",
      "\u001b[0;31mStopIteration\u001b[0m                             Traceback (most recent call last)",
      "Cell \u001b[0;32mIn[51], line 1\u001b[0m\n\u001b[0;32m----> 1\u001b[0m \u001b[38;5;28;43mnext\u001b[39;49m\u001b[43m(\u001b[49m\u001b[43msteps\u001b[49m\u001b[43m)\u001b[49m\n",
      "\u001b[0;31mStopIteration\u001b[0m: "
     ]
    }
   ],
   "source": [
    "next(steps)"
   ]
  },
  {
   "cell_type": "code",
   "execution_count": 52,
   "id": "785d32c8-f458-43a5-8544-ace2dbe379c7",
   "metadata": {},
   "outputs": [],
   "source": [
    "steps = gen_step(5)"
   ]
  },
  {
   "cell_type": "code",
   "execution_count": 53,
   "id": "635b0eed-0e12-4390-9072-33a8d891cae2",
   "metadata": {},
   "outputs": [
    {
     "ename": "TypeError",
     "evalue": "object of type 'generator' has no len()",
     "output_type": "error",
     "traceback": [
      "\u001b[0;31m---------------------------------------------------------------------------\u001b[0m",
      "\u001b[0;31mTypeError\u001b[0m                                 Traceback (most recent call last)",
      "Cell \u001b[0;32mIn[53], line 1\u001b[0m\n\u001b[0;32m----> 1\u001b[0m \u001b[38;5;28;43mlen\u001b[39;49m\u001b[43m(\u001b[49m\u001b[43msteps\u001b[49m\u001b[43m)\u001b[49m\n",
      "\u001b[0;31mTypeError\u001b[0m: object of type 'generator' has no len()"
     ]
    }
   ],
   "source": [
    "len(steps)"
   ]
  },
  {
   "cell_type": "code",
   "execution_count": 55,
   "id": "ea8265f0-59e8-48f7-887c-b819f1902ac3",
   "metadata": {
    "collapsed": true,
    "jupyter": {
     "outputs_hidden": true
    },
    "scrolled": true
   },
   "outputs": [
    {
     "data": {
      "text/plain": [
       "33333"
      ]
     },
     "execution_count": 55,
     "metadata": {},
     "output_type": "execute_result"
    }
   ],
   "source": [
    "len(range(1, 100_000, 3))"
   ]
  },
  {
   "cell_type": "code",
   "execution_count": 57,
   "id": "307fffd6-680a-49a6-a89d-908469afadc7",
   "metadata": {},
   "outputs": [
    {
     "name": "stdout",
     "output_type": "stream",
     "text": [
      "[(0, 1), (2, 9), (4, 25), (6, 49), (8, 81)]\n"
     ]
    }
   ],
   "source": [
    "n = iter(range(10))\n",
    "\n",
    "result = list(\n",
    "    zip(\n",
    "        n,\n",
    "        map(lambda x: x ** 2, n)\n",
    "    )\n",
    ")\n",
    "print(result)"
   ]
  },
  {
   "cell_type": "code",
   "execution_count": null,
   "id": "ceaba8fa-4268-4264-a0ff-b0525436881e",
   "metadata": {},
   "outputs": [],
   "source": []
  }
 ],
 "metadata": {
  "kernelspec": {
   "display_name": "Python 3 (ipykernel)",
   "language": "python",
   "name": "python3"
  },
  "language_info": {
   "codemirror_mode": {
    "name": "ipython",
    "version": 3
   },
   "file_extension": ".py",
   "mimetype": "text/x-python",
   "name": "python",
   "nbconvert_exporter": "python",
   "pygments_lexer": "ipython3",
   "version": "3.12.5"
  }
 },
 "nbformat": 4,
 "nbformat_minor": 5
}
