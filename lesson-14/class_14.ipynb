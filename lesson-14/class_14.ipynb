{
 "cells": [
  {
   "cell_type": "code",
   "execution_count": 1,
   "id": "501b7879-1023-4c55-9d32-1bb552ac0b67",
   "metadata": {},
   "outputs": [],
   "source": [
    "a = 999\n",
    "b = 444\n",
    "\n",
    "c = a + b"
   ]
  },
  {
   "cell_type": "code",
   "execution_count": 2,
   "id": "60d7e819-1fc1-42f1-b886-740117e8af55",
   "metadata": {},
   "outputs": [
    {
     "data": {
      "text/plain": [
       "1443"
      ]
     },
     "execution_count": 2,
     "metadata": {},
     "output_type": "execute_result"
    }
   ],
   "source": [
    "c"
   ]
  },
  {
   "cell_type": "code",
   "execution_count": 3,
   "id": "27f4b5f9-e041-4fd0-aae3-025e09b2018f",
   "metadata": {},
   "outputs": [],
   "source": [
    "lst = list(range(10))"
   ]
  },
  {
   "cell_type": "code",
   "execution_count": 4,
   "id": "ef8d8ab0-bb64-4ca0-b312-5372475770ad",
   "metadata": {},
   "outputs": [
    {
     "data": {
      "text/plain": [
       "[0, 1, 2, 3, 4, 5, 6, 7, 8, 9]"
      ]
     },
     "execution_count": 4,
     "metadata": {},
     "output_type": "execute_result"
    }
   ],
   "source": [
    "lst"
   ]
  },
  {
   "cell_type": "code",
   "execution_count": 5,
   "id": "cb77dade-bffc-49f6-a770-340c38f3068a",
   "metadata": {},
   "outputs": [
    {
     "data": {
      "text/plain": [
       "9"
      ]
     },
     "execution_count": 5,
     "metadata": {},
     "output_type": "execute_result"
    }
   ],
   "source": [
    "max(lst)  # O(n)"
   ]
  },
  {
   "cell_type": "code",
   "execution_count": 6,
   "id": "63950fcb-a797-4518-9d64-30f570ac6d64",
   "metadata": {},
   "outputs": [],
   "source": [
    "import random"
   ]
  },
  {
   "cell_type": "code",
   "execution_count": 7,
   "id": "a96b21e7-2d0a-4a84-be5e-f9541245ce30",
   "metadata": {},
   "outputs": [],
   "source": [
    "lst = [random.randint(0, 10) for _ in range(10)]"
   ]
  },
  {
   "cell_type": "code",
   "execution_count": 8,
   "id": "c6744e02-5ea6-4501-a44a-8b9fa82339ce",
   "metadata": {},
   "outputs": [
    {
     "data": {
      "text/plain": [
       "[10, 9, 1, 3, 8, 0, 6, 9, 4, 9]"
      ]
     },
     "execution_count": 8,
     "metadata": {},
     "output_type": "execute_result"
    }
   ],
   "source": [
    "lst"
   ]
  },
  {
   "cell_type": "code",
   "execution_count": 9,
   "id": "a2f5915c-a3e3-45a3-9b6a-b29dd7844e8b",
   "metadata": {},
   "outputs": [
    {
     "data": {
      "text/plain": [
       "10"
      ]
     },
     "execution_count": 9,
     "metadata": {},
     "output_type": "execute_result"
    }
   ],
   "source": [
    "max(lst)  # O(n)"
   ]
  },
  {
   "cell_type": "code",
   "execution_count": 11,
   "id": "0336cf96-f977-4c38-853f-ee56a2f56c4c",
   "metadata": {},
   "outputs": [
    {
     "data": {
      "text/plain": [
       "3"
      ]
     },
     "execution_count": 11,
     "metadata": {},
     "output_type": "execute_result"
    }
   ],
   "source": [
    "lst[3]  # O(1)"
   ]
  },
  {
   "cell_type": "code",
   "execution_count": 13,
   "id": "b8b61cd5-86fb-4e12-8873-5919f0792061",
   "metadata": {},
   "outputs": [],
   "source": [
    "# O(n/2) == O(1/2 * n) ~ O(n)"
   ]
  },
  {
   "cell_type": "code",
   "execution_count": 14,
   "id": "739e95ad-cab2-471b-a145-e0c975d16df0",
   "metadata": {},
   "outputs": [],
   "source": [
    "lst = [1]\n",
    "# [1][] cap == 2\n",
    "\n",
    "lst.append(2)\n",
    "# [1][2] cap == 2, O(1)\n",
    "\n",
    "lst.append(3)\n",
    "# [1][2] cap == 2, O(1)\n",
    "# [1][2][3][]  cap == 4, O(n)\n",
    "\n",
    "lst.append(4)\n",
    "# [1][2][3][4]  cap == 4, O(1)\n",
    "\n",
    "lst.append(5)\n",
    "# [1][2][3][4][5][][][]  cap == 8, O(n)\n",
    "\n",
    "\n",
    "# n + n / 2 + n / 4 + ...\n",
    "# n (1 + 1/2 + 1/4 + ...) -> 2n, O(2n) ~ O(n)\n",
    "# O(n) / n = O(1)\n",
    "\n",
    "# [1][2][][]\n",
    "\n",
    "lst.insert(0, 0)\n",
    "# [1][2][3][4][5][][][]  cap == 8, O(n)\n",
    "# [0][1][2][3][4][5][][]  cap == 8, O(n)"
   ]
  },
  {
   "cell_type": "code",
   "execution_count": 16,
   "id": "8f181312-6a83-46c8-ba2c-b467c1e72185",
   "metadata": {},
   "outputs": [
    {
     "data": {
      "text/plain": [
       "10"
      ]
     },
     "execution_count": 16,
     "metadata": {},
     "output_type": "execute_result"
    }
   ],
   "source": [
    "len(lst)  # O(1)"
   ]
  },
  {
   "cell_type": "code",
   "execution_count": null,
   "id": "4d2a7dee-7027-490f-b71d-16ec8dd4a1f5",
   "metadata": {},
   "outputs": [],
   "source": []
  },
  {
   "cell_type": "code",
   "execution_count": null,
   "id": "956eac45-412c-4154-86dc-1d559435ad50",
   "metadata": {},
   "outputs": [],
   "source": [
    "lst2 = map(lambda x: x * 2, lst)  # O(n)"
   ]
  },
  {
   "cell_type": "code",
   "execution_count": null,
   "id": "a5d59fb4-b148-4992-92d1-5e4af4d776af",
   "metadata": {},
   "outputs": [],
   "source": []
  },
  {
   "cell_type": "code",
   "execution_count": 21,
   "id": "5850fc66-2913-47e3-a1b4-f1490da8f2d8",
   "metadata": {},
   "outputs": [],
   "source": [
    "def intersection_naive(lst1: list[int], lst2: list[int]) -> list[int]:\n",
    "    res = []\n",
    "    for n1 in lst1:  # n\n",
    "        if n1 in lst2:  # n\n",
    "            res.append(n1)\n",
    "\n",
    "    return res\n",
    "\n",
    "\n",
    "assert intersection_naive([1, 2, 4, 8, 9], [0, 2, 5, 9]) == [2, 9]\n",
    "assert intersection_naive([1], [2, 5, 9]) == []\n",
    "\n",
    "# O(n * m)"
   ]
  },
  {
   "cell_type": "code",
   "execution_count": 36,
   "id": "1008503b-a671-4e16-aa53-76f19f3051a9",
   "metadata": {},
   "outputs": [],
   "source": [
    "import bisect\n",
    "\n",
    "\n",
    "def intersection_bisect(lst1: list[int], lst2: list[int]) -> list[int]:\n",
    "    res = []\n",
    "    for n1 in lst1:  # n\n",
    "        pos = bisect.bisect_left(lst2, n1)  # log m\n",
    "        if pos != len(lst2) and lst2[pos] == n1:\n",
    "            res.append(n1)\n",
    "\n",
    "    return res\n",
    "\n",
    "\n",
    "assert intersection_bisect([1, 2, 4, 8, 9], [0, 2, 5, 9]) == [2, 9]\n",
    "assert intersection_bisect([1], [2, 5, 9]) == []\n",
    "\n",
    "# O(n log m)"
   ]
  },
  {
   "cell_type": "code",
   "execution_count": 43,
   "id": "cda5c7dc-00fc-43a5-9f16-2c0cee75ab93",
   "metadata": {},
   "outputs": [],
   "source": [
    "#      [0   1   2   3   4   5]\n",
    "lst = [10, 20, 30, 30, 50, 60]"
   ]
  },
  {
   "cell_type": "code",
   "execution_count": 44,
   "id": "e3082373-b625-4b5e-90c9-05c3e8ad7d6e",
   "metadata": {},
   "outputs": [
    {
     "data": {
      "text/plain": [
       "[10, 20, 25, 30, 30, 50, 60]"
      ]
     },
     "execution_count": 44,
     "metadata": {},
     "output_type": "execute_result"
    }
   ],
   "source": [
    "bisect.insort(lst, 25)  # O(n)\n",
    "lst"
   ]
  },
  {
   "cell_type": "code",
   "execution_count": null,
   "id": "b5261523-c2ab-4539-93cc-07c8d1b51a5d",
   "metadata": {},
   "outputs": [],
   "source": []
  },
  {
   "cell_type": "code",
   "execution_count": null,
   "id": "2ef56cb2-3ba6-4e32-b1d5-3668a9246ca4",
   "metadata": {},
   "outputs": [],
   "source": []
  },
  {
   "cell_type": "code",
   "execution_count": 25,
   "id": "47ac44ef-eb02-432e-9b01-4fb1ad66b1a2",
   "metadata": {},
   "outputs": [],
   "source": [
    "import bisect"
   ]
  },
  {
   "cell_type": "code",
   "execution_count": 33,
   "id": "7f521449-1551-46c7-850e-06a885a835cb",
   "metadata": {},
   "outputs": [
    {
     "data": {
      "text/plain": [
       "(2, 2, 0, 6)"
      ]
     },
     "execution_count": 33,
     "metadata": {},
     "output_type": "execute_result"
    }
   ],
   "source": [
    "(\n",
    "    bisect.bisect_left(lst, 29),\n",
    "    bisect.bisect_left(lst, 30),\n",
    "    bisect.bisect_left(lst, 0),\n",
    "    bisect.bisect_left(lst, 100),\n",
    ")"
   ]
  },
  {
   "cell_type": "code",
   "execution_count": 34,
   "id": "7b43827f-5239-41aa-9d65-20584a263f50",
   "metadata": {},
   "outputs": [
    {
     "data": {
      "text/plain": [
       "(2, 4, 0, 6)"
      ]
     },
     "execution_count": 34,
     "metadata": {},
     "output_type": "execute_result"
    }
   ],
   "source": [
    "(\n",
    "    bisect.bisect_right(lst, 29),\n",
    "    bisect.bisect_right(lst, 30),\n",
    "    bisect.bisect_right(lst, 0),\n",
    "    bisect.bisect_right(lst, 100),\n",
    ")"
   ]
  },
  {
   "cell_type": "code",
   "execution_count": null,
   "id": "d036ea1e-af98-40de-9598-072cbdec12f8",
   "metadata": {},
   "outputs": [],
   "source": []
  },
  {
   "cell_type": "code",
   "execution_count": 39,
   "id": "b390f568-153f-4d0e-bc3b-d49409bb4b57",
   "metadata": {},
   "outputs": [],
   "source": [
    "def intersection_pointers(lst1: list[int], lst2: list[int]) -> list[int]:\n",
    "    res = []\n",
    "    i1 = i2 = 0\n",
    "\n",
    "    while i1 < len(lst1) and i2 < len(lst2):\n",
    "        if (el1 := lst1[i1]) == (el2:= lst2[i2]):\n",
    "            res.append(el1)\n",
    "            i1 += 1\n",
    "            i2 += 1\n",
    "        elif el1 < el2:\n",
    "            i1 += 1\n",
    "        else:\n",
    "            i2 += 1\n",
    "    \n",
    "    return res\n",
    "\n",
    "\n",
    "assert intersection_pointers([1, 2, 4, 8, 9], [0, 2, 5, 9]) == [2, 9]\n",
    "assert intersection_pointers([1], [2, 5, 9]) == []\n",
    "assert intersection_pointers([1, 2], [2, 5, 9]) == [2]\n",
    "\n",
    "# O(n + m)"
   ]
  },
  {
   "cell_type": "code",
   "execution_count": 40,
   "id": "a2fa4193-202d-4a50-a74c-09d96f52cf2c",
   "metadata": {},
   "outputs": [],
   "source": [
    "# lo, hi = 0, len(arr)\n",
    "#mid = (lo + hi) // 2\n",
    "\n",
    "#mid = lo + (hi - lo) // 2"
   ]
  },
  {
   "cell_type": "code",
   "execution_count": null,
   "id": "4ed88e9b-5df5-425a-a035-74521abe2d2f",
   "metadata": {},
   "outputs": [],
   "source": []
  },
  {
   "cell_type": "code",
   "execution_count": null,
   "id": "76192035-ab1a-4f72-9219-7e214a70a655",
   "metadata": {},
   "outputs": [],
   "source": []
  },
  {
   "cell_type": "code",
   "execution_count": 47,
   "id": "831fc46a-1650-487a-8441-2561c36eaacf",
   "metadata": {},
   "outputs": [],
   "source": [
    "lst = [random.randint(0, 10) for _ in range(10)]"
   ]
  },
  {
   "cell_type": "code",
   "execution_count": 50,
   "id": "df95b860-7a62-4cdd-b0b4-6b51e26aa4cd",
   "metadata": {},
   "outputs": [
    {
     "data": {
      "text/plain": [
       "[0, 1, 1, 4, 5, 8, 8, 8, 9, 9]"
      ]
     },
     "execution_count": 50,
     "metadata": {},
     "output_type": "execute_result"
    }
   ],
   "source": [
    "lst.sort()\n",
    "lst"
   ]
  },
  {
   "cell_type": "code",
   "execution_count": 51,
   "id": "a043147a-0b31-4cb1-8e7a-9edced2f7afa",
   "metadata": {},
   "outputs": [],
   "source": [
    "lst = [random.randint(0, 10) for _ in range(10)]"
   ]
  },
  {
   "cell_type": "code",
   "execution_count": 53,
   "id": "eb8880af-0227-4ad0-a54e-916078a9cd6d",
   "metadata": {},
   "outputs": [
    {
     "data": {
      "text/plain": [
       "([0, 2, 2, 4, 6, 6, 8, 10, 10, 10], [6, 10, 10, 4, 2, 8, 6, 2, 0, 10])"
      ]
     },
     "execution_count": 53,
     "metadata": {},
     "output_type": "execute_result"
    }
   ],
   "source": [
    "sorted(lst), lst"
   ]
  },
  {
   "cell_type": "code",
   "execution_count": null,
   "id": "d9d68606-a055-4389-888d-85a9362ff5a6",
   "metadata": {},
   "outputs": [],
   "source": []
  },
  {
   "cell_type": "code",
   "execution_count": 54,
   "id": "61bb4893-795a-4cd8-ba61-e192723c0e63",
   "metadata": {},
   "outputs": [
    {
     "data": {
      "text/plain": [
       "False"
      ]
     },
     "execution_count": 54,
     "metadata": {},
     "output_type": "execute_result"
    }
   ],
   "source": [
    "\"qwerty\" in \"wkhdjwgdhgwdg\""
   ]
  },
  {
   "cell_type": "code",
   "execution_count": null,
   "id": "cb4f6ed3-5163-4055-a008-7f1df43616da",
   "metadata": {},
   "outputs": [],
   "source": []
  },
  {
   "cell_type": "code",
   "execution_count": null,
   "id": "1d50c82e-3333-421a-ba43-a65773b8019b",
   "metadata": {},
   "outputs": [],
   "source": []
  },
  {
   "cell_type": "code",
   "execution_count": 55,
   "id": "d8d24488-5afb-4af2-b596-1da1d4af2124",
   "metadata": {},
   "outputs": [],
   "source": [
    "import collections"
   ]
  },
  {
   "cell_type": "code",
   "execution_count": 56,
   "id": "c6d18db0-9f77-46be-bfd0-b81ab40c3738",
   "metadata": {},
   "outputs": [
    {
     "name": "stdout",
     "output_type": "stream",
     "text": [
      "source lst=[1, 9, 4, 0, 9, 1, 2, 1, 6, 6, 2, 7, 6, 3, 2]\n",
      "cnt=Counter({1: 3, 2: 3, 6: 3, 9: 2, 4: 1, 0: 1, 7: 1, 3: 1})\n"
     ]
    }
   ],
   "source": [
    "lst = [random.randint(0, 10) for _ in range(15)]\n",
    "print(f\"source {lst=}\")\n",
    "\n",
    "cnt = collections.Counter(lst)\n",
    "print(f\"{cnt=}\")"
   ]
  },
  {
   "cell_type": "code",
   "execution_count": 58,
   "id": "dc66672b-ceec-4da5-93e6-b1a44490593e",
   "metadata": {},
   "outputs": [
    {
     "data": {
      "text/plain": [
       "[1, 1, 1, 9, 9, 4, 0, 2, 2, 2, 6, 6, 6, 7, 3]"
      ]
     },
     "execution_count": 58,
     "metadata": {},
     "output_type": "execute_result"
    }
   ],
   "source": [
    "list(cnt.elements())"
   ]
  },
  {
   "cell_type": "code",
   "execution_count": 62,
   "id": "fa3e6505-5629-484d-861e-63fb9b38e595",
   "metadata": {},
   "outputs": [
    {
     "name": "stdout",
     "output_type": "stream",
     "text": [
      "source nums=[10, 9, 1, 8, 2, 9, 10, 5, 2, 10, 6, 8, 10, 4, 5]\n",
      "counter counter=[0, 1, 2, 0, 1, 2, 1, 0, 2, 2, 4]\n",
      "sorted: [1, 2, 2, 4, 5, 5, 6, 8, 8, 9, 9, 10, 10, 10, 10]\n"
     ]
    }
   ],
   "source": [
    "def counter_sort(nums: list[int]) -> list[int]:\n",
    "    print(f\"source {nums=}\")\n",
    "    \n",
    "    elem_max = max(nums)  # O(n)\n",
    "    counter = [0] * (elem_max + 1)  # O(k) - elem_max\n",
    "\n",
    "    for n in nums:\n",
    "        counter[n] += 1\n",
    "\n",
    "    print(f\"counter {counter=}\")\n",
    "\n",
    "    res = []\n",
    "    for n, cnt in enumerate(counter):\n",
    "        for _ in range(cnt):\n",
    "            res.append(n)\n",
    "\n",
    "    return res\n",
    "\n",
    "# O(n + k + n + k * n) == O(k*n + 2n + k) ~ O(n)\n",
    "\n",
    "lst = [random.randint(0, 10) for _ in range(15)]\n",
    "print(\"sorted:\", counter_sort(lst))"
   ]
  },
  {
   "cell_type": "code",
   "execution_count": null,
   "id": "d0df390b-8420-41f6-9af8-347b14faa9c4",
   "metadata": {},
   "outputs": [],
   "source": []
  },
  {
   "cell_type": "code",
   "execution_count": null,
   "id": "f6d12eaa-ecee-454c-bd47-c12200fa0f1e",
   "metadata": {},
   "outputs": [],
   "source": []
  },
  {
   "cell_type": "code",
   "execution_count": 72,
   "id": "a65fd03b-5620-4d74-9d88-ac2afc03acb3",
   "metadata": {},
   "outputs": [
    {
     "name": "stdout",
     "output_type": "stream",
     "text": [
      "source nums=[4, 10, 0, 7, 7, 2, 1, 8, 0, 10, 9, 2, 9, 8, 8]\n",
      "counter counter=[2, 1, 2, 0, 1, 0, 0, 2, 3, 2, 2]\n",
      "partial counter=[2, 3, 5, 5, 6, 6, 6, 8, 11, 13, 15]\n",
      "sorted: [0, 0, 1, 2, 2, 4, 7, 7, 8, 8, 8, 9, 9, 10, 10]\n",
      "valid: True\n"
     ]
    }
   ],
   "source": [
    "def counter_sort_stable(nums: list[int]) -> list[int]:\n",
    "    print(f\"source {nums=}\")\n",
    "    \n",
    "    elem_max = max(nums)\n",
    "    counter = [0] * (elem_max + 1)\n",
    "\n",
    "    for n in nums:\n",
    "        counter[n] += 1\n",
    "\n",
    "    print(f\"counter {counter=}\")\n",
    "\n",
    "    for i in range(1, len(counter)):\n",
    "        counter[i] += counter[i - 1]\n",
    "\n",
    "    print(f\"partial {counter=}\")\n",
    "\n",
    "    res = [0] * len(nums)\n",
    "\n",
    "    for i in range(len(nums) - 1, -1, -1):\n",
    "        n = nums[i]\n",
    "        pos = counter[n]\n",
    "        res[pos - 1] = n\n",
    "        counter[n] -= 1\n",
    "\n",
    "    return res\n",
    "\n",
    "\n",
    "lst = [random.randint(0, 10) for _ in range(15)]\n",
    "res = counter_sort_stable(lst)\n",
    "print(\"sorted:\", res)\n",
    "print(\"valid:\", res == sorted(lst))"
   ]
  },
  {
   "cell_type": "code",
   "execution_count": null,
   "id": "82dd9737-fed9-4c93-980d-f234fbaae9cc",
   "metadata": {},
   "outputs": [],
   "source": [
    "-0\n",
    "-1 - (hash2, key2, value2) \n",
    "-2\n",
    "-3 - (hash1, key1, value1)\n",
    "-4 - (hash5, key5, value5)\n",
    "-5\n",
    "-6 - (hash3, key3, value3)\n",
    "-7 - (hash4, key4, value4)"
   ]
  },
  {
   "cell_type": "code",
   "execution_count": null,
   "id": "34a301be-d8f7-4c8c-bdc4-84c9f46d3e07",
   "metadata": {},
   "outputs": [],
   "source": [
    "-0 - (hash6, key6, value6)\n",
    "-1 \n",
    "-2\n",
    "-3 \n",
    "-4 - (hash5, key5, value5)\n",
    "-5\n",
    "-6 - (hash3, key3, value3)\n",
    "-7\n",
    "-8 - (hash4, key4, value4)\n",
    "-9\n",
    "-10\n",
    "-11 - (hash2, key2, value2) \n",
    "-12\n",
    "-13\n",
    "-14\n",
    "-15 - (hash1, key1, value1)"
   ]
  }
 ],
 "metadata": {
  "kernelspec": {
   "display_name": "Python 3 (ipykernel)",
   "language": "python",
   "name": "python3"
  },
  "language_info": {
   "codemirror_mode": {
    "name": "ipython",
    "version": 3
   },
   "file_extension": ".py",
   "mimetype": "text/x-python",
   "name": "python",
   "nbconvert_exporter": "python",
   "pygments_lexer": "ipython3",
   "version": "3.12.5"
  }
 },
 "nbformat": 4,
 "nbformat_minor": 5
}
