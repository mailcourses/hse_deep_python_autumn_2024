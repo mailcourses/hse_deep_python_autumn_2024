{
 "cells": [
  {
   "cell_type": "code",
   "execution_count": 1,
   "id": "04cf6480-4912-44af-92a6-ddb6e8439131",
   "metadata": {},
   "outputs": [],
   "source": [
    "import multiprocessing as mp\n",
    "import os"
   ]
  },
  {
   "cell_type": "code",
   "execution_count": 2,
   "id": "e0816207-5d7b-45be-a388-9071ce030b70",
   "metadata": {},
   "outputs": [
    {
     "data": {
      "text/plain": [
       "8"
      ]
     },
     "execution_count": 2,
     "metadata": {},
     "output_type": "execute_result"
    }
   ],
   "source": [
    "mp.cpu_count()"
   ]
  },
  {
   "cell_type": "code",
   "execution_count": 3,
   "id": "3e0afbe8-ad1c-4734-bb1a-7b9495635377",
   "metadata": {},
   "outputs": [
    {
     "data": {
      "text/plain": [
       "['spawn', 'fork', 'forkserver']"
      ]
     },
     "execution_count": 3,
     "metadata": {},
     "output_type": "execute_result"
    }
   ],
   "source": [
    "mp.get_all_start_methods()"
   ]
  },
  {
   "cell_type": "code",
   "execution_count": 4,
   "id": "f57f7e08-675c-4b6e-aec3-03aa03f3782e",
   "metadata": {},
   "outputs": [
    {
     "data": {
      "text/plain": [
       "'spawn'"
      ]
     },
     "execution_count": 4,
     "metadata": {},
     "output_type": "execute_result"
    }
   ],
   "source": [
    "mp.get_start_method()"
   ]
  },
  {
   "cell_type": "code",
   "execution_count": 5,
   "id": "74026dd3-7e0e-45f8-972f-0a8c906f22d9",
   "metadata": {},
   "outputs": [
    {
     "ename": "RuntimeError",
     "evalue": "context has already been set",
     "output_type": "error",
     "traceback": [
      "\u001b[0;31m---------------------------------------------------------------------------\u001b[0m",
      "\u001b[0;31mRuntimeError\u001b[0m                              Traceback (most recent call last)",
      "Cell \u001b[0;32mIn[5], line 1\u001b[0m\n\u001b[0;32m----> 1\u001b[0m \u001b[43mmp\u001b[49m\u001b[38;5;241;43m.\u001b[39;49m\u001b[43mset_start_method\u001b[49m\u001b[43m(\u001b[49m\u001b[38;5;124;43m\"\u001b[39;49m\u001b[38;5;124;43mfork\u001b[39;49m\u001b[38;5;124;43m\"\u001b[39;49m\u001b[43m)\u001b[49m\n",
      "File \u001b[0;32m/Library/Frameworks/Python.framework/Versions/3.12/lib/python3.12/multiprocessing/context.py:247\u001b[0m, in \u001b[0;36mDefaultContext.set_start_method\u001b[0;34m(self, method, force)\u001b[0m\n\u001b[1;32m    245\u001b[0m \u001b[38;5;28;01mdef\u001b[39;00m \u001b[38;5;21mset_start_method\u001b[39m(\u001b[38;5;28mself\u001b[39m, method, force\u001b[38;5;241m=\u001b[39m\u001b[38;5;28;01mFalse\u001b[39;00m):\n\u001b[1;32m    246\u001b[0m     \u001b[38;5;28;01mif\u001b[39;00m \u001b[38;5;28mself\u001b[39m\u001b[38;5;241m.\u001b[39m_actual_context \u001b[38;5;129;01mis\u001b[39;00m \u001b[38;5;129;01mnot\u001b[39;00m \u001b[38;5;28;01mNone\u001b[39;00m \u001b[38;5;129;01mand\u001b[39;00m \u001b[38;5;129;01mnot\u001b[39;00m force:\n\u001b[0;32m--> 247\u001b[0m         \u001b[38;5;28;01mraise\u001b[39;00m \u001b[38;5;167;01mRuntimeError\u001b[39;00m(\u001b[38;5;124m'\u001b[39m\u001b[38;5;124mcontext has already been set\u001b[39m\u001b[38;5;124m'\u001b[39m)\n\u001b[1;32m    248\u001b[0m     \u001b[38;5;28;01mif\u001b[39;00m method \u001b[38;5;129;01mis\u001b[39;00m \u001b[38;5;28;01mNone\u001b[39;00m \u001b[38;5;129;01mand\u001b[39;00m force:\n\u001b[1;32m    249\u001b[0m         \u001b[38;5;28mself\u001b[39m\u001b[38;5;241m.\u001b[39m_actual_context \u001b[38;5;241m=\u001b[39m \u001b[38;5;28;01mNone\u001b[39;00m\n",
      "\u001b[0;31mRuntimeError\u001b[0m: context has already been set"
     ]
    }
   ],
   "source": [
    "mp.set_start_method(\"fork\")"
   ]
  },
  {
   "cell_type": "code",
   "execution_count": null,
   "id": "296c24a7-7543-4219-9e73-5a2e88814860",
   "metadata": {},
   "outputs": [],
   "source": []
  },
  {
   "cell_type": "code",
   "execution_count": 10,
   "id": "99ec726c-9c80-4b29-9620-d6b9a323072e",
   "metadata": {},
   "outputs": [
    {
     "data": {
      "text/plain": [
       "37078"
      ]
     },
     "execution_count": 10,
     "metadata": {},
     "output_type": "execute_result"
    }
   ],
   "source": [
    "os.getpid()"
   ]
  },
  {
   "cell_type": "code",
   "execution_count": null,
   "id": "50c509ac-a085-41db-846f-0e11ebd05919",
   "metadata": {},
   "outputs": [],
   "source": []
  },
  {
   "cell_type": "code",
   "execution_count": 7,
   "id": "c6343bb6-6a52-47a3-a631-ac1d76effc7e",
   "metadata": {},
   "outputs": [],
   "source": [
    "ctx = mp.get_context(\"fork\")"
   ]
  },
  {
   "cell_type": "code",
   "execution_count": 8,
   "id": "a7288f02-0b54-49df-a7c2-5ec5c1484162",
   "metadata": {},
   "outputs": [
    {
     "data": {
      "text/plain": [
       "<multiprocessing.context.ForkContext at 0x10e86db50>"
      ]
     },
     "execution_count": 8,
     "metadata": {},
     "output_type": "execute_result"
    }
   ],
   "source": [
    "ctx"
   ]
  },
  {
   "cell_type": "code",
   "execution_count": null,
   "id": "b212ca73-b4f3-4266-920b-d3ded498ab12",
   "metadata": {},
   "outputs": [],
   "source": []
  },
  {
   "cell_type": "code",
   "execution_count": 27,
   "id": "128083bc-e5e0-452d-a9e1-b0aefd01edeb",
   "metadata": {},
   "outputs": [],
   "source": [
    "N = 10 ** 8\n",
    "\n",
    "\n",
    "def counter(a, b):\n",
    "    print(f\"PROC: {os.getpid()=}, {os.getppid()=}\")\n",
    "    while a < b:\n",
    "        a += 1"
   ]
  },
  {
   "cell_type": "code",
   "execution_count": 28,
   "id": "72d7e3e0-6a0e-4d44-99a1-b7cc06c5ed69",
   "metadata": {},
   "outputs": [
    {
     "name": "stdout",
     "output_type": "stream",
     "text": [
      "PROC: os.getpid()=37078, os.getppid()=81272\n",
      "CPU times: user 5.93 s, sys: 166 ms, total: 6.1 s\n",
      "Wall time: 8.75 s\n"
     ]
    }
   ],
   "source": [
    "%%time\n",
    "\n",
    "counter(0, N)"
   ]
  },
  {
   "cell_type": "code",
   "execution_count": null,
   "id": "c4035f99-f0db-4e8e-9563-8746ba3a6762",
   "metadata": {},
   "outputs": [],
   "source": []
  },
  {
   "cell_type": "code",
   "execution_count": null,
   "id": "339a918c-6bc7-4c8c-8ab7-f02255249d48",
   "metadata": {},
   "outputs": [],
   "source": []
  },
  {
   "cell_type": "code",
   "execution_count": 29,
   "id": "5acc670b-5e35-4d95-b19a-0e5aeed751fa",
   "metadata": {},
   "outputs": [
    {
     "name": "stdout",
     "output_type": "stream",
     "text": [
      "PROC: os.getpid()=37758, os.getppid()=37078\n",
      "PROC: os.getpid()=37759, os.getppid()=37078PROC: os.getpid()=37760, os.getppid()=37078\n",
      "\n",
      "PROC: os.getpid()=37761, os.getppid()=37078\n",
      "PROC: os.getpid()=37762, os.getppid()=37078PROC: os.getpid()=37763, os.getppid()=37078\n",
      "\n",
      "PROC: os.getpid()=37764, os.getppid()=37078\n",
      "PROC: os.getpid()=37765, os.getppid()=37078\n",
      "PROC: os.getpid()=37766, os.getppid()=37078\n",
      "PROC: os.getpid()=37767, os.getppid()=37078\n",
      "CPU times: user 35.5 ms, sys: 58.6 ms, total: 94.1 ms\n",
      "Wall time: 3.44 s\n"
     ]
    }
   ],
   "source": [
    "%%time\n",
    "\n",
    "N_PROC = 10\n",
    "COUNT_SIZE = N // N_PROC\n",
    "\n",
    "\n",
    "procs = [\n",
    "    ctx.Process(\n",
    "        target=counter,\n",
    "        args=(i * COUNT_SIZE, (i + 1) * COUNT_SIZE),\n",
    "    )\n",
    "    for i in range(N_PROC)\n",
    "]\n",
    "\n",
    "for pr in procs:\n",
    "    pr.start()\n",
    "\n",
    "for pr in procs:\n",
    "    pr.join()"
   ]
  },
  {
   "cell_type": "code",
   "execution_count": null,
   "id": "81ff1b42-2a85-42e9-ac73-3b5b98b2e917",
   "metadata": {},
   "outputs": [],
   "source": []
  },
  {
   "cell_type": "code",
   "execution_count": 30,
   "id": "23e68e49-efc8-4060-aabe-7585c9409416",
   "metadata": {},
   "outputs": [
    {
     "name": "stdout",
     "output_type": "stream",
     "text": [
      "PROC: os.getpid()=37842, os.getppid()=37078\n",
      "PROC: os.getpid()=37843, os.getppid()=37078\n",
      "PROC: os.getpid()=37844, os.getppid()=37078\n",
      "PROC: os.getpid()=37846, os.getppid()=37078\n",
      "PROC: os.getpid()=37848, os.getppid()=37078\n",
      "PROC: os.getpid()=37849, os.getppid()=37078\n",
      "PROC: os.getpid()=37850, os.getppid()=37078\n",
      "PROC: os.getpid()=37851, os.getppid()=37078\n",
      "PROC: os.getpid()=37852, os.getppid()=37078\n",
      "PROC: os.getpid()=37853, os.getppid()=37078\n",
      "CPU times: user 35.8 ms, sys: 65.4 ms, total: 101 ms\n",
      "Wall time: 330 ms\n"
     ]
    }
   ],
   "source": [
    "%%time\n",
    "\n",
    "procs = [\n",
    "    ctx.Process(\n",
    "        target=counter,\n",
    "        args=(1, 10),\n",
    "    )\n",
    "    for i in range(N_PROC)\n",
    "]\n",
    "\n",
    "for pr in procs:\n",
    "    pr.start()\n",
    "\n",
    "for pr in procs:\n",
    "    pr.join()"
   ]
  },
  {
   "cell_type": "code",
   "execution_count": null,
   "id": "c1a22a7c-7499-4bc7-ac9f-7f7b06a64323",
   "metadata": {},
   "outputs": [],
   "source": []
  },
  {
   "cell_type": "code",
   "execution_count": null,
   "id": "204624d1-3322-4c22-b7f6-3536b66f98c2",
   "metadata": {},
   "outputs": [],
   "source": []
  },
  {
   "cell_type": "code",
   "execution_count": 32,
   "id": "b52bd25c-0170-4ed4-9d59-87dc1924fce8",
   "metadata": {},
   "outputs": [
    {
     "name": "stderr",
     "output_type": "stream",
     "text": [
      "Traceback (most recent call last):\n",
      "  File \"<string>\", line 1, in <module>\n",
      "  File \"/Library/Frameworks/Python.framework/Versions/3.12/lib/python3.12/multiprocessing/spawn.py\", line 122, in spawn_main\n",
      "    exitcode = _main(fd, parent_sentinel)\n",
      "               ^^^^^^^^^^^^^^^^^^^^^^^^^^\n",
      "  File \"/Library/Frameworks/Python.framework/Versions/3.12/lib/python3.12/multiprocessing/spawn.py\", line 132, in _main\n",
      "    self = reduction.pickle.load(from_parent)\n",
      "           ^^^^^^^^^^^^^^^^^^^^^^^^^^^^^^^^^^\n",
      "AttributeError: Can't get attribute 'counter' on <module '__main__' (<class '_frozen_importlib.BuiltinImporter'>)>\n"
     ]
    }
   ],
   "source": [
    "proc = mp.Process(target=counter, args=(1, 10))\n",
    "proc.start()\n",
    "proc.join()"
   ]
  },
  {
   "cell_type": "code",
   "execution_count": 34,
   "id": "8d18df4b-aec6-4e78-acb0-9595ed3d43d6",
   "metadata": {},
   "outputs": [],
   "source": [
    "import time"
   ]
  },
  {
   "cell_type": "code",
   "execution_count": 42,
   "id": "49757f0f-a16d-4617-ac33-fa2ddf386264",
   "metadata": {},
   "outputs": [
    {
     "name": "stdout",
     "output_type": "stream",
     "text": [
      "CPU times: user 2.08 ms, sys: 4.75 ms, total: 6.83 ms\n",
      "Wall time: 11.1 ms\n",
      "PROC: os.getpid()=38166, os.getppid()=37078\n"
     ]
    }
   ],
   "source": [
    "%%time\n",
    "\n",
    "def time_to_sleep(delay):\n",
    "    print(f\"PROC: {os.getpid()=}, {os.getppid()=}\")\n",
    "    time.sleep(delay)\n",
    "\n",
    "\n",
    "proc = ctx.Process(target=time_to_sleep, args=(30,))\n",
    "proc.start()\n",
    "# proc.join()"
   ]
  },
  {
   "cell_type": "code",
   "execution_count": 35,
   "id": "e33d497d-1ce6-486d-ab69-6663a27f16ad",
   "metadata": {},
   "outputs": [
    {
     "name": "stdout",
     "output_type": "stream",
     "text": [
      "  502 28856 81272   0  6:04PM ??         0:12.28 /Library/Frameworks/\u001b[01;31m\u001b[KPython\u001b[m\u001b[K.framework/Versions/3.12/Resources/\u001b[01;31m\u001b[KPython\u001b[m\u001b[K.app/Contents/MacOS/\u001b[01;31m\u001b[KPython\u001b[m\u001b[K -m ipykernel_launcher -f /Users/g.kandaurov/Library/Jupyter/runtime/kernel-efac1b5e-eb82-4beb-a278-4324eae8a8a0.json\n",
      "  502 28863 81272   0  6:04PM ??         0:01.33 /Library/Frameworks/\u001b[01;31m\u001b[KPython\u001b[m\u001b[K.framework/Versions/3.12/Resources/\u001b[01;31m\u001b[KPython\u001b[m\u001b[K.app/Contents/MacOS/\u001b[01;31m\u001b[KPython\u001b[m\u001b[K -m ipykernel_launcher -f /Users/g.kandaurov/Library/Jupyter/runtime/kernel-dadabae6-8021-4f89-8fe7-5cbf80e75348.json\n",
      "  502 28948 81272   0  6:06PM ??         0:01.35 /Library/Frameworks/\u001b[01;31m\u001b[KPython\u001b[m\u001b[K.framework/Versions/3.12/Resources/\u001b[01;31m\u001b[KPython\u001b[m\u001b[K.app/Contents/MacOS/\u001b[01;31m\u001b[KPython\u001b[m\u001b[K -m ipykernel_launcher -f /Users/g.kandaurov/Library/Jupyter/runtime/kernel-b9b565a3-cbaa-4909-b15e-b56a97ba36d7.json\n",
      "  502 37078 81272   0  8:12PM ??         0:26.92 /Library/Frameworks/\u001b[01;31m\u001b[KPython\u001b[m\u001b[K.framework/Versions/3.12/Resources/\u001b[01;31m\u001b[KPython\u001b[m\u001b[K.app/Contents/MacOS/\u001b[01;31m\u001b[KPython\u001b[m\u001b[K -m ipykernel_launcher -f /Users/g.kandaurov/Library/Jupyter/runtime/kernel-3f64d69e-c7dc-4ce5-84d9-6705f58cebfe.json\n",
      "  502 37942 37078   0  8:26PM ??         0:00.08 /Library/Frameworks/\u001b[01;31m\u001b[KPython\u001b[m\u001b[K.framework/Versions/3.12/Resources/\u001b[01;31m\u001b[KPython\u001b[m\u001b[K.app/Contents/MacOS/\u001b[01;31m\u001b[KPython\u001b[m\u001b[K -c from multiprocessing.resource_tracker import main;main(93)\n",
      "  502 81272   656   0  2:29PM ttys004    0:44.29 /Library/Frameworks/\u001b[01;31m\u001b[KPython\u001b[m\u001b[K.framework/Versions/3.12/Resources/\u001b[01;31m\u001b[KPython\u001b[m\u001b[K.app/Contents/MacOS/\u001b[01;31m\u001b[KPython\u001b[m\u001b[K /Users/g.kandaurov/venv_education/vk_py312/bin/jupyter-notebook\n",
      "  502 38056 37078   0  8:29PM ttys009    0:00.02 /bin/zsh -c ps -ef | grep -i \u001b[01;31m\u001b[Kpython\u001b[m\u001b[K\n",
      "  502 38060 38056   0  8:29PM ttys009    0:00.00 grep -i \u001b[01;31m\u001b[Kpython\u001b[m\u001b[K\n"
     ]
    }
   ],
   "source": [
    "!ps -ef | grep -i python"
   ]
  },
  {
   "cell_type": "code",
   "execution_count": 39,
   "id": "4f59c33e-10d9-4ceb-8b49-5b4d6c03129e",
   "metadata": {},
   "outputs": [
    {
     "name": "stdout",
     "output_type": "stream",
     "text": [
      "  502 28856 81272   0  6:04PM ??         0:12.28 /Library/Frameworks/\u001b[01;31m\u001b[KPython\u001b[m\u001b[K.framework/Versions/3.12/Resources/\u001b[01;31m\u001b[KPython\u001b[m\u001b[K.app/Contents/MacOS/\u001b[01;31m\u001b[KPython\u001b[m\u001b[K -m ipykernel_launcher -f /Users/g.kandaurov/Library/Jupyter/runtime/kernel-efac1b5e-eb82-4beb-a278-4324eae8a8a0.json\n",
      "  502 28863 81272   0  6:04PM ??         0:01.34 /Library/Frameworks/\u001b[01;31m\u001b[KPython\u001b[m\u001b[K.framework/Versions/3.12/Resources/\u001b[01;31m\u001b[KPython\u001b[m\u001b[K.app/Contents/MacOS/\u001b[01;31m\u001b[KPython\u001b[m\u001b[K -m ipykernel_launcher -f /Users/g.kandaurov/Library/Jupyter/runtime/kernel-dadabae6-8021-4f89-8fe7-5cbf80e75348.json\n",
      "  502 28948 81272   0  6:06PM ??         0:01.35 /Library/Frameworks/\u001b[01;31m\u001b[KPython\u001b[m\u001b[K.framework/Versions/3.12/Resources/\u001b[01;31m\u001b[KPython\u001b[m\u001b[K.app/Contents/MacOS/\u001b[01;31m\u001b[KPython\u001b[m\u001b[K -m ipykernel_launcher -f /Users/g.kandaurov/Library/Jupyter/runtime/kernel-b9b565a3-cbaa-4909-b15e-b56a97ba36d7.json\n",
      "  502 37078 81272   0  8:12PM ??         0:27.04 /Library/Frameworks/\u001b[01;31m\u001b[KPython\u001b[m\u001b[K.framework/Versions/3.12/Resources/\u001b[01;31m\u001b[KPython\u001b[m\u001b[K.app/Contents/MacOS/\u001b[01;31m\u001b[KPython\u001b[m\u001b[K -m ipykernel_launcher -f /Users/g.kandaurov/Library/Jupyter/runtime/kernel-3f64d69e-c7dc-4ce5-84d9-6705f58cebfe.json\n",
      "  502 37942 37078   0  8:26PM ??         0:00.08 /Library/Frameworks/\u001b[01;31m\u001b[KPython\u001b[m\u001b[K.framework/Versions/3.12/Resources/\u001b[01;31m\u001b[KPython\u001b[m\u001b[K.app/Contents/MacOS/\u001b[01;31m\u001b[KPython\u001b[m\u001b[K -c from multiprocessing.resource_tracker import main;main(93)\n",
      "  502 38113 37078   0  8:30PM ??         0:00.02 /Library/Frameworks/\u001b[01;31m\u001b[KPython\u001b[m\u001b[K.framework/Versions/3.12/Resources/\u001b[01;31m\u001b[KPython\u001b[m\u001b[K.app/Contents/MacOS/\u001b[01;31m\u001b[KPython\u001b[m\u001b[K -m ipykernel_launcher -f /Users/g.kandaurov/Library/Jupyter/runtime/kernel-3f64d69e-c7dc-4ce5-84d9-6705f58cebfe.json\n",
      "  502 81272   656   0  2:29PM ttys004    0:44.66 /Library/Frameworks/\u001b[01;31m\u001b[KPython\u001b[m\u001b[K.framework/Versions/3.12/Resources/\u001b[01;31m\u001b[KPython\u001b[m\u001b[K.app/Contents/MacOS/\u001b[01;31m\u001b[KPython\u001b[m\u001b[K /Users/g.kandaurov/venv_education/vk_py312/bin/jupyter-notebook\n",
      "  502 38115 37078   0  8:30PM ttys009    0:00.02 /bin/zsh -c ps -ef | grep -i \u001b[01;31m\u001b[Kpython\u001b[m\u001b[K\n",
      "  502 38117 38115   0  8:30PM ttys009    0:00.00 grep -i \u001b[01;31m\u001b[Kpython\u001b[m\u001b[K\n"
     ]
    }
   ],
   "source": [
    "!ps -ef | grep -i python"
   ]
  },
  {
   "cell_type": "code",
   "execution_count": 41,
   "id": "d601f45f-2d37-4a6b-a24d-24dc578f5632",
   "metadata": {},
   "outputs": [
    {
     "data": {
      "text/plain": [
       "<_MainProcess name='MainProcess' parent=None started>"
      ]
     },
     "execution_count": 41,
     "metadata": {},
     "output_type": "execute_result"
    }
   ],
   "source": [
    "mp.current_process()"
   ]
  },
  {
   "cell_type": "code",
   "execution_count": 43,
   "id": "61f1ba46-8406-4840-9109-6b9674cdce91",
   "metadata": {},
   "outputs": [
    {
     "data": {
      "text/plain": [
       "[<ForkProcess name='ForkProcess-51' pid=38166 parent=37078 started>]"
      ]
     },
     "execution_count": 43,
     "metadata": {},
     "output_type": "execute_result"
    }
   ],
   "source": [
    "mp.active_children()"
   ]
  },
  {
   "cell_type": "code",
   "execution_count": null,
   "id": "6719db13-aade-45bb-bcbe-6acc87f410db",
   "metadata": {},
   "outputs": [],
   "source": []
  },
  {
   "cell_type": "code",
   "execution_count": null,
   "id": "a437bb46-e598-49da-99fd-995712b3f971",
   "metadata": {},
   "outputs": [],
   "source": []
  },
  {
   "cell_type": "code",
   "execution_count": null,
   "id": "3dc64900-8e08-4063-8422-f37451747fed",
   "metadata": {},
   "outputs": [],
   "source": []
  },
  {
   "cell_type": "code",
   "execution_count": 3,
   "id": "d92467b6-9dbe-4576-83c8-7bec5553aadb",
   "metadata": {},
   "outputs": [],
   "source": [
    "import socket\n",
    "import time"
   ]
  },
  {
   "cell_type": "code",
   "execution_count": 5,
   "id": "f1a88404-50d2-41b5-8d35-1eae5cfcd9cd",
   "metadata": {},
   "outputs": [],
   "source": [
    "ctx = mp.get_context(\"fork\")"
   ]
  },
  {
   "cell_type": "code",
   "execution_count": 10,
   "id": "b0a55060-f26e-4d7b-962d-5c4b30f7f683",
   "metadata": {},
   "outputs": [
    {
     "name": "stdout",
     "output_type": "stream",
     "text": [
      "server: os.getpid()=39183, os.getppid()=38958\n",
      "client: os.getpid()=39184, os.getppid()=38958\n",
      "conn from addr ('127.0.0.1', 54593)\n",
      "recv: Море, Море\n",
      "client recv: МОРЕ, МОРЕ\n",
      "CPU times: user 17.1 ms, sys: 22 ms, total: 39.1 ms\n",
      "Wall time: 1.07 s\n"
     ]
    }
   ],
   "source": [
    "%%time\n",
    "\n",
    "def client(data):\n",
    "    print(f\"client: {os.getpid()=}, {os.getppid()=}\")\n",
    "\n",
    "    with socket.socket(socket.AF_INET, socket.SOCK_STREAM) as sock:\n",
    "        sock.connect((\"localhost\", 20002))\n",
    "        sock.sendall(data.encode())\n",
    "\n",
    "        print(\"client recv:\", sock.recv(1024).decode())\n",
    "\n",
    "\n",
    "def server():\n",
    "    print(f\"server: {os.getpid()=}, {os.getppid()=}\")\n",
    "    #sock = socket.socket(socket.AF_INET, socket.SOCK_STREAM)\n",
    "    \n",
    "    with socket.socket(socket.AF_INET, socket.SOCK_STREAM) as sock:\n",
    "        sock.setsockopt(socket.SOL_SOCKET, socket.SO_REUSEPORT, 1)\n",
    "        \n",
    "        sock.bind((\"localhost\", 20002))\n",
    "        sock.listen(5)\n",
    "    \n",
    "        client_sock, addr = sock.accept()\n",
    "        print(\"conn from addr\", addr)\n",
    "\n",
    "        with client_sock:\n",
    "            data = client_sock.recv(1024)\n",
    "            data = data.decode()\n",
    "            print(\"recv:\", data)\n",
    "            client_sock.sendall(data.upper().encode())\n",
    "\n",
    "\n",
    "proc_client = ctx.Process(target=client, args=(\"Море, Море\",))\n",
    "proc_server = ctx.Process(target=server)\n",
    "\n",
    "proc_server.start()\n",
    "\n",
    "time.sleep(1)\n",
    "proc_client.start()\n",
    "\n",
    "proc_client.join()\n",
    "proc_server.join()"
   ]
  },
  {
   "cell_type": "code",
   "execution_count": null,
   "id": "f1171421-dd0b-478a-8cdb-cd18366c979e",
   "metadata": {},
   "outputs": [],
   "source": [
    "%%time\n",
    "\n",
    "def client(data):\n",
    "    print(f\"client: {os.getpid()=}, {os.getppid()=}\")\n",
    "\n",
    "    with socket.socket(socket.AF_INET, socket.SOCK_STREAM) as sock:\n",
    "        sock.connect((\"localhost\", 20002))\n",
    "        sock.sendall(data.encode())\n",
    "\n",
    "        print(\"client recv:\", sock.recv(1024).decode())\n",
    "\n",
    "\n",
    "def server():\n",
    "    print(f\"server: {os.getpid()=}, {os.getppid()=}\")\n",
    "    #sock = socket.socket(socket.AF_INET, socket.SOCK_STREAM)\n",
    "    \n",
    "    with socket.socket(socket.AF_INET, socket.SOCK_STREAM) as sock:\n",
    "        sock.setsockopt(socket.SOL_SOCKET, socket.SO_REUSEPORT, 1)\n",
    "        \n",
    "        sock.bind((\"localhost\", 20002))\n",
    "        sock.listen(5)\n",
    "\n",
    "        while True:\n",
    "            client_sock, addr = sock.accept()\n",
    "            print(\"conn from addr\", addr)\n",
    "    \n",
    "            with client_sock:\n",
    "                data = client_sock.recv(1024)\n",
    "                data = data.decode()\n",
    "                print(\"recv:\", data)\n",
    "                client_sock.sendall(data.upper().encode())\n",
    "\n",
    "\n",
    "proc_client = ctx.Process(target=client, args=(\"Море, Море\",))\n",
    "proc_server = ctx.Process(target=server)\n",
    "\n",
    "proc_server.start()\n",
    "\n",
    "time.sleep(1)\n",
    "proc_client.start()\n",
    "\n",
    "proc_client.join()\n",
    "proc_server.join()"
   ]
  },
  {
   "cell_type": "code",
   "execution_count": null,
   "id": "d111ac99-6d70-402e-910b-cb6c87129081",
   "metadata": {},
   "outputs": [],
   "source": []
  },
  {
   "cell_type": "code",
   "execution_count": null,
   "id": "840e05d6-1a7c-4421-81cc-8fbb5ecf3896",
   "metadata": {},
   "outputs": [],
   "source": []
  }
 ],
 "metadata": {
  "kernelspec": {
   "display_name": "Python 3 (ipykernel)",
   "language": "python",
   "name": "python3"
  },
  "language_info": {
   "codemirror_mode": {
    "name": "ipython",
    "version": 3
   },
   "file_extension": ".py",
   "mimetype": "text/x-python",
   "name": "python",
   "nbconvert_exporter": "python",
   "pygments_lexer": "ipython3",
   "version": "3.12.5"
  }
 },
 "nbformat": 4,
 "nbformat_minor": 5
}
