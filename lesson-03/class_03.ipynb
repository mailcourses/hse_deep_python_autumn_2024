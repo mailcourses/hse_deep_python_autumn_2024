{
 "cells": [
  {
   "cell_type": "markdown",
   "id": "c2aa25ab-4db9-44c0-9ae0-58ac1738f80f",
   "metadata": {},
   "source": [
    "# Области видимости"
   ]
  },
  {
   "cell_type": "code",
   "execution_count": 28,
   "id": "15eff6fb-f68d-4ae5-ae8a-e188fab7240a",
   "metadata": {},
   "outputs": [
    {
     "data": {
      "text/plain": [
       "(120, 3628800)"
      ]
     },
     "execution_count": 28,
     "metadata": {},
     "output_type": "execute_result"
    }
   ],
   "source": [
    "def factorial(n):\n",
    "    if n == 0:\n",
    "        return 1\n",
    "    return n * factorial(n - 1)\n",
    "\n",
    "\n",
    "factorial(5), factorial(10)"
   ]
  },
  {
   "cell_type": "code",
   "execution_count": 31,
   "id": "c32db60f-abe8-4901-9cf3-1123b87a0b25",
   "metadata": {},
   "outputs": [
    {
     "data": {
      "text/plain": [
       "3000"
      ]
     },
     "execution_count": 31,
     "metadata": {},
     "output_type": "execute_result"
    }
   ],
   "source": [
    "import sys\n",
    "\n",
    "sys.getrecursionlimit()"
   ]
  },
  {
   "cell_type": "code",
   "execution_count": null,
   "id": "356e63de-d71a-4c7d-9430-a6d82ef5c1e1",
   "metadata": {},
   "outputs": [],
   "source": []
  },
  {
   "cell_type": "code",
   "execution_count": 34,
   "id": "020925d0-fedc-4118-86f9-59094c5936bb",
   "metadata": {},
   "outputs": [
    {
     "data": {
      "text/plain": [
       "True"
      ]
     },
     "execution_count": 34,
     "metadata": {},
     "output_type": "execute_result"
    }
   ],
   "source": [
    "locals() is globals()"
   ]
  },
  {
   "cell_type": "code",
   "execution_count": 103,
   "id": "b1f368ae-03ae-47f9-b581-1472a93b0d91",
   "metadata": {},
   "outputs": [
    {
     "data": {
      "text/plain": [
       "201"
      ]
     },
     "execution_count": 103,
     "metadata": {},
     "output_type": "execute_result"
    }
   ],
   "source": [
    "len(globals())"
   ]
  },
  {
   "cell_type": "code",
   "execution_count": 36,
   "id": "16525f98-327c-4c97-b7ef-bf76bfef3a7e",
   "metadata": {},
   "outputs": [],
   "source": [
    "qwerty = \"global name\""
   ]
  },
  {
   "cell_type": "code",
   "execution_count": 38,
   "id": "bd265098-6e09-4f63-a15f-6beb94741b37",
   "metadata": {},
   "outputs": [
    {
     "data": {
      "text/plain": [
       "'global name'"
      ]
     },
     "execution_count": 38,
     "metadata": {},
     "output_type": "execute_result"
    }
   ],
   "source": [
    "globals()[\"qwerty\"]"
   ]
  },
  {
   "cell_type": "code",
   "execution_count": 40,
   "id": "0d3d487e-1df9-4335-b0fb-8e75555576ab",
   "metadata": {},
   "outputs": [],
   "source": [
    "globals()[\"qwerty1\"] = \"glob 222\""
   ]
  },
  {
   "cell_type": "code",
   "execution_count": 41,
   "id": "78b03f63-3208-48b6-994c-3911a5f68a48",
   "metadata": {},
   "outputs": [
    {
     "data": {
      "text/plain": [
       "'glob 222'"
      ]
     },
     "execution_count": 41,
     "metadata": {},
     "output_type": "execute_result"
    }
   ],
   "source": [
    "qwerty1"
   ]
  },
  {
   "cell_type": "code",
   "execution_count": 44,
   "id": "48e3a3e7-1891-4361-a4bd-f0ce5b357b63",
   "metadata": {},
   "outputs": [
    {
     "name": "stdout",
     "output_type": "stream",
     "text": [
      "outer='out_local'\n",
      "{'outer': 'out_local'}\n",
      "{'outer': 'out_loca_updated'}\n",
      "outer='out_local'\n"
     ]
    }
   ],
   "source": [
    "def outer_function():\n",
    "    outer = \"out_local\"\n",
    "\n",
    "    print(f\"{outer=}\")\n",
    "    loc = locals()\n",
    "    print(loc)\n",
    "    loc[\"outer\"] = \"out_loca_updated\"\n",
    "    print(loc)\n",
    "    \n",
    "    print(f\"{outer=}\")\n",
    "\n",
    "\n",
    "outer_function()\n",
    "    "
   ]
  },
  {
   "cell_type": "code",
   "execution_count": null,
   "id": "5acb36b8-38ab-4af6-8443-0a4907dbfff7",
   "metadata": {},
   "outputs": [],
   "source": []
  },
  {
   "cell_type": "code",
   "execution_count": 52,
   "id": "60c3d52a-66b0-4f5b-9869-ed1fea79192d",
   "metadata": {},
   "outputs": [
    {
     "name": "stdout",
     "output_type": "stream",
     "text": [
      "{'name': 'local_name', 'outer': 'out_local'}\n",
      "glob_var='global variable updated'\n",
      "{'name': 'local_name', 'outer': 'out_local', 'glob_var': 'global variable updated'}\n",
      "======\n",
      "glob_var='global variable'\n"
     ]
    }
   ],
   "source": [
    "glob_var = \"global variable\"\n",
    "\n",
    "\n",
    "def outer_function(name):\n",
    "    outer = \"out_local\"\n",
    "\n",
    "    print(locals())\n",
    "\n",
    "    glob_var = \"global variable updated\"\n",
    "    print(f\"{glob_var=}\")\n",
    "\n",
    "    print(locals())\n",
    "\n",
    "\n",
    "outer_function(\"local_name\")\n",
    "\n",
    "print(\"======\")\n",
    "print(f\"{glob_var=}\")\n",
    "    "
   ]
  },
  {
   "cell_type": "code",
   "execution_count": 56,
   "id": "24d29cee-fca1-4a26-9f93-7726adbeca85",
   "metadata": {},
   "outputs": [
    {
     "name": "stdout",
     "output_type": "stream",
     "text": [
      "{'name': 'local_name', 'outer': 'out_local'}\n",
      "glob_var='global variable'\n",
      "{'name': 'local_name', 'outer': 'out_local'}\n",
      "======\n",
      "glob_var='global variable updated'\n"
     ]
    }
   ],
   "source": [
    "glob_var = \"global variable\"\n",
    "\n",
    "\n",
    "def outer_function(name):\n",
    "    outer = \"out_local\"\n",
    "\n",
    "    print(locals())\n",
    "\n",
    "    global glob_var\n",
    "\n",
    "    print(f\"{glob_var=}\")\n",
    "    glob_var = \"global variable updated\"\n",
    "\n",
    "    print(locals())\n",
    "\n",
    "    globals()[\"glob_var_2\"] = \"new global\"\n",
    "    globals()[\"!!!!!\"] = \"new global\"\n",
    "\n",
    "\n",
    "outer_function(\"local_name\")\n",
    "\n",
    "print(\"======\")\n",
    "print(f\"{glob_var=}\")\n",
    "    "
   ]
  },
  {
   "cell_type": "code",
   "execution_count": 55,
   "id": "23d64191-d818-435e-b256-b9540a71ab42",
   "metadata": {},
   "outputs": [
    {
     "name": "stdout",
     "output_type": "stream",
     "text": [
      "new global\n"
     ]
    }
   ],
   "source": [
    "print(glob_var_2)"
   ]
  },
  {
   "cell_type": "code",
   "execution_count": 59,
   "id": "4e436562-4e07-41cf-82fc-3fc25595661a",
   "metadata": {},
   "outputs": [
    {
     "name": "stdout",
     "output_type": "stream",
     "text": [
      "new global\n"
     ]
    }
   ],
   "source": [
    "print(globals()[\"!!!!!\"])"
   ]
  },
  {
   "cell_type": "code",
   "execution_count": 70,
   "id": "ecd53df9-afbe-4e09-bc18-0551dd448d94",
   "metadata": {},
   "outputs": [
    {
     "name": "stdout",
     "output_type": "stream",
     "text": [
      "outer_function 1 locals()={'name': 'local_name', 'outer': 'out_local'}\n",
      "inner_function locals()={'inner_name': 'inner_name', 'inner': 'inner_local', 'outer': 'out_local'}\n",
      "outer='out_local'\n",
      "inner_function locals()={'inner_name': 'inner_name', 'inner': 'inner_local', 'outer': 'out_local updated in inner'}\n",
      "outer_function 2 locals()={'name': 'local_name', 'outer': 'out_local updated in inner', 'inner_function': <function outer_function.<locals>.inner_function at 0x112364360>}\n",
      "======\n",
      "glob_var='global variable'\n",
      "glob_list=[1, 2, 3]\n"
     ]
    }
   ],
   "source": [
    "glob_var = \"global variable\"\n",
    "glob_list = []\n",
    "\n",
    "\n",
    "def outer_function(name):\n",
    "    outer = \"out_local\"\n",
    "    print(f\"outer_function 1 {locals()=}\")\n",
    "    \n",
    "    glob_list.append(1)\n",
    "\n",
    "    def inner_function(inner_name):\n",
    "        inner = \"inner_local\"\n",
    "        glob_list.append(2)\n",
    "\n",
    "        print(f\"inner_function {locals()=}\")\n",
    "\n",
    "        nonlocal outer\n",
    "        print(f\"{outer=}\")\n",
    "        outer = \"out_local updated in inner\"\n",
    "\n",
    "        print(f\"inner_function {locals()=}\")\n",
    "\n",
    "    inner_function(\"inner_name\")\n",
    "    print(f\"outer_function 2 {locals()=}\")\n",
    "    \n",
    "    glob_list.append(3)\n",
    "\n",
    "\n",
    "outer_function(\"local_name\")\n",
    "\n",
    "\n",
    "print(\"======\")\n",
    "print(f\"{glob_var=}\")\n",
    "print(f\"{glob_list=}\")"
   ]
  },
  {
   "cell_type": "code",
   "execution_count": null,
   "id": "a017b163-e985-4b3a-8774-b8ebe09be535",
   "metadata": {},
   "outputs": [],
   "source": []
  },
  {
   "cell_type": "code",
   "execution_count": null,
   "id": "8488afc7-94a9-44c3-b73a-584638160704",
   "metadata": {},
   "outputs": [],
   "source": []
  },
  {
   "cell_type": "code",
   "execution_count": null,
   "id": "ba1b5dfa-5d49-4b63-8989-ec2f07207b09",
   "metadata": {},
   "outputs": [],
   "source": []
  },
  {
   "cell_type": "markdown",
   "id": "a933d88f-84d7-45c0-ba8a-794c95870471",
   "metadata": {},
   "source": [
    "# Доп тестирование"
   ]
  },
  {
   "cell_type": "code",
   "execution_count": 1,
   "id": "7e59e29e-68b9-4994-a9f7-2b321a7886d5",
   "metadata": {},
   "outputs": [
    {
     "name": "stdout",
     "output_type": "stream",
     "text": [
      "True False\n"
     ]
    }
   ],
   "source": [
    "def search_substring(haystack: str, needle: str) -> bool:\n",
    "    return needle.lower() in haystack.lower()\n",
    "\n",
    "\n",
    "print(search_substring(\"aBc\", \"Ab\"), search_substring(\"abc\", \"Ac\"))"
   ]
  },
  {
   "cell_type": "code",
   "execution_count": 27,
   "id": "36ac9d41-e14a-480b-878c-326118be3f0f",
   "metadata": {},
   "outputs": [
    {
     "name": "stderr",
     "output_type": "stream",
     "text": [
      "test_search_invalid (__main__.TestSearchSubstring.test_search_invalid) ... ok\n",
      "test_search_valid (__main__.TestSearchSubstring.test_search_valid) ... ok\n",
      "\n",
      "----------------------------------------------------------------------\n",
      "Ran 2 tests in 0.004s\n",
      "\n",
      "OK\n"
     ]
    },
    {
     "data": {
      "text/plain": [
       "<unittest.main.TestProgram at 0x107a1a450>"
      ]
     },
     "execution_count": 27,
     "metadata": {},
     "output_type": "execute_result"
    }
   ],
   "source": [
    "import unittest\n",
    "\n",
    "\n",
    "class TestSearchSubstring(unittest.TestCase):\n",
    "    def test_search_valid(self):\n",
    "        self.assertTrue(search_substring(\"aBc\", \"Ab\"))\n",
    "        self.assertTrue(search_substring(\"йцукен\", \"КЕН\"))\n",
    "\n",
    "        self.assertTrue(search_substring(\"abc\", \"\"))\n",
    "        self.assertTrue(search_substring(\"\", \"\"))\n",
    "        self.assertTrue(search_substring(\"a\", \"\"))\n",
    "        self.assertTrue(search_substring(\"abc\", \"a\"))\n",
    "        self.assertTrue(search_substring(\"a\", \"a\"))\n",
    "\n",
    "        self.assertTrue(search_substring(\"A\", \"\"))\n",
    "        self.assertTrue(search_substring(\"abc\", \"A\"))\n",
    "        self.assertTrue(search_substring(\"A\", \"a\"))\n",
    "\n",
    "        self.assertTrue(search_substring(\"ABC def\", \"abc DEF\"))\n",
    "\n",
    "        self.assertTrue(search_substring(\"ABC def\", \"abc\"))\n",
    "        self.assertTrue(search_substring(\"ABC def\", \"DEF\"))\n",
    "        self.assertTrue(search_substring(\"ABC,def\", \"abc\"))\n",
    "        self.assertTrue(search_substring(\"ABC,def\", \"abc,\"))\n",
    "        self.assertTrue(search_substring(\"abbbc\", \"bbb\"))\n",
    "\n",
    "    def test_search_invalid(self):\n",
    "        self.assertFalse(search_substring(\"abc\", \"Ac\"))\n",
    "        self.assertFalse(search_substring(\"йцукен\", \"КЕТ\"))\n",
    "\n",
    "        self.assertFalse(search_substring(\"\", \"abc\"))\n",
    "        self.assertFalse(search_substring(\"ab\", \"abc\"))\n",
    "        self.assertFalse(search_substring(\"ABC,def\", \"abc def\"))\n",
    "        self.assertFalse(search_substring(\"a\", \"b\"))\n",
    "        self.assertFalse(search_substring(\"abc\", \"D\"))\n",
    "\n",
    "        self.assertFalse(search_substring(\"abbbc\", \"bbbb\"))\n",
    "        self.assertFalse(search_substring(\"bbbc\", \"bbbb\"))\n",
    "        self.assertFalse(search_substring(\"abbb\", \"bbbb\"))\n",
    "        self.assertFalse(search_substring(\"abbb\", \"bbc\"))\n",
    "\n",
    "        with self.assertRaises(Exception):\n",
    "            search_substring(\"\", None)\n",
    "\n",
    "\n",
    "unittest.main(argv=[''], verbosity=2, exit=False)"
   ]
  },
  {
   "cell_type": "markdown",
   "id": "9a0f0bdb-d922-4eba-b88f-745664ed678b",
   "metadata": {},
   "source": [
    "# Классы"
   ]
  },
  {
   "cell_type": "code",
   "execution_count": 28,
   "id": "5c3f04cd-1e15-4a6d-a87b-c1d4feb8034a",
   "metadata": {},
   "outputs": [],
   "source": [
    "class ClassAttr:\n",
    "    name = \"cls_name\"\n",
    "    __cls_private = \"cls_private\"\n",
    "\n",
    "    def __init__(self, val):\n",
    "        self.val = val\n",
    "        self._protected = \"protected\"\n",
    "        self.__private = \"private\"\n",
    "\n",
    "    def print(self):\n",
    "        print(\n",
    "            f\"{self.val=}, {self._protected=}, {self.__private=}, \"\n",
    "            f\"{self.name=}, {self.__cls_private=}\"\n",
    "        )\n",
    "    \n",
    "    def print_new(self):\n",
    "        print(f\"{self.__private_3=}\")\n",
    "        \n",
    "    def update(self):\n",
    "        print(f\"{self.val=}\")"
   ]
  },
  {
   "cell_type": "code",
   "execution_count": 34,
   "id": "4046af72-fa4c-48a9-bfd4-18727a408755",
   "metadata": {},
   "outputs": [
    {
     "name": "stdout",
     "output_type": "stream",
     "text": [
      "self.val=10, self._protected='protected', self.__private='private', self.name='cls_name', self.__cls_private='cls_private'\n",
      "self.val=20, self._protected='protected', self.__private='private', self.name='cls_name', self.__cls_private='cls_private'\n"
     ]
    }
   ],
   "source": [
    "obj1 = ClassAttr(10)\n",
    "obj1.print()\n",
    "\n",
    "obj2 = ClassAttr(20)\n",
    "obj2.print()"
   ]
  },
  {
   "cell_type": "code",
   "execution_count": 35,
   "id": "d5d0623f-89de-4bbb-b475-99db994f9699",
   "metadata": {},
   "outputs": [
    {
     "data": {
      "text/plain": [
       "(<__main__.ClassAttr at 0x107d94ef0>, <__main__.ClassAttr at 0x107d94da0>)"
      ]
     },
     "execution_count": 35,
     "metadata": {},
     "output_type": "execute_result"
    }
   ],
   "source": [
    "obj1, obj2"
   ]
  },
  {
   "cell_type": "code",
   "execution_count": 36,
   "id": "358a8988-03b9-40bb-b2bb-e63af90502e8",
   "metadata": {},
   "outputs": [
    {
     "ename": "TypeError",
     "evalue": "ClassAttr.print() missing 1 required positional argument: 'self'",
     "output_type": "error",
     "traceback": [
      "\u001b[0;31m---------------------------------------------------------------------------\u001b[0m",
      "\u001b[0;31mTypeError\u001b[0m                                 Traceback (most recent call last)",
      "Cell \u001b[0;32mIn[36], line 1\u001b[0m\n\u001b[0;32m----> 1\u001b[0m \u001b[43mobj1\u001b[49m\u001b[38;5;241;43m.\u001b[39;49m\u001b[43mprint\u001b[49m\u001b[38;5;241;43m.\u001b[39;49m\u001b[38;5;18;43m__func__\u001b[39;49m\u001b[43m(\u001b[49m\u001b[43m)\u001b[49m\n",
      "\u001b[0;31mTypeError\u001b[0m: ClassAttr.print() missing 1 required positional argument: 'self'"
     ]
    }
   ],
   "source": [
    "obj1.print.__func__(obj2)"
   ]
  },
  {
   "cell_type": "code",
   "execution_count": 37,
   "id": "c46e49a6-1992-4cda-8113-01578bb61a00",
   "metadata": {},
   "outputs": [
    {
     "name": "stdout",
     "output_type": "stream",
     "text": [
      "self.val=20, self._protected='protected', self.__private='private', self.name='cls_name', self.__cls_private='cls_private'\n"
     ]
    }
   ],
   "source": [
    "obj1.print.__func__(obj2)"
   ]
  },
  {
   "cell_type": "code",
   "execution_count": 39,
   "id": "36927aa4-d29d-4f77-b2be-40958743e01a",
   "metadata": {},
   "outputs": [
    {
     "name": "stdout",
     "output_type": "stream",
     "text": [
      "self.val=10, self._protected='protected', self.__private='private', self.name='cls_name', self.__cls_private='cls_private'\n"
     ]
    }
   ],
   "source": [
    "ClassAttr.print(obj1)"
   ]
  },
  {
   "cell_type": "code",
   "execution_count": null,
   "id": "538c9c72-b5d2-488f-b2ae-dbd8985f1ccd",
   "metadata": {},
   "outputs": [],
   "source": []
  },
  {
   "cell_type": "code",
   "execution_count": 40,
   "id": "33c60b34-2e6f-48b5-a6f5-070e4095e6ba",
   "metadata": {},
   "outputs": [
    {
     "data": {
      "text/plain": [
       "{'val': 10, '_protected': 'protected', '_ClassAttr__private': 'private'}"
      ]
     },
     "execution_count": 40,
     "metadata": {},
     "output_type": "execute_result"
    }
   ],
   "source": [
    "obj1.__dict__"
   ]
  },
  {
   "cell_type": "code",
   "execution_count": 41,
   "id": "af62d1c0-6618-4c58-8f66-348dafe3f56d",
   "metadata": {},
   "outputs": [
    {
     "data": {
      "text/plain": [
       "mappingproxy({'__module__': '__main__',\n",
       "              'name': 'cls_name',\n",
       "              '_ClassAttr__cls_private': 'cls_private',\n",
       "              '__init__': <function __main__.ClassAttr.__init__(self, val)>,\n",
       "              'print': <function __main__.ClassAttr.print(self)>,\n",
       "              'print_new': <function __main__.ClassAttr.print_new(self)>,\n",
       "              'update': <function __main__.ClassAttr.update(self)>,\n",
       "              '__dict__': <attribute '__dict__' of 'ClassAttr' objects>,\n",
       "              '__weakref__': <attribute '__weakref__' of 'ClassAttr' objects>,\n",
       "              '__doc__': None})"
      ]
     },
     "execution_count": 41,
     "metadata": {},
     "output_type": "execute_result"
    }
   ],
   "source": [
    "ClassAttr.__dict__"
   ]
  },
  {
   "cell_type": "code",
   "execution_count": 42,
   "id": "c76b1730-0ee0-4c57-9dd2-8657019147f2",
   "metadata": {},
   "outputs": [],
   "source": [
    "obj1.__dict__[\"qwerty\"] = \"new\""
   ]
  },
  {
   "cell_type": "code",
   "execution_count": 43,
   "id": "98a49f09-380c-4474-8c21-e27f508a987b",
   "metadata": {},
   "outputs": [
    {
     "data": {
      "text/plain": [
       "{'val': 10,\n",
       " '_protected': 'protected',\n",
       " '_ClassAttr__private': 'private',\n",
       " 'qwerty': 'new'}"
      ]
     },
     "execution_count": 43,
     "metadata": {},
     "output_type": "execute_result"
    }
   ],
   "source": [
    "obj1.__dict__"
   ]
  },
  {
   "cell_type": "code",
   "execution_count": 44,
   "id": "998a7909-4f5f-4562-85b0-769ecd33265a",
   "metadata": {},
   "outputs": [
    {
     "data": {
      "text/plain": [
       "'new'"
      ]
     },
     "execution_count": 44,
     "metadata": {},
     "output_type": "execute_result"
    }
   ],
   "source": [
    "obj1.qwerty"
   ]
  },
  {
   "cell_type": "code",
   "execution_count": 45,
   "id": "16e7ec12-cef6-4882-aec0-e233434d6137",
   "metadata": {},
   "outputs": [
    {
     "ename": "TypeError",
     "evalue": "'mappingproxy' object does not support item assignment",
     "output_type": "error",
     "traceback": [
      "\u001b[0;31m---------------------------------------------------------------------------\u001b[0m",
      "\u001b[0;31mTypeError\u001b[0m                                 Traceback (most recent call last)",
      "Cell \u001b[0;32mIn[45], line 1\u001b[0m\n\u001b[0;32m----> 1\u001b[0m \u001b[43mClassAttr\u001b[49m\u001b[38;5;241;43m.\u001b[39;49m\u001b[38;5;18;43m__dict__\u001b[39;49m\u001b[43m[\u001b[49m\u001b[38;5;124;43m\"\u001b[39;49m\u001b[38;5;124;43mdzen\u001b[39;49m\u001b[38;5;124;43m\"\u001b[39;49m\u001b[43m]\u001b[49m \u001b[38;5;241m=\u001b[39m \u001b[38;5;124m\"\u001b[39m\u001b[38;5;124mdzen\u001b[39m\u001b[38;5;124m\"\u001b[39m\n",
      "\u001b[0;31mTypeError\u001b[0m: 'mappingproxy' object does not support item assignment"
     ]
    }
   ],
   "source": [
    "ClassAttr.__dict__[\"dzen\"] = \"dzen\""
   ]
  },
  {
   "cell_type": "code",
   "execution_count": 46,
   "id": "19cebc10-f901-4ef1-9f2a-c00a6ed24442",
   "metadata": {},
   "outputs": [],
   "source": [
    "ClassAttr.dzen = \"dzen\""
   ]
  },
  {
   "cell_type": "code",
   "execution_count": 47,
   "id": "9570a0c0-299b-47af-9d00-33e1ab3f82f5",
   "metadata": {},
   "outputs": [
    {
     "data": {
      "text/plain": [
       "mappingproxy({'__module__': '__main__',\n",
       "              'name': 'cls_name',\n",
       "              '_ClassAttr__cls_private': 'cls_private',\n",
       "              '__init__': <function __main__.ClassAttr.__init__(self, val)>,\n",
       "              'print': <function __main__.ClassAttr.print(self)>,\n",
       "              'print_new': <function __main__.ClassAttr.print_new(self)>,\n",
       "              'update': <function __main__.ClassAttr.update(self)>,\n",
       "              '__dict__': <attribute '__dict__' of 'ClassAttr' objects>,\n",
       "              '__weakref__': <attribute '__weakref__' of 'ClassAttr' objects>,\n",
       "              '__doc__': None,\n",
       "              'dzen': 'dzen'})"
      ]
     },
     "execution_count": 47,
     "metadata": {},
     "output_type": "execute_result"
    }
   ],
   "source": [
    "ClassAttr.__dict__"
   ]
  },
  {
   "cell_type": "code",
   "execution_count": null,
   "id": "9bcdc121-4281-4107-820d-0cd5081552c1",
   "metadata": {},
   "outputs": [],
   "source": []
  },
  {
   "cell_type": "code",
   "execution_count": 48,
   "id": "e27b927e-f4e0-49c1-8100-9bcf12c90df6",
   "metadata": {},
   "outputs": [
    {
     "data": {
      "text/plain": [
       "{'val': 10,\n",
       " '_protected': 'protected',\n",
       " '_ClassAttr__private': 'private',\n",
       " 'qwerty': 'new'}"
      ]
     },
     "execution_count": 48,
     "metadata": {},
     "output_type": "execute_result"
    }
   ],
   "source": [
    "obj1.__dict__"
   ]
  },
  {
   "cell_type": "code",
   "execution_count": 50,
   "id": "5140d5b5-e7ac-440d-b373-de8cc569b243",
   "metadata": {},
   "outputs": [
    {
     "data": {
      "text/plain": [
       "(10, 'protected')"
      ]
     },
     "execution_count": 50,
     "metadata": {},
     "output_type": "execute_result"
    }
   ],
   "source": [
    "obj1.val, obj1._protected"
   ]
  },
  {
   "cell_type": "code",
   "execution_count": 52,
   "id": "c6c5fe8e-b1a5-4e98-958c-6902243b621d",
   "metadata": {},
   "outputs": [
    {
     "ename": "AttributeError",
     "evalue": "'ClassAttr' object has no attribute '__private'",
     "output_type": "error",
     "traceback": [
      "\u001b[0;31m---------------------------------------------------------------------------\u001b[0m",
      "\u001b[0;31mAttributeError\u001b[0m                            Traceback (most recent call last)",
      "Cell \u001b[0;32mIn[52], line 1\u001b[0m\n\u001b[0;32m----> 1\u001b[0m \u001b[43mobj1\u001b[49m\u001b[38;5;241;43m.\u001b[39;49m\u001b[43m__private\u001b[49m\n",
      "\u001b[0;31mAttributeError\u001b[0m: 'ClassAttr' object has no attribute '__private'"
     ]
    }
   ],
   "source": [
    "obj1.__private"
   ]
  },
  {
   "cell_type": "code",
   "execution_count": 53,
   "id": "f2d93fa0-a5ea-4e1e-808e-f25161286929",
   "metadata": {},
   "outputs": [
    {
     "data": {
      "text/plain": [
       "'private'"
      ]
     },
     "execution_count": 53,
     "metadata": {},
     "output_type": "execute_result"
    }
   ],
   "source": [
    "obj1._ClassAttr__private"
   ]
  },
  {
   "cell_type": "code",
   "execution_count": 54,
   "id": "df45ce21-d512-4631-bc7a-722368c010e7",
   "metadata": {},
   "outputs": [],
   "source": [
    "obj1._ClassAttr__private = \"private updated\""
   ]
  },
  {
   "cell_type": "code",
   "execution_count": 55,
   "id": "dd4ac204-fa30-4fdc-b7d2-6a2c6856143b",
   "metadata": {},
   "outputs": [
    {
     "name": "stdout",
     "output_type": "stream",
     "text": [
      "self.val=10, self._protected='protected', self.__private='private updated', self.name='cls_name', self.__cls_private='cls_private'\n"
     ]
    }
   ],
   "source": [
    "obj1.print()"
   ]
  },
  {
   "cell_type": "code",
   "execution_count": null,
   "id": "59ab6004-8989-4941-96de-9fdd3938c343",
   "metadata": {},
   "outputs": [],
   "source": []
  },
  {
   "cell_type": "code",
   "execution_count": null,
   "id": "daea98b5-e32c-4794-b2b2-62906795f35c",
   "metadata": {},
   "outputs": [],
   "source": []
  },
  {
   "cell_type": "code",
   "execution_count": 58,
   "id": "4e95df24-4201-45d1-a908-7fffc0cfab06",
   "metadata": {},
   "outputs": [
    {
     "data": {
      "text/plain": [
       "('cls_name', 'cls_private')"
      ]
     },
     "execution_count": 58,
     "metadata": {},
     "output_type": "execute_result"
    }
   ],
   "source": [
    "ClassAttr.name, ClassAttr._ClassAttr__cls_private"
   ]
  },
  {
   "cell_type": "code",
   "execution_count": 59,
   "id": "d7e06cca-cca2-4c37-8e2c-3df46dea3193",
   "metadata": {},
   "outputs": [
    {
     "data": {
      "text/plain": [
       "'cls_name'"
      ]
     },
     "execution_count": 59,
     "metadata": {},
     "output_type": "execute_result"
    }
   ],
   "source": [
    "obj1.name"
   ]
  },
  {
   "cell_type": "code",
   "execution_count": 60,
   "id": "23122409-1095-40c2-ad2d-f7651a745815",
   "metadata": {},
   "outputs": [],
   "source": [
    "ClassAttr.name = \"clas_name updated\""
   ]
  },
  {
   "cell_type": "code",
   "execution_count": 61,
   "id": "1eb3ba84-0fd5-4fcd-bec0-d7b18738037e",
   "metadata": {},
   "outputs": [
    {
     "data": {
      "text/plain": [
       "('clas_name updated', 'cls_private')"
      ]
     },
     "execution_count": 61,
     "metadata": {},
     "output_type": "execute_result"
    }
   ],
   "source": [
    "ClassAttr.name, ClassAttr._ClassAttr__cls_private"
   ]
  },
  {
   "cell_type": "code",
   "execution_count": 62,
   "id": "f2629cd0-1ace-4830-adff-067611f14e0b",
   "metadata": {},
   "outputs": [
    {
     "data": {
      "text/plain": [
       "'clas_name updated'"
      ]
     },
     "execution_count": 62,
     "metadata": {},
     "output_type": "execute_result"
    }
   ],
   "source": [
    "obj1.name"
   ]
  },
  {
   "cell_type": "code",
   "execution_count": 63,
   "id": "6985c8dd-3e6d-438b-85f8-28797d077398",
   "metadata": {},
   "outputs": [],
   "source": [
    "obj1.name = \"clas_name updated 99\""
   ]
  },
  {
   "cell_type": "code",
   "execution_count": 64,
   "id": "f7d4a7c7-1802-49c5-8f01-80293597ff82",
   "metadata": {},
   "outputs": [
    {
     "data": {
      "text/plain": [
       "('clas_name updated 99', 'clas_name updated')"
      ]
     },
     "execution_count": 64,
     "metadata": {},
     "output_type": "execute_result"
    }
   ],
   "source": [
    "obj1.name, ClassAttr.name"
   ]
  },
  {
   "cell_type": "code",
   "execution_count": 65,
   "id": "09e8679a-768a-44ec-9567-e47bbb900b19",
   "metadata": {},
   "outputs": [
    {
     "data": {
      "text/plain": [
       "{'val': 10,\n",
       " '_protected': 'protected',\n",
       " '_ClassAttr__private': 'private updated',\n",
       " 'qwerty': 'new',\n",
       " 'name': 'clas_name updated 99'}"
      ]
     },
     "execution_count": 65,
     "metadata": {},
     "output_type": "execute_result"
    }
   ],
   "source": [
    "obj1.__dict__"
   ]
  },
  {
   "cell_type": "code",
   "execution_count": 66,
   "id": "7292a1b1-974d-42ba-8440-faf87bdc5dc6",
   "metadata": {},
   "outputs": [],
   "source": [
    "obj1.__class__.name = \"clas_name updated 42\""
   ]
  },
  {
   "cell_type": "code",
   "execution_count": 67,
   "id": "90b1c2b4-f9e2-4cc8-b9df-0c997db359ba",
   "metadata": {},
   "outputs": [
    {
     "data": {
      "text/plain": [
       "{'val': 10,\n",
       " '_protected': 'protected',\n",
       " '_ClassAttr__private': 'private updated',\n",
       " 'qwerty': 'new',\n",
       " 'name': 'clas_name updated 99'}"
      ]
     },
     "execution_count": 67,
     "metadata": {},
     "output_type": "execute_result"
    }
   ],
   "source": [
    "obj1.__dict__"
   ]
  },
  {
   "cell_type": "code",
   "execution_count": 68,
   "id": "df06315e-8b26-4747-90c5-6b171a453e39",
   "metadata": {},
   "outputs": [
    {
     "data": {
      "text/plain": [
       "'clas_name updated 42'"
      ]
     },
     "execution_count": 68,
     "metadata": {},
     "output_type": "execute_result"
    }
   ],
   "source": [
    "ClassAttr.name"
   ]
  },
  {
   "cell_type": "code",
   "execution_count": 69,
   "id": "5d6bdb3c-d8b8-477b-acba-ecaef79ca484",
   "metadata": {},
   "outputs": [],
   "source": [
    "del obj1.name"
   ]
  },
  {
   "cell_type": "code",
   "execution_count": 70,
   "id": "a3edb3ba-a69e-4c70-abb7-d7c15a2ded9b",
   "metadata": {},
   "outputs": [
    {
     "data": {
      "text/plain": [
       "'clas_name updated 42'"
      ]
     },
     "execution_count": 70,
     "metadata": {},
     "output_type": "execute_result"
    }
   ],
   "source": [
    "obj1.name"
   ]
  },
  {
   "cell_type": "code",
   "execution_count": 71,
   "id": "f1fda220-b7e1-4810-abe9-ae33cce4540d",
   "metadata": {},
   "outputs": [
    {
     "ename": "AttributeError",
     "evalue": "'ClassAttr' object has no attribute 'name'",
     "output_type": "error",
     "traceback": [
      "\u001b[0;31m---------------------------------------------------------------------------\u001b[0m",
      "\u001b[0;31mAttributeError\u001b[0m                            Traceback (most recent call last)",
      "Cell \u001b[0;32mIn[71], line 1\u001b[0m\n\u001b[0;32m----> 1\u001b[0m \u001b[38;5;28;01mdel\u001b[39;00m \u001b[43mobj1\u001b[49m\u001b[38;5;241;43m.\u001b[39;49m\u001b[43mname\u001b[49m\n",
      "\u001b[0;31mAttributeError\u001b[0m: 'ClassAttr' object has no attribute 'name'"
     ]
    }
   ],
   "source": [
    "del obj1.name"
   ]
  },
  {
   "cell_type": "code",
   "execution_count": 72,
   "id": "4e67a935-2a31-4cae-aa56-df025ef85f6d",
   "metadata": {},
   "outputs": [
    {
     "data": {
      "text/plain": [
       "{'val': 10,\n",
       " '_protected': 'protected',\n",
       " '_ClassAttr__private': 'private updated',\n",
       " 'qwerty': 'new'}"
      ]
     },
     "execution_count": 72,
     "metadata": {},
     "output_type": "execute_result"
    }
   ],
   "source": [
    "obj1.__dict__"
   ]
  },
  {
   "cell_type": "code",
   "execution_count": 73,
   "id": "334ed126-9e5e-4164-a8cd-10d054f6d06f",
   "metadata": {},
   "outputs": [
    {
     "data": {
      "text/plain": [
       "'clas_name updated 42'"
      ]
     },
     "execution_count": 73,
     "metadata": {},
     "output_type": "execute_result"
    }
   ],
   "source": [
    "ClassAttr.name"
   ]
  },
  {
   "cell_type": "code",
   "execution_count": null,
   "id": "a6ae3597-9ee0-4cb3-b5e1-ab1bca382fd7",
   "metadata": {},
   "outputs": [],
   "source": []
  },
  {
   "cell_type": "code",
   "execution_count": 75,
   "id": "e681e3b3-fe38-48dd-a541-993e0f992cb0",
   "metadata": {},
   "outputs": [],
   "source": [
    "obj1.__private_3 = \"new_priv attr\""
   ]
  },
  {
   "cell_type": "code",
   "execution_count": 77,
   "id": "7642a03b-668f-4022-b32e-80a44e299483",
   "metadata": {},
   "outputs": [
    {
     "data": {
      "text/plain": [
       "{'val': 10,\n",
       " '_protected': 'protected',\n",
       " '_ClassAttr__private': 'private updated',\n",
       " 'qwerty': 'new',\n",
       " '__private_3': 'new_priv attr'}"
      ]
     },
     "execution_count": 77,
     "metadata": {},
     "output_type": "execute_result"
    }
   ],
   "source": [
    "obj1.__dict__"
   ]
  },
  {
   "cell_type": "code",
   "execution_count": 78,
   "id": "540af6d4-1001-4c6b-ab0c-e96fa6fc52e7",
   "metadata": {},
   "outputs": [
    {
     "data": {
      "text/plain": [
       "'new_priv attr'"
      ]
     },
     "execution_count": 78,
     "metadata": {},
     "output_type": "execute_result"
    }
   ],
   "source": [
    "obj1.__private_3"
   ]
  },
  {
   "cell_type": "code",
   "execution_count": 76,
   "id": "f92e51d6-f1b8-4058-9e57-1a660bafb1e4",
   "metadata": {},
   "outputs": [
    {
     "ename": "AttributeError",
     "evalue": "'ClassAttr' object has no attribute '_ClassAttr__private_3'",
     "output_type": "error",
     "traceback": [
      "\u001b[0;31m---------------------------------------------------------------------------\u001b[0m",
      "\u001b[0;31mAttributeError\u001b[0m                            Traceback (most recent call last)",
      "Cell \u001b[0;32mIn[76], line 1\u001b[0m\n\u001b[0;32m----> 1\u001b[0m \u001b[43mobj1\u001b[49m\u001b[38;5;241;43m.\u001b[39;49m\u001b[43mprint_new\u001b[49m\u001b[43m(\u001b[49m\u001b[43m)\u001b[49m\n",
      "Cell \u001b[0;32mIn[28], line 17\u001b[0m, in \u001b[0;36mClassAttr.print_new\u001b[0;34m(self)\u001b[0m\n\u001b[1;32m     16\u001b[0m \u001b[38;5;28;01mdef\u001b[39;00m \u001b[38;5;21mprint_new\u001b[39m(\u001b[38;5;28mself\u001b[39m):\n\u001b[0;32m---> 17\u001b[0m     \u001b[38;5;28mprint\u001b[39m(\u001b[38;5;124mf\u001b[39m\u001b[38;5;124m\"\u001b[39m\u001b[38;5;132;01m{\u001b[39;00m\u001b[38;5;28;43mself\u001b[39;49m\u001b[38;5;241;43m.\u001b[39;49m\u001b[43m__private_3\u001b[49m\u001b[38;5;132;01m=}\u001b[39;00m\u001b[38;5;124m\"\u001b[39m)\n",
      "\u001b[0;31mAttributeError\u001b[0m: 'ClassAttr' object has no attribute '_ClassAttr__private_3'"
     ]
    }
   ],
   "source": [
    "obj1.print_new()"
   ]
  },
  {
   "cell_type": "code",
   "execution_count": 79,
   "id": "3064fc41-f751-48af-8678-752b442f38e2",
   "metadata": {},
   "outputs": [],
   "source": [
    "obj1._ClassAttr__private_3 = \"NEW PRIV ATTR real private\""
   ]
  },
  {
   "cell_type": "code",
   "execution_count": 81,
   "id": "ff541247-abf7-4fad-bd7c-46504ab91478",
   "metadata": {},
   "outputs": [
    {
     "data": {
      "text/plain": [
       "{'val': 10,\n",
       " '_protected': 'protected',\n",
       " '_ClassAttr__private': 'private updated',\n",
       " 'qwerty': 'new',\n",
       " '__private_3': 'new_priv attr',\n",
       " '_ClassAttr__private_3': 'NEW PRIV ATTR real private'}"
      ]
     },
     "execution_count": 81,
     "metadata": {},
     "output_type": "execute_result"
    }
   ],
   "source": [
    "obj1.__dict__"
   ]
  },
  {
   "cell_type": "code",
   "execution_count": 82,
   "id": "8f8faae5-727e-45ab-8be3-89b725bcfb5a",
   "metadata": {},
   "outputs": [
    {
     "name": "stdout",
     "output_type": "stream",
     "text": [
      "self.__private_3='NEW PRIV ATTR real private'\n"
     ]
    }
   ],
   "source": [
    "obj1.print_new()"
   ]
  },
  {
   "cell_type": "code",
   "execution_count": 83,
   "id": "2084f830-0cb2-487d-818f-48ec7aef0e64",
   "metadata": {},
   "outputs": [
    {
     "data": {
      "text/plain": [
       "'new_priv attr'"
      ]
     },
     "execution_count": 83,
     "metadata": {},
     "output_type": "execute_result"
    }
   ],
   "source": [
    "obj1.__private_3"
   ]
  },
  {
   "cell_type": "code",
   "execution_count": null,
   "id": "17371f3d-2f49-4568-9dd8-4204f92e8bb7",
   "metadata": {},
   "outputs": [],
   "source": []
  },
  {
   "cell_type": "code",
   "execution_count": 87,
   "id": "345ecbfc-3f95-4c6b-8d51-5647137d5de7",
   "metadata": {},
   "outputs": [
    {
     "name": "stdout",
     "output_type": "stream",
     "text": [
      "INIT 10\n",
      "INIT 20\n"
     ]
    },
    {
     "data": {
      "text/plain": [
       "True"
      ]
     },
     "execution_count": 87,
     "metadata": {},
     "output_type": "execute_result"
    }
   ],
   "source": [
    "class Singleton:\n",
    "    _instance = None\n",
    "\n",
    "    def __new__(cls, *args, **kwargs):\n",
    "        if cls._instance is None:\n",
    "            cls._instance = super().__new__(cls)\n",
    "        return cls._instance\n",
    "\n",
    "    def __init__(self, val):\n",
    "        print(\"INIT\", val)\n",
    "        self.val = val\n",
    "\n",
    "\n",
    "s1 = Singleton(10)\n",
    "s2 = Singleton(20)\n",
    "\n",
    "s1 is s2"
   ]
  },
  {
   "cell_type": "code",
   "execution_count": 88,
   "id": "c8dd0dc2-fcee-4f90-b891-e9609c753b46",
   "metadata": {},
   "outputs": [
    {
     "name": "stdout",
     "output_type": "stream",
     "text": [
      "INIT 30\n"
     ]
    },
    {
     "data": {
      "text/plain": [
       "True"
      ]
     },
     "execution_count": 88,
     "metadata": {},
     "output_type": "execute_result"
    }
   ],
   "source": [
    "s3 = Singleton(30)\n",
    "s3 is s1"
   ]
  },
  {
   "cell_type": "code",
   "execution_count": null,
   "id": "ad8caedf-8f9d-4ca3-bdcc-76097362ce2b",
   "metadata": {},
   "outputs": [],
   "source": []
  },
  {
   "cell_type": "code",
   "execution_count": 101,
   "id": "1a581dc7-3ab4-437c-b916-95cbe62c98d3",
   "metadata": {},
   "outputs": [
    {
     "name": "stdout",
     "output_type": "stream",
     "text": [
      "NUM ADD with 1\n"
     ]
    },
    {
     "ename": "TypeError",
     "evalue": "unsupported operand type(s) for +: 'int' and 'Num'",
     "output_type": "error",
     "traceback": [
      "\u001b[0;31m---------------------------------------------------------------------------\u001b[0m",
      "\u001b[0;31mTypeError\u001b[0m                                 Traceback (most recent call last)",
      "Cell \u001b[0;32mIn[101], line 16\u001b[0m\n\u001b[1;32m     14\u001b[0m n \u001b[38;5;241m=\u001b[39m Num(\u001b[38;5;241m10\u001b[39m)\n\u001b[1;32m     15\u001b[0m n \u001b[38;5;241m+\u001b[39m \u001b[38;5;241m1\u001b[39m\n\u001b[0;32m---> 16\u001b[0m \u001b[38;5;241;43m1\u001b[39;49m\u001b[43m \u001b[49m\u001b[38;5;241;43m+\u001b[39;49m\u001b[43m \u001b[49m\u001b[43mn\u001b[49m\n",
      "\u001b[0;31mTypeError\u001b[0m: unsupported operand type(s) for +: 'int' and 'Num'"
     ]
    }
   ],
   "source": [
    "class Num:\n",
    "    def __init__(self, n):\n",
    "        self.num = n\n",
    "\n",
    "    def __add__(self, other):\n",
    "        print(\"NUM ADD with\", other)\n",
    "        return self.num + other\n",
    "\n",
    "    # def __radd__(self, other):\n",
    "    #     print(\"NUM RADD with\", other)\n",
    "    #     return self.num + other\n",
    "\n",
    "\n",
    "n = Num(10)\n",
    "n + 1\n",
    "1 + n"
   ]
  },
  {
   "cell_type": "code",
   "execution_count": 102,
   "id": "03e8709d-6cb0-45eb-8ab4-b9a65ae73715",
   "metadata": {},
   "outputs": [
    {
     "name": "stdout",
     "output_type": "stream",
     "text": [
      "NUM ADD with 1\n",
      "NUM RADD with 1\n",
      "11 11\n"
     ]
    }
   ],
   "source": [
    "class Num:\n",
    "    def __init__(self, n):\n",
    "        self.num = n\n",
    "\n",
    "    def __add__(self, other):\n",
    "        print(\"NUM ADD with\", other)\n",
    "        return self.num + other\n",
    "\n",
    "    def __radd__(self, other):\n",
    "        print(\"NUM RADD with\", other)\n",
    "        return self.num + other\n",
    "\n",
    "\n",
    "n = Num(10)\n",
    "print(n + 1, 1 + n)"
   ]
  },
  {
   "cell_type": "code",
   "execution_count": null,
   "id": "9a81fa19-3ecb-404e-a01e-a8e9701dd50b",
   "metadata": {},
   "outputs": [],
   "source": []
  },
  {
   "cell_type": "code",
   "execution_count": null,
   "id": "448afba6-b34e-4d38-90dc-adc2d00d8492",
   "metadata": {},
   "outputs": [],
   "source": []
  },
  {
   "cell_type": "code",
   "execution_count": null,
   "id": "e0743b25-543a-4454-8eb3-fd7530692436",
   "metadata": {},
   "outputs": [],
   "source": []
  },
  {
   "cell_type": "code",
   "execution_count": null,
   "id": "2519bf91-1196-4906-993f-17e78f7268a1",
   "metadata": {},
   "outputs": [],
   "source": []
  },
  {
   "cell_type": "code",
   "execution_count": null,
   "id": "934bd820-c9cc-4074-958f-93f252160bd1",
   "metadata": {},
   "outputs": [],
   "source": []
  }
 ],
 "metadata": {
  "kernelspec": {
   "display_name": "Python 3 (ipykernel)",
   "language": "python",
   "name": "python3"
  },
  "language_info": {
   "codemirror_mode": {
    "name": "ipython",
    "version": 3
   },
   "file_extension": ".py",
   "mimetype": "text/x-python",
   "name": "python",
   "nbconvert_exporter": "python",
   "pygments_lexer": "ipython3",
   "version": "3.12.5"
  }
 },
 "nbformat": 4,
 "nbformat_minor": 5
}
