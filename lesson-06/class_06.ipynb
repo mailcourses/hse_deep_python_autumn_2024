{
 "cells": [
  {
   "cell_type": "code",
   "execution_count": 2,
   "id": "af1b4b9a-79b1-475e-97d8-15fed7117000",
   "metadata": {},
   "outputs": [],
   "source": [
    "import threading"
   ]
  },
  {
   "cell_type": "code",
   "execution_count": 3,
   "id": "86837050-f9a4-41a9-bc9d-e36a8ee1993f",
   "metadata": {},
   "outputs": [
    {
     "data": {
      "text/plain": [
       "8"
      ]
     },
     "execution_count": 3,
     "metadata": {},
     "output_type": "execute_result"
    }
   ],
   "source": [
    "threading.active_count()"
   ]
  },
  {
   "cell_type": "code",
   "execution_count": 4,
   "id": "d0fd8ee7-de7d-473e-95cc-7a6a2f2d6d92",
   "metadata": {},
   "outputs": [
    {
     "data": {
      "text/plain": [
       "[<_MainThread(MainThread, started 4679910912)>,\n",
       " <Thread(IOPub, started daemon 123145356054528)>,\n",
       " <Heartbeat(Heartbeat, started daemon 123145372844032)>,\n",
       " <Thread(Thread-2 (_watch_pipe_fd), started daemon 123145390706688)>,\n",
       " <Thread(Thread-3 (_watch_pipe_fd), started daemon 123145407496192)>,\n",
       " <ControlThread(Control, started daemon 123145424285696)>,\n",
       " <HistorySavingThread(IPythonHistorySavingThread, started 123145441075200)>,\n",
       " <ParentPollerUnix(Thread-1, started daemon 123145458401280)>]"
      ]
     },
     "execution_count": 4,
     "metadata": {},
     "output_type": "execute_result"
    }
   ],
   "source": [
    "threading.enumerate()"
   ]
  },
  {
   "cell_type": "code",
   "execution_count": 4,
   "id": "80ca93b9-a3a3-4c5e-b470-d080d1813d28",
   "metadata": {},
   "outputs": [
    {
     "name": "stderr",
     "output_type": "stream",
     "text": [
      "/var/folders/c1/9wdb7dps2x332c6l1y2hrqkh0000gp/T/ipykernel_22787/2205834880.py:1: DeprecationWarning: activeCount() is deprecated, use active_count() instead\n",
      "  threading.activeCount()\n"
     ]
    },
    {
     "data": {
      "text/plain": [
       "8"
      ]
     },
     "execution_count": 4,
     "metadata": {},
     "output_type": "execute_result"
    }
   ],
   "source": [
    "threading.activeCount()"
   ]
  },
  {
   "cell_type": "code",
   "execution_count": 6,
   "id": "4cfe935b-bdfc-4c9d-b3a8-c9e7ff4d6e05",
   "metadata": {},
   "outputs": [],
   "source": [
    "class StudentGrade:\n",
    "    pass"
   ]
  },
  {
   "cell_type": "code",
   "execution_count": 7,
   "id": "c51788aa-2418-431b-b271-9fe3035dfdd4",
   "metadata": {},
   "outputs": [
    {
     "data": {
      "text/plain": [
       "<_MainThread(MainThread, started 4587468288)>"
      ]
     },
     "execution_count": 7,
     "metadata": {},
     "output_type": "execute_result"
    }
   ],
   "source": [
    "threading.main_thread()"
   ]
  },
  {
   "cell_type": "code",
   "execution_count": 8,
   "id": "09c00b4d-4254-4c2c-bc0b-d92643e5b62e",
   "metadata": {},
   "outputs": [
    {
     "data": {
      "text/plain": [
       "<_MainThread(MainThread, started 4587468288)>"
      ]
     },
     "execution_count": 8,
     "metadata": {},
     "output_type": "execute_result"
    }
   ],
   "source": [
    "threading.current_thread()"
   ]
  },
  {
   "cell_type": "code",
   "execution_count": 10,
   "id": "499e44d2-55ba-4494-8a28-5c45fd8c41e0",
   "metadata": {},
   "outputs": [
    {
     "data": {
      "text/plain": [
       "(4587468288, 210990)"
      ]
     },
     "execution_count": 10,
     "metadata": {},
     "output_type": "execute_result"
    }
   ],
   "source": [
    "threading.get_ident(), threading.get_native_id()"
   ]
  },
  {
   "cell_type": "code",
   "execution_count": 24,
   "id": "4d732931-33ac-4667-b8e9-d90d7d32335b",
   "metadata": {},
   "outputs": [
    {
     "data": {
      "text/plain": [
       "211034"
      ]
     },
     "execution_count": 24,
     "metadata": {},
     "output_type": "execute_result"
    }
   ],
   "source": [
    "threading.enumerate()[5].native_id"
   ]
  },
  {
   "cell_type": "code",
   "execution_count": 16,
   "id": "3f3a4b3f-100c-4650-ae0d-52cdc1edb7a1",
   "metadata": {},
   "outputs": [
    {
     "data": {
      "text/plain": [
       "4332158560"
      ]
     },
     "execution_count": 16,
     "metadata": {},
     "output_type": "execute_result"
    }
   ],
   "source": [
    "id(x)"
   ]
  },
  {
   "cell_type": "code",
   "execution_count": 17,
   "id": "73c18024-bfcf-4798-898a-ef9c1657d020",
   "metadata": {},
   "outputs": [
    {
     "data": {
      "text/plain": [
       "4332158560"
      ]
     },
     "execution_count": 17,
     "metadata": {},
     "output_type": "execute_result"
    }
   ],
   "source": [
    "id(threading.current_thread())"
   ]
  },
  {
   "cell_type": "code",
   "execution_count": 21,
   "id": "39822ca7-01aa-4b33-a3f8-45a707ab5bc1",
   "metadata": {},
   "outputs": [
    {
     "data": {
      "text/plain": [
       "210990"
      ]
     },
     "execution_count": 21,
     "metadata": {},
     "output_type": "execute_result"
    }
   ],
   "source": [
    "x.native_id"
   ]
  },
  {
   "cell_type": "code",
   "execution_count": 23,
   "id": "c36084a6-955b-40f7-9f71-ccda06edc6c9",
   "metadata": {},
   "outputs": [
    {
     "data": {
      "text/plain": [
       "210990"
      ]
     },
     "execution_count": 23,
     "metadata": {},
     "output_type": "execute_result"
    }
   ],
   "source": [
    "threading.current_thread().native_id"
   ]
  },
  {
   "cell_type": "code",
   "execution_count": null,
   "id": "ba242756-17fa-40e6-9c5b-11b7b6352017",
   "metadata": {},
   "outputs": [],
   "source": []
  },
  {
   "cell_type": "code",
   "execution_count": 28,
   "id": "263de94a-80c8-41ed-8dd7-4b3bd0ed93db",
   "metadata": {},
   "outputs": [
    {
     "name": "stdout",
     "output_type": "stream",
     "text": [
      "self.name='Thread-6', self.ident=123145550405632, self.daemon=False\n",
      "after i=0\n",
      "after i=1\n",
      "after i=2\n",
      "after i=3\n",
      "after i=4\n",
      "after i=5\n",
      "after i=6\n"
     ]
    }
   ],
   "source": [
    "import time\n",
    "\n",
    "\n",
    "class DataProcessor(threading.Thread):\n",
    "    def __init__(self, n):\n",
    "        super().__init__()\n",
    "        self.n = n\n",
    "        self.results = []\n",
    "\n",
    "    def run(self):\n",
    "        print(f\"{self.name=}, {self.ident=}, {self.daemon=}\")\n",
    "\n",
    "        for i in range(self.n):\n",
    "            print(f\"after {i=}\")\n",
    "            time.sleep(1)\n",
    "\n",
    "        self.results.append(\"done\")\n",
    "\n",
    "\n",
    "proc = DataProcessor(10)\n",
    "proc.start()"
   ]
  },
  {
   "cell_type": "code",
   "execution_count": 29,
   "id": "ad81293f-5fe3-4a2d-b825-6fe8da2c8537",
   "metadata": {},
   "outputs": [
    {
     "name": "stdout",
     "output_type": "stream",
     "text": [
      "\n",
      "after i=7\n",
      "after i=8\n",
      "after i=9\n"
     ]
    }
   ],
   "source": [
    "print()"
   ]
  },
  {
   "cell_type": "code",
   "execution_count": 30,
   "id": "0eab8e21-7f2e-4630-b6c2-6bb73ae7f4d3",
   "metadata": {},
   "outputs": [
    {
     "ename": "RuntimeError",
     "evalue": "threads can only be started once",
     "output_type": "error",
     "traceback": [
      "\u001b[0;31m---------------------------------------------------------------------------\u001b[0m",
      "\u001b[0;31mRuntimeError\u001b[0m                              Traceback (most recent call last)",
      "Cell \u001b[0;32mIn[30], line 1\u001b[0m\n\u001b[0;32m----> 1\u001b[0m \u001b[43mproc\u001b[49m\u001b[38;5;241;43m.\u001b[39;49m\u001b[43mstart\u001b[49m\u001b[43m(\u001b[49m\u001b[43m)\u001b[49m\n",
      "File \u001b[0;32m/Library/Frameworks/Python.framework/Versions/3.12/lib/python3.12/threading.py:989\u001b[0m, in \u001b[0;36mThread.start\u001b[0;34m(self)\u001b[0m\n\u001b[1;32m    986\u001b[0m     \u001b[38;5;28;01mraise\u001b[39;00m \u001b[38;5;167;01mRuntimeError\u001b[39;00m(\u001b[38;5;124m\"\u001b[39m\u001b[38;5;124mthread.__init__() not called\u001b[39m\u001b[38;5;124m\"\u001b[39m)\n\u001b[1;32m    988\u001b[0m \u001b[38;5;28;01mif\u001b[39;00m \u001b[38;5;28mself\u001b[39m\u001b[38;5;241m.\u001b[39m_started\u001b[38;5;241m.\u001b[39mis_set():\n\u001b[0;32m--> 989\u001b[0m     \u001b[38;5;28;01mraise\u001b[39;00m \u001b[38;5;167;01mRuntimeError\u001b[39;00m(\u001b[38;5;124m\"\u001b[39m\u001b[38;5;124mthreads can only be started once\u001b[39m\u001b[38;5;124m\"\u001b[39m)\n\u001b[1;32m    991\u001b[0m \u001b[38;5;28;01mwith\u001b[39;00m _active_limbo_lock:\n\u001b[1;32m    992\u001b[0m     _limbo[\u001b[38;5;28mself\u001b[39m] \u001b[38;5;241m=\u001b[39m \u001b[38;5;28mself\u001b[39m\n",
      "\u001b[0;31mRuntimeError\u001b[0m: threads can only be started once"
     ]
    }
   ],
   "source": [
    "proc.start()"
   ]
  },
  {
   "cell_type": "code",
   "execution_count": 32,
   "id": "c528da8c-6c27-4359-8b5d-2634b18fe9b3",
   "metadata": {},
   "outputs": [
    {
     "name": "stdout",
     "output_type": "stream",
     "text": [
      "False\n",
      "self.name='Thread-8', self.ident=123145550405632, self.daemon=False\n",
      "after i=0\n",
      "True\n",
      "after i=1\n",
      "after i=2\n",
      "after i=3\n",
      "after i=4\n",
      "after i=5\n",
      "after i=6\n",
      "after i=7\n",
      "after i=8\n",
      "after i=9\n",
      "False\n",
      "proc is done\n",
      "['done']\n"
     ]
    }
   ],
   "source": [
    "proc = DataProcessor(10)\n",
    "print(proc.is_alive())\n",
    "\n",
    "proc.start()\n",
    "print(proc.is_alive())\n",
    "\n",
    "proc.join()\n",
    "print(proc.is_alive())\n",
    "\n",
    "print(\"proc is done\")\n",
    "print(proc.results)"
   ]
  },
  {
   "cell_type": "code",
   "execution_count": null,
   "id": "75324110-30e3-4ba7-988c-890bee6a9ae5",
   "metadata": {},
   "outputs": [],
   "source": []
  },
  {
   "cell_type": "code",
   "execution_count": null,
   "id": "e0c2251b-5a39-4d42-ae88-63958dba3d96",
   "metadata": {},
   "outputs": [],
   "source": []
  },
  {
   "cell_type": "code",
   "execution_count": 35,
   "id": "318deef5-82d4-4fe6-8f49-c36daccdd89f",
   "metadata": {},
   "outputs": [
    {
     "name": "stdout",
     "output_type": "stream",
     "text": [
      "CPU times: user 4.7 s, sys: 92.5 ms, total: 4.79 s\n",
      "Wall time: 6.44 s\n"
     ]
    }
   ],
   "source": [
    "%%time\n",
    "\n",
    "N = 100_000_000\n",
    "\n",
    "\n",
    "def counter(a, b):\n",
    "    while a < b:\n",
    "        a += 1\n",
    "\n",
    "\n",
    "counter(0, N)"
   ]
  },
  {
   "cell_type": "code",
   "execution_count": 41,
   "id": "44dc0726-6253-45d9-bcbc-0e6656876cb2",
   "metadata": {},
   "outputs": [
    {
     "name": "stdout",
     "output_type": "stream",
     "text": [
      "CPU times: user 4.61 s, sys: 94.5 ms, total: 4.7 s\n",
      "Wall time: 6.72 s\n"
     ]
    }
   ],
   "source": [
    "%%time\n",
    "\n",
    "N = 100_000_000\n",
    "\n",
    "\n",
    "def counter(a, b):\n",
    "    while a < b:\n",
    "        a += 1\n",
    "\n",
    "\n",
    "th = threading.Thread(target=counter, args=(0, N))\n",
    "th.start()\n",
    "th.join()"
   ]
  },
  {
   "cell_type": "code",
   "execution_count": 40,
   "id": "9343c1c9-40de-48c4-a679-ea30f311a68d",
   "metadata": {},
   "outputs": [
    {
     "data": {
      "text/plain": [
       "True"
      ]
     },
     "execution_count": 40,
     "metadata": {},
     "output_type": "execute_result"
    }
   ],
   "source": [
    "th.is_alive()"
   ]
  },
  {
   "cell_type": "code",
   "execution_count": null,
   "id": "8af858c6-fbe7-46d4-a7d4-da82848dda17",
   "metadata": {},
   "outputs": [],
   "source": []
  },
  {
   "cell_type": "code",
   "execution_count": null,
   "id": "958b1835-2db1-4f8e-985e-f6db94c22e52",
   "metadata": {},
   "outputs": [],
   "source": []
  },
  {
   "cell_type": "code",
   "execution_count": null,
   "id": "54b88c19-e42b-4c10-ae9e-945e21a2a3b1",
   "metadata": {},
   "outputs": [],
   "source": []
  },
  {
   "cell_type": "code",
   "execution_count": 42,
   "id": "3915bfcb-849d-4bdf-81b0-cb3083c9c9bc",
   "metadata": {},
   "outputs": [
    {
     "name": "stdout",
     "output_type": "stream",
     "text": [
      "threading.current_thread().name='counter_thread_0', a=0, b=100000000\n",
      "CPU times: user 5.09 s, sys: 116 ms, total: 5.21 s\n",
      "Wall time: 7.4 s\n"
     ]
    }
   ],
   "source": [
    "%%time\n",
    "\n",
    "N = 100_000_000\n",
    "N_THREADS = 1\n",
    "WORK_SIZE = N // N_THREADS\n",
    "\n",
    "\n",
    "def counter(a, b):\n",
    "    print(f\"{threading.current_thread().name=}, {a=}, {b=}\")\n",
    "\n",
    "    while a < b:\n",
    "        a += 1\n",
    "\n",
    "\n",
    "threads = [\n",
    "    threading.Thread(\n",
    "        target=counter,\n",
    "        args=(i * WORK_SIZE, (i + 1) * WORK_SIZE),\n",
    "        name=f\"counter_thread_{i}\"\n",
    "    )\n",
    "    for i in range(N_THREADS)\n",
    "]\n",
    "\n",
    "for th in threads:\n",
    "    th.start()\n",
    "\n",
    "for th in threads:\n",
    "    th.join()"
   ]
  },
  {
   "cell_type": "code",
   "execution_count": 45,
   "id": "92021840-8104-4e59-8286-15e0ec5ca8f9",
   "metadata": {},
   "outputs": [
    {
     "name": "stdout",
     "output_type": "stream",
     "text": [
      "threading.current_thread().name='counter_thread_0', a=0, b=10000000\n",
      "threading.current_thread().name='counter_thread_1', a=10000000, b=20000000\n",
      "threading.current_thread().name='counter_thread_2', a=20000000, b=30000000\n",
      "threading.current_thread().name='counter_thread_3', a=30000000, b=40000000\n",
      "threading.current_thread().name='counter_thread_4', a=40000000, b=50000000\n",
      "threading.current_thread().name='counter_thread_5', a=50000000, b=60000000\n",
      "threading.current_thread().name='counter_thread_6', a=60000000, b=70000000\n",
      "threading.current_thread().name='counter_thread_7', a=70000000, b=80000000\n",
      "threading.current_thread().name='counter_thread_8', a=80000000, b=90000000\n",
      "threading.current_thread().name='counter_thread_9', a=90000000, b=100000000\n",
      "CPU times: user 5.23 s, sys: 229 ms, total: 5.46 s\n",
      "Wall time: 7.55 s\n"
     ]
    }
   ],
   "source": [
    "%%time\n",
    "\n",
    "N = 100_000_000\n",
    "N_THREADS = 10\n",
    "WORK_SIZE = N // N_THREADS\n",
    "\n",
    "\n",
    "def counter(a, b):\n",
    "    print(f\"{threading.current_thread().name=}, {a=}, {b=}\")\n",
    "\n",
    "    while a < b:\n",
    "        a += 1\n",
    "\n",
    "\n",
    "threads = [\n",
    "    threading.Thread(\n",
    "        target=counter,\n",
    "        args=(i * WORK_SIZE, (i + 1) * WORK_SIZE),\n",
    "        name=f\"counter_thread_{i}\"\n",
    "    )\n",
    "    for i in range(N_THREADS)\n",
    "]\n",
    "\n",
    "for th in threads:\n",
    "    th.start()\n",
    "\n",
    "for th in threads:\n",
    "    th.join()"
   ]
  },
  {
   "cell_type": "code",
   "execution_count": 48,
   "id": "b9df524b-cb3d-4baf-a3b9-f22a90decf42",
   "metadata": {},
   "outputs": [
    {
     "name": "stdout",
     "output_type": "stream",
     "text": [
      "threading.current_thread().name='counter_thread_0', a=0, b=10000000\n",
      "threading.current_thread().name='counter_thread_1', a=10000000, b=20000000\n",
      "threading.current_thread().name='counter_thread_2', a=20000000, b=30000000\n",
      "threading.current_thread().name='counter_thread_3', a=30000000, b=40000000\n",
      "threading.current_thread().name='counter_thread_4', a=40000000, b=50000000\n",
      "threading.current_thread().name='counter_thread_5', a=50000000, b=60000000\n",
      "threading.current_thread().name='counter_thread_6', a=60000000, b=70000000\n",
      "threading.current_thread().name='counter_thread_7', a=70000000, b=80000000\n",
      "threading.current_thread().name='counter_thread_8', a=80000000, b=90000000\n",
      "threading.current_thread().name='counter_thread_9', a=90000000, b=100000000\n",
      "CPU times: user 3.69 ms, sys: 3.99 ms, total: 7.67 ms\n",
      "Wall time: 2.01 s\n"
     ]
    }
   ],
   "source": [
    "%%time\n",
    "\n",
    "N = 100_000_000\n",
    "N_THREADS = 10\n",
    "WORK_SIZE = N // N_THREADS\n",
    "\n",
    "\n",
    "def counter(a, b):\n",
    "    print(f\"{threading.current_thread().name=}, {a=}, {b=}\")\n",
    "    \n",
    "    time.sleep(2)\n",
    "\n",
    "\n",
    "threads = [\n",
    "    threading.Thread(\n",
    "        target=counter,\n",
    "        args=(i * WORK_SIZE, (i + 1) * WORK_SIZE),\n",
    "        name=f\"counter_thread_{i}\"\n",
    "    )\n",
    "    for i in range(N_THREADS)\n",
    "]\n",
    "\n",
    "for th in threads:\n",
    "    th.start()\n",
    "\n",
    "for th in threads:\n",
    "    th.join()"
   ]
  },
  {
   "cell_type": "code",
   "execution_count": null,
   "id": "9a0a48e4-bad9-4b01-9433-6eb7f607c40f",
   "metadata": {},
   "outputs": [],
   "source": []
  },
  {
   "cell_type": "code",
   "execution_count": null,
   "id": "ef256d25-0767-4b06-b239-59bb67a79cef",
   "metadata": {},
   "outputs": [],
   "source": []
  },
  {
   "cell_type": "code",
   "execution_count": 50,
   "id": "3d86dabc-6637-49f5-87f4-0aaa3a1fc93f",
   "metadata": {},
   "outputs": [],
   "source": [
    "import sys"
   ]
  },
  {
   "cell_type": "code",
   "execution_count": 51,
   "id": "5aa464a0-e304-44f1-9af9-fd447d3efebc",
   "metadata": {},
   "outputs": [
    {
     "data": {
      "text/plain": [
       "0.005"
      ]
     },
     "execution_count": 51,
     "metadata": {},
     "output_type": "execute_result"
    }
   ],
   "source": [
    "sys.getswitchinterval()"
   ]
  },
  {
   "cell_type": "code",
   "execution_count": 52,
   "id": "0ed8f6e9-a9b7-4d4b-b643-e7acb61eaaeb",
   "metadata": {},
   "outputs": [
    {
     "data": {
      "text/plain": [
       "\u001b[0;31mSignature:\u001b[0m \u001b[0msys\u001b[0m\u001b[0;34m.\u001b[0m\u001b[0msetswitchinterval\u001b[0m\u001b[0;34m(\u001b[0m\u001b[0minterval\u001b[0m\u001b[0;34m,\u001b[0m \u001b[0;34m/\u001b[0m\u001b[0;34m)\u001b[0m\u001b[0;34m\u001b[0m\u001b[0;34m\u001b[0m\u001b[0m\n",
       "\u001b[0;31mDocstring:\u001b[0m\n",
       "Set the ideal thread switching delay inside the Python interpreter.\n",
       "\n",
       "The actual frequency of switching threads can be lower if the\n",
       "interpreter executes long sequences of uninterruptible code\n",
       "(this is implementation-specific and workload-dependent).\n",
       "\n",
       "The parameter must represent the desired switching delay in seconds\n",
       "A typical value is 0.005 (5 milliseconds).\n",
       "\u001b[0;31mType:\u001b[0m      builtin_function_or_method"
      ]
     },
     "metadata": {},
     "output_type": "display_data"
    }
   ],
   "source": [
    "sys.setswitchinterval?"
   ]
  },
  {
   "cell_type": "code",
   "execution_count": null,
   "id": "a7600bb6-c9d7-45dd-803e-9f47153e8644",
   "metadata": {},
   "outputs": [],
   "source": []
  },
  {
   "cell_type": "code",
   "execution_count": null,
   "id": "726a72af-654d-49ac-9ee2-81979adfe8c7",
   "metadata": {},
   "outputs": [],
   "source": []
  },
  {
   "cell_type": "code",
   "execution_count": null,
   "id": "7f56e385-625a-4391-b309-083103521578",
   "metadata": {},
   "outputs": [],
   "source": []
  },
  {
   "cell_type": "code",
   "execution_count": 2,
   "id": "abc8b324-ebab-448a-9384-5b88e0cfdad0",
   "metadata": {},
   "outputs": [],
   "source": [
    "from urllib.request import urlopen"
   ]
  },
  {
   "cell_type": "code",
   "execution_count": 3,
   "id": "89124dda-aaf3-46ed-b191-04c10d2f2996",
   "metadata": {},
   "outputs": [
    {
     "name": "stdout",
     "output_type": "stream",
     "text": [
      "CPU times: user 8 μs, sys: 2 μs, total: 10 μs\n",
      "Wall time: 18.8 μs\n"
     ]
    }
   ],
   "source": [
    "%%time\n",
    "\n",
    "N = 1\n",
    "URL = \"http://ru.wikipedia.org/wiki/Python\"\n",
    "URLS = [URL] * N\n",
    "\n",
    "\n",
    "def fetch_url(url):\n",
    "    resp = urlopen(url)\n",
    "    return resp\n",
    "\n",
    "\n",
    "def fetch_batch_urls(urls):\n",
    "    for url in urls:\n",
    "        fetch_url(url)"
   ]
  },
  {
   "cell_type": "code",
   "execution_count": 57,
   "id": "5d2aa330-2d44-4c0d-8a94-846827536ac6",
   "metadata": {},
   "outputs": [
    {
     "data": {
      "text/plain": [
       "'http://ru.wikipedia.org/wiki/Python'"
      ]
     },
     "execution_count": 57,
     "metadata": {},
     "output_type": "execute_result"
    }
   ],
   "source": [
    "URL"
   ]
  },
  {
   "cell_type": "code",
   "execution_count": 10,
   "id": "ab82118c-9be0-4277-963f-580db5318625",
   "metadata": {},
   "outputs": [],
   "source": [
    "resp = fetch_url(URL)"
   ]
  },
  {
   "cell_type": "code",
   "execution_count": 11,
   "id": "b12fb3ab-b83b-4ee2-9e54-951cc0358929",
   "metadata": {},
   "outputs": [
    {
     "data": {
      "text/plain": [
       "<http.client.HTTPResponse at 0x106f50250>"
      ]
     },
     "execution_count": 11,
     "metadata": {},
     "output_type": "execute_result"
    }
   ],
   "source": [
    "resp"
   ]
  },
  {
   "cell_type": "code",
   "execution_count": 6,
   "id": "da606c65-c8de-4f4d-af95-3df9cab4ea89",
   "metadata": {},
   "outputs": [
    {
     "data": {
      "text/plain": [
       "200"
      ]
     },
     "execution_count": 6,
     "metadata": {},
     "output_type": "execute_result"
    }
   ],
   "source": [
    "resp.status"
   ]
  },
  {
   "cell_type": "code",
   "execution_count": 13,
   "id": "d1ad4749-8f9f-4cb6-ba2a-0bf99ff3868b",
   "metadata": {},
   "outputs": [],
   "source": [
    "#resp.read().decode()"
   ]
  },
  {
   "cell_type": "code",
   "execution_count": null,
   "id": "8e3a7049-5fe8-4b74-abb9-a6e21a563536",
   "metadata": {},
   "outputs": [],
   "source": []
  },
  {
   "cell_type": "code",
   "execution_count": null,
   "id": "af6e322c-359e-4fa7-9509-10be4f49065b",
   "metadata": {},
   "outputs": [],
   "source": []
  },
  {
   "cell_type": "code",
   "execution_count": null,
   "id": "1570a7fa-45db-4736-87cd-35574689b995",
   "metadata": {},
   "outputs": [],
   "source": []
  },
  {
   "cell_type": "code",
   "execution_count": 15,
   "id": "d13681cf-b2ac-4c54-bb0a-2fa85a736ea9",
   "metadata": {},
   "outputs": [
    {
     "name": "stdout",
     "output_type": "stream",
     "text": [
      "CPU times: user 74.5 ms, sys: 24.4 ms, total: 98.9 ms\n",
      "Wall time: 5.65 s\n"
     ]
    }
   ],
   "source": [
    "%%time\n",
    "\n",
    "N = 20\n",
    "URL = \"http://ru.wikipedia.org/wiki/Python\"\n",
    "URLS = [URL] * N\n",
    "\n",
    "\n",
    "def fetch_url(url):\n",
    "    resp = urlopen(url)\n",
    "    return resp\n",
    "\n",
    "\n",
    "def fetch_batch_urls(urls):\n",
    "    for url in urls:\n",
    "        fetch_url(url)\n",
    "\n",
    "\n",
    "fetch_batch_urls(URLS)"
   ]
  },
  {
   "cell_type": "code",
   "execution_count": 17,
   "id": "7495828e-1b5c-4396-bc6f-f6bd11af5ba4",
   "metadata": {},
   "outputs": [
    {
     "name": "stdout",
     "output_type": "stream",
     "text": [
      "CPU times: user 81.3 ms, sys: 26.1 ms, total: 107 ms\n",
      "Wall time: 5.76 s\n"
     ]
    }
   ],
   "source": [
    "%%time\n",
    "\n",
    "N = 20\n",
    "URL = \"http://ru.wikipedia.org/wiki/Python\"\n",
    "URLS = [URL] * N\n",
    "\n",
    "\n",
    "def fetch_url(url):\n",
    "    resp = urlopen(url)\n",
    "    return resp\n",
    "\n",
    "\n",
    "def fetch_batch_urls(urls):\n",
    "    for url in urls:\n",
    "        fetch_url(url)\n",
    "\n",
    "\n",
    "fetcher = threading.Thread(target=fetch_batch_urls, args=(URLS,))\n",
    "fetcher.start()\n",
    "fetcher.join()"
   ]
  },
  {
   "cell_type": "code",
   "execution_count": 24,
   "id": "7ffc66c3-89c9-43ce-b790-f5f5131a606c",
   "metadata": {},
   "outputs": [
    {
     "name": "stdout",
     "output_type": "stream",
     "text": [
      "started threading.current_thread().name='th_fetch_0'\n",
      "started threading.current_thread().name='th_fetch_1'\n",
      "started threading.current_thread().name='th_fetch_2'\n",
      "started threading.current_thread().name='th_fetch_3'\n",
      "started threading.current_thread().name='th_fetch_4'\n",
      "started threading.current_thread().name='th_fetch_5'\n",
      "started threading.current_thread().name='th_fetch_6'\n",
      "started threading.current_thread().name='th_fetch_7'\n",
      "started threading.current_thread().name='th_fetch_8'\n",
      "started threading.current_thread().name='th_fetch_9'\n",
      "counter=200\n",
      "CPU times: user 914 ms, sys: 274 ms, total: 1.19 s\n",
      "Wall time: 5.89 s\n"
     ]
    }
   ],
   "source": [
    "%%time\n",
    "\n",
    "N = 200\n",
    "URL = \"http://ru.wikipedia.org/wiki/Python\"\n",
    "URLS = [URL] * N\n",
    "\n",
    "N_THREADS = 10\n",
    "WORK_SIZE = N // N_THREADS\n",
    "\n",
    "counter = 0\n",
    "\n",
    "\n",
    "def fetch_url(url):\n",
    "    resp = urlopen(url)\n",
    "    return resp\n",
    "\n",
    "\n",
    "def fetch_batch_urls(urls):\n",
    "    print(f\"started {threading.current_thread().name=}\")\n",
    "    global counter\n",
    "    \n",
    "    for url in urls:\n",
    "        fetch_url(url)\n",
    "        counter += 1\n",
    "\n",
    "\n",
    "threads = [\n",
    "    threading.Thread(\n",
    "        target=fetch_batch_urls,\n",
    "        args=(URLS[i * WORK_SIZE : (i + 1) * WORK_SIZE],),\n",
    "        name=f\"th_fetch_{i}\",\n",
    "    )\n",
    "    for i in range(N_THREADS)\n",
    "]\n",
    "\n",
    "for th in threads:\n",
    "    th.start()\n",
    "\n",
    "for th in threads:\n",
    "    th.join()\n",
    "\n",
    "\n",
    "print(f\"{counter=}\")"
   ]
  },
  {
   "cell_type": "code",
   "execution_count": null,
   "id": "9942baf5-521e-4bd6-a4a3-f3eee92a8d50",
   "metadata": {},
   "outputs": [],
   "source": []
  },
  {
   "cell_type": "code",
   "execution_count": null,
   "id": "f80b6c95-21ca-4886-8af2-922a84a1e200",
   "metadata": {},
   "outputs": [],
   "source": []
  },
  {
   "cell_type": "code",
   "execution_count": null,
   "id": "b4be7235-4188-4c72-888a-2580bd48bcba",
   "metadata": {},
   "outputs": [],
   "source": []
  },
  {
   "cell_type": "code",
   "execution_count": null,
   "id": "bc845126-4f53-4ca2-9a3e-1220dbcdc818",
   "metadata": {},
   "outputs": [],
   "source": []
  },
  {
   "cell_type": "code",
   "execution_count": 28,
   "id": "7a3344b1-f629-463a-8fd1-080f4de9e5d3",
   "metadata": {},
   "outputs": [],
   "source": [
    "import sys"
   ]
  },
  {
   "cell_type": "code",
   "execution_count": 35,
   "id": "74fa6b40-f41b-4158-8501-712b9128c6f0",
   "metadata": {},
   "outputs": [],
   "source": [
    "sys.setswitchinterval(0.00001)"
   ]
  },
  {
   "cell_type": "code",
   "execution_count": null,
   "id": "3751dc29-c83f-4fd6-8b98-a2daf2006e77",
   "metadata": {},
   "outputs": [],
   "source": []
  },
  {
   "cell_type": "code",
   "execution_count": 37,
   "id": "80e42daa-34ac-4bd4-8edb-d490f9a58a85",
   "metadata": {},
   "outputs": [
    {
     "name": "stdout",
     "output_type": "stream",
     "text": [
      "total_counter=135317\n",
      "CPU times: user 2.04 s, sys: 8.65 s, total: 10.7 s\n",
      "Wall time: 3.01 s\n"
     ]
    }
   ],
   "source": [
    "%%time\n",
    "\n",
    "N = 1_000_000\n",
    "N_THREADS = 1000\n",
    "WORK_SIZE = N // N_THREADS\n",
    "\n",
    "total_counter = 0\n",
    "\n",
    "\n",
    "def count_operations(a, b):\n",
    "    global total_counter\n",
    "\n",
    "    while a < b:\n",
    "        a += 1\n",
    "\n",
    "        cur_counter = total_counter\n",
    "        cur_counter += 1\n",
    "\n",
    "        y = 100\n",
    "        x = 200\n",
    "        z = y + x\n",
    "        u = z / y\n",
    "        lst = sorted([2, 4, 7])\n",
    "    \n",
    "        total_counter = cur_counter\n",
    "\n",
    "\n",
    "threads = [\n",
    "    threading.Thread(\n",
    "        target=count_operations,\n",
    "        args=(i * WORK_SIZE, (i + 1) * WORK_SIZE),\n",
    "        name=f\"counter_thread_{i}\"\n",
    "    )\n",
    "    for i in range(N_THREADS)\n",
    "]\n",
    "\n",
    "for th in threads:\n",
    "    th.start()\n",
    "\n",
    "for th in threads:\n",
    "    th.join()\n",
    "\n",
    "\n",
    "print(f\"{total_counter=}\")"
   ]
  },
  {
   "cell_type": "code",
   "execution_count": 5,
   "id": "63e9b718-52be-4fec-bdca-346853fce398",
   "metadata": {},
   "outputs": [
    {
     "name": "stdout",
     "output_type": "stream",
     "text": [
      "total_counter=1000000\n",
      "CPU times: user 801 ms, sys: 91.9 ms, total: 893 ms\n",
      "Wall time: 1.16 s\n"
     ]
    }
   ],
   "source": [
    "%%time\n",
    "\n",
    "N = 1_000_000\n",
    "N_THREADS = 1000\n",
    "WORK_SIZE = N // N_THREADS\n",
    "\n",
    "total_counter = 0\n",
    "lock = threading.Lock()\n",
    "\n",
    "\n",
    "def count_operations(a, b):\n",
    "    global total_counter\n",
    "\n",
    "    while a < b:\n",
    "        a += 1\n",
    "\n",
    "        with lock:\n",
    "            cur_counter = total_counter\n",
    "            cur_counter += 1\n",
    "    \n",
    "            y = 100\n",
    "            x = 200\n",
    "            z = y + x\n",
    "            u = z / y\n",
    "            lst = sorted([2, 4, 7])\n",
    "        \n",
    "            total_counter = cur_counter\n",
    "\n",
    "\n",
    "threads = [\n",
    "    threading.Thread(\n",
    "        target=count_operations,\n",
    "        args=(i * WORK_SIZE, (i + 1) * WORK_SIZE),\n",
    "        name=f\"counter_thread_{i}\"\n",
    "    )\n",
    "    for i in range(N_THREADS)\n",
    "]\n",
    "\n",
    "for th in threads:\n",
    "    th.start()\n",
    "\n",
    "for th in threads:\n",
    "    th.join()\n",
    "\n",
    "\n",
    "print(f\"{total_counter=}\")"
   ]
  },
  {
   "cell_type": "code",
   "execution_count": null,
   "id": "174ed3ab-186a-4187-ad0d-028fa17cc1b6",
   "metadata": {},
   "outputs": [],
   "source": []
  },
  {
   "cell_type": "code",
   "execution_count": null,
   "id": "221a6ce5-f7ca-46fb-80eb-cd67e2147205",
   "metadata": {},
   "outputs": [],
   "source": []
  },
  {
   "cell_type": "code",
   "execution_count": 7,
   "id": "85ce2734-2158-472e-9fb2-ac4b14712aa4",
   "metadata": {},
   "outputs": [],
   "source": [
    "from urllib.request import urlopen"
   ]
  },
  {
   "cell_type": "code",
   "execution_count": 14,
   "id": "229ee2c3-431b-4f6d-b98e-069f3e3fab65",
   "metadata": {},
   "outputs": [
    {
     "name": "stdout",
     "output_type": "stream",
     "text": [
      "started threading.current_thread().name='th_fetch_0'\n",
      "CPU times: user 221 ms, sys: 71.5 ms, total: 293 ms\n",
      "Wall time: 14.4 s\n"
     ]
    }
   ],
   "source": [
    "%%time\n",
    "\n",
    "N = 50\n",
    "URL = \"http://ru.wikipedia.org/wiki/Python\"\n",
    "URLS = [URL] * N\n",
    "\n",
    "N_THREADS = 1\n",
    "WORK_SIZE = N // N_THREADS\n",
    "\n",
    "\n",
    "def fetch_url(url):\n",
    "    resp = urlopen(url)\n",
    "    return resp\n",
    "\n",
    "\n",
    "def fetch_batch_urls(urls):\n",
    "    print(f\"started {threading.current_thread().name=}\")\n",
    "    \n",
    "    for url in urls:\n",
    "        fetch_url(url)\n",
    "\n",
    "\n",
    "threads = [\n",
    "    threading.Thread(\n",
    "        target=fetch_batch_urls,\n",
    "        args=(URLS[i * WORK_SIZE : (i + 1) * WORK_SIZE],),\n",
    "        name=f\"th_fetch_{i}\",\n",
    "    )\n",
    "    for i in range(N_THREADS)\n",
    "]\n",
    "\n",
    "for th in threads:\n",
    "    th.start()\n",
    "\n",
    "for th in threads:\n",
    "    th.join()"
   ]
  },
  {
   "cell_type": "code",
   "execution_count": null,
   "id": "d052e562-b21a-428f-aa06-adbaf03d8651",
   "metadata": {},
   "outputs": [],
   "source": []
  },
  {
   "cell_type": "code",
   "execution_count": 9,
   "id": "5a74f728-6e87-46e3-b471-09084afbca1f",
   "metadata": {},
   "outputs": [
    {
     "name": "stdout",
     "output_type": "stream",
     "text": [
      "started threading.current_thread().name='th_fetch_0'started threading.current_thread().name='th_fetch_1'\n",
      "\n",
      "started threading.current_thread().name='th_fetch_2'\n",
      "started threading.current_thread().name='th_fetch_3'\n",
      "started threading.current_thread().name='th_fetch_4'\n",
      "started threading.current_thread().name='th_fetch_5'\n",
      "started threading.current_thread().name='th_fetch_6'\n",
      "started threading.current_thread().name='th_fetch_7'\n",
      "started threading.current_thread().name='th_fetch_8'\n",
      "started threading.current_thread().name='th_fetch_9'\n",
      "started threading.current_thread().name='th_fetch_10'\n",
      "started threading.current_thread().name='th_fetch_11'\n",
      "started threading.current_thread().name='th_fetch_12'\n",
      "started threading.current_thread().name='th_fetch_13'\n",
      "started threading.current_thread().name='th_fetch_14'\n",
      "started threading.current_thread().name='th_fetch_15'\n",
      "started threading.current_thread().name='th_fetch_16'\n",
      "started threading.current_thread().name='th_fetch_17'\n",
      "started threading.current_thread().name='th_fetch_18'\n",
      "started threading.current_thread().name='th_fetch_19'\n",
      "started threading.current_thread().name='th_fetch_20'\n",
      "started threading.current_thread().name='th_fetch_21'\n",
      "started threading.current_thread().name='th_fetch_22'\n",
      "started threading.current_thread().name='th_fetch_23'\n",
      "started threading.current_thread().name='th_fetch_24'\n",
      "started threading.current_thread().name='th_fetch_25'\n",
      "started threading.current_thread().name='th_fetch_26'\n",
      "started threading.current_thread().name='th_fetch_27'\n",
      "started threading.current_thread().name='th_fetch_28'\n",
      "started threading.current_thread().name='th_fetch_29'\n",
      "started threading.current_thread().name='th_fetch_30'\n",
      "started threading.current_thread().name='th_fetch_31'\n",
      "started threading.current_thread().name='th_fetch_32'\n",
      "started threading.current_thread().name='th_fetch_33'\n",
      "started threading.current_thread().name='th_fetch_34'\n",
      "started threading.current_thread().name='th_fetch_35'\n",
      "started threading.current_thread().name='th_fetch_36'\n",
      "started threading.current_thread().name='th_fetch_37'\n",
      "started threading.current_thread().name='th_fetch_38'\n",
      "started threading.current_thread().name='th_fetch_39'\n",
      "CPU times: user 928 ms, sys: 295 ms, total: 1.22 s\n",
      "Wall time: 5.56 s\n"
     ]
    }
   ],
   "source": [
    "%%time\n",
    "\n",
    "N = 200\n",
    "URL = \"http://ru.wikipedia.org/wiki/Python\"\n",
    "URLS = [URL] * N\n",
    "\n",
    "N_THREADS = 40\n",
    "WORK_SIZE = N // N_THREADS\n",
    "\n",
    "\n",
    "def fetch_url(url):\n",
    "    resp = urlopen(url)\n",
    "    return resp\n",
    "\n",
    "\n",
    "def fetch_batch_urls(urls):\n",
    "    print(f\"started {threading.current_thread().name=}\")\n",
    "    \n",
    "    for url in urls:\n",
    "        fetch_url(url)\n",
    "\n",
    "\n",
    "threads = [\n",
    "    threading.Thread(\n",
    "        target=fetch_batch_urls,\n",
    "        args=(URLS[i * WORK_SIZE : (i + 1) * WORK_SIZE],),\n",
    "        name=f\"th_fetch_{i}\",\n",
    "    )\n",
    "    for i in range(N_THREADS)\n",
    "]\n",
    "\n",
    "for th in threads:\n",
    "    th.start()\n",
    "\n",
    "for th in threads:\n",
    "    th.join()"
   ]
  },
  {
   "cell_type": "code",
   "execution_count": null,
   "id": "486b844e-8f2e-43de-b39b-a75d88fa33b3",
   "metadata": {},
   "outputs": [],
   "source": []
  },
  {
   "cell_type": "code",
   "execution_count": 17,
   "id": "50e0276b-c299-409b-b10e-e93533b19a86",
   "metadata": {},
   "outputs": [
    {
     "name": "stdout",
     "output_type": "stream",
     "text": [
      "started threading.current_thread().name='th_fetch_0'\n",
      "started threading.current_thread().name='th_fetch_1'\n",
      "started threading.current_thread().name='th_fetch_2'\n",
      "started threading.current_thread().name='th_fetch_3'\n",
      "started threading.current_thread().name='th_fetch_4'\n",
      "CPU times: user 185 ms, sys: 59.8 ms, total: 245 ms\n",
      "Wall time: 7.13 s\n"
     ]
    }
   ],
   "source": [
    "%%time\n",
    "\n",
    "N = 50\n",
    "URL = \"http://ru.wikipedia.org/wiki/Python\"\n",
    "URLS = [URL] * N\n",
    "\n",
    "N_THREADS = 5\n",
    "WORK_SIZE = N // N_THREADS\n",
    "\n",
    "\n",
    "def fetch_url(url, sema):\n",
    "    sema.acquire()\n",
    "    try:\n",
    "        resp = urlopen(url)\n",
    "    finally:\n",
    "        sema.release()\n",
    "\n",
    "    return resp\n",
    "\n",
    "\n",
    "def fetch_batch_urls(urls, sema):\n",
    "    print(f\"started {threading.current_thread().name=}\")\n",
    "    \n",
    "    for url in urls:\n",
    "        fetch_url(url, sema)\n",
    "\n",
    "\n",
    "def run_threads():\n",
    "    sema = threading.Semaphore(2)\n",
    "\n",
    "    threads = [\n",
    "        threading.Thread(\n",
    "            target=fetch_batch_urls,\n",
    "            args=(URLS[i * WORK_SIZE : (i + 1) * WORK_SIZE], sema),\n",
    "            name=f\"th_fetch_{i}\",\n",
    "        )\n",
    "        for i in range(N_THREADS)\n",
    "    ]\n",
    "\n",
    "    for th in threads:\n",
    "        th.start()\n",
    "    \n",
    "    for th in threads:\n",
    "        th.join()\n",
    "\n",
    "\n",
    "run_threads()"
   ]
  },
  {
   "cell_type": "code",
   "execution_count": null,
   "id": "483463dd-ed09-4a09-abb2-ae0cebc82585",
   "metadata": {},
   "outputs": [],
   "source": []
  },
  {
   "cell_type": "code",
   "execution_count": 18,
   "id": "85f7af7a-fef0-48ff-b422-9600b41f004c",
   "metadata": {},
   "outputs": [],
   "source": [
    "from queue import Queue"
   ]
  },
  {
   "cell_type": "code",
   "execution_count": 19,
   "id": "38788da1-0cf8-4eb7-92c1-acb2d22f985e",
   "metadata": {},
   "outputs": [
    {
     "data": {
      "text/plain": [
       "\u001b[0;31mInit signature:\u001b[0m \u001b[0mQueue\u001b[0m\u001b[0;34m(\u001b[0m\u001b[0mmaxsize\u001b[0m\u001b[0;34m=\u001b[0m\u001b[0;36m0\u001b[0m\u001b[0;34m)\u001b[0m\u001b[0;34m\u001b[0m\u001b[0;34m\u001b[0m\u001b[0m\n",
       "\u001b[0;31mDocstring:\u001b[0m     \n",
       "Create a queue object with a given maximum size.\n",
       "\n",
       "If maxsize is <= 0, the queue size is infinite.\n",
       "\u001b[0;31mFile:\u001b[0m           /Library/Frameworks/Python.framework/Versions/3.12/lib/python3.12/queue.py\n",
       "\u001b[0;31mType:\u001b[0m           type\n",
       "\u001b[0;31mSubclasses:\u001b[0m     PriorityQueue, LifoQueue"
      ]
     },
     "metadata": {},
     "output_type": "display_data"
    }
   ],
   "source": [
    "Queue?"
   ]
  },
  {
   "cell_type": "code",
   "execution_count": 30,
   "id": "23afd692-8a48-481f-8fda-e1caeae80009",
   "metadata": {},
   "outputs": [
    {
     "name": "stdout",
     "output_type": "stream",
     "text": [
      "que.qsize()=51\n",
      "started threading.current_thread().name='th_fetch_0'\n",
      "started threading.current_thread().name='th_fetch_1'\n",
      "started threading.current_thread().name='th_fetch_2'\n",
      "started threading.current_thread().name='th_fetch_3'\n",
      "started threading.current_thread().name='th_fetch_4'\n",
      "break in threading.current_thread().name='th_fetch_0'\n",
      "worker processed threading.current_thread().name='th_fetch_0': count=10\n",
      "break in threading.current_thread().name='th_fetch_1'\n",
      "worker processed threading.current_thread().name='th_fetch_1': count=10\n",
      "break in threading.current_thread().name='th_fetch_2'\n",
      "worker processed threading.current_thread().name='th_fetch_2': count=11\n",
      "break in threading.current_thread().name='th_fetch_4'\n",
      "worker processed threading.current_thread().name='th_fetch_4': count=9\n",
      "break in threading.current_thread().name='th_fetch_3'\n",
      "worker processed threading.current_thread().name='th_fetch_3': count=10\n",
      "CPU times: user 242 ms, sys: 78.7 ms, total: 321 ms\n",
      "Wall time: 7.33 s\n"
     ]
    }
   ],
   "source": [
    "%%time\n",
    "\n",
    "N = 50\n",
    "URL = \"http://ru.wikipedia.org/wiki/Python\"\n",
    "URLS = [URL] * N\n",
    "\n",
    "N_WORKERS = 5\n",
    "\n",
    "\n",
    "def fetch_url(url, sema):\n",
    "    sema.acquire()\n",
    "    try:\n",
    "        resp = urlopen(url)\n",
    "    finally:\n",
    "        sema.release()\n",
    "\n",
    "    return resp\n",
    "\n",
    "\n",
    "def fetch_worker(que, sema):\n",
    "    print(f\"started {threading.current_thread().name=}\")\n",
    "    count = 0\n",
    "\n",
    "    while True:\n",
    "        url = que.get()\n",
    "        if url is None:\n",
    "            print(f\"break in {threading.current_thread().name=}\")\n",
    "            que.put(url)\n",
    "            break\n",
    "\n",
    "        count += 1\n",
    "\n",
    "        try:\n",
    "            fetch_url(url, sema)\n",
    "        except Exception as err:\n",
    "            pass\n",
    "\n",
    "    print(f\"worker processed {threading.current_thread().name=}: {count=}\")\n",
    "\n",
    "\n",
    "def run_threads():\n",
    "    sema = threading.Semaphore(2)\n",
    "    que = Queue()\n",
    "\n",
    "    for url in URLS:\n",
    "        que.put(url)\n",
    "\n",
    "    que.put(None)\n",
    "\n",
    "    print(f\"{que.qsize()=}\")\n",
    "\n",
    "    threads = [\n",
    "        threading.Thread(\n",
    "            target=fetch_worker,\n",
    "            args=(que, sema),\n",
    "            name=f\"th_fetch_{i}\",\n",
    "        )\n",
    "        for i in range(N_WORKERS)\n",
    "    ]\n",
    "\n",
    "    for th in threads:\n",
    "        th.start()\n",
    "    \n",
    "    for th in threads:\n",
    "        th.join()\n",
    "\n",
    "\n",
    "run_threads()"
   ]
  },
  {
   "cell_type": "code",
   "execution_count": null,
   "id": "75099dfc-5ad7-4505-ae9b-ed6f1a296033",
   "metadata": {},
   "outputs": [],
   "source": []
  },
  {
   "cell_type": "code",
   "execution_count": null,
   "id": "2d0f8cb3-b181-4dab-99a9-ce62affc7151",
   "metadata": {},
   "outputs": [],
   "source": [
    "threading.excepthook"
   ]
  },
  {
   "cell_type": "code",
   "execution_count": null,
   "id": "6c71ad5f-39bf-478a-b097-015f40fab17c",
   "metadata": {},
   "outputs": [],
   "source": []
  },
  {
   "cell_type": "code",
   "execution_count": 31,
   "id": "5eac4b44-5b76-4f66-bc5b-86938b69de12",
   "metadata": {},
   "outputs": [
    {
     "name": "stdout",
     "output_type": "stream",
     "text": [
      "started threading.current_thread().name='th_fetch_0'started threading.current_thread().name='th_fetch_1'\n",
      "Process args=(_thread._ExceptHookArgs(exc_type=<class 'Exception'>, exc_value=Exception(\"Wrong threading.current_thread().name='th_fetch_1'\"), exc_traceback=<traceback object at 0x113df1cc0>, thread=<Thread(th_fetch_1, started 123145491980288)>),), kwargs={}\n",
      "\n",
      "Process args=(_thread._ExceptHookArgs(exc_type=<class 'Exception'>, exc_value=Exception(\"Wrong threading.current_thread().name='th_fetch_0'\"), exc_traceback=<traceback object at 0x113df2c40>, thread=<Thread(th_fetch_0, started 123145475190784)>),), kwargs={}\n",
      "CPU times: user 911 μs, sys: 418 μs, total: 1.33 ms\n",
      "Wall time: 1.15 ms\n"
     ]
    }
   ],
   "source": [
    "%%time\n",
    "\n",
    "N = 50\n",
    "URL = \"http://ru.wikipedia.org/wiki/Python\"\n",
    "URLS = [URL] * N\n",
    "\n",
    "N_WORKERS = 2\n",
    "\n",
    "\n",
    "def process_error(*args, **kwargs):\n",
    "    print(f\"Process {args=}, {kwargs=}\")\n",
    "\n",
    "\n",
    "threading.excepthook = process_error\n",
    "\n",
    "\n",
    "def fetch_worker():\n",
    "    print(f\"started {threading.current_thread().name=}\")\n",
    "\n",
    "    raise Exception(f\"Wrong {threading.current_thread().name=}\")\n",
    "    \n",
    "\n",
    "def run_threads():\n",
    "    threads = [\n",
    "        threading.Thread(\n",
    "            target=fetch_worker,\n",
    "            args=(),\n",
    "            name=f\"th_fetch_{i}\",\n",
    "        )\n",
    "        for i in range(N_WORKERS)\n",
    "    ]\n",
    "\n",
    "    for th in threads:\n",
    "        th.start()\n",
    "    \n",
    "    for th in threads:\n",
    "        th.join()\n",
    "\n",
    "\n",
    "run_threads()"
   ]
  },
  {
   "cell_type": "code",
   "execution_count": null,
   "id": "b36f6ee1-e887-4328-aa22-312c0043fe7d",
   "metadata": {},
   "outputs": [],
   "source": []
  },
  {
   "cell_type": "code",
   "execution_count": null,
   "id": "a7c1df9d-2e82-4519-82f0-0a134f451c42",
   "metadata": {},
   "outputs": [],
   "source": []
  },
  {
   "cell_type": "code",
   "execution_count": null,
   "id": "3718a9e2-cfd9-43a3-afa7-c04b3f0ead6c",
   "metadata": {},
   "outputs": [],
   "source": []
  },
  {
   "cell_type": "code",
   "execution_count": null,
   "id": "050193b4-715c-4beb-9bc1-af26a4274dd0",
   "metadata": {},
   "outputs": [],
   "source": []
  },
  {
   "cell_type": "code",
   "execution_count": null,
   "id": "30aea5a4-30e6-4b05-b404-bb871d5ca56c",
   "metadata": {},
   "outputs": [],
   "source": []
  },
  {
   "cell_type": "code",
   "execution_count": null,
   "id": "1ce9d1c3-d56f-44fe-9643-069741340b5b",
   "metadata": {},
   "outputs": [],
   "source": []
  }
 ],
 "metadata": {
  "kernelspec": {
   "display_name": "Python 3 (ipykernel)",
   "language": "python",
   "name": "python3"
  },
  "language_info": {
   "codemirror_mode": {
    "name": "ipython",
    "version": 3
   },
   "file_extension": ".py",
   "mimetype": "text/x-python",
   "name": "python",
   "nbconvert_exporter": "python",
   "pygments_lexer": "ipython3",
   "version": "3.12.5"
  }
 },
 "nbformat": 4,
 "nbformat_minor": 5
}
