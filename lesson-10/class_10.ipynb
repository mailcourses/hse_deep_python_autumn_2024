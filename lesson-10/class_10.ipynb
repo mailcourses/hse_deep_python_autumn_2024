{
 "cells": [
  {
   "cell_type": "code",
   "execution_count": 1,
   "id": "549de29e-33f2-4fb4-8e64-938c29bb5715",
   "metadata": {},
   "outputs": [],
   "source": [
    "import sys"
   ]
  },
  {
   "cell_type": "code",
   "execution_count": 2,
   "id": "ac262837-1a57-49fd-8f1d-44beb706dd05",
   "metadata": {},
   "outputs": [
    {
     "data": {
      "text/plain": [
       "4294967295"
      ]
     },
     "execution_count": 2,
     "metadata": {},
     "output_type": "execute_result"
    }
   ],
   "source": [
    "sys.getrefcount(\"qjwehfkjeh\")"
   ]
  },
  {
   "cell_type": "code",
   "execution_count": 3,
   "id": "d93f4c2e-4109-41d4-ab62-ecc49160c2b1",
   "metadata": {},
   "outputs": [
    {
     "data": {
      "text/plain": [
       "3"
      ]
     },
     "execution_count": 3,
     "metadata": {},
     "output_type": "execute_result"
    }
   ],
   "source": [
    "sys.getrefcount(\"qjwehfkjeh!!\")"
   ]
  },
  {
   "cell_type": "code",
   "execution_count": 4,
   "id": "ec4459e6-6105-481c-b079-87e67d16ea62",
   "metadata": {},
   "outputs": [
    {
     "data": {
      "text/plain": [
       "4294967295"
      ]
     },
     "execution_count": 4,
     "metadata": {},
     "output_type": "execute_result"
    }
   ],
   "source": [
    "sys.getrefcount(5)"
   ]
  },
  {
   "cell_type": "code",
   "execution_count": 5,
   "id": "d21885dc-30f7-4c71-82c6-e6293d93e9db",
   "metadata": {},
   "outputs": [
    {
     "data": {
      "text/plain": [
       "4294967296"
      ]
     },
     "execution_count": 5,
     "metadata": {},
     "output_type": "execute_result"
    }
   ],
   "source": [
    "2 ** 32"
   ]
  },
  {
   "cell_type": "code",
   "execution_count": 6,
   "id": "b040c0d1-a4e6-48cf-999f-0cf43222d72d",
   "metadata": {},
   "outputs": [
    {
     "data": {
      "text/plain": [
       "(4294967295, 3)"
      ]
     },
     "execution_count": 6,
     "metadata": {},
     "output_type": "execute_result"
    }
   ],
   "source": [
    "sys.getrefcount(256), sys.getrefcount(257)"
   ]
  },
  {
   "cell_type": "code",
   "execution_count": 7,
   "id": "45e46445-5a45-41e7-8f41-3014937f3aba",
   "metadata": {},
   "outputs": [],
   "source": [
    "x = 257"
   ]
  },
  {
   "cell_type": "code",
   "execution_count": 9,
   "id": "86fcaad5-821f-4496-ae11-7fafe200df8e",
   "metadata": {},
   "outputs": [
    {
     "data": {
      "text/plain": [
       "(3, 2)"
      ]
     },
     "execution_count": 9,
     "metadata": {},
     "output_type": "execute_result"
    }
   ],
   "source": [
    "sys.getrefcount(257), sys.getrefcount(x)"
   ]
  },
  {
   "cell_type": "code",
   "execution_count": 10,
   "id": "b81dabb2-3783-4b9b-941f-071b55caac31",
   "metadata": {},
   "outputs": [],
   "source": [
    "lst = [1, 2, 3]"
   ]
  },
  {
   "cell_type": "code",
   "execution_count": 11,
   "id": "4e0f1232-3dee-4d2a-927a-d0024eb5c16a",
   "metadata": {},
   "outputs": [
    {
     "data": {
      "text/plain": [
       "2"
      ]
     },
     "execution_count": 11,
     "metadata": {},
     "output_type": "execute_result"
    }
   ],
   "source": [
    "sys.getrefcount(lst)"
   ]
  },
  {
   "cell_type": "code",
   "execution_count": 12,
   "id": "d3ef0300-e471-4ccc-8054-965ac121bc9b",
   "metadata": {},
   "outputs": [
    {
     "data": {
      "text/plain": [
       "\u001b[0;31mSignature:\u001b[0m \u001b[0msys\u001b[0m\u001b[0;34m.\u001b[0m\u001b[0mgetrefcount\u001b[0m\u001b[0;34m(\u001b[0m\u001b[0mobject\u001b[0m\u001b[0;34m,\u001b[0m \u001b[0;34m/\u001b[0m\u001b[0;34m)\u001b[0m\u001b[0;34m\u001b[0m\u001b[0;34m\u001b[0m\u001b[0m\n",
       "\u001b[0;31mDocstring:\u001b[0m\n",
       "Return the reference count of object.\n",
       "\n",
       "The count returned is generally one higher than you might expect,\n",
       "because it includes the (temporary) reference as an argument to\n",
       "getrefcount().\n",
       "\u001b[0;31mType:\u001b[0m      builtin_function_or_method"
      ]
     },
     "metadata": {},
     "output_type": "display_data"
    }
   ],
   "source": [
    "sys.getrefcount?"
   ]
  },
  {
   "cell_type": "code",
   "execution_count": 13,
   "id": "0010f296-5773-4d98-a0b7-fb131581fb28",
   "metadata": {},
   "outputs": [],
   "source": [
    "# object = lst"
   ]
  },
  {
   "cell_type": "code",
   "execution_count": 15,
   "id": "3d91443e-9445-4dc9-8bad-cf1deb97f0f2",
   "metadata": {},
   "outputs": [],
   "source": [
    "lst2 = lst"
   ]
  },
  {
   "cell_type": "code",
   "execution_count": 16,
   "id": "90a8900a-686e-47a5-a185-1eebb0ce6ea6",
   "metadata": {},
   "outputs": [
    {
     "data": {
      "text/plain": [
       "(3, 3)"
      ]
     },
     "execution_count": 16,
     "metadata": {},
     "output_type": "execute_result"
    }
   ],
   "source": [
    "sys.getrefcount(lst), sys.getrefcount(lst2)"
   ]
  },
  {
   "cell_type": "code",
   "execution_count": 17,
   "id": "b89c4c60-fa08-467f-82e9-9e46869d1793",
   "metadata": {},
   "outputs": [],
   "source": [
    "lst3 = lst2"
   ]
  },
  {
   "cell_type": "code",
   "execution_count": 18,
   "id": "1306646b-8956-4ca8-a804-3e056d24b2ae",
   "metadata": {},
   "outputs": [
    {
     "data": {
      "text/plain": [
       "(4, 4, 4)"
      ]
     },
     "execution_count": 18,
     "metadata": {},
     "output_type": "execute_result"
    }
   ],
   "source": [
    "sys.getrefcount(lst), sys.getrefcount(lst2), sys.getrefcount(lst3)"
   ]
  },
  {
   "cell_type": "code",
   "execution_count": 19,
   "id": "14381245-01ed-4ab3-9c91-04949b7c6996",
   "metadata": {},
   "outputs": [],
   "source": [
    "del lst"
   ]
  },
  {
   "cell_type": "code",
   "execution_count": 21,
   "id": "c7cf0223-35bb-4af7-b9fb-8e4b5c0f5b8a",
   "metadata": {},
   "outputs": [
    {
     "data": {
      "text/plain": [
       "(3, 3)"
      ]
     },
     "execution_count": 21,
     "metadata": {},
     "output_type": "execute_result"
    }
   ],
   "source": [
    "sys.getrefcount(lst2), sys.getrefcount(lst3)"
   ]
  },
  {
   "cell_type": "code",
   "execution_count": 22,
   "id": "544b91b4-58c9-45b8-b2c8-b1d97868d520",
   "metadata": {},
   "outputs": [],
   "source": [
    "lst2 = \"replace\""
   ]
  },
  {
   "cell_type": "code",
   "execution_count": 23,
   "id": "df0f39ed-af24-49ca-80ae-183c9849dfc1",
   "metadata": {},
   "outputs": [
    {
     "data": {
      "text/plain": [
       "(4294967295, 2)"
      ]
     },
     "execution_count": 23,
     "metadata": {},
     "output_type": "execute_result"
    }
   ],
   "source": [
    "sys.getrefcount(lst2), sys.getrefcount(lst3)"
   ]
  },
  {
   "cell_type": "code",
   "execution_count": 24,
   "id": "7a1b4ee0-9572-4ebb-ab68-435cb6df931b",
   "metadata": {},
   "outputs": [],
   "source": [
    "lst2 = \"replace!\""
   ]
  },
  {
   "cell_type": "code",
   "execution_count": 25,
   "id": "768f9574-e529-4833-a371-9ad4b775eae2",
   "metadata": {},
   "outputs": [
    {
     "data": {
      "text/plain": [
       "2"
      ]
     },
     "execution_count": 25,
     "metadata": {},
     "output_type": "execute_result"
    }
   ],
   "source": [
    "sys.getrefcount(lst2)"
   ]
  },
  {
   "cell_type": "code",
   "execution_count": 28,
   "id": "361083c5-b210-49e1-a925-8910c480f17e",
   "metadata": {},
   "outputs": [],
   "source": [
    "rnd_str1 = \"w\" * 5\n",
    "rnd_str2 = \"s\" * 5"
   ]
  },
  {
   "cell_type": "code",
   "execution_count": 29,
   "id": "71412b4a-33dc-496d-9bd1-2dc22430b70e",
   "metadata": {},
   "outputs": [],
   "source": [
    "rnd_str_total = rnd_str1 + rnd_str2"
   ]
  },
  {
   "cell_type": "code",
   "execution_count": 30,
   "id": "370e0faf-63c9-4e89-8e14-a31c703e22fd",
   "metadata": {},
   "outputs": [
    {
     "data": {
      "text/plain": [
       "(4294967295, 4294967295, 5)"
      ]
     },
     "execution_count": 30,
     "metadata": {},
     "output_type": "execute_result"
    }
   ],
   "source": [
    "sys.getrefcount(rnd_str1), sys.getrefcount(rnd_str2), sys.getrefcount(rnd_str_total)"
   ]
  },
  {
   "cell_type": "code",
   "execution_count": null,
   "id": "150c144e-10fe-4f17-91df-89d157f0b84f",
   "metadata": {},
   "outputs": [],
   "source": []
  },
  {
   "cell_type": "code",
   "execution_count": 32,
   "id": "df6ad6db-ac27-4718-bb25-b03dd0dae016",
   "metadata": {},
   "outputs": [
    {
     "name": "stdout",
     "output_type": "stream",
     "text": [
      "1: sys.getrefcount(lst)=2\n",
      "FN: sys.getrefcount(obj)=3\n",
      "2: sys.getrefcount(lst)=2\n"
     ]
    }
   ],
   "source": [
    "lst = [1, 2, 3]\n",
    "\n",
    "def fn(obj):\n",
    "    print(f\"FN: {sys.getrefcount(obj)=}\")\n",
    "\n",
    "print(f\"1: {sys.getrefcount(lst)=}\")\n",
    "\n",
    "fn(lst)\n",
    "\n",
    "print(f\"2: {sys.getrefcount(lst)=}\")"
   ]
  },
  {
   "cell_type": "code",
   "execution_count": null,
   "id": "d430d3e8-969e-46d5-8474-fed76b25b19a",
   "metadata": {},
   "outputs": [],
   "source": []
  },
  {
   "cell_type": "code",
   "execution_count": 33,
   "id": "138b6b3b-6c79-4aa7-a811-0f4a2fd5a263",
   "metadata": {},
   "outputs": [],
   "source": [
    "class Animal:\n",
    "    def __init__(self, name):\n",
    "        self.name = name\n",
    "\n",
    "    def __del__(self):\n",
    "        print(\"DEL:\", self.name, id(self))"
   ]
  },
  {
   "cell_type": "code",
   "execution_count": 34,
   "id": "ff7610dd-da2d-425f-8804-34a251d9f2fc",
   "metadata": {},
   "outputs": [],
   "source": [
    "tiger = Animal(\"tiger\")"
   ]
  },
  {
   "cell_type": "code",
   "execution_count": 35,
   "id": "c478e5a8-d85f-4ad4-b933-3e04c530c932",
   "metadata": {},
   "outputs": [],
   "source": [
    "tg = tiger"
   ]
  },
  {
   "cell_type": "code",
   "execution_count": 36,
   "id": "9086ea64-5c80-4e7d-887c-f2601bb31103",
   "metadata": {},
   "outputs": [
    {
     "data": {
      "text/plain": [
       "(7, 7)"
      ]
     },
     "execution_count": 36,
     "metadata": {},
     "output_type": "execute_result"
    }
   ],
   "source": [
    "sys.getrefcount(tg), sys.getrefcount(tiger)"
   ]
  },
  {
   "cell_type": "code",
   "execution_count": 37,
   "id": "030bc8c9-9307-4628-8a42-8215b2c70463",
   "metadata": {},
   "outputs": [],
   "source": [
    "del tg"
   ]
  },
  {
   "cell_type": "code",
   "execution_count": 38,
   "id": "4d46224c-372b-4c76-8b94-2dcb0e55f0a5",
   "metadata": {},
   "outputs": [
    {
     "data": {
      "text/plain": [
       "6"
      ]
     },
     "execution_count": 38,
     "metadata": {},
     "output_type": "execute_result"
    }
   ],
   "source": [
    "sys.getrefcount(tiger)"
   ]
  },
  {
   "cell_type": "code",
   "execution_count": 39,
   "id": "0052fcf3-0ef7-476c-b92c-2027d647779c",
   "metadata": {},
   "outputs": [],
   "source": [
    "del tiger"
   ]
  },
  {
   "cell_type": "code",
   "execution_count": 40,
   "id": "f9a65afb-5e79-4b3d-9436-c024ca801ffb",
   "metadata": {},
   "outputs": [
    {
     "name": "stdout",
     "output_type": "stream",
     "text": [
      "sys.getrefcount(tg)=3, sys.getrefcount(tiger)=3\n",
      "sys.getrefcount(tiger)=2\n",
      "DEL: tiger 4358293216\n"
     ]
    }
   ],
   "source": [
    "tiger = Animal(\"tiger\")\n",
    "tg = tiger\n",
    "\n",
    "print(f\"{sys.getrefcount(tg)=}, {sys.getrefcount(tiger)=}\")\n",
    "\n",
    "del tg\n",
    "\n",
    "print(f\"{sys.getrefcount(tiger)=}\")\n",
    "\n",
    "del tiger"
   ]
  },
  {
   "cell_type": "code",
   "execution_count": null,
   "id": "e678a8f2-c1a9-41d5-9372-88cce048e70b",
   "metadata": {},
   "outputs": [],
   "source": []
  },
  {
   "cell_type": "code",
   "execution_count": 43,
   "id": "d4a2833f-c2ae-4cc7-ba3d-d1a9bb032802",
   "metadata": {},
   "outputs": [],
   "source": [
    "class Animal:\n",
    "    def __init__(self, name, food):\n",
    "        self.name = name\n",
    "        self.food = food\n",
    "\n",
    "    def __del__(self):\n",
    "        print(\"DEL:\", self.name, id(self))"
   ]
  },
  {
   "cell_type": "code",
   "execution_count": 48,
   "id": "99b030b9-6065-4829-a4b2-d15e5439d059",
   "metadata": {},
   "outputs": [
    {
     "name": "stdout",
     "output_type": "stream",
     "text": [
      "sys.getrefcount(tiger)=3, sys.getrefcount(baboon)=3\n",
      "sys.getrefcount(baboon)=3\n"
     ]
    }
   ],
   "source": [
    "tiger = Animal(\"tiger\", None)\n",
    "baboon = Animal(\"baboon\", tiger)\n",
    "tiger.food = baboon\n",
    "\n",
    "print(f\"{sys.getrefcount(tiger)=}, {sys.getrefcount(baboon)=}\")\n",
    "\n",
    "del tiger\n",
    "\n",
    "print(f\"{sys.getrefcount(baboon)=}\")\n",
    "\n",
    "del baboon"
   ]
  },
  {
   "cell_type": "code",
   "execution_count": 53,
   "id": "0b6aa643-d036-4007-a58b-1d1b3176c39e",
   "metadata": {},
   "outputs": [
    {
     "name": "stdout",
     "output_type": "stream",
     "text": [
      "[1, 2, 3, [...]]\n"
     ]
    }
   ],
   "source": [
    "lst = [1, 2, 3]\n",
    "lst.append(lst)\n",
    "print(lst, id())"
   ]
  },
  {
   "cell_type": "code",
   "execution_count": 50,
   "id": "99a148df-9180-4a07-9aac-10526ad9ac0c",
   "metadata": {},
   "outputs": [],
   "source": [
    "del lst"
   ]
  },
  {
   "cell_type": "code",
   "execution_count": null,
   "id": "5ebcc20a-d50c-43c8-a1be-d25e72b4fe61",
   "metadata": {},
   "outputs": [],
   "source": []
  },
  {
   "cell_type": "code",
   "execution_count": 51,
   "id": "9922d9a5-93d5-48f9-ae46-ef87e1fdc8dc",
   "metadata": {},
   "outputs": [],
   "source": [
    "import ctypes"
   ]
  },
  {
   "cell_type": "code",
   "execution_count": 52,
   "id": "ffa6e90a-28b5-4b58-8b37-e82d0d2b9e86",
   "metadata": {},
   "outputs": [],
   "source": [
    "class PyObject(ctypes.Structure):\n",
    "    _fields_ = [(\"refcnt\", ctypes.c_long)]"
   ]
  },
  {
   "cell_type": "code",
   "execution_count": 54,
   "id": "fb21a895-6ce8-46bd-87bc-7d0408e85037",
   "metadata": {},
   "outputs": [
    {
     "data": {
      "text/plain": [
       "<__main__.PyObject at 0x1049d8550>"
      ]
     },
     "execution_count": 54,
     "metadata": {},
     "output_type": "execute_result"
    }
   ],
   "source": [
    "PyObject.from_address(id(lst))"
   ]
  },
  {
   "cell_type": "code",
   "execution_count": 60,
   "id": "0942aac2-2fc1-424b-963d-63e07b9767a4",
   "metadata": {},
   "outputs": [
    {
     "name": "stdout",
     "output_type": "stream",
     "text": [
      "2\n",
      "1\n"
     ]
    }
   ],
   "source": [
    "lst = [1, 2, 3]\n",
    "lst.append(lst)\n",
    "id_lst = id(lst)\n",
    "\n",
    "print(PyObject.from_address(id_lst).refcnt)\n",
    "\n",
    "del lst\n",
    "\n",
    "print(PyObject.from_address(id_lst).refcnt)"
   ]
  },
  {
   "cell_type": "code",
   "execution_count": 66,
   "id": "2a2d7b03-2aa7-4a4e-8692-505181d54c26",
   "metadata": {},
   "outputs": [
    {
     "name": "stdout",
     "output_type": "stream",
     "text": [
      "sys.getrefcount(tiger)=3, sys.getrefcount(baboon)=3 4369414048 4369401088\n",
      "before: 2 2\n",
      "after: 1 1\n"
     ]
    }
   ],
   "source": [
    "tiger = Animal(\"tiger\", None)\n",
    "baboon = Animal(\"baboon\", tiger)\n",
    "tiger.food = baboon\n",
    "\n",
    "id_tiger = id(tiger)\n",
    "id_baboon = id(baboon)\n",
    "\n",
    "print(f\"{sys.getrefcount(tiger)=}, {sys.getrefcount(baboon)=}\", id_tiger, id_baboon)\n",
    "print(\"before:\", PyObject.from_address(id_tiger).refcnt, PyObject.from_address(id_baboon).refcnt)\n",
    "\n",
    "del tiger\n",
    "del baboon\n",
    "\n",
    "print(\"after:\", PyObject.from_address(id_tiger).refcnt, PyObject.from_address(id_baboon).refcnt)"
   ]
  },
  {
   "cell_type": "code",
   "execution_count": 64,
   "id": "1d0a61c6-eda3-41a0-82f7-26a868af88b0",
   "metadata": {},
   "outputs": [],
   "source": [
    "import gc"
   ]
  },
  {
   "cell_type": "code",
   "execution_count": 67,
   "id": "98d7bb15-108c-4538-9a62-d2c6f72f0da6",
   "metadata": {},
   "outputs": [
    {
     "name": "stdout",
     "output_type": "stream",
     "text": [
      "DEL: tiger 4369414048\n",
      "DEL: baboon 4369401088\n"
     ]
    },
    {
     "data": {
      "text/plain": [
       "1000"
      ]
     },
     "execution_count": 67,
     "metadata": {},
     "output_type": "execute_result"
    }
   ],
   "source": [
    "gc.collect()"
   ]
  },
  {
   "cell_type": "code",
   "execution_count": 68,
   "id": "04acb929-562e-4d88-b2b0-562b6a60ef95",
   "metadata": {},
   "outputs": [
    {
     "name": "stdout",
     "output_type": "stream",
     "text": [
      "after gc: 0 0\n"
     ]
    }
   ],
   "source": [
    "print(\"after gc:\", PyObject.from_address(id_tiger).refcnt, PyObject.from_address(id_baboon).refcnt)"
   ]
  },
  {
   "cell_type": "code",
   "execution_count": 70,
   "id": "6248cb91-01c3-4a7d-a5f1-069b96859641",
   "metadata": {},
   "outputs": [
    {
     "name": "stdout",
     "output_type": "stream",
     "text": [
      "DEL: fish 4357111152\n",
      "DEL: fish 4369407904\n"
     ]
    }
   ],
   "source": [
    "for i in range(2):\n",
    "    fish = Animal(\"fish\", None)"
   ]
  },
  {
   "cell_type": "code",
   "execution_count": 71,
   "id": "05578a7c-fd65-46ca-bc9f-fe0d8491cb05",
   "metadata": {},
   "outputs": [
    {
     "name": "stdout",
     "output_type": "stream",
     "text": [
      "after gc: 4363860580 4351096932\n"
     ]
    }
   ],
   "source": [
    "print(\"after gc:\", PyObject.from_address(id_tiger).refcnt, PyObject.from_address(id_baboon).refcnt)"
   ]
  },
  {
   "cell_type": "code",
   "execution_count": null,
   "id": "0662024d-6064-41f9-958f-6dd21d79c508",
   "metadata": {},
   "outputs": [],
   "source": []
  },
  {
   "cell_type": "code",
   "execution_count": null,
   "id": "25364fcf-92b7-4166-a978-ca5ae8c61c51",
   "metadata": {},
   "outputs": [],
   "source": []
  },
  {
   "cell_type": "markdown",
   "id": "2953f715-90e4-4c3f-84a4-ee4ac0e94617",
   "metadata": {},
   "source": [
    "# Homework"
   ]
  },
  {
   "cell_type": "code",
   "execution_count": 72,
   "id": "9617a73a-75bf-47e7-8613-e82d18f7db5a",
   "metadata": {},
   "outputs": [],
   "source": [
    "def parse_args():\n",
    "    args = Arguments()\n",
    "    return args\n",
    "\n",
    "\n",
    "def create_client(domain, num_threads):\n",
    "    threads = [\n",
    "        Client(domain=domain)\n",
    "        for th in range(num_threads)\n",
    "    ]\n",
    "    for th in threads:\n",
    "        th.start()\n",
    "    for th in threads:\n",
    "        th.join()\n",
    "\n",
    "\n",
    "def run_client():\n",
    "    args = parse_args()\n",
    "    create_client(args.domain, args.num_threads)\n",
    "\n",
    "    \n",
    "    "
   ]
  },
  {
   "cell_type": "code",
   "execution_count": null,
   "id": "2765e75d-65dd-4c7b-9ab5-1302933a7e9c",
   "metadata": {},
   "outputs": [],
   "source": []
  },
  {
   "cell_type": "code",
   "execution_count": null,
   "id": "b139c2eb-5eac-4efd-a8fb-1fe910561a49",
   "metadata": {},
   "outputs": [],
   "source": []
  },
  {
   "cell_type": "code",
   "execution_count": 76,
   "id": "8ab10d83-4d3b-4b9e-95c3-374c7bb13228",
   "metadata": {},
   "outputs": [],
   "source": [
    "import weakref\n",
    "from functools import partial"
   ]
  },
  {
   "cell_type": "code",
   "execution_count": 81,
   "id": "b249ba63-f1e6-400b-919a-c1ba0b872ddf",
   "metadata": {},
   "outputs": [
    {
     "name": "stdout",
     "output_type": "stream",
     "text": [
      "DEL: honda 4369307632\n",
      "Final dest obj=None, id(obj)=4321898592\n"
     ]
    }
   ],
   "source": [
    "class Car:\n",
    "    def __init__(self, name):\n",
    "        self.name = name\n",
    "\n",
    "    def __del__(self):\n",
    "        print(\"DEL:\", self.name, id(self))\n",
    "\n",
    "\n",
    "def final_dest(weak):\n",
    "    obj = weak()\n",
    "    print(f\"Final dest {obj=}, {id(obj)=}\")\n",
    "\n",
    "\n",
    "honda = Car(\"honda\")\n",
    "weakref.finalize(honda, partial(final_dest, weakref.ref(honda)))\n",
    "\n",
    "del honda"
   ]
  },
  {
   "cell_type": "code",
   "execution_count": 85,
   "id": "5a1f7918-8fa5-452d-9c3f-9fc58c80805b",
   "metadata": {},
   "outputs": [
    {
     "name": "stdout",
     "output_type": "stream",
     "text": [
      "1: 2\n",
      "2: 2\n",
      "3: 3\n",
      "True\n",
      "4: 2\n",
      "DEL: bmw 4369306144\n",
      "----\n",
      "bmw3 None\n"
     ]
    }
   ],
   "source": [
    "bmw = Car(\"bmw\")\n",
    "print(\"1:\", sys.getrefcount(bmw))\n",
    "\n",
    "wr_bmw = weakref.ref(bmw)\n",
    "\n",
    "print(\"2:\", sys.getrefcount(bmw))\n",
    "\n",
    "bmw2 = wr_bmw()\n",
    "print(\"3:\", sys.getrefcount(bmw))\n",
    "\n",
    "print(bmw is bmw2)\n",
    "\n",
    "del bmw2\n",
    "\n",
    "print(\"4:\", sys.getrefcount(bmw))\n",
    "\n",
    "del bmw\n",
    "\n",
    "print(\"----\")\n",
    "\n",
    "bmw3 = wr_bmw()\n",
    "print(\"bmw3\", bmw3)"
   ]
  },
  {
   "cell_type": "code",
   "execution_count": null,
   "id": "e896d67c-d966-4dd5-ba59-dba0dd290502",
   "metadata": {},
   "outputs": [],
   "source": []
  },
  {
   "cell_type": "code",
   "execution_count": null,
   "id": "85db6f30-8de9-44b4-afe7-ebb9de5dbbbf",
   "metadata": {},
   "outputs": [],
   "source": []
  },
  {
   "cell_type": "code",
   "execution_count": null,
   "id": "483c2501-33f5-47b9-8336-4ec8eea04e97",
   "metadata": {},
   "outputs": [],
   "source": []
  },
  {
   "cell_type": "code",
   "execution_count": 89,
   "id": "b62d0557-0e35-475b-83f0-bbae72129e34",
   "metadata": {},
   "outputs": [
    {
     "name": "stdout",
     "output_type": "stream",
     "text": [
      "sys.getrefcount(tiger)=2, sys.getrefcount(baboon)=2 4374599232 4374598080\n",
      "before: 1 1\n",
      "DEL: tiger 4374599232\n",
      "DEL: baboon 4374598080\n",
      "after: 10 0\n"
     ]
    }
   ],
   "source": [
    "class Animal:\n",
    "    def __init__(self, name):\n",
    "        self.name = name\n",
    "        self._food = None\n",
    "\n",
    "    @property\n",
    "    def food(self):\n",
    "        return self._food\n",
    "\n",
    "    @food.setter\n",
    "    def food(self, food):\n",
    "        self._food = weakref.ref(food)\n",
    "\n",
    "    def __del__(self):\n",
    "        print(\"DEL:\", self.name, id(self))\n",
    "\n",
    "\n",
    "tiger = Animal(\"tiger\")\n",
    "baboon = Animal(\"baboon\")\n",
    "\n",
    "tiger.food = baboon\n",
    "baboon.food = tiger\n",
    "\n",
    "id_tiger = id(tiger)\n",
    "id_baboon = id(baboon)\n",
    "\n",
    "print(f\"{sys.getrefcount(tiger)=}, {sys.getrefcount(baboon)=}\", id_tiger, id_baboon)\n",
    "print(\"before:\", PyObject.from_address(id_tiger).refcnt, PyObject.from_address(id_baboon).refcnt)\n",
    "\n",
    "del tiger\n",
    "del baboon\n",
    "\n",
    "print(\"after:\", PyObject.from_address(id_tiger).refcnt, PyObject.from_address(id_baboon).refcnt)"
   ]
  },
  {
   "cell_type": "code",
   "execution_count": null,
   "id": "c7afe1f2-b25d-4d4a-8c22-49871d40f438",
   "metadata": {},
   "outputs": [],
   "source": []
  },
  {
   "cell_type": "code",
   "execution_count": null,
   "id": "b5492bd2-f4a3-425a-904f-cba1f4c857cd",
   "metadata": {},
   "outputs": [],
   "source": []
  },
  {
   "cell_type": "code",
   "execution_count": 100,
   "id": "4c12f13c-99f3-4461-b31e-05d19d3a6477",
   "metadata": {},
   "outputs": [],
   "source": [
    "class Animal:\n",
    "\n",
    "    def __init__(self, name: str, age: int):\n",
    "        self.name = name\n",
    "        self.age = age\n",
    "\n",
    "\n",
    "class AnimalSlots:\n",
    "    __slots__ = (\"name\", \"age\")\n",
    "\n",
    "    def __init__(self, name: str, age: int):\n",
    "        self.name = name\n",
    "        self.age = age"
   ]
  },
  {
   "cell_type": "code",
   "execution_count": 101,
   "id": "b9b94026-261d-41e4-b14b-8122cc0d8c2e",
   "metadata": {},
   "outputs": [],
   "source": [
    "tiger = Animal(\"tiger!\", 1024)\n",
    "lion = AnimalSlots(\"lion!\", 2034)"
   ]
  },
  {
   "cell_type": "code",
   "execution_count": 92,
   "id": "93359442-3da3-453d-b864-58d674303030",
   "metadata": {},
   "outputs": [
    {
     "name": "stdout",
     "output_type": "stream",
     "text": [
      "tiger! 1024 lion! 2034\n"
     ]
    }
   ],
   "source": [
    "print(tiger.name, tiger.age, lion.name, lion.age)"
   ]
  },
  {
   "cell_type": "code",
   "execution_count": 93,
   "id": "d8807631-894d-4959-92db-4b516cd14930",
   "metadata": {},
   "outputs": [],
   "source": [
    "tiger.name, tiger.age, lion.name, lion.age = \"tiger_1!!\", 4455, \"lion123)^\", 9988"
   ]
  },
  {
   "cell_type": "code",
   "execution_count": 94,
   "id": "e178beb4-d75b-439f-903f-4bcdd72f2776",
   "metadata": {},
   "outputs": [
    {
     "name": "stdout",
     "output_type": "stream",
     "text": [
      "tiger_1!! 4455 lion123)^ 9988\n"
     ]
    }
   ],
   "source": [
    "print(tiger.name, tiger.age, lion.name, lion.age)"
   ]
  },
  {
   "cell_type": "code",
   "execution_count": 95,
   "id": "13d1cef1-a8d6-4d3d-9ada-b06c04e0f295",
   "metadata": {},
   "outputs": [],
   "source": [
    "tiger.food = \"meat\""
   ]
  },
  {
   "cell_type": "code",
   "execution_count": 96,
   "id": "6ab47064-f030-4a88-aaa9-392ce827ea43",
   "metadata": {},
   "outputs": [
    {
     "name": "stdout",
     "output_type": "stream",
     "text": [
      "tiger_1!! 4455 meat lion123)^ 9988\n"
     ]
    }
   ],
   "source": [
    "print(tiger.name, tiger.age, tiger.food, lion.name, lion.age)"
   ]
  },
  {
   "cell_type": "code",
   "execution_count": 97,
   "id": "be3c8302-d310-4dab-be57-2a53685c8414",
   "metadata": {},
   "outputs": [
    {
     "ename": "AttributeError",
     "evalue": "'AnimalSlots' object has no attribute 'food'",
     "output_type": "error",
     "traceback": [
      "\u001b[0;31m---------------------------------------------------------------------------\u001b[0m",
      "\u001b[0;31mAttributeError\u001b[0m                            Traceback (most recent call last)",
      "Cell \u001b[0;32mIn[97], line 1\u001b[0m\n\u001b[0;32m----> 1\u001b[0m \u001b[43mlion\u001b[49m\u001b[38;5;241;43m.\u001b[39;49m\u001b[43mfood\u001b[49m \u001b[38;5;241m=\u001b[39m \u001b[38;5;124m\"\u001b[39m\u001b[38;5;124mmeat\u001b[39m\u001b[38;5;124m\"\u001b[39m\n",
      "\u001b[0;31mAttributeError\u001b[0m: 'AnimalSlots' object has no attribute 'food'"
     ]
    }
   ],
   "source": [
    "lion.food = \"meat\""
   ]
  },
  {
   "cell_type": "code",
   "execution_count": 102,
   "id": "57a17c39-e365-4730-863c-4a011ac1c555",
   "metadata": {},
   "outputs": [
    {
     "data": {
      "text/plain": [
       "{'name': 'tiger!', 'age': 1024}"
      ]
     },
     "execution_count": 102,
     "metadata": {},
     "output_type": "execute_result"
    }
   ],
   "source": [
    "tiger.__dict__"
   ]
  },
  {
   "cell_type": "code",
   "execution_count": 103,
   "id": "ac37306d-5dab-4445-a23d-11c367cc5b66",
   "metadata": {},
   "outputs": [
    {
     "ename": "AttributeError",
     "evalue": "'AnimalSlots' object has no attribute '__dict__'",
     "output_type": "error",
     "traceback": [
      "\u001b[0;31m---------------------------------------------------------------------------\u001b[0m",
      "\u001b[0;31mAttributeError\u001b[0m                            Traceback (most recent call last)",
      "Cell \u001b[0;32mIn[103], line 1\u001b[0m\n\u001b[0;32m----> 1\u001b[0m \u001b[43mlion\u001b[49m\u001b[38;5;241;43m.\u001b[39;49m\u001b[38;5;18;43m__dict__\u001b[39;49m\n",
      "\u001b[0;31mAttributeError\u001b[0m: 'AnimalSlots' object has no attribute '__dict__'"
     ]
    }
   ],
   "source": [
    "lion.__dict__"
   ]
  },
  {
   "cell_type": "code",
   "execution_count": 104,
   "id": "bc01eccb-a81b-4c1c-a6fa-56de4413ed9e",
   "metadata": {},
   "outputs": [
    {
     "data": {
      "text/plain": [
       "mappingproxy({'__module__': '__main__',\n",
       "              '__init__': <function __main__.Animal.__init__(self, name: str, age: int)>,\n",
       "              '__dict__': <attribute '__dict__' of 'Animal' objects>,\n",
       "              '__weakref__': <attribute '__weakref__' of 'Animal' objects>,\n",
       "              '__doc__': None})"
      ]
     },
     "execution_count": 104,
     "metadata": {},
     "output_type": "execute_result"
    }
   ],
   "source": [
    "Animal.__dict__"
   ]
  },
  {
   "cell_type": "code",
   "execution_count": 105,
   "id": "aa0c2211-c164-495b-8000-4900d1a20113",
   "metadata": {},
   "outputs": [
    {
     "data": {
      "text/plain": [
       "mappingproxy({'__module__': '__main__',\n",
       "              '__slots__': ('name', 'age'),\n",
       "              '__init__': <function __main__.AnimalSlots.__init__(self, name: str, age: int)>,\n",
       "              'age': <member 'age' of 'AnimalSlots' objects>,\n",
       "              'name': <member 'name' of 'AnimalSlots' objects>,\n",
       "              '__doc__': None})"
      ]
     },
     "execution_count": 105,
     "metadata": {},
     "output_type": "execute_result"
    }
   ],
   "source": [
    "AnimalSlots.__dict__"
   ]
  },
  {
   "cell_type": "code",
   "execution_count": 106,
   "id": "ad135658-489c-4ca0-b294-249f67ab04e4",
   "metadata": {},
   "outputs": [
    {
     "data": {
      "text/plain": [
       "(1704, 936)"
      ]
     },
     "execution_count": 106,
     "metadata": {},
     "output_type": "execute_result"
    }
   ],
   "source": [
    "sys.getsizeof(Animal), sys.getsizeof(AnimalSlots)"
   ]
  },
  {
   "cell_type": "code",
   "execution_count": 108,
   "id": "dc19c4ba-eb14-4238-8051-ca315a8de14d",
   "metadata": {},
   "outputs": [
    {
     "data": {
      "text/plain": [
       "(48, 48)"
      ]
     },
     "execution_count": 108,
     "metadata": {},
     "output_type": "execute_result"
    }
   ],
   "source": [
    "sys.getsizeof(tiger), sys.getsizeof(lion)"
   ]
  },
  {
   "cell_type": "code",
   "execution_count": 109,
   "id": "6e1a4088-9d0b-46d6-b622-1eb7be94d7b1",
   "metadata": {},
   "outputs": [],
   "source": [
    "tiger.xx = \"xx\"\n",
    "tiger.yy = \"yy\"\n",
    "tiger.zz = \"zz\"\n",
    "tiger.zz1 = \"zz\"\n",
    "tiger.zz2 = \"zz\"\n",
    "tiger.zz3 = \"zz\""
   ]
  },
  {
   "cell_type": "code",
   "execution_count": 110,
   "id": "a48b4835-21ac-4d05-82a7-31669078abef",
   "metadata": {},
   "outputs": [
    {
     "data": {
      "text/plain": [
       "(48, 48)"
      ]
     },
     "execution_count": 110,
     "metadata": {},
     "output_type": "execute_result"
    }
   ],
   "source": [
    "sys.getsizeof(tiger), sys.getsizeof(lion)"
   ]
  },
  {
   "cell_type": "code",
   "execution_count": 111,
   "id": "2a6d9294-6bc6-418a-bcaa-f7082bc6a461",
   "metadata": {},
   "outputs": [
    {
     "data": {
      "text/plain": [
       "296"
      ]
     },
     "execution_count": 111,
     "metadata": {},
     "output_type": "execute_result"
    }
   ],
   "source": [
    "sys.getsizeof(tiger.__dict__)"
   ]
  },
  {
   "cell_type": "code",
   "execution_count": 113,
   "id": "df6da253-07fb-4a38-b2a8-fdb3bf025f1c",
   "metadata": {},
   "outputs": [
    {
     "data": {
      "text/plain": [
       "(64, 184)"
      ]
     },
     "execution_count": 113,
     "metadata": {},
     "output_type": "execute_result"
    }
   ],
   "source": [
    "sys.getsizeof({}), sys.getsizeof({\"123\": \"345\"})"
   ]
  },
  {
   "cell_type": "code",
   "execution_count": 114,
   "id": "19e719a2-dda3-45f7-89e5-7f50ad95ba9e",
   "metadata": {},
   "outputs": [
    {
     "name": "stdout",
     "output_type": "stream",
     "text": [
      "len(dct)=1, before=64, after=184\n",
      "len(dct)=2, before=184, after=184\n",
      "len(dct)=3, before=184, after=184\n",
      "len(dct)=4, before=184, after=184\n",
      "len(dct)=5, before=184, after=184\n",
      "len(dct)=6, before=184, after=272\n",
      "len(dct)=7, before=272, after=272\n",
      "len(dct)=8, before=272, after=272\n"
     ]
    }
   ],
   "source": [
    "dct = {}\n",
    "for i in range(8):\n",
    "    before = sys.getsizeof(dct)\n",
    "    dct[f\"xxxx_{i}\"] = f\"{i}_val\"\n",
    "    after = sys.getsizeof(dct)\n",
    "\n",
    "    print(f\"{len(dct)=}, {before=}, {after=}\")"
   ]
  },
  {
   "cell_type": "code",
   "execution_count": null,
   "id": "25851330-ff8c-4104-bd4b-19fc462f5e8c",
   "metadata": {},
   "outputs": [],
   "source": []
  }
 ],
 "metadata": {
  "kernelspec": {
   "display_name": "Python 3 (ipykernel)",
   "language": "python",
   "name": "python3"
  },
  "language_info": {
   "codemirror_mode": {
    "name": "ipython",
    "version": 3
   },
   "file_extension": ".py",
   "mimetype": "text/x-python",
   "name": "python",
   "nbconvert_exporter": "python",
   "pygments_lexer": "ipython3",
   "version": "3.12.5"
  }
 },
 "nbformat": 4,
 "nbformat_minor": 5
}
