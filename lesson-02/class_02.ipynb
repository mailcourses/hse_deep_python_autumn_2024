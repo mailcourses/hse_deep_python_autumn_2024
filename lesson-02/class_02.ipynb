{
 "cells": [
  {
   "cell_type": "markdown",
   "id": "d6813445-538d-423a-905a-3ac5cfdab577",
   "metadata": {},
   "source": [
    "# try/except example"
   ]
  },
  {
   "cell_type": "code",
   "execution_count": null,
   "id": "c6c089bf-b700-473c-a853-fb0999c26028",
   "metadata": {},
   "outputs": [],
   "source": []
  },
  {
   "cell_type": "code",
   "execution_count": null,
   "id": "b9453de8-d3ef-4225-a864-edc8bd89077d",
   "metadata": {},
   "outputs": [],
   "source": []
  },
  {
   "cell_type": "markdown",
   "id": "18d423df-2e03-411e-a456-6a7bd9a43baf",
   "metadata": {},
   "source": [
    "# functions"
   ]
  },
  {
   "cell_type": "code",
   "execution_count": 113,
   "id": "57944aaa-9a23-4a99-9e5d-2c5d5822e881",
   "metadata": {},
   "outputs": [],
   "source": [
    "def fn1(x, y=100):\n",
    "    return x + y\n",
    "\n",
    "\n",
    "def fn2(*args):\n",
    "    pass\n",
    "\n",
    "\n",
    "def fn3(**kwargs):\n",
    "    pass\n",
    "\n",
    "\n",
    "def fn4(*args, **kwargs):\n",
    "    return args, kwargs\n",
    "\n",
    "\n",
    "def fn5(*, val):\n",
    "    pass\n",
    "\n",
    "\n",
    "def fn6(start, stop, /):\n",
    "    pass\n",
    "\n",
    "\n",
    "def fn7(pos1, /, pos2, pos3=3, *, kw1=11, **kwargs):\n",
    "    print(f\"{pos1=}, {pos2=}, {pos3=}, {pkw1=}, {kwargs=}\")"
   ]
  },
  {
   "cell_type": "code",
   "execution_count": 104,
   "id": "da7fba87-ab72-4c20-bb68-f46b2eb7de9d",
   "metadata": {},
   "outputs": [
    {
     "data": {
      "text/plain": [
       "(70, 50, 120, 120)"
      ]
     },
     "execution_count": 104,
     "metadata": {},
     "output_type": "execute_result"
    }
   ],
   "source": [
    "fn1(y=20, x=50), fn1(20, 30), fn1(20), fn1(x=20)"
   ]
  },
  {
   "cell_type": "code",
   "execution_count": 106,
   "id": "dfb2bc56-8e7a-45be-8414-242926955594",
   "metadata": {},
   "outputs": [
    {
     "data": {
      "text/plain": [
       "(((10, 20, 30), {}),\n",
       " ((), {'x': 10, 'y': 20, 'z': 30}),\n",
       " ((10, 20, 30), {'x': 40, 't': 50}))"
      ]
     },
     "execution_count": 106,
     "metadata": {},
     "output_type": "execute_result"
    }
   ],
   "source": [
    "fn4(10, 20, 30), fn4(x=10, y=20, z=30), fn4(10, 20, 30, x=40, t=50)"
   ]
  },
  {
   "cell_type": "code",
   "execution_count": 107,
   "id": "dea422c9-d1be-4dde-b4e6-8db0a62e3ccc",
   "metadata": {},
   "outputs": [],
   "source": [
    "fn6(10, 20)"
   ]
  },
  {
   "cell_type": "code",
   "execution_count": 109,
   "id": "ee8128cb-195c-414b-b65b-9c3a63453be3",
   "metadata": {},
   "outputs": [
    {
     "ename": "TypeError",
     "evalue": "fn6() got some positional-only arguments passed as keyword arguments: 'stop'",
     "output_type": "error",
     "traceback": [
      "\u001b[0;31m---------------------------------------------------------------------------\u001b[0m",
      "\u001b[0;31mTypeError\u001b[0m                                 Traceback (most recent call last)",
      "Cell \u001b[0;32mIn[109], line 1\u001b[0m\n\u001b[0;32m----> 1\u001b[0m \u001b[43mfn6\u001b[49m\u001b[43m(\u001b[49m\u001b[38;5;241;43m10\u001b[39;49m\u001b[43m,\u001b[49m\u001b[43m \u001b[49m\u001b[43mstop\u001b[49m\u001b[38;5;241;43m=\u001b[39;49m\u001b[38;5;241;43m20\u001b[39;49m\u001b[43m)\u001b[49m\n",
      "\u001b[0;31mTypeError\u001b[0m: fn6() got some positional-only arguments passed as keyword arguments: 'stop'"
     ]
    }
   ],
   "source": [
    "fn6(10, stop=20)"
   ]
  },
  {
   "cell_type": "code",
   "execution_count": 110,
   "id": "e68eadd9-73c1-4fdc-bfc4-6254ad78c01d",
   "metadata": {},
   "outputs": [
    {
     "data": {
      "text/plain": [
       "\u001b[0;31mSignature:\u001b[0m \u001b[0mlen\u001b[0m\u001b[0;34m(\u001b[0m\u001b[0mobj\u001b[0m\u001b[0;34m,\u001b[0m \u001b[0;34m/\u001b[0m\u001b[0;34m)\u001b[0m\u001b[0;34m\u001b[0m\u001b[0;34m\u001b[0m\u001b[0m\n",
       "\u001b[0;31mDocstring:\u001b[0m Return the number of items in a container.\n",
       "\u001b[0;31mType:\u001b[0m      builtin_function_or_method"
      ]
     },
     "metadata": {},
     "output_type": "display_data"
    }
   ],
   "source": [
    "len?"
   ]
  },
  {
   "cell_type": "code",
   "execution_count": 112,
   "id": "93995128-ca95-4cf0-be90-0350e56de7ef",
   "metadata": {},
   "outputs": [
    {
     "data": {
      "text/plain": [
       "0"
      ]
     },
     "execution_count": 112,
     "metadata": {},
     "output_type": "execute_result"
    }
   ],
   "source": [
    "len([])"
   ]
  },
  {
   "cell_type": "code",
   "execution_count": 118,
   "id": "78ffade2-c97b-4607-aa00-002de11c6862",
   "metadata": {},
   "outputs": [],
   "source": [
    "def fn7(pos1, /, pos2, pos3=3, *, kw1=11, **kwargs):\n",
    "    print(f\"{pos1=}, {pos2=}, {pos3=}, {kw1=}, {kwargs=}\")"
   ]
  },
  {
   "cell_type": "code",
   "execution_count": 121,
   "id": "fe107c00-01cd-4aee-8b39-dd9b68e6c427",
   "metadata": {},
   "outputs": [
    {
     "name": "stdout",
     "output_type": "stream",
     "text": [
      "pos1=10, pos2=20, pos3=3, kw1=11, kwargs={}\n"
     ]
    }
   ],
   "source": [
    "fn7(10, pos2=20)"
   ]
  },
  {
   "cell_type": "code",
   "execution_count": 122,
   "id": "396a0476-64d7-43b0-800a-256ae757f999",
   "metadata": {},
   "outputs": [
    {
     "name": "stdout",
     "output_type": "stream",
     "text": [
      "pos1=10, pos2=20, pos3=30, kw1=11, kwargs={}\n"
     ]
    }
   ],
   "source": [
    "fn7(10, pos2=20, pos3=30)"
   ]
  },
  {
   "cell_type": "code",
   "execution_count": 123,
   "id": "c6a62a95-0c68-4ae1-af68-34767e14e612",
   "metadata": {},
   "outputs": [
    {
     "name": "stdout",
     "output_type": "stream",
     "text": [
      "pos1=10, pos2=20, pos3=30, kw1=11, kwargs={}\n"
     ]
    }
   ],
   "source": [
    "fn7(10, 20, 30)"
   ]
  },
  {
   "cell_type": "code",
   "execution_count": 126,
   "id": "014e8207-cae7-4d4e-aee5-c0c2ab9810f2",
   "metadata": {},
   "outputs": [
    {
     "name": "stdout",
     "output_type": "stream",
     "text": [
      "pos1=10, pos2=20, pos3=30, kw1=40, kwargs={'x': 10, 'y': 20}\n"
     ]
    }
   ],
   "source": [
    "fn7(10, 20, 30, kw1=40, x=10, y=20)"
   ]
  },
  {
   "cell_type": "code",
   "execution_count": 131,
   "id": "b42fae0d-f672-4e90-a68b-6676183bc083",
   "metadata": {},
   "outputs": [],
   "source": [
    "def fn7(pos1, /, pos2, pos3=3, *args, kw1=11, **kwargs):\n",
    "    print(f\"{pos1=}, {pos2=}, {pos3=}, {args=}, {kw1=}, {kwargs=}\")"
   ]
  },
  {
   "cell_type": "code",
   "execution_count": 134,
   "id": "000b75d1-ec3e-411d-a423-92722c06d52e",
   "metadata": {},
   "outputs": [
    {
     "name": "stdout",
     "output_type": "stream",
     "text": [
      "pos1=10, pos2=20, pos3=3, args=(), kw1=11, kwargs={}\n",
      "pos1=10, pos2=20, pos3=30, args=(), kw1=11, kwargs={}\n",
      "pos1=10, pos2=20, pos3=30, args=(), kw1=11, kwargs={}\n",
      "pos1=10, pos2=20, pos3=30, args=(), kw1=40, kwargs={'x': 10, 'y': 20}\n"
     ]
    },
    {
     "data": {
      "text/plain": [
       "(None, None, None, None)"
      ]
     },
     "execution_count": 134,
     "metadata": {},
     "output_type": "execute_result"
    }
   ],
   "source": [
    "fn7(10, pos2=20), fn7(10, pos2=20, pos3=30), fn7(10, 20, 30), fn7(10, 20, 30, kw1=40, x=10, y=20)"
   ]
  },
  {
   "cell_type": "code",
   "execution_count": 135,
   "id": "5cf469fd-e2fa-4a70-9710-a432c07c3480",
   "metadata": {},
   "outputs": [
    {
     "name": "stdout",
     "output_type": "stream",
     "text": [
      "pos1=10, pos2=20, pos3=30, args=(40, 50), kw1=99, kwargs={'x': 1, 'y': 2}\n"
     ]
    }
   ],
   "source": [
    "fn7(10, 20, 30, 40, 50, kw1=99, x=1, y=2)"
   ]
  },
  {
   "cell_type": "code",
   "execution_count": null,
   "id": "6a305c35-8cd7-4e94-ba18-a8c1bb74672c",
   "metadata": {},
   "outputs": [],
   "source": []
  },
  {
   "cell_type": "code",
   "execution_count": null,
   "id": "350500d2-910b-41f2-adb2-4e5cfc119caa",
   "metadata": {},
   "outputs": [],
   "source": []
  },
  {
   "cell_type": "code",
   "execution_count": null,
   "id": "67cd6c2c-4350-4f01-80e7-216242eb1484",
   "metadata": {},
   "outputs": [],
   "source": []
  },
  {
   "cell_type": "code",
   "execution_count": 136,
   "id": "b0085645-dab6-431d-821a-d766c3bcb731",
   "metadata": {},
   "outputs": [],
   "source": [
    "def double_param(x, **kwargs):\n",
    "    return x, kwargs"
   ]
  },
  {
   "cell_type": "code",
   "execution_count": 137,
   "id": "aa844016-0984-4b0f-bdd3-a1c035394c93",
   "metadata": {},
   "outputs": [
    {
     "ename": "TypeError",
     "evalue": "double_param() got multiple values for argument 'x'",
     "output_type": "error",
     "traceback": [
      "\u001b[0;31m---------------------------------------------------------------------------\u001b[0m",
      "\u001b[0;31mTypeError\u001b[0m                                 Traceback (most recent call last)",
      "Cell \u001b[0;32mIn[137], line 1\u001b[0m\n\u001b[0;32m----> 1\u001b[0m \u001b[43mdouble_param\u001b[49m\u001b[43m(\u001b[49m\u001b[38;5;241;43m100\u001b[39;49m\u001b[43m,\u001b[49m\u001b[43m \u001b[49m\u001b[43mx\u001b[49m\u001b[38;5;241;43m=\u001b[39;49m\u001b[38;5;241;43m200\u001b[39;49m\u001b[43m)\u001b[49m\n",
      "\u001b[0;31mTypeError\u001b[0m: double_param() got multiple values for argument 'x'"
     ]
    }
   ],
   "source": [
    "double_param(100, x=200)"
   ]
  },
  {
   "cell_type": "code",
   "execution_count": 138,
   "id": "8b541fed-d0fa-4cb4-9a34-67c00959bee0",
   "metadata": {},
   "outputs": [
    {
     "ename": "TypeError",
     "evalue": "double_param() got multiple values for argument 'x'",
     "output_type": "error",
     "traceback": [
      "\u001b[0;31m---------------------------------------------------------------------------\u001b[0m",
      "\u001b[0;31mTypeError\u001b[0m                                 Traceback (most recent call last)",
      "Cell \u001b[0;32mIn[138], line 1\u001b[0m\n\u001b[0;32m----> 1\u001b[0m \u001b[43mdouble_param\u001b[49m\u001b[43m(\u001b[49m\u001b[38;5;241;43m100\u001b[39;49m\u001b[43m,\u001b[49m\u001b[43m \u001b[49m\u001b[38;5;241;43m*\u001b[39;49m\u001b[38;5;241;43m*\u001b[39;49m\u001b[43m{\u001b[49m\u001b[38;5;124;43m\"\u001b[39;49m\u001b[38;5;124;43mx\u001b[39;49m\u001b[38;5;124;43m\"\u001b[39;49m\u001b[43m:\u001b[49m\u001b[43m \u001b[49m\u001b[38;5;241;43m200\u001b[39;49m\u001b[43m}\u001b[49m\u001b[43m)\u001b[49m\n",
      "\u001b[0;31mTypeError\u001b[0m: double_param() got multiple values for argument 'x'"
     ]
    }
   ],
   "source": [
    "double_param(100, **{\"x\": 200})"
   ]
  },
  {
   "cell_type": "code",
   "execution_count": 139,
   "id": "1f59a82d-f8ea-4b70-b556-d01331ab1e30",
   "metadata": {},
   "outputs": [],
   "source": [
    "def double_param(x, /, **kwargs):\n",
    "    return x, kwargs"
   ]
  },
  {
   "cell_type": "code",
   "execution_count": 140,
   "id": "64b3d491-6483-46c0-a493-4ab2bab31781",
   "metadata": {},
   "outputs": [
    {
     "data": {
      "text/plain": [
       "(100, {'x': 200})"
      ]
     },
     "execution_count": 140,
     "metadata": {},
     "output_type": "execute_result"
    }
   ],
   "source": [
    "double_param(100, **{\"x\": 200})"
   ]
  },
  {
   "cell_type": "code",
   "execution_count": 141,
   "id": "fe250c6a-dce5-44f2-9958-8ad219d287ec",
   "metadata": {},
   "outputs": [
    {
     "data": {
      "text/plain": [
       "(100, {'x': 200})"
      ]
     },
     "execution_count": 141,
     "metadata": {},
     "output_type": "execute_result"
    }
   ],
   "source": [
    "double_param(100, x=200)"
   ]
  },
  {
   "cell_type": "code",
   "execution_count": 147,
   "id": "274c887f-8d25-4e8c-881e-6735dc4fb9ae",
   "metadata": {},
   "outputs": [],
   "source": [
    "def return_default():\n",
    "    print(\"call\")\n",
    "\n",
    "\n",
    "def return_none():\n",
    "    print(\"call\")\n",
    "    return None"
   ]
  },
  {
   "cell_type": "code",
   "execution_count": 148,
   "id": "e0ceb63d-7c33-4447-9b5c-ece570f838d9",
   "metadata": {},
   "outputs": [
    {
     "name": "stdout",
     "output_type": "stream",
     "text": [
      "call\n",
      "call\n"
     ]
    }
   ],
   "source": [
    "x = return_default()\n",
    "y = return_none()"
   ]
  },
  {
   "cell_type": "code",
   "execution_count": 149,
   "id": "13d8c3ea-a3d8-4574-909e-b12ce341c7db",
   "metadata": {},
   "outputs": [
    {
     "data": {
      "text/plain": [
       "(NoneType, True, NoneType, True)"
      ]
     },
     "execution_count": 149,
     "metadata": {},
     "output_type": "execute_result"
    }
   ],
   "source": [
    "type(x), x is None, type(y), y is None"
   ]
  },
  {
   "cell_type": "code",
   "execution_count": null,
   "id": "91ff0bc8-b370-4bf4-847c-2ac06096f807",
   "metadata": {},
   "outputs": [],
   "source": []
  },
  {
   "cell_type": "code",
   "execution_count": 150,
   "id": "76ca2e36-1d02-45b9-a7a6-7190d42bd599",
   "metadata": {},
   "outputs": [],
   "source": [
    "def create_list():\n",
    "    print(\"create_list\")\n",
    "    return [1, 2, 3]"
   ]
  },
  {
   "cell_type": "code",
   "execution_count": 154,
   "id": "598cc2ce-bcc4-4d78-b2fb-4429ad17d1b1",
   "metadata": {},
   "outputs": [
    {
     "name": "stdout",
     "output_type": "stream",
     "text": [
      "create_list\n"
     ]
    }
   ],
   "source": [
    "def use_default_val(val=create_list()):\n",
    "    print(f\"use_default_val {val=}, {id(val)=}\")"
   ]
  },
  {
   "cell_type": "code",
   "execution_count": 155,
   "id": "08105e05-c1b2-4d8b-b0c9-8448dda3f62e",
   "metadata": {},
   "outputs": [
    {
     "name": "stdout",
     "output_type": "stream",
     "text": [
      "use_default_val val=[1, 2, 3], id(val)=4463237376\n"
     ]
    }
   ],
   "source": [
    "use_default_val()"
   ]
  },
  {
   "cell_type": "code",
   "execution_count": 156,
   "id": "8b71a1ec-2a66-4b8b-a35c-5cdd789dcae2",
   "metadata": {},
   "outputs": [
    {
     "name": "stdout",
     "output_type": "stream",
     "text": [
      "use_default_val val=[1, 2, 3], id(val)=4463237376\n"
     ]
    }
   ],
   "source": [
    "use_default_val()"
   ]
  },
  {
   "cell_type": "code",
   "execution_count": null,
   "id": "9bafc61f-5064-4b41-af33-61da12a6220b",
   "metadata": {},
   "outputs": [],
   "source": []
  },
  {
   "cell_type": "code",
   "execution_count": 159,
   "id": "7dd5c19a-9051-4610-b576-150ca26207a0",
   "metadata": {},
   "outputs": [
    {
     "name": "stdout",
     "output_type": "stream",
     "text": [
      "create_list\n"
     ]
    }
   ],
   "source": [
    "def update_default_val(append_num, val=create_list()):\n",
    "    print(f\"update_default_val before {val=}, {id(val)=}\")\n",
    "    val.append(append_num)\n",
    "    print(f\"update_default_val after {val=}, {id(val)=}\")"
   ]
  },
  {
   "cell_type": "code",
   "execution_count": 160,
   "id": "9def41c3-6bfb-4bc7-a0b8-64cbf9e9c3f6",
   "metadata": {},
   "outputs": [
    {
     "name": "stdout",
     "output_type": "stream",
     "text": [
      "update_default_val before val=[1, 2, 3], id(val)=4479233408\n",
      "update_default_val after val=[1, 2, 3, 10], id(val)=4479233408\n"
     ]
    }
   ],
   "source": [
    "update_default_val(10)"
   ]
  },
  {
   "cell_type": "code",
   "execution_count": 161,
   "id": "dbd07802-32c6-4a92-ade2-a5fef949a8aa",
   "metadata": {},
   "outputs": [
    {
     "name": "stdout",
     "output_type": "stream",
     "text": [
      "update_default_val before val=[1, 2, 3, 10], id(val)=4479233408\n",
      "update_default_val after val=[1, 2, 3, 10, 20], id(val)=4479233408\n"
     ]
    }
   ],
   "source": [
    "update_default_val(20)"
   ]
  },
  {
   "cell_type": "code",
   "execution_count": 162,
   "id": "9d00dd39-7c23-4c91-8786-0d6d3e69dda9",
   "metadata": {},
   "outputs": [
    {
     "name": "stdout",
     "output_type": "stream",
     "text": [
      "update_default_val before val=[], id(val)=4462682304\n",
      "update_default_val after val=[30], id(val)=4462682304\n"
     ]
    }
   ],
   "source": [
    "update_default_val(30, [])"
   ]
  },
  {
   "cell_type": "code",
   "execution_count": 163,
   "id": "5f3461e3-3f0e-4687-80b9-7a347fd1e080",
   "metadata": {},
   "outputs": [
    {
     "name": "stdout",
     "output_type": "stream",
     "text": [
      "update_default_val before val=[], id(val)=4474736704\n",
      "update_default_val after val=[30], id(val)=4474736704\n"
     ]
    }
   ],
   "source": [
    "update_default_val(30, [])"
   ]
  },
  {
   "cell_type": "code",
   "execution_count": 164,
   "id": "759a7072-e359-4062-bbe8-c21aa76b25e9",
   "metadata": {},
   "outputs": [
    {
     "name": "stdout",
     "output_type": "stream",
     "text": [
      "update_default_val before val=[1, 2, 3, 10, 20], id(val)=4479233408\n",
      "update_default_val after val=[1, 2, 3, 10, 20, 50], id(val)=4479233408\n"
     ]
    }
   ],
   "source": [
    "update_default_val(50)"
   ]
  },
  {
   "cell_type": "code",
   "execution_count": null,
   "id": "48dcfbae-6c64-476d-a6df-ba75c4fecb17",
   "metadata": {},
   "outputs": [],
   "source": []
  },
  {
   "cell_type": "code",
   "execution_count": 165,
   "id": "80bf530b-7eee-46e4-bf06-e8a11605f8d4",
   "metadata": {},
   "outputs": [],
   "source": [
    "def create_list_default(a=[1, 2, 3]):\n",
    "    print(\"create_list\")\n",
    "    return a\n"
   ]
  },
  {
   "cell_type": "code",
   "execution_count": 166,
   "id": "eae3687d-d3eb-4d01-8a5e-829ded74f3f8",
   "metadata": {},
   "outputs": [
    {
     "name": "stdout",
     "output_type": "stream",
     "text": [
      "create_list\n",
      "create_list\n"
     ]
    }
   ],
   "source": [
    "def update_default_val_1(append_num, val=create_list_default()):\n",
    "    print(f\"update_default_val_1 before {val=}, {id(val)=}\")\n",
    "    val.append(append_num)\n",
    "    print(f\"update_default_val_1 after {val=}, {id(val)=}\")\n",
    "\n",
    "\n",
    "def update_default_val_2(append_num, val=create_list_default()):\n",
    "    print(f\"update_default_val_2 before {val=}, {id(val)=}\")\n",
    "    val.append(append_num)\n",
    "    print(f\"update_default_val_2 after {val=}, {id(val)=}\")"
   ]
  },
  {
   "cell_type": "code",
   "execution_count": 167,
   "id": "f7b3217b-307e-4459-a6b7-b7c6576e7677",
   "metadata": {},
   "outputs": [
    {
     "name": "stdout",
     "output_type": "stream",
     "text": [
      "update_default_val_1 before val=[1, 2, 3], id(val)=4479230720\n",
      "update_default_val_1 after val=[1, 2, 3, 10], id(val)=4479230720\n"
     ]
    }
   ],
   "source": [
    "update_default_val_1(10)"
   ]
  },
  {
   "cell_type": "code",
   "execution_count": 175,
   "id": "6aaba2ee-3f9f-4e75-9301-f7a843965b56",
   "metadata": {},
   "outputs": [
    {
     "name": "stdout",
     "output_type": "stream",
     "text": [
      "update_default_val_1 before val=[1, 2, 3, 10, 20, 30], id(val)=4479230720\n",
      "update_default_val_1 after val=[1, 2, 3, 10, 20, 30, 10], id(val)=4479230720\n"
     ]
    }
   ],
   "source": [
    "update_default_val_1(10)"
   ]
  },
  {
   "cell_type": "code",
   "execution_count": 168,
   "id": "747cce61-0100-4e79-bfef-9a2f7349b915",
   "metadata": {},
   "outputs": [
    {
     "name": "stdout",
     "output_type": "stream",
     "text": [
      "update_default_val_1 before val=[1, 2, 3, 10], id(val)=4479230720\n",
      "update_default_val_1 after val=[1, 2, 3, 10, 20], id(val)=4479230720\n"
     ]
    }
   ],
   "source": [
    "update_default_val_1(20)"
   ]
  },
  {
   "cell_type": "code",
   "execution_count": 169,
   "id": "4698afe9-a4d6-479d-bfb1-ae4f5f0fe128",
   "metadata": {},
   "outputs": [
    {
     "name": "stdout",
     "output_type": "stream",
     "text": [
      "update_default_val_2 before val=[1, 2, 3, 10, 20], id(val)=4479230720\n",
      "update_default_val_2 after val=[1, 2, 3, 10, 20, 30], id(val)=4479230720\n"
     ]
    }
   ],
   "source": [
    "update_default_val_2(30)"
   ]
  },
  {
   "cell_type": "code",
   "execution_count": 171,
   "id": "3200e38a-3d3e-474d-b356-fc16def209fd",
   "metadata": {},
   "outputs": [
    {
     "name": "stdout",
     "output_type": "stream",
     "text": [
      "update_default_val_1 before val=[1], id(val)=4462102400\n",
      "update_default_val_1 after val=[1, 10], id(val)=4462102400\n"
     ]
    }
   ],
   "source": [
    "update_default_val_1(10, [1])"
   ]
  },
  {
   "cell_type": "code",
   "execution_count": 172,
   "id": "11483e9c-16fe-4e76-892a-a6959448618c",
   "metadata": {},
   "outputs": [],
   "source": [
    "def update_default_val_none(append_num, val=None):\n",
    "    if val is None:\n",
    "        val = create_list()\n",
    "\n",
    "    print(f\"update_default_val_1 before {val=}, {id(val)=}\")\n",
    "    val.append(append_num)\n",
    "    print(f\"update_default_val_1 after {val=}, {id(val)=}\")"
   ]
  },
  {
   "cell_type": "code",
   "execution_count": 173,
   "id": "198767f7-aa59-4cf5-9feb-272c13a069f8",
   "metadata": {},
   "outputs": [
    {
     "name": "stdout",
     "output_type": "stream",
     "text": [
      "create_list\n",
      "update_default_val_1 before val=[1, 2, 3], id(val)=4462102400\n",
      "update_default_val_1 after val=[1, 2, 3, 10], id(val)=4462102400\n"
     ]
    }
   ],
   "source": [
    "update_default_val_none(10)"
   ]
  },
  {
   "cell_type": "code",
   "execution_count": 174,
   "id": "1310c5cb-0d8d-47ee-a85a-500a4fd5ab22",
   "metadata": {},
   "outputs": [
    {
     "name": "stdout",
     "output_type": "stream",
     "text": [
      "create_list\n",
      "update_default_val_1 before val=[1, 2, 3], id(val)=4474741248\n",
      "update_default_val_1 after val=[1, 2, 3, 10], id(val)=4474741248\n"
     ]
    }
   ],
   "source": [
    "update_default_val_none(10)"
   ]
  },
  {
   "cell_type": "code",
   "execution_count": 176,
   "id": "e9d53914-5907-42fa-9f67-de815f7b8b11",
   "metadata": {},
   "outputs": [
    {
     "name": "stdout",
     "output_type": "stream",
     "text": [
      "update_default_val_1 before val=[40, 99], id(val)=4454846080\n",
      "update_default_val_1 after val=[40, 99, 10], id(val)=4454846080\n"
     ]
    }
   ],
   "source": [
    "update_default_val_none(10, [40, 99])"
   ]
  },
  {
   "cell_type": "code",
   "execution_count": 177,
   "id": "4a35d9fc-e06c-4c18-ac7c-25bc7d10b91e",
   "metadata": {},
   "outputs": [
    {
     "name": "stdout",
     "output_type": "stream",
     "text": [
      "update_default_val_1 before val=[40, 99], id(val)=4462763776\n",
      "update_default_val_1 after val=[40, 99, 10], id(val)=4462763776\n"
     ]
    }
   ],
   "source": [
    "update_default_val_none(10, [40, 99])"
   ]
  },
  {
   "cell_type": "code",
   "execution_count": null,
   "id": "0fa33cbe-a5a3-4da1-b768-ed8d3e344b22",
   "metadata": {},
   "outputs": [],
   "source": []
  },
  {
   "cell_type": "code",
   "execution_count": null,
   "id": "20eaabb4-9901-445d-bb56-2ed671376947",
   "metadata": {},
   "outputs": [],
   "source": []
  },
  {
   "cell_type": "code",
   "execution_count": 184,
   "id": "615b73a0-ae2c-4e42-82fe-624d5e294505",
   "metadata": {},
   "outputs": [],
   "source": [
    "lst = list(range(-10, 10))"
   ]
  },
  {
   "cell_type": "code",
   "execution_count": 185,
   "id": "6e4ccccb-1391-475b-840b-9a8d45961e77",
   "metadata": {},
   "outputs": [
    {
     "data": {
      "text/plain": [
       "[0, -1, 1, -2, 2, -3, 3, -4, 4, -5, 5, -6, 6, -7, 7, -8, 8, -9, 9, -10]"
      ]
     },
     "execution_count": 185,
     "metadata": {},
     "output_type": "execute_result"
    }
   ],
   "source": [
    "sorted(lst, key=lambda item: item ** 2)"
   ]
  },
  {
   "cell_type": "code",
   "execution_count": 188,
   "id": "a62da552-fbfc-4ee0-9b0b-b1edb619b669",
   "metadata": {},
   "outputs": [
    {
     "data": {
      "text/plain": [
       "[0, -1, 1, -2, 2, -3, 3, -4, 4, -5, 5, -6, 6, -7, 7, -8, 8, -9, 9, -10]"
      ]
     },
     "execution_count": 188,
     "metadata": {},
     "output_type": "execute_result"
    }
   ],
   "source": [
    "# key_func = lambda item: item ** 2 -- nooooooooo!\n",
    "\n",
    "def key_func(item):\n",
    "    if item == 200:\n",
    "        return 100\n",
    "    if item == 30:\n",
    "        return 31\n",
    "    return item ** 2\n",
    "\n",
    "sorted(lst, key=key_func)"
   ]
  },
  {
   "cell_type": "code",
   "execution_count": null,
   "id": "63153862-a44c-4433-8034-9d76af9c1faf",
   "metadata": {},
   "outputs": [],
   "source": []
  },
  {
   "cell_type": "code",
   "execution_count": 192,
   "id": "d3a7c305-f808-4c96-bc46-31e870d680b2",
   "metadata": {},
   "outputs": [],
   "source": [
    "functions = [lambda x: x + a for a in range(10)]"
   ]
  },
  {
   "cell_type": "code",
   "execution_count": 193,
   "id": "bc0d2d1b-7a43-41c2-a56a-fcde54199dae",
   "metadata": {},
   "outputs": [
    {
     "name": "stdout",
     "output_type": "stream",
     "text": [
      "29\n",
      "29\n",
      "29\n",
      "29\n",
      "29\n",
      "29\n",
      "29\n",
      "29\n",
      "29\n",
      "29\n"
     ]
    }
   ],
   "source": [
    "for f in functions:\n",
    "    print(f(20))"
   ]
  },
  {
   "cell_type": "code",
   "execution_count": 194,
   "id": "e3c06197-f71c-4f3e-8598-1485dd626e9e",
   "metadata": {},
   "outputs": [
    {
     "data": {
      "text/plain": [
       "False"
      ]
     },
     "execution_count": 194,
     "metadata": {},
     "output_type": "execute_result"
    }
   ],
   "source": [
    "functions[0] is functions[1]"
   ]
  },
  {
   "cell_type": "code",
   "execution_count": 195,
   "id": "c08077a6-976c-42e8-ab6e-11d9b9d62cae",
   "metadata": {},
   "outputs": [
    {
     "name": "stdout",
     "output_type": "stream",
     "text": [
      "9\n",
      "9\n",
      "9\n",
      "9\n",
      "9\n",
      "9\n",
      "9\n",
      "9\n",
      "9\n",
      "9\n"
     ]
    }
   ],
   "source": [
    "functions = [lambda x: a for a in range(10)]\n",
    "for f in functions:\n",
    "    print(f(20))"
   ]
  },
  {
   "cell_type": "code",
   "execution_count": 201,
   "id": "9d0429db-1436-459c-a0da-2834687d77cf",
   "metadata": {},
   "outputs": [
    {
     "name": "stdout",
     "output_type": "stream",
     "text": [
      "0\n",
      "1\n",
      "2\n",
      "3\n",
      "4\n",
      "5\n",
      "6\n",
      "7\n",
      "8\n",
      "9\n"
     ]
    }
   ],
   "source": [
    "functions = [lambda x=a: x for a in range(10)]\n",
    "\n",
    "for f in functions:\n",
    "    print(f())"
   ]
  },
  {
   "cell_type": "code",
   "execution_count": 204,
   "id": "f348236d-7bf2-49c7-a76d-bcdadc877501",
   "metadata": {},
   "outputs": [
    {
     "name": "stdout",
     "output_type": "stream",
     "text": [
      "9\n",
      "9\n",
      "9\n",
      "9\n",
      "9\n",
      "9\n",
      "9\n",
      "9\n",
      "9\n",
      "9\n"
     ]
    }
   ],
   "source": [
    "functions = [lambda x: (y := a) for a in range(10)]\n",
    "\n",
    "for f in functions:\n",
    "    print(f(20))"
   ]
  },
  {
   "cell_type": "code",
   "execution_count": null,
   "id": "6c972009-c4a7-4496-b482-731c8717f527",
   "metadata": {},
   "outputs": [],
   "source": [
    "def gen(n):\n",
    "    for i in range(n):\n",
    "        yield i"
   ]
  },
  {
   "cell_type": "code",
   "execution_count": 209,
   "id": "3ed13f4a-d611-4a6a-89a6-c34a3d674a34",
   "metadata": {},
   "outputs": [
    {
     "data": {
      "text/plain": [
       "[4421018560,\n",
       " 4421018592,\n",
       " 4421018624,\n",
       " 4421018656,\n",
       " 4421018688,\n",
       " 4421018720,\n",
       " 4421018752,\n",
       " 4421018784,\n",
       " 4421018816,\n",
       " 4421018848]"
      ]
     },
     "execution_count": 209,
     "metadata": {},
     "output_type": "execute_result"
    }
   ],
   "source": [
    "[id(a) for a in range(10)]"
   ]
  },
  {
   "cell_type": "code",
   "execution_count": 216,
   "id": "ae354019-035a-4445-8ccf-5cf653363ee9",
   "metadata": {},
   "outputs": [
    {
     "name": "stdout",
     "output_type": "stream",
     "text": [
      "30\n",
      "31\n",
      "32\n",
      "33\n",
      "34\n",
      "-----\n",
      "24\n",
      "24\n",
      "24\n",
      "24\n",
      "24\n"
     ]
    }
   ],
   "source": [
    "funcs = []\n",
    "\n",
    "for i in range(5):\n",
    "    def fn(x):\n",
    "        return x + i\n",
    "        \n",
    "    funcs.append(fn)\n",
    "    print(fn(30))\n",
    "\n",
    "print(\"-----\")\n",
    "for fn in funcs:\n",
    "    print(fn(20))"
   ]
  },
  {
   "cell_type": "code",
   "execution_count": 213,
   "id": "0c3415ad-1e22-40cd-a321-92eddb52cb4c",
   "metadata": {},
   "outputs": [
    {
     "data": {
      "text/plain": [
       "4"
      ]
     },
     "execution_count": 213,
     "metadata": {},
     "output_type": "execute_result"
    }
   ],
   "source": [
    "i"
   ]
  },
  {
   "cell_type": "code",
   "execution_count": 214,
   "id": "090f5180-3e0a-4936-8967-33ea5b95ed4b",
   "metadata": {},
   "outputs": [],
   "source": [
    "i = 100"
   ]
  },
  {
   "cell_type": "code",
   "execution_count": 215,
   "id": "d0a4f6b0-86ae-4731-aaa8-024331189d61",
   "metadata": {},
   "outputs": [
    {
     "name": "stdout",
     "output_type": "stream",
     "text": [
      "120\n",
      "120\n",
      "120\n",
      "120\n",
      "120\n"
     ]
    }
   ],
   "source": [
    "for fn in funcs:\n",
    "    print(fn(20))"
   ]
  },
  {
   "cell_type": "code",
   "execution_count": null,
   "id": "aaa77fe3-f870-456e-aa24-b2e1789f41e8",
   "metadata": {},
   "outputs": [],
   "source": []
  },
  {
   "cell_type": "code",
   "execution_count": 219,
   "id": "8a754405-1aeb-4504-9b10-e9aa9b858554",
   "metadata": {},
   "outputs": [
    {
     "name": "stdout",
     "output_type": "stream",
     "text": [
      "add 9.5367431640625e-07\n",
      "subtrack 2.1457672119140625e-06\n",
      "add 1.1920928955078125e-06\n",
      "subtrack 7.152557373046875e-07\n",
      "30 10 7 3\n"
     ]
    }
   ],
   "source": [
    "from time import time\n",
    "\n",
    "\n",
    "def deco(fn):\n",
    "    def inner(*args, **kwargs):\n",
    "        t1 = time()\n",
    "        res = fn(*args, **kwargs)\n",
    "        t2 = time()\n",
    "        print(fn.__name__, t2 - t1)\n",
    "        return res\n",
    "    return inner\n",
    "\n",
    "\n",
    "@deco\n",
    "def add(a, b):\n",
    "    return a + b\n",
    "\n",
    "\n",
    "@deco\n",
    "def subtrack(a, b):\n",
    "    return a - b\n",
    "\n",
    "\n",
    "print(add(10, 20), subtrack(100, 90), add(3, 4), subtrack(5, 2))"
   ]
  },
  {
   "cell_type": "code",
   "execution_count": 220,
   "id": "76ea4b36-5db3-4217-a682-1d33805ef8c9",
   "metadata": {},
   "outputs": [
    {
     "name": "stdout",
     "output_type": "stream",
     "text": [
      "<function mult at 0x10aff34c0>\n",
      "8\n"
     ]
    }
   ],
   "source": [
    "def mult(a, b):\n",
    "    print(mult)\n",
    "    return a * b\n",
    "\n",
    "print(mult(2, 4))"
   ]
  },
  {
   "cell_type": "code",
   "execution_count": 221,
   "id": "49fa0e15-5c6b-44b6-937a-5686899ade4c",
   "metadata": {},
   "outputs": [],
   "source": [
    "mult = deco(mult)"
   ]
  },
  {
   "cell_type": "code",
   "execution_count": 222,
   "id": "30e887de-4fea-4cee-9214-b98c918b13f0",
   "metadata": {},
   "outputs": [
    {
     "data": {
      "text/plain": [
       "<function __main__.deco.<locals>.inner(*args, **kwargs)>"
      ]
     },
     "execution_count": 222,
     "metadata": {},
     "output_type": "execute_result"
    }
   ],
   "source": [
    "mult"
   ]
  },
  {
   "cell_type": "code",
   "execution_count": null,
   "id": "d5161db9-1e01-453c-be31-44c731613645",
   "metadata": {},
   "outputs": [],
   "source": []
  },
  {
   "cell_type": "code",
   "execution_count": 243,
   "id": "1f362aca-ef23-46de-af52-5d4d9785fd44",
   "metadata": {},
   "outputs": [
    {
     "name": "stdout",
     "output_type": "stream",
     "text": [
      "<function mult at 0x109a2f880>\n",
      "8\n"
     ]
    }
   ],
   "source": [
    "from time import sleep\n",
    "from functools import wraps\n",
    "\n",
    "\n",
    "def deco_delay(delay):\n",
    "    times = []\n",
    "    \n",
    "    def deco(fn):\n",
    "        @wraps(fn)\n",
    "        def inner(*args, **kwargs):\n",
    "            t1 = time()\n",
    "            sleep(delay)\n",
    "            res = fn(*args, **kwargs)\n",
    "            t2 = time()\n",
    "            print(fn.__name__, t2 - t1)\n",
    "            \n",
    "            times.append(t2 - t1)\n",
    "\n",
    "            return res\n",
    "        return inner\n",
    "    return deco\n",
    "\n",
    "\n",
    "@deco_delay(3)\n",
    "def add(a, b):\n",
    "    return a + b\n",
    "\n",
    "\n",
    "@deco_delay(2)\n",
    "def subtrack(a, b):\n",
    "    return a - b\n",
    "\n",
    "\n",
    "def mult(a, b):\n",
    "    print(mult)\n",
    "    return a * b\n",
    "\n",
    "print(mult(2, 4))\n",
    "\n",
    "mult = deco_delay(4)(mult)"
   ]
  },
  {
   "cell_type": "code",
   "execution_count": 230,
   "id": "e84a9970-8d1b-4cfc-9c84-5b70c97e490a",
   "metadata": {},
   "outputs": [
    {
     "name": "stdout",
     "output_type": "stream",
     "text": [
      "subtrack 2.004915237426758\n"
     ]
    },
    {
     "data": {
      "text/plain": [
       "3"
      ]
     },
     "execution_count": 230,
     "metadata": {},
     "output_type": "execute_result"
    }
   ],
   "source": [
    "subtrack(13, 10)"
   ]
  },
  {
   "cell_type": "code",
   "execution_count": 231,
   "id": "956367d5-6627-4fb8-ac3f-444034e547ff",
   "metadata": {},
   "outputs": [
    {
     "name": "stdout",
     "output_type": "stream",
     "text": [
      "add 3.0022850036621094\n"
     ]
    },
    {
     "data": {
      "text/plain": [
       "5"
      ]
     },
     "execution_count": 231,
     "metadata": {},
     "output_type": "execute_result"
    }
   ],
   "source": [
    "add(2, 3)"
   ]
  },
  {
   "cell_type": "code",
   "execution_count": 235,
   "id": "fec8d20c-2499-47d4-906b-d8e7cc008713",
   "metadata": {},
   "outputs": [
    {
     "name": "stdout",
     "output_type": "stream",
     "text": [
      "<function deco_delay.<locals>.deco.<locals>.inner at 0x10afdade0>\n",
      "mult 4.005175828933716\n"
     ]
    },
    {
     "data": {
      "text/plain": [
       "30"
      ]
     },
     "execution_count": 235,
     "metadata": {},
     "output_type": "execute_result"
    }
   ],
   "source": [
    "mult(5, 6)"
   ]
  },
  {
   "cell_type": "code",
   "execution_count": 239,
   "id": "38eec9ef-c87c-403c-9760-5093077afa8b",
   "metadata": {},
   "outputs": [
    {
     "data": {
      "text/plain": [
       "(<cell at 0x10afa79a0: int object at 0x107836440>,\n",
       " <cell at 0x10afa5c00: function object at 0x10afda660>,\n",
       " <cell at 0x10afa5120: list object at 0x10b02a300>)"
      ]
     },
     "execution_count": 239,
     "metadata": {},
     "output_type": "execute_result"
    }
   ],
   "source": [
    "mult.__closure__"
   ]
  },
  {
   "cell_type": "code",
   "execution_count": 241,
   "id": "352de081-cfee-4831-9414-0aee579106cb",
   "metadata": {},
   "outputs": [
    {
     "data": {
      "text/plain": [
       "[4, <function __main__.mult(a, b)>, [4.003561973571777, 4.005175828933716]]"
      ]
     },
     "execution_count": 241,
     "metadata": {},
     "output_type": "execute_result"
    }
   ],
   "source": [
    "[mult.__closure__[i].cell_contents for i in range(3)]"
   ]
  },
  {
   "cell_type": "code",
   "execution_count": 242,
   "id": "37f4b726-46ae-460b-8674-24980b3e25fe",
   "metadata": {},
   "outputs": [
    {
     "data": {
      "text/plain": [
       "'inner'"
      ]
     },
     "execution_count": 242,
     "metadata": {},
     "output_type": "execute_result"
    }
   ],
   "source": [
    "mult.__name__"
   ]
  },
  {
   "cell_type": "code",
   "execution_count": 244,
   "id": "77ef3452-a8aa-4c81-995e-be5ba6fe208a",
   "metadata": {},
   "outputs": [
    {
     "data": {
      "text/plain": [
       "'mult'"
      ]
     },
     "execution_count": 244,
     "metadata": {},
     "output_type": "execute_result"
    }
   ],
   "source": [
    "mult.__name__"
   ]
  },
  {
   "cell_type": "code",
   "execution_count": 245,
   "id": "a8ac7fe8-17c7-425d-b293-461ed04ef896",
   "metadata": {},
   "outputs": [
    {
     "data": {
      "text/plain": [
       "<function __main__.mult(a, b)>"
      ]
     },
     "execution_count": 245,
     "metadata": {},
     "output_type": "execute_result"
    }
   ],
   "source": [
    "mult"
   ]
  },
  {
   "cell_type": "code",
   "execution_count": 246,
   "id": "467b3f9c-2c2c-469b-9f53-b01d7e003e0b",
   "metadata": {},
   "outputs": [
    {
     "data": {
      "text/plain": [
       "<function __main__.subtrack(a, b)>"
      ]
     },
     "execution_count": 246,
     "metadata": {},
     "output_type": "execute_result"
    }
   ],
   "source": [
    "subtrack"
   ]
  },
  {
   "cell_type": "code",
   "execution_count": null,
   "id": "fcd1e6d3-59db-41df-9fe3-aca3bb344025",
   "metadata": {},
   "outputs": [],
   "source": []
  },
  {
   "cell_type": "code",
   "execution_count": 248,
   "id": "cbad2c81-919e-492a-af10-a9b9e3545ae2",
   "metadata": {},
   "outputs": [
    {
     "data": {
      "text/plain": [
       "[]"
      ]
     },
     "execution_count": 248,
     "metadata": {},
     "output_type": "execute_result"
    }
   ],
   "source": [
    "def func(param):\n",
    "    param += \"qwerty\"\n",
    "    param = []\n",
    "    return param\n",
    "\n",
    "\n",
    "obj = []       # -> PyObject(101)\n",
    "obj = \"string\" # -> PyObject(101)\n",
    "\n",
    "func(obj)\n",
    "\n",
    "param = obj # param -> PyObject(101)\n",
    "\n",
    "# obj = \"string\"\n",
    "param # -> \"stringqwerty\" PyObject(202)"
   ]
  },
  {
   "cell_type": "code",
   "execution_count": 254,
   "id": "8649ef9b-a813-4d89-b5b2-868bbee9e020",
   "metadata": {},
   "outputs": [
    {
     "name": "stdout",
     "output_type": "stream",
     "text": [
      "strqwerty str False\n"
     ]
    }
   ],
   "source": [
    "obj1 = \"str\"\n",
    "param = obj1\n",
    "param += \"qwerty\"\n",
    "\n",
    "print(param, obj1, id(param) == id(obj1))"
   ]
  },
  {
   "cell_type": "code",
   "execution_count": 253,
   "id": "64d5e993-8443-43bd-ac7b-c1711df42984",
   "metadata": {},
   "outputs": [
    {
     "name": "stdout",
     "output_type": "stream",
     "text": [
      "[1, 2] [1, 2] True\n"
     ]
    }
   ],
   "source": [
    "obj1 = [1]\n",
    "param = obj1\n",
    "param += [2]\n",
    "\n",
    "print(param, obj1, id(param) == id(obj1))"
   ]
  },
  {
   "cell_type": "code",
   "execution_count": 252,
   "id": "2806014e-db62-4f41-85f0-41b2848d4f09",
   "metadata": {},
   "outputs": [
    {
     "name": "stdout",
     "output_type": "stream",
     "text": [
      "[1, 10] [1, 10] True\n"
     ]
    }
   ],
   "source": [
    "obj1 = [1]\n",
    "param = obj1\n",
    "param.append(10)\n",
    "\n",
    "print(param, obj1, id(param) == id(obj1))"
   ]
  },
  {
   "cell_type": "code",
   "execution_count": 256,
   "id": "c4500cae-84f8-4d19-84f7-4a6baa5aae72",
   "metadata": {},
   "outputs": [
    {
     "name": "stdout",
     "output_type": "stream",
     "text": [
      "[3, 4, 5] [1] False\n"
     ]
    }
   ],
   "source": [
    "obj1 = [1]\n",
    "param = obj1  # call fn()\n",
    "param = [3, 4, 5]\n",
    "\n",
    "print(param, obj1, id(param) == id(obj1))"
   ]
  },
  {
   "cell_type": "code",
   "execution_count": null,
   "id": "fdf7d8d1-9959-4b32-a95f-8b9ef748ff6d",
   "metadata": {},
   "outputs": [],
   "source": []
  },
  {
   "cell_type": "code",
   "execution_count": null,
   "id": "1947ced4-7807-49bf-ac92-db0ece001be3",
   "metadata": {},
   "outputs": [],
   "source": []
  },
  {
   "cell_type": "code",
   "execution_count": 258,
   "id": "11035343-132a-4164-aa6a-f2cf101b48cd",
   "metadata": {},
   "outputs": [
    {
     "data": {
      "text/plain": [
       "type"
      ]
     },
     "execution_count": 258,
     "metadata": {},
     "output_type": "execute_result"
    }
   ],
   "source": [
    "type(Exception)"
   ]
  },
  {
   "cell_type": "code",
   "execution_count": 260,
   "id": "4681ea68-30af-4d0a-8e70-3070c2c4933d",
   "metadata": {},
   "outputs": [],
   "source": [
    "class BaseApiError(Exception):\n",
    "    pass\n",
    "\n",
    "\n",
    "class ClientError(BaseApiError):\n",
    "    pass\n",
    "\n",
    "\n",
    "class HttpError(BaseApiError):\n",
    "    pass\n",
    "\n",
    "\n",
    "class NotFoundError(HttpError):\n",
    "    pass"
   ]
  },
  {
   "cell_type": "code",
   "execution_count": 261,
   "id": "165a9d85-2eea-49d5-bb72-2db12d612f79",
   "metadata": {},
   "outputs": [],
   "source": [
    "def do_request():\n",
    "    raise HttpError()"
   ]
  },
  {
   "cell_type": "code",
   "execution_count": 262,
   "id": "fc00169d-b22a-4d5b-ba5a-15ea9cf3c67d",
   "metadata": {},
   "outputs": [
    {
     "ename": "HttpError",
     "evalue": "",
     "output_type": "error",
     "traceback": [
      "\u001b[0;31m---------------------------------------------------------------------------\u001b[0m",
      "\u001b[0;31mHttpError\u001b[0m                                 Traceback (most recent call last)",
      "Cell \u001b[0;32mIn[262], line 1\u001b[0m\n\u001b[0;32m----> 1\u001b[0m \u001b[43mdo_request\u001b[49m\u001b[43m(\u001b[49m\u001b[43m)\u001b[49m\n",
      "Cell \u001b[0;32mIn[261], line 2\u001b[0m, in \u001b[0;36mdo_request\u001b[0;34m()\u001b[0m\n\u001b[1;32m      1\u001b[0m \u001b[38;5;28;01mdef\u001b[39;00m \u001b[38;5;21mdo_request\u001b[39m():\n\u001b[0;32m----> 2\u001b[0m     \u001b[38;5;28;01mraise\u001b[39;00m HttpError()\n",
      "\u001b[0;31mHttpError\u001b[0m: "
     ]
    }
   ],
   "source": [
    "do_request()"
   ]
  },
  {
   "cell_type": "code",
   "execution_count": 270,
   "id": "dc97965f-736f-434b-80b4-25ef100d00ab",
   "metadata": {},
   "outputs": [
    {
     "name": "stdout",
     "output_type": "stream",
     "text": [
      "request\n",
      "else\n",
      "finally\n"
     ]
    }
   ],
   "source": [
    "try:\n",
    "    print(\"request\")\n",
    "    # do_request()\n",
    "except (ValueError, Exception) as err:\n",
    "    print(f\"Exception, {err=}\")\n",
    "else:\n",
    "    print(f\"else\")\n",
    "finally:\n",
    "    print(f\"finally\")\n"
   ]
  },
  {
   "cell_type": "code",
   "execution_count": 267,
   "id": "01de7f7f-b84a-4810-8b99-c86a82d5c3fe",
   "metadata": {},
   "outputs": [
    {
     "data": {
      "text/plain": [
       "True"
      ]
     },
     "execution_count": 267,
     "metadata": {},
     "output_type": "execute_result"
    }
   ],
   "source": [
    "isinstance(HttpError(), (ValueError, Exception))"
   ]
  },
  {
   "cell_type": "code",
   "execution_count": 272,
   "id": "acc82d23-ae56-48d2-aef6-18f764961109",
   "metadata": {},
   "outputs": [
    {
     "name": "stdout",
     "output_type": "stream",
     "text": [
      "request\n",
      "Exception, err=HttpError()\n",
      "finally\n"
     ]
    },
    {
     "ename": "HttpError",
     "evalue": "",
     "output_type": "error",
     "traceback": [
      "\u001b[0;31m---------------------------------------------------------------------------\u001b[0m",
      "\u001b[0;31mHttpError\u001b[0m                                 Traceback (most recent call last)",
      "Cell \u001b[0;32mIn[272], line 3\u001b[0m\n\u001b[1;32m      1\u001b[0m \u001b[38;5;28;01mtry\u001b[39;00m:\n\u001b[1;32m      2\u001b[0m     \u001b[38;5;28mprint\u001b[39m(\u001b[38;5;124m\"\u001b[39m\u001b[38;5;124mrequest\u001b[39m\u001b[38;5;124m\"\u001b[39m)\n\u001b[0;32m----> 3\u001b[0m     \u001b[43mdo_request\u001b[49m\u001b[43m(\u001b[49m\u001b[43m)\u001b[49m\n\u001b[1;32m      4\u001b[0m \u001b[38;5;28;01mexcept\u001b[39;00m (\u001b[38;5;167;01mValueError\u001b[39;00m, \u001b[38;5;167;01mException\u001b[39;00m) \u001b[38;5;28;01mas\u001b[39;00m err:\n\u001b[1;32m      5\u001b[0m     \u001b[38;5;28mprint\u001b[39m(\u001b[38;5;124mf\u001b[39m\u001b[38;5;124m\"\u001b[39m\u001b[38;5;124mException, \u001b[39m\u001b[38;5;132;01m{\u001b[39;00merr\u001b[38;5;132;01m=}\u001b[39;00m\u001b[38;5;124m\"\u001b[39m)\n",
      "Cell \u001b[0;32mIn[261], line 2\u001b[0m, in \u001b[0;36mdo_request\u001b[0;34m()\u001b[0m\n\u001b[1;32m      1\u001b[0m \u001b[38;5;28;01mdef\u001b[39;00m \u001b[38;5;21mdo_request\u001b[39m():\n\u001b[0;32m----> 2\u001b[0m     \u001b[38;5;28;01mraise\u001b[39;00m HttpError()\n",
      "\u001b[0;31mHttpError\u001b[0m: "
     ]
    }
   ],
   "source": [
    "try:\n",
    "    print(\"request\")\n",
    "    do_request()\n",
    "except (ValueError, Exception) as err:\n",
    "    print(f\"Exception, {err=}\")\n",
    "    raise\n",
    "else:\n",
    "    print(f\"else\")\n",
    "finally:\n",
    "    print(f\"finally\")\n"
   ]
  },
  {
   "cell_type": "code",
   "execution_count": null,
   "id": "624d9535-3c7b-4fda-98c3-947d9fe09424",
   "metadata": {},
   "outputs": [],
   "source": []
  },
  {
   "cell_type": "code",
   "execution_count": 274,
   "id": "023e44cd-d247-4876-9bc3-5662e5b3bbe1",
   "metadata": {},
   "outputs": [
    {
     "name": "stdout",
     "output_type": "stream",
     "text": [
      "request\n",
      "HttpError, err=HttpError()\n",
      "finally\n"
     ]
    }
   ],
   "source": [
    "try:\n",
    "    print(\"request\")\n",
    "    do_request()\n",
    "except NotFoundError as err:\n",
    "    print(f\"NotFoundError, {err=}\")\n",
    "except HttpError as err:\n",
    "    print(f\"HttpError, {err=}\")\n",
    "except (ValueError, Exception) as err:\n",
    "    print(f\"Exception, {err=}\")\n",
    "else:\n",
    "    print(f\"else\")\n",
    "finally:\n",
    "    print(f\"finally\")"
   ]
  },
  {
   "cell_type": "code",
   "execution_count": 275,
   "id": "c0988c30-4382-4fd2-a4b0-f6b5d7fbcfbf",
   "metadata": {},
   "outputs": [
    {
     "name": "stdout",
     "output_type": "stream",
     "text": [
      "request\n",
      "total error\n"
     ]
    }
   ],
   "source": [
    "try:\n",
    "    print(\"request\")\n",
    "    do_request()\n",
    "except:\n",
    "    print(f\"total error\")"
   ]
  },
  {
   "cell_type": "code",
   "execution_count": 276,
   "id": "ebb94a5f-2dd5-4a17-a1b5-8224d120f98c",
   "metadata": {},
   "outputs": [
    {
     "data": {
      "text/plain": [
       "True"
      ]
     },
     "execution_count": 276,
     "metadata": {},
     "output_type": "execute_result"
    }
   ],
   "source": [
    "issubclass(Exception, BaseException)"
   ]
  },
  {
   "cell_type": "code",
   "execution_count": null,
   "id": "ea0cb918-f8b9-4daf-8c60-d74adccf3279",
   "metadata": {},
   "outputs": [],
   "source": [
    "RuntimeError"
   ]
  },
  {
   "cell_type": "code",
   "execution_count": 277,
   "id": "b18aad0b-2886-4669-b5c6-29858a27dd94",
   "metadata": {},
   "outputs": [
    {
     "data": {
      "text/plain": [
       "True"
      ]
     },
     "execution_count": 277,
     "metadata": {},
     "output_type": "execute_result"
    }
   ],
   "source": [
    "issubclass(RuntimeError, BaseException)"
   ]
  },
  {
   "cell_type": "code",
   "execution_count": 278,
   "id": "4eada8eb-abfb-48d8-9698-0a69785663d1",
   "metadata": {},
   "outputs": [
    {
     "data": {
      "text/plain": [
       "True"
      ]
     },
     "execution_count": 278,
     "metadata": {},
     "output_type": "execute_result"
    }
   ],
   "source": [
    "issubclass(RuntimeError, Exception)"
   ]
  },
  {
   "cell_type": "code",
   "execution_count": null,
   "id": "69c29204-dd03-4113-a326-6c5d7cc21bf0",
   "metadata": {},
   "outputs": [],
   "source": []
  },
  {
   "cell_type": "code",
   "execution_count": null,
   "id": "794bc12a-b7cf-4e4b-874f-fa31e8af4aa8",
   "metadata": {},
   "outputs": [],
   "source": []
  },
  {
   "cell_type": "code",
   "execution_count": null,
   "id": "7ce532d0-5e8e-4f80-8767-6d8956f02ab9",
   "metadata": {},
   "outputs": [],
   "source": []
  },
  {
   "cell_type": "markdown",
   "id": "2e87ada5-7e2e-4ec7-b5e0-3f6506d4d354",
   "metadata": {},
   "source": [
    "# Еще немного про тесты"
   ]
  },
  {
   "cell_type": "code",
   "execution_count": null,
   "id": "38ec5941-af0a-4b4c-8026-2cf63c4d5885",
   "metadata": {},
   "outputs": [],
   "source": []
  },
  {
   "cell_type": "code",
   "execution_count": 64,
   "id": "eb9bbf43-b15d-4e09-84ff-b5fc9f43d7a9",
   "metadata": {},
   "outputs": [],
   "source": [
    "import unittest"
   ]
  },
  {
   "cell_type": "code",
   "execution_count": null,
   "id": "64b103c9-ecc8-46e9-9152-f146e774ebe2",
   "metadata": {},
   "outputs": [],
   "source": []
  },
  {
   "cell_type": "code",
   "execution_count": null,
   "id": "049ddefd-8df4-4420-8d2f-b73b4b3e5f2f",
   "metadata": {},
   "outputs": [],
   "source": []
  }
 ],
 "metadata": {
  "kernelspec": {
   "display_name": "Python 3 (ipykernel)",
   "language": "python",
   "name": "python3"
  },
  "language_info": {
   "codemirror_mode": {
    "name": "ipython",
    "version": 3
   },
   "file_extension": ".py",
   "mimetype": "text/x-python",
   "name": "python",
   "nbconvert_exporter": "python",
   "pygments_lexer": "ipython3",
   "version": "3.12.5"
  }
 },
 "nbformat": 4,
 "nbformat_minor": 5
}
