{
 "cells": [
  {
   "cell_type": "code",
   "execution_count": 1,
   "id": "9f0aae98-1308-46b9-bcae-1d4b5ab92b8a",
   "metadata": {},
   "outputs": [],
   "source": [
    "import logging"
   ]
  },
  {
   "cell_type": "code",
   "execution_count": 2,
   "id": "1954a321-42fd-40fb-8d5e-c7251db99f85",
   "metadata": {},
   "outputs": [],
   "source": [
    "logging.info(\"inf xxx\")"
   ]
  },
  {
   "cell_type": "code",
   "execution_count": 3,
   "id": "6f72682f-3ff0-472f-824d-ee4572f5cf9a",
   "metadata": {},
   "outputs": [
    {
     "name": "stdout",
     "output_type": "stream",
     "text": [
      "class_11.ipynb homework.md    lesson-11.pdf\n"
     ]
    }
   ],
   "source": [
    "!ls"
   ]
  },
  {
   "cell_type": "code",
   "execution_count": 4,
   "id": "779dfabe-af75-4daf-b677-e9c467aacf33",
   "metadata": {},
   "outputs": [],
   "source": [
    "root = logging.getLogger()"
   ]
  },
  {
   "cell_type": "code",
   "execution_count": 5,
   "id": "80b683a3-aabe-4548-a5b4-d89778c4887b",
   "metadata": {},
   "outputs": [
    {
     "data": {
      "text/plain": [
       "<RootLogger root (WARNING)>"
      ]
     },
     "execution_count": 5,
     "metadata": {},
     "output_type": "execute_result"
    }
   ],
   "source": [
    "root"
   ]
  },
  {
   "cell_type": "code",
   "execution_count": 6,
   "id": "cc3b95d7-961c-49b8-82c8-8a8f394226ae",
   "metadata": {},
   "outputs": [
    {
     "data": {
      "text/plain": [
       "30"
      ]
     },
     "execution_count": 6,
     "metadata": {},
     "output_type": "execute_result"
    }
   ],
   "source": [
    "root.getEffectiveLevel()"
   ]
  },
  {
   "cell_type": "code",
   "execution_count": 7,
   "id": "ba2942af-3700-4d27-bd77-bb94afdecba6",
   "metadata": {},
   "outputs": [
    {
     "data": {
      "text/plain": [
       "30"
      ]
     },
     "execution_count": 7,
     "metadata": {},
     "output_type": "execute_result"
    }
   ],
   "source": [
    "logging.WARNING"
   ]
  },
  {
   "cell_type": "code",
   "execution_count": 8,
   "id": "c059eaf5-39bf-48cb-9856-fecdcef28ebc",
   "metadata": {},
   "outputs": [
    {
     "name": "stderr",
     "output_type": "stream",
     "text": [
      "WARNING:root:warn xxx\n"
     ]
    }
   ],
   "source": [
    "logging.warning(\"warn xxx\")"
   ]
  },
  {
   "cell_type": "code",
   "execution_count": 9,
   "id": "ffb64735-0de0-43e9-b46b-e0ab19b851b2",
   "metadata": {},
   "outputs": [
    {
     "name": "stdout",
     "output_type": "stream",
     "text": [
      "class_11.ipynb homework.md    lesson-11.pdf\n"
     ]
    }
   ],
   "source": [
    "!ls"
   ]
  },
  {
   "cell_type": "code",
   "execution_count": null,
   "id": "d76a6cc9-d523-486f-8740-511bedf666ce",
   "metadata": {},
   "outputs": [],
   "source": []
  },
  {
   "cell_type": "code",
   "execution_count": null,
   "id": "b442bcec-aa21-4bb1-901e-ca744dc18f67",
   "metadata": {},
   "outputs": [],
   "source": []
  },
  {
   "cell_type": "code",
   "execution_count": 30,
   "id": "337f8ec9-853b-4185-923e-67dce97f5eca",
   "metadata": {},
   "outputs": [],
   "source": [
    "logging.basicConfig(\n",
    "    filename=\"root.log\",\n",
    "    filemode=\"w\",\n",
    "    level=logging.INFO,\n",
    "    format=\"%(asctime)s\\t%(levelname)s\\t%(name)s\\t%(message)s\",\n",
    "    force=True,\n",
    ")"
   ]
  },
  {
   "cell_type": "code",
   "execution_count": 31,
   "id": "87523bbb-e705-447b-9a7c-46e67c052b20",
   "metadata": {},
   "outputs": [],
   "source": [
    "root = logging.getLogger()"
   ]
  },
  {
   "cell_type": "code",
   "execution_count": 32,
   "id": "9a90f240-1869-4262-a0bc-41333f4c4b86",
   "metadata": {},
   "outputs": [],
   "source": [
    "logging.warning(\"warn xxx\")"
   ]
  },
  {
   "cell_type": "code",
   "execution_count": 33,
   "id": "d1251f88-2be7-4f25-9cb8-7187bd3188e1",
   "metadata": {},
   "outputs": [
    {
     "data": {
      "text/plain": [
       "<RootLogger root (INFO)>"
      ]
     },
     "execution_count": 33,
     "metadata": {},
     "output_type": "execute_result"
    }
   ],
   "source": [
    "root"
   ]
  },
  {
   "cell_type": "code",
   "execution_count": 37,
   "id": "87512a3c-1091-4d22-a85b-d31f2be7cbd8",
   "metadata": {},
   "outputs": [],
   "source": [
    "logging.info(\"inf xxx\")"
   ]
  },
  {
   "cell_type": "code",
   "execution_count": 39,
   "id": "c55fce38-f06d-4968-bf83-3f888ecc58f6",
   "metadata": {},
   "outputs": [],
   "source": [
    "def info(msg):\n",
    "    root = getLogger()\n",
    "    root.info(msg)"
   ]
  },
  {
   "cell_type": "code",
   "execution_count": 35,
   "id": "921f9e12-afe1-4781-8fff-2488e36a8f2c",
   "metadata": {},
   "outputs": [
    {
     "name": "stdout",
     "output_type": "stream",
     "text": [
      "class_11.ipynb homework.md    lesson-11.pdf  root.log\n"
     ]
    }
   ],
   "source": [
    "!ls"
   ]
  },
  {
   "cell_type": "code",
   "execution_count": 36,
   "id": "a74e9970-4ebb-4624-ba5b-dfeeb7d2b5f8",
   "metadata": {},
   "outputs": [
    {
     "name": "stdout",
     "output_type": "stream",
     "text": [
      "2024-11-22 19:37:44,623\tWARNING\troot\twarn xxx\n",
      "2024-11-22 19:37:47,610\tINFO\troot\tinf xxx\n"
     ]
    }
   ],
   "source": [
    "!cat root.log"
   ]
  },
  {
   "cell_type": "code",
   "execution_count": 41,
   "id": "5834fbc8-3727-4743-b5ea-e13e48b0bd14",
   "metadata": {},
   "outputs": [
    {
     "data": {
      "text/plain": [
       "True"
      ]
     },
     "execution_count": 41,
     "metadata": {},
     "output_type": "execute_result"
    }
   ],
   "source": [
    "root is logging.getLogger()"
   ]
  },
  {
   "cell_type": "code",
   "execution_count": 42,
   "id": "849ea603-6474-4368-b664-7dcf91f5b88b",
   "metadata": {},
   "outputs": [],
   "source": [
    "root.debug(\"dbg xxx\")\n",
    "root.info(\"inf xxx\")\n",
    "root.warning(\"warn xxx\")\n",
    "root.error(\"err xxx\")\n",
    "root.critical(\"crit xxx\")"
   ]
  },
  {
   "cell_type": "code",
   "execution_count": 43,
   "id": "fdffdc40-80ca-4df9-bd30-a463a7133080",
   "metadata": {},
   "outputs": [
    {
     "name": "stdout",
     "output_type": "stream",
     "text": [
      "2024-11-22 19:37:44,623\tWARNING\troot\twarn xxx\n",
      "2024-11-22 19:37:47,610\tINFO\troot\tinf xxx\n",
      "2024-11-22 19:42:55,670\tINFO\troot\tinf xxx\n",
      "2024-11-22 19:44:52,801\tINFO\troot\tinf xxx\n",
      "2024-11-22 19:44:52,801\tWARNING\troot\twarn xxx\n",
      "2024-11-22 19:44:52,802\tERROR\troot\terr xxx\n",
      "2024-11-22 19:44:52,803\tCRITICAL\troot\tcrit xxx\n"
     ]
    }
   ],
   "source": [
    "!cat root.log"
   ]
  },
  {
   "cell_type": "code",
   "execution_count": 46,
   "id": "c63dbb0f-84bb-4a7b-aa93-c8b4c2dac3aa",
   "metadata": {},
   "outputs": [
    {
     "data": {
      "text/plain": [
       "<FileHandler /Users/g.kandaurov/projects/hse_deep_python_autumn_2024/lesson-11/root.log (NOTSET)>"
      ]
     },
     "execution_count": 46,
     "metadata": {},
     "output_type": "execute_result"
    }
   ],
   "source": [
    "root.handlers[0]"
   ]
  },
  {
   "cell_type": "code",
   "execution_count": null,
   "id": "ce44f53f-8e5f-44a0-b657-74badb2a2eb4",
   "metadata": {},
   "outputs": [],
   "source": []
  },
  {
   "cell_type": "code",
   "execution_count": null,
   "id": "0fbe6c49-5a4a-4d34-88c1-b93ca513880d",
   "metadata": {},
   "outputs": [],
   "source": []
  },
  {
   "cell_type": "code",
   "execution_count": 74,
   "id": "f5027db3-5578-4810-8875-ac669beed96e",
   "metadata": {},
   "outputs": [],
   "source": [
    "def get_edx_logger(name):\n",
    "    edx = logging.getLogger(name)\n",
    "    edx.setLevel(logging.INFO)\n",
    "    edx.propagate = False\n",
    "\n",
    "    while edx.handlers:\n",
    "        edx.removeHandler(edx.handlers[-1])\n",
    "\n",
    "    stream_handler = logging.StreamHandler()\n",
    "    stream_handler.setLevel(logging.DEBUG)\n",
    "    stream_handler.setFormatter(\n",
    "        logging.Formatter(\n",
    "            \"STREAM %(asctime)s\\t%(levelname)s\\t%(name)s\\t%(message)s\"\n",
    "        )\n",
    "    )\n",
    "\n",
    "    file_handler = logging.FileHandler(f\"{name}.log\", mode=\"w\")\n",
    "    file_handler.setLevel(logging.ERROR)\n",
    "    file_handler.setFormatter(\n",
    "        logging.Formatter(\n",
    "            \"FILEE %(asctime)s\\t%(levelname)s\\t%(name)s\\t%(message)s\"\n",
    "        )\n",
    "    )\n",
    "\n",
    "    edx.addHandler(stream_handler)\n",
    "    edx.addHandler(file_handler)\n",
    "\n",
    "    return edx"
   ]
  },
  {
   "cell_type": "code",
   "execution_count": 58,
   "id": "39e4d78d-c556-43de-8942-28f0618b59ef",
   "metadata": {},
   "outputs": [],
   "source": [
    "edx = get_edx_logger(\"edx\")"
   ]
  },
  {
   "cell_type": "code",
   "execution_count": 52,
   "id": "4d94bf54-7aa5-476f-a180-c081d261ff19",
   "metadata": {},
   "outputs": [
    {
     "data": {
      "text/plain": [
       "(<Logger edx (INFO)>,\n",
       " [<StreamHandler stderr (DEBUG)>,\n",
       "  <FileHandler /Users/g.kandaurov/projects/hse_deep_python_autumn_2024/lesson-11/edx.log (ERROR)>])"
      ]
     },
     "execution_count": 52,
     "metadata": {},
     "output_type": "execute_result"
    }
   ],
   "source": [
    "edx, edx.handlers"
   ]
  },
  {
   "cell_type": "code",
   "execution_count": 53,
   "id": "6ac3610c-258a-4e72-b295-93bb35464cfc",
   "metadata": {},
   "outputs": [
    {
     "name": "stderr",
     "output_type": "stream",
     "text": [
      "STREAM 2024-11-22 19:55:32,583\tINFO\tedx\tinf xxx\n",
      "STREAM 2024-11-22 19:55:32,599\tWARNING\tedx\twarn xxx\n",
      "STREAM 2024-11-22 19:55:32,617\tERROR\tedx\terr xxx\n",
      "STREAM 2024-11-22 19:55:32,622\tCRITICAL\tedx\tcrit xxx\n"
     ]
    }
   ],
   "source": [
    "edx.debug(\"dbg xxx\")\n",
    "edx.info(\"inf xxx\")\n",
    "edx.warning(\"warn xxx\")\n",
    "edx.error(\"err xxx\")\n",
    "edx.critical(\"crit xxx\")"
   ]
  },
  {
   "cell_type": "code",
   "execution_count": 54,
   "id": "e3c54fac-01d9-4d5f-b6bd-6de74b6280e4",
   "metadata": {},
   "outputs": [
    {
     "name": "stdout",
     "output_type": "stream",
     "text": [
      "FILEE 2024-11-22 19:55:32,617\tERROR\tedx\terr xxx\n",
      "FILEE 2024-11-22 19:55:32,622\tCRITICAL\tedx\tcrit xxx\n"
     ]
    }
   ],
   "source": [
    "!cat edx.log"
   ]
  },
  {
   "cell_type": "code",
   "execution_count": 55,
   "id": "1a07d214-b71b-41cc-8d06-7137193db117",
   "metadata": {},
   "outputs": [
    {
     "name": "stdout",
     "output_type": "stream",
     "text": [
      "2024-11-22 19:37:44,623\tWARNING\troot\twarn xxx\n",
      "2024-11-22 19:37:47,610\tINFO\troot\tinf xxx\n",
      "2024-11-22 19:42:55,670\tINFO\troot\tinf xxx\n",
      "2024-11-22 19:44:52,801\tINFO\troot\tinf xxx\n",
      "2024-11-22 19:44:52,801\tWARNING\troot\twarn xxx\n",
      "2024-11-22 19:44:52,802\tERROR\troot\terr xxx\n",
      "2024-11-22 19:44:52,803\tCRITICAL\troot\tcrit xxx\n",
      "2024-11-22 19:55:32,583\tINFO\tedx\tinf xxx\n",
      "2024-11-22 19:55:32,599\tWARNING\tedx\twarn xxx\n",
      "2024-11-22 19:55:32,617\tERROR\tedx\terr xxx\n",
      "2024-11-22 19:55:32,622\tCRITICAL\tedx\tcrit xxx\n"
     ]
    }
   ],
   "source": [
    "!cat root.log"
   ]
  },
  {
   "cell_type": "code",
   "execution_count": 56,
   "id": "80793a7a-fa04-471a-acf5-9c78ce5fec79",
   "metadata": {},
   "outputs": [
    {
     "data": {
      "text/plain": [
       "True"
      ]
     },
     "execution_count": 56,
     "metadata": {},
     "output_type": "execute_result"
    }
   ],
   "source": [
    "edx.propagate"
   ]
  },
  {
   "cell_type": "code",
   "execution_count": null,
   "id": "967a54df-bb09-4962-be13-cb856dc8e2ec",
   "metadata": {},
   "outputs": [],
   "source": []
  },
  {
   "cell_type": "code",
   "execution_count": 59,
   "id": "bba14a54-ee08-4a36-b559-208879a0b8c0",
   "metadata": {},
   "outputs": [
    {
     "name": "stderr",
     "output_type": "stream",
     "text": [
      "STREAM 2024-11-22 19:59:31,365\tINFO\tedx\tinf xxx\n",
      "STREAM 2024-11-22 19:59:31,365\tINFO\tedx\tinf xxx\n",
      "STREAM 2024-11-22 19:59:31,365\tINFO\tedx\tinf xxx\n",
      "STREAM 2024-11-22 19:59:31,373\tWARNING\tedx\twarn xxx\n",
      "STREAM 2024-11-22 19:59:31,373\tWARNING\tedx\twarn xxx\n",
      "STREAM 2024-11-22 19:59:31,373\tWARNING\tedx\twarn xxx\n",
      "STREAM 2024-11-22 19:59:31,379\tERROR\tedx\terr xxx\n",
      "STREAM 2024-11-22 19:59:31,379\tERROR\tedx\terr xxx\n",
      "STREAM 2024-11-22 19:59:31,379\tERROR\tedx\terr xxx\n",
      "STREAM 2024-11-22 19:59:31,495\tCRITICAL\tedx\tcrit xxx\n",
      "STREAM 2024-11-22 19:59:31,495\tCRITICAL\tedx\tcrit xxx\n",
      "STREAM 2024-11-22 19:59:31,495\tCRITICAL\tedx\tcrit xxx\n"
     ]
    }
   ],
   "source": [
    "edx = get_edx_logger(\"edx\")\n",
    "\n",
    "edx.debug(\"dbg xxx\")\n",
    "edx.info(\"inf xxx\")\n",
    "edx.warning(\"warn xxx\")\n",
    "edx.error(\"err xxx\")\n",
    "edx.critical(\"crit xxx\")"
   ]
  },
  {
   "cell_type": "code",
   "execution_count": 60,
   "id": "3695a63c-b5ad-4447-b9f2-20d275b7af85",
   "metadata": {},
   "outputs": [
    {
     "name": "stdout",
     "output_type": "stream",
     "text": [
      "FILEE 2024-11-22 19:59:31,379\tERROR\tedx\terr xxx\n",
      "FILEE 2024-11-22 19:59:31,495\tCRITICAL\tedx\tcrit xxx\n",
      "FILEE 2024-11-22 19:59:31,379\tERROR\tedx\terr xxx\n",
      "FILEE 2024-11-22 19:59:31,495\tCRITICAL\tedx\tcrit xxx\n"
     ]
    }
   ],
   "source": [
    "!cat edx.log"
   ]
  },
  {
   "cell_type": "code",
   "execution_count": 61,
   "id": "e24649d8-158b-4f1c-9c76-5ba02c61397e",
   "metadata": {},
   "outputs": [
    {
     "name": "stdout",
     "output_type": "stream",
     "text": [
      "2024-11-22 19:37:44,623\tWARNING\troot\twarn xxx\n",
      "2024-11-22 19:37:47,610\tINFO\troot\tinf xxx\n",
      "2024-11-22 19:42:55,670\tINFO\troot\tinf xxx\n",
      "2024-11-22 19:44:52,801\tINFO\troot\tinf xxx\n",
      "2024-11-22 19:44:52,801\tWARNING\troot\twarn xxx\n",
      "2024-11-22 19:44:52,802\tERROR\troot\terr xxx\n",
      "2024-11-22 19:44:52,803\tCRITICAL\troot\tcrit xxx\n",
      "2024-11-22 19:55:32,583\tINFO\tedx\tinf xxx\n",
      "2024-11-22 19:55:32,599\tWARNING\tedx\twarn xxx\n",
      "2024-11-22 19:55:32,617\tERROR\tedx\terr xxx\n",
      "2024-11-22 19:55:32,622\tCRITICAL\tedx\tcrit xxx\n"
     ]
    }
   ],
   "source": [
    "!cat root.log"
   ]
  },
  {
   "cell_type": "code",
   "execution_count": 62,
   "id": "8a536e34-861c-4a35-8ed7-bf0acb0c3c6a",
   "metadata": {},
   "outputs": [
    {
     "data": {
      "text/plain": [
       "[<StreamHandler stderr (DEBUG)>,\n",
       " <FileHandler /Users/g.kandaurov/projects/hse_deep_python_autumn_2024/lesson-11/edx.log (ERROR)>,\n",
       " <StreamHandler stderr (DEBUG)>,\n",
       " <FileHandler /Users/g.kandaurov/projects/hse_deep_python_autumn_2024/lesson-11/edx.log (ERROR)>,\n",
       " <StreamHandler stderr (DEBUG)>,\n",
       " <FileHandler /Users/g.kandaurov/projects/hse_deep_python_autumn_2024/lesson-11/edx.log (ERROR)>]"
      ]
     },
     "execution_count": 62,
     "metadata": {},
     "output_type": "execute_result"
    }
   ],
   "source": [
    "edx.handlers"
   ]
  },
  {
   "cell_type": "code",
   "execution_count": null,
   "id": "37a6d85c-9d40-44ed-99be-299edd9dbe29",
   "metadata": {},
   "outputs": [],
   "source": []
  },
  {
   "cell_type": "code",
   "execution_count": null,
   "id": "33b9cb5d-a0f1-4c7f-ae47-72dd5102c153",
   "metadata": {},
   "outputs": [],
   "source": []
  },
  {
   "cell_type": "code",
   "execution_count": 64,
   "id": "5450cd37-442b-4eb3-98a1-e82f2cd57848",
   "metadata": {},
   "outputs": [
    {
     "name": "stderr",
     "output_type": "stream",
     "text": [
      "STREAM 2024-11-22 20:02:47,960\tINFO\tedx\tinf xxx\n",
      "STREAM 2024-11-22 20:02:47,963\tWARNING\tedx\twarn xxx\n",
      "STREAM 2024-11-22 20:02:47,964\tERROR\tedx\terr xxx\n",
      "STREAM 2024-11-22 20:02:47,965\tCRITICAL\tedx\tcrit xxx\n"
     ]
    }
   ],
   "source": [
    "edx = get_edx_logger(\"edx\")\n",
    "\n",
    "edx.debug(\"dbg xxx\")\n",
    "edx.info(\"inf xxx\")\n",
    "edx.warning(\"warn xxx\")\n",
    "edx.error(\"err xxx\")\n",
    "edx.critical(\"crit xxx\")"
   ]
  },
  {
   "cell_type": "code",
   "execution_count": 65,
   "id": "64967a5d-3d0d-4490-9478-e639a59e8c47",
   "metadata": {},
   "outputs": [
    {
     "name": "stdout",
     "output_type": "stream",
     "text": [
      "FILEE 2024-11-22 20:02:47,964\tERROR\tedx\terr xxx\n",
      "FILEE 2024-11-22 20:02:47,965\tCRITICAL\tedx\tcrit xxx\n",
      "FILEE 2024-11-22 20:02:47,964\tERROR\tedx\terr xxx\n",
      "FILEE 2024-11-22 20:02:47,965\tCRITICAL\tedx\tcrit xxx\n",
      "FILEE 2024-11-22 20:02:47,964\tERROR\tedx\terr xxx\n",
      "FILEE 2024-11-22 20:02:47,965\tCRITICAL\tedx\tcrit xxx\n"
     ]
    }
   ],
   "source": [
    "!cat edx.log"
   ]
  },
  {
   "cell_type": "code",
   "execution_count": 66,
   "id": "142253d9-1e82-4c7a-8202-d97093e07cdc",
   "metadata": {},
   "outputs": [
    {
     "name": "stdout",
     "output_type": "stream",
     "text": [
      "2024-11-22 19:37:44,623\tWARNING\troot\twarn xxx\n",
      "2024-11-22 19:37:47,610\tINFO\troot\tinf xxx\n",
      "2024-11-22 19:42:55,670\tINFO\troot\tinf xxx\n",
      "2024-11-22 19:44:52,801\tINFO\troot\tinf xxx\n",
      "2024-11-22 19:44:52,801\tWARNING\troot\twarn xxx\n",
      "2024-11-22 19:44:52,802\tERROR\troot\terr xxx\n",
      "2024-11-22 19:44:52,803\tCRITICAL\troot\tcrit xxx\n",
      "2024-11-22 19:55:32,583\tINFO\tedx\tinf xxx\n",
      "2024-11-22 19:55:32,599\tWARNING\tedx\twarn xxx\n",
      "2024-11-22 19:55:32,617\tERROR\tedx\terr xxx\n",
      "2024-11-22 19:55:32,622\tCRITICAL\tedx\tcrit xxx\n"
     ]
    }
   ],
   "source": [
    "!cat root.log"
   ]
  },
  {
   "cell_type": "code",
   "execution_count": 67,
   "id": "553360d1-b4d2-425c-b7e6-39df4419c1d1",
   "metadata": {},
   "outputs": [
    {
     "data": {
      "text/plain": [
       "[<FileHandler /Users/g.kandaurov/projects/hse_deep_python_autumn_2024/lesson-11/edx.log (ERROR)>,\n",
       " <FileHandler /Users/g.kandaurov/projects/hse_deep_python_autumn_2024/lesson-11/edx.log (ERROR)>,\n",
       " <FileHandler /Users/g.kandaurov/projects/hse_deep_python_autumn_2024/lesson-11/edx.log (ERROR)>,\n",
       " <StreamHandler stderr (DEBUG)>,\n",
       " <FileHandler /Users/g.kandaurov/projects/hse_deep_python_autumn_2024/lesson-11/edx.log (ERROR)>]"
      ]
     },
     "execution_count": 67,
     "metadata": {},
     "output_type": "execute_result"
    }
   ],
   "source": [
    "edx.handlers"
   ]
  },
  {
   "cell_type": "code",
   "execution_count": null,
   "id": "e87d4677-5075-4e83-b22d-015a1c9853fb",
   "metadata": {},
   "outputs": [],
   "source": []
  },
  {
   "cell_type": "code",
   "execution_count": null,
   "id": "aae828e7-159e-4c09-8e63-f0958094d2aa",
   "metadata": {},
   "outputs": [],
   "source": []
  },
  {
   "cell_type": "code",
   "execution_count": 70,
   "id": "b54089c2-c340-42eb-9f5d-3df86a92c82b",
   "metadata": {},
   "outputs": [
    {
     "name": "stdout",
     "output_type": "stream",
     "text": [
      "[0, 1, 2, 3, 4, 5, 6, 7, 8, 9]\n",
      "i=0, lst=[1, 2, 3, 4, 5, 6, 7, 8, 9]\n",
      "i=2, lst=[1, 3, 4, 5, 6, 7, 8, 9]\n",
      "i=4, lst=[1, 3, 5, 6, 7, 8, 9]\n",
      "i=6, lst=[1, 3, 5, 7, 8, 9]\n",
      "i=8, lst=[1, 3, 5, 7, 9]\n"
     ]
    }
   ],
   "source": [
    "lst = list(range(10))\n",
    "print(lst)\n",
    "\n",
    "for i in lst:\n",
    "    lst.remove(i)\n",
    "    print(f\"{i=}, {lst=}\")"
   ]
  },
  {
   "cell_type": "code",
   "execution_count": 71,
   "id": "c702758f-f73a-446b-a9c5-d22f0bccd92e",
   "metadata": {},
   "outputs": [
    {
     "name": "stdout",
     "output_type": "stream",
     "text": [
      "[0, 1, 2, 3, 4, 5, 6, 7, 8, 9, 10]\n",
      "i=0, lst=[1, 2, 3, 4, 5, 6, 7, 8, 9, 10]\n",
      "i=2, lst=[1, 3, 4, 5, 6, 7, 8, 9, 10]\n",
      "i=4, lst=[1, 3, 5, 6, 7, 8, 9, 10]\n",
      "i=6, lst=[1, 3, 5, 7, 8, 9, 10]\n",
      "i=8, lst=[1, 3, 5, 7, 9, 10]\n",
      "i=10, lst=[1, 3, 5, 7, 9]\n"
     ]
    }
   ],
   "source": [
    "lst = list(range(11))\n",
    "print(lst)\n",
    "\n",
    "for i in lst:\n",
    "    lst.remove(i)\n",
    "    print(f\"{i=}, {lst=}\")"
   ]
  },
  {
   "cell_type": "code",
   "execution_count": 72,
   "id": "0202197c-303b-4bff-b080-ce95f1c55a79",
   "metadata": {},
   "outputs": [
    {
     "name": "stdout",
     "output_type": "stream",
     "text": [
      "[0, 1, 2, 3, 4, 5, 6, 7, 8, 9]\n",
      "i=0, lst=[1, 2, 3, 4, 5, 6, 7, 8, 9]\n",
      "i=1, lst=[2, 3, 4, 5, 6, 7, 8, 9]\n",
      "i=2, lst=[3, 4, 5, 6, 7, 8, 9]\n",
      "i=3, lst=[4, 5, 6, 7, 8, 9]\n",
      "i=4, lst=[5, 6, 7, 8, 9]\n",
      "i=5, lst=[6, 7, 8, 9]\n",
      "i=6, lst=[7, 8, 9]\n",
      "i=7, lst=[8, 9]\n",
      "i=8, lst=[9]\n",
      "i=9, lst=[]\n"
     ]
    }
   ],
   "source": [
    "lst = list(range(10))\n",
    "print(lst)\n",
    "\n",
    "for i in lst[:]:\n",
    "    lst.remove(i)\n",
    "    print(f\"{i=}, {lst=}\")"
   ]
  },
  {
   "cell_type": "code",
   "execution_count": 73,
   "id": "1bb382f8-e75b-4a0d-9ae3-2872156bbed0",
   "metadata": {},
   "outputs": [
    {
     "name": "stdout",
     "output_type": "stream",
     "text": [
      "[0, 1, 2, 3, 4, 5, 6, 7, 8, 9]\n",
      "[]\n"
     ]
    }
   ],
   "source": [
    "lst = list(range(10))\n",
    "print(lst)\n",
    "\n",
    "while lst:\n",
    "    lst.pop()\n",
    "\n",
    "print(lst)"
   ]
  },
  {
   "cell_type": "code",
   "execution_count": null,
   "id": "192280f9-566f-4e12-bf4b-63c364ff031b",
   "metadata": {},
   "outputs": [],
   "source": []
  },
  {
   "cell_type": "code",
   "execution_count": null,
   "id": "232113c4-ade3-4fda-a0a7-c30a2b9ad326",
   "metadata": {},
   "outputs": [],
   "source": []
  },
  {
   "cell_type": "code",
   "execution_count": 75,
   "id": "6f698449-3537-4a41-86ca-8de2619743f8",
   "metadata": {},
   "outputs": [
    {
     "name": "stderr",
     "output_type": "stream",
     "text": [
      "STREAM 2024-11-22 20:14:07,881\tINFO\tedx\tinf xxx\n",
      "STREAM 2024-11-22 20:14:07,882\tWARNING\tedx\twarn xxx\n",
      "STREAM 2024-11-22 20:14:07,884\tERROR\tedx\terr xxx\n",
      "STREAM 2024-11-22 20:14:07,885\tCRITICAL\tedx\tcrit xxx\n"
     ]
    }
   ],
   "source": [
    "edx = get_edx_logger(\"edx\")\n",
    "\n",
    "edx.debug(\"dbg xxx\")\n",
    "edx.info(\"inf xxx\")\n",
    "edx.warning(\"warn xxx\")\n",
    "edx.error(\"err xxx\")\n",
    "edx.critical(\"crit xxx\")"
   ]
  },
  {
   "cell_type": "code",
   "execution_count": 76,
   "id": "dfbc33ab-1a96-4755-9d3b-5ba99f283c51",
   "metadata": {},
   "outputs": [
    {
     "name": "stdout",
     "output_type": "stream",
     "text": [
      "FILEE 2024-11-22 20:14:07,884\tERROR\tedx\terr xxx\n",
      "FILEE 2024-11-22 20:14:07,885\tCRITICAL\tedx\tcrit xxx\n"
     ]
    }
   ],
   "source": [
    "!cat edx.log"
   ]
  },
  {
   "cell_type": "code",
   "execution_count": 77,
   "id": "c65e4c55-d0ea-48e1-9a4b-c4cbaf0534ae",
   "metadata": {},
   "outputs": [
    {
     "data": {
      "text/plain": [
       "[<StreamHandler stderr (DEBUG)>,\n",
       " <FileHandler /Users/g.kandaurov/projects/hse_deep_python_autumn_2024/lesson-11/edx.log (ERROR)>]"
      ]
     },
     "execution_count": 77,
     "metadata": {},
     "output_type": "execute_result"
    }
   ],
   "source": [
    "edx.handlers"
   ]
  },
  {
   "cell_type": "code",
   "execution_count": null,
   "id": "42805832-758b-42d3-8b57-e26d908bc39b",
   "metadata": {},
   "outputs": [],
   "source": []
  },
  {
   "cell_type": "code",
   "execution_count": null,
   "id": "d47ab8c1-fe64-4000-a947-472c80c5e600",
   "metadata": {},
   "outputs": [],
   "source": []
  },
  {
   "cell_type": "code",
   "execution_count": 79,
   "id": "4805ad22-7bb4-4952-9446-f163d83367ff",
   "metadata": {},
   "outputs": [],
   "source": [
    "def get_edx_logger(name):\n",
    "    edx = logging.getLogger(name)\n",
    "    edx.setLevel(logging.INFO)\n",
    "    edx.propagate = False\n",
    "\n",
    "    while edx.handlers:\n",
    "        edx.removeHandler(edx.handlers[-1])\n",
    "\n",
    "    stream_handler = logging.StreamHandler()\n",
    "    stream_handler.setLevel(logging.DEBUG)\n",
    "    stream_handler.setFormatter(\n",
    "        logging.Formatter(\n",
    "            \"STREAM %(asctime)s\\t%(levelname)s\\t%(name)s\\t%(message)s\\t||%(extra_data)s\"\n",
    "        )\n",
    "    )\n",
    "\n",
    "    file_handler = logging.FileHandler(f\"{name}.log\", mode=\"w\")\n",
    "    file_handler.setLevel(logging.ERROR)\n",
    "    file_handler.setFormatter(\n",
    "        logging.Formatter(\n",
    "            \"FILEE %(asctime)s\\t%(levelname)s\\t%(name)s\\t%(message)s\"\n",
    "        )\n",
    "    )\n",
    "\n",
    "    edx.addHandler(stream_handler)\n",
    "    edx.addHandler(file_handler)\n",
    "\n",
    "    return edx"
   ]
  },
  {
   "cell_type": "code",
   "execution_count": 81,
   "id": "da37d016-5d4f-4b93-a3e2-35a70501361a",
   "metadata": {},
   "outputs": [
    {
     "name": "stderr",
     "output_type": "stream",
     "text": [
      "STREAM 2024-11-22 20:34:49,692\tERROR\tedx\terr xxx\t||qwerty\n",
      "STREAM 2024-11-22 20:34:49,697\tCRITICAL\tedx\tcrit xxx\t||qwerty\n"
     ]
    }
   ],
   "source": [
    "edx = get_edx_logger(\"edx\")\n",
    "\n",
    "edx.error(\"err xxx\", extra={\"extra_data\": \"qwerty\"})\n",
    "edx.critical(\"crit xxx\", extra={\"extra_data\": \"qwerty\"})"
   ]
  },
  {
   "cell_type": "code",
   "execution_count": 83,
   "id": "5090985e-a405-4a58-b080-cbedcf9c959d",
   "metadata": {},
   "outputs": [
    {
     "name": "stderr",
     "output_type": "stream",
     "text": [
      "STREAM 2024-11-22 20:37:56,845\tERROR\tedx\tuser Steve connecting to db Persons\t||qwerty\n",
      "STREAM 2024-11-22 20:37:56,849\tCRITICAL\tedx\tfailed user Steve connect to db Persons\t||qwerty\n"
     ]
    }
   ],
   "source": [
    "user = \"Steve\"\n",
    "dbname = \"Persons\"\n",
    "\n",
    "edx.debug(\n",
    "    f\"user {user} connecting to db {dbname}\",\n",
    "    extra={\"extra_data\": \"qwerty\"}\n",
    ")\n",
    "edx.error(\n",
    "    f\"user {user} connecting to db {dbname}\",\n",
    "    extra={\"extra_data\": \"qwerty\"}\n",
    ")\n",
    "edx.critical(\n",
    "    f\"failed user {user} connect to db {dbname}\",\n",
    "    extra={\"extra_data\": \"qwerty\"}\n",
    ")"
   ]
  },
  {
   "cell_type": "code",
   "execution_count": 86,
   "id": "806aa379-a84f-4eb2-8b7b-3307d4def6f0",
   "metadata": {},
   "outputs": [
    {
     "name": "stderr",
     "output_type": "stream",
     "text": [
      "STREAM 2024-11-22 20:42:04,106\tERROR\tedx\tuser Steve connecting to db Persons\t||qwerty\n",
      "STREAM 2024-11-22 20:42:04,109\tCRITICAL\tedx\tfailed user Steve connect to db Persons\t||qwerty\n"
     ]
    }
   ],
   "source": [
    "user = \"Steve\"\n",
    "dbname = \"Persons\"\n",
    "\n",
    "edx.debug(\n",
    "    \"user %s connecting to db %s\",\n",
    "    user, dbname,\n",
    "    extra={\"extra_data\": \"qwerty\"}\n",
    ")\n",
    "edx.error(\n",
    "    \"user %s connecting to db %s\",\n",
    "    user, dbname,\n",
    "    extra={\"extra_data\": \"qwerty\"}\n",
    ")\n",
    "edx.critical(\n",
    "    \"failed user %s connect to db %s\",\n",
    "    user, dbname,\n",
    "    extra={\"extra_data\": \"qwerty\"}\n",
    ")"
   ]
  },
  {
   "cell_type": "code",
   "execution_count": null,
   "id": "a8a02588-2ab6-4163-a16d-ec69a801677e",
   "metadata": {},
   "outputs": [],
   "source": []
  },
  {
   "cell_type": "code",
   "execution_count": null,
   "id": "2b0e97e4-8025-4146-95a2-0b146d6ab7f7",
   "metadata": {},
   "outputs": [],
   "source": []
  },
  {
   "cell_type": "code",
   "execution_count": null,
   "id": "60bb1e96-6bb3-4276-84f7-b3a08464da27",
   "metadata": {},
   "outputs": [],
   "source": []
  },
  {
   "cell_type": "code",
   "execution_count": 89,
   "id": "bb9be141-67e5-405e-a552-8dce3b908c89",
   "metadata": {},
   "outputs": [],
   "source": [
    "class DbFilter:\n",
    "    def filter(self, record):\n",
    "        return \"Steve\" == record.args[0]\n",
    "\n",
    "def get_edx_logger(name):\n",
    "    edx = logging.getLogger(name)\n",
    "    edx.setLevel(logging.INFO)\n",
    "    edx.propagate = False\n",
    "\n",
    "    while edx.handlers:\n",
    "        edx.removeHandler(edx.handlers[-1])\n",
    "\n",
    "    stream_handler = logging.StreamHandler()\n",
    "    stream_handler.setLevel(logging.DEBUG)\n",
    "    stream_handler.setFormatter(\n",
    "        logging.Formatter(\n",
    "            \"STREAM %(asctime)s\\t%(levelname)s\\t%(name)s\\t%(message)s\\t||%(extra_data)s\"\n",
    "        )\n",
    "    )\n",
    "    stream_handler.addFilter(DbFilter())\n",
    "\n",
    "    file_handler = logging.FileHandler(f\"{name}.log\", mode=\"w\")\n",
    "    file_handler.setLevel(logging.ERROR)\n",
    "    file_handler.setFormatter(\n",
    "        logging.Formatter(\n",
    "            \"FILEE %(asctime)s\\t%(levelname)s\\t%(name)s\\t%(message)s\"\n",
    "        )\n",
    "    )\n",
    "\n",
    "    edx.addHandler(stream_handler)\n",
    "    edx.addHandler(file_handler)\n",
    "\n",
    "    return edx"
   ]
  },
  {
   "cell_type": "code",
   "execution_count": 90,
   "id": "a09b2582-9857-44a3-8a67-d65c123ca6d1",
   "metadata": {},
   "outputs": [
    {
     "name": "stderr",
     "output_type": "stream",
     "text": [
      "STREAM 2024-11-22 20:51:57,185\tERROR\tedx\tuser Steve connecting to db Persons\t||qwerty\n"
     ]
    }
   ],
   "source": [
    "edx = get_edx_logger(\"edx\")\n",
    "\n",
    "user = \"Steve\"\n",
    "dbname = \"Persons\"\n",
    "\n",
    "edx.debug(\n",
    "    \"user %s connecting to db %s\",\n",
    "    user, dbname,\n",
    "    extra={\"extra_data\": \"qwerty\"}\n",
    ")\n",
    "edx.error(\n",
    "    \"user %s connecting to db %s\",\n",
    "    \"Steve\", dbname,\n",
    "    extra={\"extra_data\": \"qwerty\"}\n",
    ")\n",
    "edx.critical(\n",
    "    \"failed user %s connect to db %s\",\n",
    "    \"NotSteve\", dbname,\n",
    "    extra={\"extra_data\": \"qwerty\"}\n",
    ")"
   ]
  },
  {
   "cell_type": "code",
   "execution_count": 91,
   "id": "19237e0b-cd9f-49e6-a3d8-233a76ec7596",
   "metadata": {},
   "outputs": [
    {
     "name": "stdout",
     "output_type": "stream",
     "text": [
      "FILEE 2024-11-22 20:51:57,185\tERROR\tedx\tuser Steve connecting to db Persons\n",
      "FILEE 2024-11-22 20:51:57,190\tCRITICAL\tedx\tfailed user NotSteve connect to db Persons\n"
     ]
    }
   ],
   "source": [
    "!cat edx.log"
   ]
  },
  {
   "cell_type": "code",
   "execution_count": null,
   "id": "9ee36498-260b-4ec2-8227-7ec699e40f38",
   "metadata": {},
   "outputs": [],
   "source": []
  },
  {
   "cell_type": "code",
   "execution_count": null,
   "id": "619cab68-4fab-498b-9472-5840b48e3e59",
   "metadata": {},
   "outputs": [],
   "source": []
  },
  {
   "cell_type": "code",
   "execution_count": 1,
   "id": "83367711-1a02-4325-9b09-ab055cd67db8",
   "metadata": {},
   "outputs": [],
   "source": [
    "import logging\n",
    "import logging.config"
   ]
  },
  {
   "cell_type": "code",
   "execution_count": 2,
   "id": "27e83dc9-019f-47e8-876c-0dd9a9c89141",
   "metadata": {},
   "outputs": [],
   "source": [
    "conf = {\n",
    "    \"version\": 1,\n",
    "    \"formatters\": {\n",
    "        \"formatter_stream\": {\n",
    "            \"format\": \"STREAM %(asctime)s\\t%(levelname)s\\t%(name)s\\t%(message)s\",\n",
    "        },\n",
    "        \"formatter_file\": {\n",
    "            \"format\": \"FILEE %(asctime)s\\t%(levelname)s\\t%(name)s\\t%(message)s\",\n",
    "        },\n",
    "    },\n",
    "    \"handlers\": {\n",
    "        \"stream_handler\": {\n",
    "            \"class\": \"logging.StreamHandler\",\n",
    "            \"level\": \"INFO\",\n",
    "            \"formatter\": \"formatter_stream\",\n",
    "        },\n",
    "        \"stream_handler_root\": {\n",
    "            \"class\": \"logging.StreamHandler\",\n",
    "            \"level\": \"DEBUG\",\n",
    "            \"formatter\": \"formatter_file\",\n",
    "        },\n",
    "        \"file_handler\": {\n",
    "            \"class\": \"logging.FileHandler\",\n",
    "            \"filename\": \"dict_fh.log\",\n",
    "            \"mode\": \"w\",\n",
    "            \"level\": \"ERROR\",\n",
    "            \"formatter\": \"formatter_file\",\n",
    "        },\n",
    "    },\n",
    "    \"loggers\": {\n",
    "        # \"\": {\n",
    "        #     \"level\": \"DEBUG\",\n",
    "        #     \"handlers\": [\"stream_handler_root\"],\n",
    "        # },\n",
    "        \"edx\": {\n",
    "            \"level\": \"DEBUG\",\n",
    "            \"handlers\": [\"stream_handler\", \"file_handler\"],\n",
    "        },\n",
    "    },\n",
    "}\n",
    "\n",
    "logging.config.dictConfig(conf)"
   ]
  },
  {
   "cell_type": "code",
   "execution_count": 3,
   "id": "a5dac068-5720-4f5d-a1ec-e6ce83a490ba",
   "metadata": {},
   "outputs": [],
   "source": [
    "edx = logging.getLogger(\"edx\")"
   ]
  },
  {
   "cell_type": "code",
   "execution_count": 8,
   "id": "c504772b-a50f-4ed3-b6c8-133d34a72a86",
   "metadata": {},
   "outputs": [
    {
     "name": "stderr",
     "output_type": "stream",
     "text": [
      "FILEE 2024-11-22 21:07:48,334\tDEBUG\tedx\tdbg xxx\n",
      "STREAM 2024-11-22 21:07:48,337\tINFO\tedx\tinf xxx\n",
      "FILEE 2024-11-22 21:07:48,337\tINFO\tedx\tinf xxx\n",
      "STREAM 2024-11-22 21:07:48,339\tWARNING\tedx\twarn xxx\n",
      "FILEE 2024-11-22 21:07:48,339\tWARNING\tedx\twarn xxx\n",
      "STREAM 2024-11-22 21:07:48,341\tERROR\tedx\terr xxx\n",
      "FILEE 2024-11-22 21:07:48,341\tERROR\tedx\terr xxx\n",
      "STREAM 2024-11-22 21:07:48,343\tCRITICAL\tedx\tcrit xxx\n",
      "FILEE 2024-11-22 21:07:48,343\tCRITICAL\tedx\tcrit xxx\n"
     ]
    }
   ],
   "source": [
    "edx.debug(\"dbg xxx\")\n",
    "edx.info(\"inf xxx\")\n",
    "edx.warning(\"warn xxx\")\n",
    "edx.error(\"err xxx\")\n",
    "edx.critical(\"crit xxx\")"
   ]
  },
  {
   "cell_type": "code",
   "execution_count": 9,
   "id": "0b45e181-3c65-484b-ba04-f76f8d4fd71c",
   "metadata": {},
   "outputs": [
    {
     "name": "stdout",
     "output_type": "stream",
     "text": [
      "class_11.ipynb edx.log        lesson-11.pdf\n",
      "dict_fh.log    homework.md    root.log\n"
     ]
    }
   ],
   "source": [
    "!ls"
   ]
  },
  {
   "cell_type": "code",
   "execution_count": 10,
   "id": "28ec15c6-5dca-4ce3-b3d8-d979240c0bc0",
   "metadata": {},
   "outputs": [
    {
     "name": "stdout",
     "output_type": "stream",
     "text": [
      "FILEE 2024-11-22 21:07:48,341\tERROR\tedx\terr xxx\n",
      "FILEE 2024-11-22 21:07:48,343\tCRITICAL\tedx\tcrit xxx\n"
     ]
    }
   ],
   "source": [
    "!cat dict_fh.log"
   ]
  },
  {
   "cell_type": "code",
   "execution_count": 11,
   "id": "0da54ecd-1f37-41d4-b6aa-35390e8b610d",
   "metadata": {},
   "outputs": [],
   "source": [
    "edx.propagate = False"
   ]
  },
  {
   "cell_type": "code",
   "execution_count": 12,
   "id": "8629079b-18b2-49c9-9572-b2387e5512be",
   "metadata": {},
   "outputs": [
    {
     "name": "stderr",
     "output_type": "stream",
     "text": [
      "STREAM 2024-11-22 21:09:15,891\tINFO\tedx\tinf xxx\n",
      "STREAM 2024-11-22 21:09:15,893\tWARNING\tedx\twarn xxx\n",
      "STREAM 2024-11-22 21:09:15,898\tERROR\tedx\terr xxx\n",
      "STREAM 2024-11-22 21:09:15,900\tCRITICAL\tedx\tcrit xxx\n"
     ]
    }
   ],
   "source": [
    "edx.debug(\"dbg xxx\")\n",
    "edx.info(\"inf xxx\")\n",
    "edx.warning(\"warn xxx\")\n",
    "edx.error(\"err xxx\")\n",
    "edx.critical(\"crit xxx\")"
   ]
  },
  {
   "cell_type": "code",
   "execution_count": 4,
   "id": "00662da6-5b26-4df6-8c25-04ab98db894a",
   "metadata": {},
   "outputs": [
    {
     "name": "stderr",
     "output_type": "stream",
     "text": [
      "STREAM 2024-11-22 21:13:15,943\tINFO\tedx\tinf xxx\n",
      "STREAM 2024-11-22 21:13:15,945\tWARNING\tedx\twarn xxx\n",
      "STREAM 2024-11-22 21:13:15,947\tERROR\tedx\terr xxx\n",
      "STREAM 2024-11-22 21:13:15,948\tCRITICAL\tedx\tcrit xxx\n"
     ]
    }
   ],
   "source": [
    "edx.debug(\"dbg xxx\")\n",
    "edx.info(\"inf xxx\")\n",
    "edx.warning(\"warn xxx\")\n",
    "edx.error(\"err xxx\")\n",
    "edx.critical(\"crit xxx\")"
   ]
  },
  {
   "cell_type": "code",
   "execution_count": 16,
   "id": "8ea38070-4fd7-4a09-bd9c-436921c78ef6",
   "metadata": {},
   "outputs": [
    {
     "name": "stdout",
     "output_type": "stream",
     "text": [
      "FILEE 2024-11-22 21:11:20,849\tERROR\tedx\terr xxx\n",
      "FILEE 2024-11-22 21:11:20,851\tCRITICAL\tedx\tcrit xxx\n"
     ]
    }
   ],
   "source": [
    "!cat dict_fh.log"
   ]
  },
  {
   "cell_type": "code",
   "execution_count": 5,
   "id": "74b53007-65d8-4165-bff1-9af776c8b6bd",
   "metadata": {},
   "outputs": [],
   "source": [
    "root = logging.getLogger()"
   ]
  },
  {
   "cell_type": "code",
   "execution_count": 6,
   "id": "e33e2a49-fdf2-438e-9645-6f5421b0fa01",
   "metadata": {},
   "outputs": [
    {
     "data": {
      "text/plain": [
       "<RootLogger root (WARNING)>"
      ]
     },
     "execution_count": 6,
     "metadata": {},
     "output_type": "execute_result"
    }
   ],
   "source": [
    "root"
   ]
  },
  {
   "cell_type": "code",
   "execution_count": 7,
   "id": "ccb1f642-d26d-4b41-9529-5f266630d9f2",
   "metadata": {},
   "outputs": [
    {
     "name": "stderr",
     "output_type": "stream",
     "text": [
      "STREAM 2024-11-22 21:13:53,592\tINFO\tedx\tinf xxx\n",
      "STREAM 2024-11-22 21:13:53,602\tWARNING\tedx\twarn xxx\n",
      "STREAM 2024-11-22 21:13:53,603\tERROR\tedx\terr xxx\n",
      "STREAM 2024-11-22 21:13:53,605\tCRITICAL\tedx\tcrit xxx\n"
     ]
    }
   ],
   "source": [
    "edx.debug(\"dbg xxx\")\n",
    "edx.info(\"inf xxx\")\n",
    "edx.warning(\"warn xxx\")\n",
    "edx.error(\"err xxx\")\n",
    "edx.critical(\"crit xxx\")"
   ]
  },
  {
   "cell_type": "code",
   "execution_count": 8,
   "id": "64e0778e-a504-45ef-a089-78bac9866ac9",
   "metadata": {},
   "outputs": [
    {
     "data": {
      "text/plain": [
       "True"
      ]
     },
     "execution_count": 8,
     "metadata": {},
     "output_type": "execute_result"
    }
   ],
   "source": [
    "edx.propagate"
   ]
  },
  {
   "cell_type": "code",
   "execution_count": 9,
   "id": "9b55d3d7-6d09-48a8-b4eb-b4158e76ea0e",
   "metadata": {},
   "outputs": [
    {
     "name": "stderr",
     "output_type": "stream",
     "text": [
      "dwkdjwkjd\n"
     ]
    }
   ],
   "source": [
    "root.error(\"dwkdjwkjd\")"
   ]
  },
  {
   "cell_type": "code",
   "execution_count": 10,
   "id": "a640ffe6-b45e-402f-a4e6-170e84e6a662",
   "metadata": {},
   "outputs": [
    {
     "name": "stderr",
     "output_type": "stream",
     "text": [
      "STREAM 2024-11-22 21:15:29,493\tINFO\tedx\tinf xxx\n",
      "STREAM 2024-11-22 21:15:29,495\tWARNING\tedx\twarn xxx\n",
      "STREAM 2024-11-22 21:15:29,496\tERROR\tedx\terr xxx\n",
      "STREAM 2024-11-22 21:15:29,498\tCRITICAL\tedx\tcrit xxx\n"
     ]
    }
   ],
   "source": [
    "edx.debug(\"dbg xxx\")\n",
    "edx.info(\"inf xxx\")\n",
    "edx.warning(\"warn xxx\")\n",
    "edx.error(\"err xxx\")\n",
    "edx.critical(\"crit xxx\")"
   ]
  },
  {
   "cell_type": "code",
   "execution_count": null,
   "id": "73b07075-6b2e-40f2-993c-5538dbf7af15",
   "metadata": {},
   "outputs": [],
   "source": []
  }
 ],
 "metadata": {
  "kernelspec": {
   "display_name": "Python 3 (ipykernel)",
   "language": "python",
   "name": "python3"
  },
  "language_info": {
   "codemirror_mode": {
    "name": "ipython",
    "version": 3
   },
   "file_extension": ".py",
   "mimetype": "text/x-python",
   "name": "python",
   "nbconvert_exporter": "python",
   "pygments_lexer": "ipython3",
   "version": "3.12.5"
  }
 },
 "nbformat": 4,
 "nbformat_minor": 5
}
