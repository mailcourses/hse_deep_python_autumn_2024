{
 "cells": [
  {
   "cell_type": "code",
   "execution_count": 1,
   "id": "9f54bdd0-87c1-4d30-88c5-48f1c58488ff",
   "metadata": {},
   "outputs": [],
   "source": [
    "def grep_gen(pattern):\n",
    "    print(\"start grep for\", pattern)\n",
    "    i = 0\n",
    "    while True:\n",
    "        s = yield i\n",
    "        i += 1\n",
    "        if pattern in s:\n",
    "            print(\"found!\", s)\n",
    "        else:\n",
    "            print(\"no %s in %s\" % (pattern, s))"
   ]
  },
  {
   "cell_type": "code",
   "execution_count": 2,
   "id": "3f525930-19cf-4d77-8022-6ca544065eb1",
   "metadata": {},
   "outputs": [],
   "source": [
    "grep = grep_gen(\"python\")"
   ]
  },
  {
   "cell_type": "code",
   "execution_count": 3,
   "id": "70ca62b3-ed37-4d8d-9872-dd94eab5eda7",
   "metadata": {},
   "outputs": [
    {
     "name": "stdout",
     "output_type": "stream",
     "text": [
      "start grep for python\n"
     ]
    },
    {
     "data": {
      "text/plain": [
       "0"
      ]
     },
     "execution_count": 3,
     "metadata": {},
     "output_type": "execute_result"
    }
   ],
   "source": [
    "next(grep)"
   ]
  },
  {
   "cell_type": "code",
   "execution_count": 4,
   "id": "a0fbeb3d-3873-441f-b5a8-6fb8665efc28",
   "metadata": {},
   "outputs": [],
   "source": [
    "grep = grep_gen(\"python\")"
   ]
  },
  {
   "cell_type": "code",
   "execution_count": 6,
   "id": "9cf14b38-d236-4bbb-a891-fe107a897403",
   "metadata": {},
   "outputs": [
    {
     "name": "stdout",
     "output_type": "stream",
     "text": [
      "start grep for python\n"
     ]
    },
    {
     "data": {
      "text/plain": [
       "0"
      ]
     },
     "execution_count": 6,
     "metadata": {},
     "output_type": "execute_result"
    }
   ],
   "source": [
    "grep.send(None)"
   ]
  },
  {
   "cell_type": "code",
   "execution_count": 7,
   "id": "92e9ed5a-4637-4a7f-a64c-2a5750443f0b",
   "metadata": {},
   "outputs": [
    {
     "name": "stdout",
     "output_type": "stream",
     "text": [
      "no python in abc\n"
     ]
    },
    {
     "data": {
      "text/plain": [
       "1"
      ]
     },
     "execution_count": 7,
     "metadata": {},
     "output_type": "execute_result"
    }
   ],
   "source": [
    "grep.send(\"abc\")"
   ]
  },
  {
   "cell_type": "code",
   "execution_count": 8,
   "id": "74b991d1-c569-4f50-97ee-17971826012e",
   "metadata": {},
   "outputs": [
    {
     "name": "stdout",
     "output_type": "stream",
     "text": [
      "no python in abcdef\n"
     ]
    },
    {
     "data": {
      "text/plain": [
       "2"
      ]
     },
     "execution_count": 8,
     "metadata": {},
     "output_type": "execute_result"
    }
   ],
   "source": [
    "grep.send(\"abcdef\")"
   ]
  },
  {
   "cell_type": "code",
   "execution_count": 9,
   "id": "4590087c-daf7-4770-94d2-d991027ff0f9",
   "metadata": {},
   "outputs": [
    {
     "ename": "TypeError",
     "evalue": "argument of type 'NoneType' is not iterable",
     "output_type": "error",
     "traceback": [
      "\u001b[0;31m---------------------------------------------------------------------------\u001b[0m",
      "\u001b[0;31mTypeError\u001b[0m                                 Traceback (most recent call last)",
      "Cell \u001b[0;32mIn[9], line 1\u001b[0m\n\u001b[0;32m----> 1\u001b[0m \u001b[38;5;28;43mnext\u001b[39;49m\u001b[43m(\u001b[49m\u001b[43mgrep\u001b[49m\u001b[43m)\u001b[49m\n",
      "Cell \u001b[0;32mIn[1], line 7\u001b[0m, in \u001b[0;36mgrep_gen\u001b[0;34m(pattern)\u001b[0m\n\u001b[1;32m      5\u001b[0m s \u001b[38;5;241m=\u001b[39m \u001b[38;5;28;01myield\u001b[39;00m i\n\u001b[1;32m      6\u001b[0m i \u001b[38;5;241m+\u001b[39m\u001b[38;5;241m=\u001b[39m \u001b[38;5;241m1\u001b[39m\n\u001b[0;32m----> 7\u001b[0m \u001b[38;5;28;01mif\u001b[39;00m \u001b[43mpattern\u001b[49m\u001b[43m \u001b[49m\u001b[38;5;129;43;01min\u001b[39;49;00m\u001b[43m \u001b[49m\u001b[43ms\u001b[49m:\n\u001b[1;32m      8\u001b[0m     \u001b[38;5;28mprint\u001b[39m(\u001b[38;5;124m\"\u001b[39m\u001b[38;5;124mfound!\u001b[39m\u001b[38;5;124m\"\u001b[39m, s)\n\u001b[1;32m      9\u001b[0m \u001b[38;5;28;01melse\u001b[39;00m:\n",
      "\u001b[0;31mTypeError\u001b[0m: argument of type 'NoneType' is not iterable"
     ]
    }
   ],
   "source": [
    "next(grep)"
   ]
  },
  {
   "cell_type": "code",
   "execution_count": 10,
   "id": "ef57adcc-adb8-41ba-964b-e112b7226098",
   "metadata": {},
   "outputs": [
    {
     "ename": "StopIteration",
     "evalue": "",
     "output_type": "error",
     "traceback": [
      "\u001b[0;31m---------------------------------------------------------------------------\u001b[0m",
      "\u001b[0;31mStopIteration\u001b[0m                             Traceback (most recent call last)",
      "Cell \u001b[0;32mIn[10], line 1\u001b[0m\n\u001b[0;32m----> 1\u001b[0m \u001b[43mgrep\u001b[49m\u001b[38;5;241;43m.\u001b[39;49m\u001b[43msend\u001b[49m\u001b[43m(\u001b[49m\u001b[38;5;124;43m\"\u001b[39;49m\u001b[38;5;124;43mabcdef\u001b[39;49m\u001b[38;5;124;43m\"\u001b[39;49m\u001b[43m)\u001b[49m\n",
      "\u001b[0;31mStopIteration\u001b[0m: "
     ]
    }
   ],
   "source": [
    "grep.send(\"abcdef\")"
   ]
  },
  {
   "cell_type": "code",
   "execution_count": 11,
   "id": "ca711f62-0109-48ba-8428-5fa083d2f8a1",
   "metadata": {},
   "outputs": [],
   "source": [
    "grep = grep_gen(\"python\")"
   ]
  },
  {
   "cell_type": "code",
   "execution_count": 12,
   "id": "8f38df76-eeb3-4a47-9aa4-73f4b23615ff",
   "metadata": {},
   "outputs": [
    {
     "name": "stdout",
     "output_type": "stream",
     "text": [
      "start grep for python\n"
     ]
    },
    {
     "data": {
      "text/plain": [
       "0"
      ]
     },
     "execution_count": 12,
     "metadata": {},
     "output_type": "execute_result"
    }
   ],
   "source": [
    "next(grep)"
   ]
  },
  {
   "cell_type": "code",
   "execution_count": 13,
   "id": "eab4ae4e-80d1-40a1-a95c-0d756231a7c6",
   "metadata": {},
   "outputs": [
    {
     "name": "stdout",
     "output_type": "stream",
     "text": [
      "no python in ptyhon\n"
     ]
    },
    {
     "data": {
      "text/plain": [
       "1"
      ]
     },
     "execution_count": 13,
     "metadata": {},
     "output_type": "execute_result"
    }
   ],
   "source": [
    "grep.send(\"ptyhon\")"
   ]
  },
  {
   "cell_type": "code",
   "execution_count": 14,
   "id": "47af2ee3-f208-469f-9d76-49290184b9fa",
   "metadata": {},
   "outputs": [
    {
     "name": "stdout",
     "output_type": "stream",
     "text": [
      "found! python\n"
     ]
    },
    {
     "data": {
      "text/plain": [
       "2"
      ]
     },
     "execution_count": 14,
     "metadata": {},
     "output_type": "execute_result"
    }
   ],
   "source": [
    "grep.send(\"python\")"
   ]
  },
  {
   "cell_type": "code",
   "execution_count": 15,
   "id": "d8fde39a-063d-405d-8416-faaa7de759d3",
   "metadata": {},
   "outputs": [
    {
     "ename": "ValueError",
     "evalue": "wrong",
     "output_type": "error",
     "traceback": [
      "\u001b[0;31m---------------------------------------------------------------------------\u001b[0m",
      "\u001b[0;31mValueError\u001b[0m                                Traceback (most recent call last)",
      "Cell \u001b[0;32mIn[15], line 1\u001b[0m\n\u001b[0;32m----> 1\u001b[0m \u001b[43mgrep\u001b[49m\u001b[38;5;241;43m.\u001b[39;49m\u001b[43mthrow\u001b[49m\u001b[43m(\u001b[49m\u001b[38;5;167;43;01mValueError\u001b[39;49;00m\u001b[43m(\u001b[49m\u001b[38;5;124;43m\"\u001b[39;49m\u001b[38;5;124;43mwrong\u001b[39;49m\u001b[38;5;124;43m\"\u001b[39;49m\u001b[43m)\u001b[49m\u001b[43m)\u001b[49m\n",
      "Cell \u001b[0;32mIn[1], line 5\u001b[0m, in \u001b[0;36mgrep_gen\u001b[0;34m(pattern)\u001b[0m\n\u001b[1;32m      3\u001b[0m i \u001b[38;5;241m=\u001b[39m \u001b[38;5;241m0\u001b[39m\n\u001b[1;32m      4\u001b[0m \u001b[38;5;28;01mwhile\u001b[39;00m \u001b[38;5;28;01mTrue\u001b[39;00m:\n\u001b[0;32m----> 5\u001b[0m     s \u001b[38;5;241m=\u001b[39m \u001b[38;5;28;01myield\u001b[39;00m i\n\u001b[1;32m      6\u001b[0m     i \u001b[38;5;241m+\u001b[39m\u001b[38;5;241m=\u001b[39m \u001b[38;5;241m1\u001b[39m\n\u001b[1;32m      7\u001b[0m     \u001b[38;5;28;01mif\u001b[39;00m pattern \u001b[38;5;129;01min\u001b[39;00m s:\n",
      "\u001b[0;31mValueError\u001b[0m: wrong"
     ]
    }
   ],
   "source": [
    "grep.throw(ValueError(\"wrong\"))"
   ]
  },
  {
   "cell_type": "code",
   "execution_count": null,
   "id": "a1db406f-1736-4dd6-a38e-6dd525565da9",
   "metadata": {},
   "outputs": [],
   "source": []
  },
  {
   "cell_type": "code",
   "execution_count": null,
   "id": "f8b9d3cd-152e-4173-99b1-76d14f06922f",
   "metadata": {},
   "outputs": [],
   "source": []
  },
  {
   "cell_type": "code",
   "execution_count": null,
   "id": "00dec2b7-2f86-4b71-bf7c-2bc040bfdb83",
   "metadata": {},
   "outputs": [],
   "source": []
  },
  {
   "cell_type": "code",
   "execution_count": 16,
   "id": "435d9b6a-5254-499b-8e8a-4d63d7f034f4",
   "metadata": {},
   "outputs": [],
   "source": [
    "# start..stop step, step - update"
   ]
  },
  {
   "cell_type": "code",
   "execution_count": 22,
   "id": "8f4f89ca-b233-46b3-a490-137f8685e068",
   "metadata": {},
   "outputs": [],
   "source": [
    "def counter(start, stop, step):\n",
    "    while start < stop:\n",
    "        step_cand = yield start\n",
    "\n",
    "        if step_cand is not None:\n",
    "            step = step_cand\n",
    "\n",
    "        start += step"
   ]
  },
  {
   "cell_type": "code",
   "execution_count": 24,
   "id": "f9bd8193-8d45-4e2a-a330-a323c163492b",
   "metadata": {},
   "outputs": [],
   "source": [
    "cnt = counter(0, 20, 3)"
   ]
  },
  {
   "cell_type": "code",
   "execution_count": 25,
   "id": "2dce2618-fd7e-4fd1-b946-debcf36b1202",
   "metadata": {},
   "outputs": [
    {
     "data": {
      "text/plain": [
       "0"
      ]
     },
     "execution_count": 25,
     "metadata": {},
     "output_type": "execute_result"
    }
   ],
   "source": [
    "next(cnt)"
   ]
  },
  {
   "cell_type": "code",
   "execution_count": 26,
   "id": "5c01682c-c9a2-4913-9e25-4da8be7ae2f1",
   "metadata": {},
   "outputs": [
    {
     "data": {
      "text/plain": [
       "3"
      ]
     },
     "execution_count": 26,
     "metadata": {},
     "output_type": "execute_result"
    }
   ],
   "source": [
    "next(cnt)"
   ]
  },
  {
   "cell_type": "code",
   "execution_count": 27,
   "id": "b857333b-9bb4-4bab-9a95-ba5f5be08cfd",
   "metadata": {},
   "outputs": [
    {
     "data": {
      "text/plain": [
       "6"
      ]
     },
     "execution_count": 27,
     "metadata": {},
     "output_type": "execute_result"
    }
   ],
   "source": [
    "next(cnt)"
   ]
  },
  {
   "cell_type": "code",
   "execution_count": 28,
   "id": "2dad0928-e9b3-40d3-a1c1-be891c7ad24e",
   "metadata": {},
   "outputs": [
    {
     "data": {
      "text/plain": [
       "11"
      ]
     },
     "execution_count": 28,
     "metadata": {},
     "output_type": "execute_result"
    }
   ],
   "source": [
    "cnt.send(5)"
   ]
  },
  {
   "cell_type": "code",
   "execution_count": 29,
   "id": "86781ed4-8eab-4e5c-b38f-2625dfe2fc0b",
   "metadata": {},
   "outputs": [
    {
     "data": {
      "text/plain": [
       "16"
      ]
     },
     "execution_count": 29,
     "metadata": {},
     "output_type": "execute_result"
    }
   ],
   "source": [
    "next(cnt)"
   ]
  },
  {
   "cell_type": "code",
   "execution_count": 30,
   "id": "e23bc46b-0e24-46c0-9964-3fec5a098845",
   "metadata": {},
   "outputs": [
    {
     "ename": "StopIteration",
     "evalue": "",
     "output_type": "error",
     "traceback": [
      "\u001b[0;31m---------------------------------------------------------------------------\u001b[0m",
      "\u001b[0;31mStopIteration\u001b[0m                             Traceback (most recent call last)",
      "Cell \u001b[0;32mIn[30], line 1\u001b[0m\n\u001b[0;32m----> 1\u001b[0m \u001b[38;5;28;43mnext\u001b[39;49m\u001b[43m(\u001b[49m\u001b[43mcnt\u001b[49m\u001b[43m)\u001b[49m\n",
      "\u001b[0;31mStopIteration\u001b[0m: "
     ]
    }
   ],
   "source": [
    "next(cnt)"
   ]
  },
  {
   "cell_type": "code",
   "execution_count": null,
   "id": "04ae2481-59dd-45e9-8be5-c67ebafcc861",
   "metadata": {},
   "outputs": [],
   "source": []
  },
  {
   "cell_type": "code",
   "execution_count": 38,
   "id": "17cf0ddf-ebe8-4bde-8933-46e033a604b9",
   "metadata": {},
   "outputs": [],
   "source": [
    "import asyncio\n",
    "import time"
   ]
  },
  {
   "cell_type": "code",
   "execution_count": 32,
   "id": "416f2853-6cf0-445d-9484-6b65dba92928",
   "metadata": {},
   "outputs": [],
   "source": [
    "# async/await\n",
    "# async for\n",
    "# async with"
   ]
  },
  {
   "cell_type": "code",
   "execution_count": 34,
   "id": "02c8ede0-38fe-4054-b0d8-bbac23a06fdf",
   "metadata": {},
   "outputs": [],
   "source": [
    "async def say_after(phrase, n):\n",
    "    print(f\"before {phrase=}\")\n",
    "    await asyncio.sleep(n)\n",
    "    print(f\"after {phrase=}\")"
   ]
  },
  {
   "cell_type": "code",
   "execution_count": 41,
   "id": "79efeeba-595b-4248-b07c-b5fd18b8c0c7",
   "metadata": {},
   "outputs": [
    {
     "name": "stdout",
     "output_type": "stream",
     "text": [
      "before phrase='qwerty'\n",
      "after phrase='qwerty'\n",
      "before phrase='12345'\n",
      "after phrase='12345'\n",
      "total time 3.002401113510132\n"
     ]
    }
   ],
   "source": [
    "t1 = time.time()\n",
    "\n",
    "await say_after(\"qwerty\", 2)\n",
    "await say_after(\"12345\", 1)\n",
    "\n",
    "t2 = time.time()\n",
    "print(\"total time\", t2 - t1)"
   ]
  },
  {
   "cell_type": "code",
   "execution_count": 42,
   "id": "005a6380-0b3e-40cd-84bb-1e1f75b7719d",
   "metadata": {},
   "outputs": [
    {
     "name": "stdout",
     "output_type": "stream",
     "text": [
      "before phrase='12345'\n",
      "after phrase='12345'\n",
      "before phrase='qwerty'\n",
      "after phrase='qwerty'\n",
      "total time 3.002173900604248\n"
     ]
    }
   ],
   "source": [
    "t1 = time.time()\n",
    "\n",
    "qwerty = say_after(\"qwerty\", 2)\n",
    "await say_after(\"12345\", 1)\n",
    "await qwerty\n",
    "\n",
    "t2 = time.time()\n",
    "print(\"total time\", t2 - t1)"
   ]
  },
  {
   "cell_type": "code",
   "execution_count": null,
   "id": "51f8f131-c8c9-4c06-a1d0-c65b6ed8c5fe",
   "metadata": {},
   "outputs": [],
   "source": []
  },
  {
   "cell_type": "code",
   "execution_count": 44,
   "id": "24179d17-1952-4e03-9fb4-0a5e9b0450aa",
   "metadata": {},
   "outputs": [
    {
     "name": "stdout",
     "output_type": "stream",
     "text": [
      "before phrase='12345'\n",
      "before phrase='qwerty'\n",
      "after phrase='12345'\n",
      "after phrase='qwerty'\n",
      "total time 2.019881010055542\n"
     ]
    }
   ],
   "source": [
    "async def main():\n",
    "    qwerty = asyncio.create_task(say_after(\"qwerty\", 2))\n",
    "    await say_after(\"12345\", 1)\n",
    "    await qwerty\n",
    "\n",
    "\n",
    "t1 = time.time()\n",
    "\n",
    "await main()\n",
    "\n",
    "t2 = time.time()\n",
    "print(\"total time\", t2 - t1)"
   ]
  },
  {
   "cell_type": "code",
   "execution_count": 45,
   "id": "92aadc95-aeab-441f-89e2-cff86ad7ba57",
   "metadata": {},
   "outputs": [
    {
     "name": "stdout",
     "output_type": "stream",
     "text": [
      "before phrase='qwerty'\n",
      "before phrase='12345'\n",
      "after phrase='12345'\n",
      "after phrase='qwerty'\n",
      "total time 2.0108141899108887\n"
     ]
    }
   ],
   "source": [
    "async def main():\n",
    "    qwerty = asyncio.create_task(say_after(\"qwerty\", 2))\n",
    "    await asyncio.create_task(say_after(\"12345\", 1))\n",
    "    await qwerty\n",
    "\n",
    "\n",
    "t1 = time.time()\n",
    "\n",
    "await main()\n",
    "\n",
    "t2 = time.time()\n",
    "print(\"total time\", t2 - t1)"
   ]
  },
  {
   "cell_type": "code",
   "execution_count": 55,
   "id": "1a300ab9-bdaf-4aba-befd-3a5931e08ff5",
   "metadata": {},
   "outputs": [
    {
     "name": "stdout",
     "output_type": "stream",
     "text": [
      "------\n",
      "before phrase='qwerty', n=2\n",
      "before phrase='12345', n=1\n",
      "after phrase='12345'\n",
      "after phrase='qwerty'\n",
      "t2 - t1=2.5446231365203857, t3 - t2=1.302717924118042, t3 - t1=3.8473410606384277, t12 - t1=1.9788742065429688e-05, t2 - t12=2.5446033477783203\n",
      "total time 3.847576856613159\n"
     ]
    }
   ],
   "source": [
    "async def say_after_sync(phrase, n):\n",
    "    print(f\"before {phrase=}, {n=}\")\n",
    "\n",
    "    for i in range(n * 100):\n",
    "        time.sleep(0.01)\n",
    "        await asyncio.sleep(0)\n",
    "\n",
    "    print(f\"after {phrase=}\")\n",
    "\n",
    "\n",
    "async def main():\n",
    "    t1 = time.time()\n",
    "    qwerty = asyncio.create_task(say_after_sync(\"qwerty\", 2))\n",
    "    t12 = time.time()\n",
    "    print(\"------\")\n",
    "    await asyncio.create_task(say_after_sync(\"12345\", 1))\n",
    "    t2 = time.time()\n",
    "    await qwerty\n",
    "    t3 = time.time()\n",
    "    print(f\"{t2 - t1=}, {t3 - t2=}, {t3 - t1=}, {t12 - t1=}, {t2 - t12=}\")\n",
    "\n",
    "\n",
    "t1 = time.time()\n",
    "\n",
    "await main()\n",
    "\n",
    "t2 = time.time()\n",
    "print(\"total time\", t2 - t1)"
   ]
  },
  {
   "cell_type": "code",
   "execution_count": 60,
   "id": "a99abcbd-0140-4148-9cef-b820fe26593e",
   "metadata": {},
   "outputs": [
    {
     "name": "stdout",
     "output_type": "stream",
     "text": [
      "------\n",
      "before phrase='qwerty', n=2\n",
      "after phrase='qwerty'\n",
      "before phrase='12345'\n",
      "after phrase='12345'\n",
      "t2 - t1=3.0468838214874268, t3 - t2=9.5367431640625e-07, t3 - t1=3.046884775161743\n",
      "total time 3.047122001647949\n"
     ]
    }
   ],
   "source": [
    "async def say_after_sync(phrase, n):\n",
    "    print(f\"before {phrase=}, {n=}\")\n",
    "\n",
    "    time.sleep(n)\n",
    "    \n",
    "    print(f\"after {phrase=}\")\n",
    "\n",
    "\n",
    "async def main():\n",
    "    t1 = time.time()\n",
    "    qwerty = asyncio.create_task(say_after_sync(\"qwerty\", 2))\n",
    "    print(\"------\")\n",
    "    await asyncio.create_task(say_after(\"12345\", 1))\n",
    "    t2 = time.time()\n",
    "    await qwerty\n",
    "    t3 = time.time()\n",
    "    print(f\"{t2 - t1=}, {t3 - t2=}, {t3 - t1=}\")\n",
    "\n",
    "\n",
    "t1 = time.time()\n",
    "\n",
    "await main()\n",
    "\n",
    "t2 = time.time()\n",
    "print(\"total time\", t2 - t1)"
   ]
  },
  {
   "cell_type": "code",
   "execution_count": 59,
   "id": "5cc8db9d-f8f7-469f-96c1-164ea2bb68a7",
   "metadata": {},
   "outputs": [
    {
     "name": "stdout",
     "output_type": "stream",
     "text": [
      "------\n",
      "before phrase='qwerty', n=2\n",
      "before phrase='12345'\n",
      "after phrase='12345'\n",
      "after phrase='qwerty'\n",
      "t2 - t1=1.0625848770141602, t3 - t2=1.4968650341033936, t3 - t1=2.5594499111175537\n",
      "total time 2.5596649646759033\n"
     ]
    }
   ],
   "source": [
    "async def say_after_sync(phrase, n):\n",
    "    print(f\"before {phrase=}, {n=}\")\n",
    "\n",
    "    for i in range(n * 100):\n",
    "        time.sleep(0.01)\n",
    "        await asyncio.sleep(0)\n",
    "\n",
    "    print(f\"after {phrase=}\")\n",
    "\n",
    "\n",
    "async def main():\n",
    "    t1 = time.time()\n",
    "    qwerty = asyncio.create_task(say_after_sync(\"qwerty\", 2))\n",
    "    print(\"------\")\n",
    "    await asyncio.create_task(say_after(\"12345\", 1))\n",
    "    t2 = time.time()\n",
    "    await qwerty\n",
    "    t3 = time.time()\n",
    "    print(f\"{t2 - t1=}, {t3 - t2=}, {t3 - t1=}\")\n",
    "\n",
    "\n",
    "t1 = time.time()\n",
    "\n",
    "await main()\n",
    "\n",
    "t2 = time.time()\n",
    "print(\"total time\", t2 - t1)"
   ]
  },
  {
   "cell_type": "code",
   "execution_count": null,
   "id": "7fa54a74-22e0-4f5f-91d0-8a8a87447c8d",
   "metadata": {},
   "outputs": [],
   "source": []
  },
  {
   "cell_type": "code",
   "execution_count": 62,
   "id": "28005389-0f49-4d40-8cc6-c75f8112df57",
   "metadata": {},
   "outputs": [],
   "source": [
    "import aiohttp"
   ]
  },
  {
   "cell_type": "code",
   "execution_count": 109,
   "id": "7233bec3-cc7e-4a7b-8043-31563c536657",
   "metadata": {},
   "outputs": [
    {
     "name": "stdout",
     "output_type": "stream",
     "text": [
      "start fetch_batch_urls\n",
      "fn=<function fetch_batch_urls at 0x10745fd80>, res=20\n",
      "time 0.3966379165649414\n"
     ]
    },
    {
     "data": {
      "text/plain": [
       "20"
      ]
     },
     "execution_count": 109,
     "metadata": {},
     "output_type": "execute_result"
    }
   ],
   "source": [
    "URL = \"https://docs.python.org/3/whatsnew/3.12.html\"\n",
    "\n",
    "\n",
    "def timeit(fn):\n",
    "    async def inner(*args, **kwargs):\n",
    "        t1 = time.time()\n",
    "        res = await fn(*args, **kwargs)\n",
    "\n",
    "        print(f\"{fn=}, {res=}\")\n",
    "        t2 = time.time()\n",
    "        print(\"time\", t2 - t1)\n",
    "\n",
    "        return res\n",
    "    return inner\n",
    "\n",
    "\n",
    "async def fetch_url(url):\n",
    "    async with aiohttp.ClientSession() as session:\n",
    "        async with session.get(url) as resp:\n",
    "            # print(resp.status)\n",
    "            data = await resp.text()\n",
    "            return data\n",
    "\n",
    "\n",
    "@timeit\n",
    "async def fetch_batch_urls(urls):\n",
    "    print(\"start fetch_batch_urls\")\n",
    "    tasks = []\n",
    "    for url in urls:\n",
    "        # tasks.append(asyncio.create_task(fetch_url(url)))\n",
    "        tasks.append(fetch_url(url))\n",
    "\n",
    "    await asyncio.gather(*tasks)\n",
    "\n",
    "    return len(urls)\n",
    "\n",
    "\n",
    "await fetch_batch_urls([URL] * 20)"
   ]
  },
  {
   "cell_type": "code",
   "execution_count": null,
   "id": "3243a747-bc84-4482-8967-fbf756d59d2c",
   "metadata": {},
   "outputs": [],
   "source": []
  }
 ],
 "metadata": {
  "kernelspec": {
   "display_name": "Python 3 (ipykernel)",
   "language": "python",
   "name": "python3"
  },
  "language_info": {
   "codemirror_mode": {
    "name": "ipython",
    "version": 3
   },
   "file_extension": ".py",
   "mimetype": "text/x-python",
   "name": "python",
   "nbconvert_exporter": "python",
   "pygments_lexer": "ipython3",
   "version": "3.12.5"
  }
 },
 "nbformat": 4,
 "nbformat_minor": 5
}
