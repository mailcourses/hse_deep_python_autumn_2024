{
 "cells": [
  {
   "cell_type": "code",
   "execution_count": 23,
   "id": "ebb3f0f8-9550-4ed5-8ae7-dc4fd22d4821",
   "metadata": {},
   "outputs": [],
   "source": [
    "class Person:\n",
    "    pass"
   ]
  },
  {
   "cell_type": "code",
   "execution_count": 26,
   "id": "7a1fa02c-9318-40b9-a7ae-1213f14f7640",
   "metadata": {},
   "outputs": [],
   "source": [
    "steve = Person()"
   ]
  },
  {
   "cell_type": "code",
   "execution_count": 28,
   "id": "36030996-ec90-42e0-96dd-6afb6748916b",
   "metadata": {},
   "outputs": [
    {
     "data": {
      "text/plain": [
       "__main__.Person"
      ]
     },
     "execution_count": 28,
     "metadata": {},
     "output_type": "execute_result"
    }
   ],
   "source": [
    "type(steve)"
   ]
  },
  {
   "cell_type": "code",
   "execution_count": 29,
   "id": "b429a9b9-236a-4319-95fe-50a8c01ea75c",
   "metadata": {},
   "outputs": [
    {
     "data": {
      "text/plain": [
       "list"
      ]
     },
     "execution_count": 29,
     "metadata": {},
     "output_type": "execute_result"
    }
   ],
   "source": [
    "type([])"
   ]
  },
  {
   "cell_type": "code",
   "execution_count": 30,
   "id": "d4769eee-4966-4b80-9e18-c661f1b87518",
   "metadata": {},
   "outputs": [
    {
     "data": {
      "text/plain": [
       "int"
      ]
     },
     "execution_count": 30,
     "metadata": {},
     "output_type": "execute_result"
    }
   ],
   "source": [
    "type(id(steve))"
   ]
  },
  {
   "cell_type": "code",
   "execution_count": 31,
   "id": "af003236-b9d0-43eb-af54-38010b8e8f63",
   "metadata": {},
   "outputs": [
    {
     "data": {
      "text/plain": [
       "4515742640"
      ]
     },
     "execution_count": 31,
     "metadata": {},
     "output_type": "execute_result"
    }
   ],
   "source": [
    "id(steve)"
   ]
  },
  {
   "cell_type": "code",
   "execution_count": 32,
   "id": "0125095e-da7f-4d9c-bd6a-ebd234d03191",
   "metadata": {},
   "outputs": [
    {
     "data": {
      "text/plain": [
       "type"
      ]
     },
     "execution_count": 32,
     "metadata": {},
     "output_type": "execute_result"
    }
   ],
   "source": [
    "type(Person)"
   ]
  },
  {
   "cell_type": "code",
   "execution_count": 33,
   "id": "400e4b37-2de7-46bc-a3cd-7646b006d076",
   "metadata": {},
   "outputs": [
    {
     "data": {
      "text/plain": [
       "True"
      ]
     },
     "execution_count": 33,
     "metadata": {},
     "output_type": "execute_result"
    }
   ],
   "source": [
    "isinstance(Person, type)"
   ]
  },
  {
   "cell_type": "code",
   "execution_count": 34,
   "id": "0b5bb16f-78db-43a9-ab0e-a10c98ee5d95",
   "metadata": {},
   "outputs": [
    {
     "data": {
      "text/plain": [
       "False"
      ]
     },
     "execution_count": 34,
     "metadata": {},
     "output_type": "execute_result"
    }
   ],
   "source": [
    "isinstance(Person(), type)"
   ]
  },
  {
   "cell_type": "code",
   "execution_count": 36,
   "id": "a9eb1d65-cb15-4656-a726-2fb98de004a4",
   "metadata": {},
   "outputs": [
    {
     "data": {
      "text/plain": [
       "(True, True)"
      ]
     },
     "execution_count": 36,
     "metadata": {},
     "output_type": "execute_result"
    }
   ],
   "source": [
    "isinstance(steve, Person), isinstance(steve, object)  # Person(object)"
   ]
  },
  {
   "cell_type": "code",
   "execution_count": 37,
   "id": "528a4323-2bda-41c4-84d1-aba2dd0874cd",
   "metadata": {},
   "outputs": [
    {
     "data": {
      "text/plain": [
       "(True, False)"
      ]
     },
     "execution_count": 37,
     "metadata": {},
     "output_type": "execute_result"
    }
   ],
   "source": [
    "issubclass(Person, object), issubclass(Person, dict)"
   ]
  },
  {
   "cell_type": "code",
   "execution_count": 38,
   "id": "72ce1b2a-b6de-4458-b277-5950d219e8ec",
   "metadata": {},
   "outputs": [
    {
     "data": {
      "text/plain": [
       "(True, False)"
      ]
     },
     "execution_count": 38,
     "metadata": {},
     "output_type": "execute_result"
    }
   ],
   "source": [
    "isinstance(steve, (dict, list, Person)), isinstance(steve, (str, int, bool))"
   ]
  },
  {
   "cell_type": "code",
   "execution_count": 39,
   "id": "1782aa75-985c-4d49-90e0-e5dcecebeb8b",
   "metadata": {},
   "outputs": [
    {
     "data": {
      "text/plain": [
       "True"
      ]
     },
     "execution_count": 39,
     "metadata": {},
     "output_type": "execute_result"
    }
   ],
   "source": [
    "isinstance(object, type)"
   ]
  },
  {
   "cell_type": "code",
   "execution_count": 40,
   "id": "fca898ef-c7f3-416a-996f-fbcecc04e80c",
   "metadata": {},
   "outputs": [
    {
     "data": {
      "text/plain": [
       "True"
      ]
     },
     "execution_count": 40,
     "metadata": {},
     "output_type": "execute_result"
    }
   ],
   "source": [
    "isinstance(type, object)"
   ]
  },
  {
   "cell_type": "code",
   "execution_count": 41,
   "id": "73fe8ad3-6e00-4cae-99cb-9bf9fde2e0e4",
   "metadata": {},
   "outputs": [
    {
     "data": {
      "text/plain": [
       "(False, False)"
      ]
     },
     "execution_count": 41,
     "metadata": {},
     "output_type": "execute_result"
    }
   ],
   "source": [
    "issubclass(Person, type), issubclass(object, type)"
   ]
  },
  {
   "cell_type": "code",
   "execution_count": 42,
   "id": "efff4901-1afb-493b-b34e-5e0098ad61a5",
   "metadata": {},
   "outputs": [
    {
     "data": {
      "text/plain": [
       "(True, True)"
      ]
     },
     "execution_count": 42,
     "metadata": {},
     "output_type": "execute_result"
    }
   ],
   "source": [
    "isinstance(Person, type), isinstance(object, type)"
   ]
  },
  {
   "cell_type": "code",
   "execution_count": 43,
   "id": "8bbde76e-e8e6-44b3-aaad-b9ccfb5b8374",
   "metadata": {},
   "outputs": [
    {
     "data": {
      "text/plain": [
       "(True, True)"
      ]
     },
     "execution_count": 43,
     "metadata": {},
     "output_type": "execute_result"
    }
   ],
   "source": [
    "isinstance(Person, object), isinstance(type, object)"
   ]
  },
  {
   "cell_type": "code",
   "execution_count": 45,
   "id": "f9cf6dfd-dd2f-42d8-a709-294db3f5b41b",
   "metadata": {},
   "outputs": [
    {
     "data": {
      "text/plain": [
       "(True, True)"
      ]
     },
     "execution_count": 45,
     "metadata": {},
     "output_type": "execute_result"
    }
   ],
   "source": [
    "isinstance(Person, type), issubclass(type, object)"
   ]
  },
  {
   "cell_type": "code",
   "execution_count": 46,
   "id": "7c78ec10-0742-4e86-b48e-86c6ff36fd24",
   "metadata": {},
   "outputs": [
    {
     "data": {
      "text/plain": [
       "(True, True)"
      ]
     },
     "execution_count": 46,
     "metadata": {},
     "output_type": "execute_result"
    }
   ],
   "source": [
    "isinstance(Person, object), issubclass(Person, object)"
   ]
  },
  {
   "cell_type": "code",
   "execution_count": 50,
   "id": "4cddfc47-874f-47ad-a7b9-aa1aad12c624",
   "metadata": {},
   "outputs": [
    {
     "data": {
      "text/plain": [
       "(True, True)"
      ]
     },
     "execution_count": 50,
     "metadata": {},
     "output_type": "execute_result"
    }
   ],
   "source": [
    "isinstance(type, type), isinstance(object, object)"
   ]
  },
  {
   "cell_type": "code",
   "execution_count": null,
   "id": "9c1e010c-59e9-4ab3-b2b1-937cdd93ec77",
   "metadata": {},
   "outputs": [],
   "source": []
  },
  {
   "cell_type": "code",
   "execution_count": null,
   "id": "16c70d97-9771-47b9-98ae-7e062217014c",
   "metadata": {},
   "outputs": [],
   "source": []
  },
  {
   "cell_type": "code",
   "execution_count": 51,
   "id": "95ef75ad-07b7-499d-9c51-5e7f8e77a3a2",
   "metadata": {},
   "outputs": [],
   "source": [
    "class Foo:\n",
    "    name = \"foo_name\"\n",
    "\n",
    "    def __init__(self, val):\n",
    "        self.val = val"
   ]
  },
  {
   "cell_type": "code",
   "execution_count": 53,
   "id": "f8a2170f-7658-492a-a52e-9140f4805788",
   "metadata": {},
   "outputs": [],
   "source": [
    "foo_inst = Foo(33)"
   ]
  },
  {
   "cell_type": "code",
   "execution_count": 54,
   "id": "09575d5e-cfeb-406e-919f-17406994619f",
   "metadata": {},
   "outputs": [
    {
     "data": {
      "text/plain": [
       "{'val': 33}"
      ]
     },
     "execution_count": 54,
     "metadata": {},
     "output_type": "execute_result"
    }
   ],
   "source": [
    "foo_inst.__dict__"
   ]
  },
  {
   "cell_type": "code",
   "execution_count": 55,
   "id": "17130eaa-ed3e-4032-8508-6e3fb1e0e1d0",
   "metadata": {},
   "outputs": [
    {
     "data": {
      "text/plain": [
       "mappingproxy({'__module__': '__main__',\n",
       "              'name': 'foo_name',\n",
       "              '__init__': <function __main__.Foo.__init__(self, val)>,\n",
       "              '__dict__': <attribute '__dict__' of 'Foo' objects>,\n",
       "              '__weakref__': <attribute '__weakref__' of 'Foo' objects>,\n",
       "              '__doc__': None})"
      ]
     },
     "execution_count": 55,
     "metadata": {},
     "output_type": "execute_result"
    }
   ],
   "source": [
    "Foo.__dict__"
   ]
  },
  {
   "cell_type": "code",
   "execution_count": null,
   "id": "95ef8174-c547-460b-8aa9-dbd032b860e8",
   "metadata": {},
   "outputs": [],
   "source": []
  },
  {
   "cell_type": "code",
   "execution_count": null,
   "id": "588a7503-d26f-4542-aad8-0f0db3431430",
   "metadata": {},
   "outputs": [],
   "source": []
  },
  {
   "cell_type": "code",
   "execution_count": 56,
   "id": "26b7be61-559c-4c33-9c41-41baed34da40",
   "metadata": {},
   "outputs": [],
   "source": [
    "Bar = type(\"Bar\", (Foo,), dict(attr=100))"
   ]
  },
  {
   "cell_type": "code",
   "execution_count": 57,
   "id": "5eb2708c-6989-402d-8cae-7383ad9f17b9",
   "metadata": {},
   "outputs": [
    {
     "data": {
      "text/plain": [
       "mappingproxy({'attr': 100, '__module__': '__main__', '__doc__': None})"
      ]
     },
     "execution_count": 57,
     "metadata": {},
     "output_type": "execute_result"
    }
   ],
   "source": [
    "Bar.__dict__"
   ]
  },
  {
   "cell_type": "code",
   "execution_count": 58,
   "id": "3d6df7d6-bdfa-4bac-ab18-e1dad3a7d7ad",
   "metadata": {},
   "outputs": [],
   "source": [
    "bar_inst = Bar(99)"
   ]
  },
  {
   "cell_type": "code",
   "execution_count": 59,
   "id": "8a94126b-e832-4b67-b181-1c786a4e0485",
   "metadata": {},
   "outputs": [
    {
     "data": {
      "text/plain": [
       "{'val': 99}"
      ]
     },
     "execution_count": 59,
     "metadata": {},
     "output_type": "execute_result"
    }
   ],
   "source": [
    "bar_inst.__dict__"
   ]
  },
  {
   "cell_type": "code",
   "execution_count": null,
   "id": "fed9907d-86dd-48a8-8e62-0b3674baab98",
   "metadata": {},
   "outputs": [],
   "source": []
  },
  {
   "cell_type": "code",
   "execution_count": 65,
   "id": "3103adb4-4357-487e-800a-279462f4c4f9",
   "metadata": {},
   "outputs": [],
   "source": [
    "Baz = type(\"Baz\", (), dict(__init__=lambda self, val: setattr(self, \"val\", val)))\n",
    "\n",
    "baz_inst = Baz(77)"
   ]
  },
  {
   "cell_type": "code",
   "execution_count": null,
   "id": "27307d21-758b-42d6-bdd6-dcea02b06102",
   "metadata": {},
   "outputs": [],
   "source": []
  },
  {
   "cell_type": "code",
   "execution_count": null,
   "id": "f8640766-dcd9-44a9-a7b8-9a658997ddad",
   "metadata": {},
   "outputs": [],
   "source": []
  },
  {
   "cell_type": "code",
   "execution_count": null,
   "id": "a91ce74e-b312-4a34-9092-1d640503ef19",
   "metadata": {},
   "outputs": [],
   "source": []
  },
  {
   "cell_type": "code",
   "execution_count": 66,
   "id": "4e6a0188-4a5c-410e-b52d-0c5a352a99a2",
   "metadata": {},
   "outputs": [
    {
     "data": {
      "text/plain": [
       "77"
      ]
     },
     "execution_count": 66,
     "metadata": {},
     "output_type": "execute_result"
    }
   ],
   "source": [
    "baz_inst.val"
   ]
  },
  {
   "cell_type": "code",
   "execution_count": 67,
   "id": "016c83d1-5523-4bd9-b519-c602dd155945",
   "metadata": {},
   "outputs": [
    {
     "data": {
      "text/plain": [
       "[__main__.Baz, object]"
      ]
     },
     "execution_count": 67,
     "metadata": {},
     "output_type": "execute_result"
    }
   ],
   "source": [
    "Baz.mro()"
   ]
  },
  {
   "cell_type": "code",
   "execution_count": 68,
   "id": "8ba8f860-0531-410d-8178-825619e3a424",
   "metadata": {},
   "outputs": [
    {
     "data": {
      "text/plain": [
       "{'val': 77}"
      ]
     },
     "execution_count": 68,
     "metadata": {},
     "output_type": "execute_result"
    }
   ],
   "source": [
    "baz_inst.__dict__"
   ]
  },
  {
   "cell_type": "code",
   "execution_count": null,
   "id": "73e3e873-1eb5-4869-ab3f-3186945ad73d",
   "metadata": {},
   "outputs": [],
   "source": []
  },
  {
   "cell_type": "code",
   "execution_count": null,
   "id": "cd9edb40-44c0-40db-877a-e19dea7e2243",
   "metadata": {},
   "outputs": [],
   "source": []
  },
  {
   "cell_type": "code",
   "execution_count": 69,
   "id": "b3297934-2927-4bc0-a0d1-44c6ff10406f",
   "metadata": {},
   "outputs": [],
   "source": [
    "class AMeta(type):\n",
    "    def __new__(mcs, name, bases, classdict, **kwargs):\n",
    "        cls = super().__new__(mcs, name, bases, classdict)\n",
    "        print('Meta __new__', cls)\n",
    "\n",
    "        return cls\n",
    "\n",
    "    def __init__(cls, name, bases, classdict, **kwargs):\n",
    "        print('Meta __init__', cls, name, bases, classdict)\n",
    "        super().__init__(name, bases, classdict, **kwargs)\n",
    "\n",
    "    def __call__(cls, *args, **kwargs):\n",
    "        print('Meta __call__', cls, args, kwargs)\n",
    "        return super().__call__(*args, **kwargs)\n",
    "\n",
    "    @classmethod\n",
    "    def __prepare__(mcs, name, bases, **kwargs):\n",
    "        print('Meta __prepare__', mcs, name, bases, kwargs)\n",
    "        \n",
    "        return {'added_attr_a': 2, 'added_attr_b': 99}"
   ]
  },
  {
   "cell_type": "code",
   "execution_count": 80,
   "id": "da76db03-999c-4854-b637-bc07654523f7",
   "metadata": {},
   "outputs": [
    {
     "name": "stdout",
     "output_type": "stream",
     "text": [
      "Meta __prepare__ <class '__main__.AMeta'> Person () {}\n",
      "Meta __new__ <class '__main__.Person'>\n",
      "Meta __init__ <class '__main__.Person'> Person () {'added_attr_a': 2, 'added_attr_b': 99, '__module__': '__main__', '__qualname__': 'Person', 'age': 99, '__new__': <function Person.__new__ at 0x10cd8aca0>, '__init__': <function Person.__init__ at 0x10cd88040>, '__classcell__': <cell at 0x10dd8cbe0: AMeta object at 0x7f899aca1b10>}\n"
     ]
    }
   ],
   "source": [
    "class Person(metaclass=AMeta):\n",
    "    age = 99\n",
    "\n",
    "    def __new__(cls, *args, **kwargs):\n",
    "        inst = super().__new__(cls)\n",
    "        print('Person __new__', inst)\n",
    "\n",
    "        return inst\n",
    "\n",
    "    def __init__(self, name):\n",
    "        print(\"Person.__init__\", name)\n",
    "        self.name = name"
   ]
  },
  {
   "cell_type": "code",
   "execution_count": 74,
   "id": "749704a5-c003-46b8-b7bb-0f42d473cce1",
   "metadata": {},
   "outputs": [
    {
     "data": {
      "text/plain": [
       "__main__.Person"
      ]
     },
     "execution_count": 74,
     "metadata": {},
     "output_type": "execute_result"
    }
   ],
   "source": [
    "Person"
   ]
  },
  {
   "cell_type": "code",
   "execution_count": 81,
   "id": "73795eed-a5bd-4d50-b78a-c13b9b42db38",
   "metadata": {},
   "outputs": [
    {
     "name": "stdout",
     "output_type": "stream",
     "text": [
      "Meta __call__ <class '__main__.Person'> ('JD',) {}\n",
      "Person __new__ <__main__.Person object at 0x10dd8e630>\n",
      "Person.__init__ JD\n"
     ]
    }
   ],
   "source": [
    "jd = Person(\"JD\")"
   ]
  },
  {
   "cell_type": "code",
   "execution_count": 82,
   "id": "37b3dba5-f653-43a7-b523-93af9868b076",
   "metadata": {},
   "outputs": [
    {
     "data": {
      "text/plain": [
       "{'name': 'JD'}"
      ]
     },
     "execution_count": 82,
     "metadata": {},
     "output_type": "execute_result"
    }
   ],
   "source": [
    "jd.__dict__"
   ]
  },
  {
   "cell_type": "code",
   "execution_count": null,
   "id": "f93be95a-0c95-4744-8efd-13f5215e786c",
   "metadata": {},
   "outputs": [],
   "source": []
  },
  {
   "cell_type": "code",
   "execution_count": 83,
   "id": "25590133-93e0-40a8-a395-68ea71d2678a",
   "metadata": {},
   "outputs": [
    {
     "name": "stdout",
     "output_type": "stream",
     "text": [
      "Meta __new__ <class '__main__.Student'>\n",
      "Meta __init__ <class '__main__.Student'> Student (<class '__main__.Person'>,) {'school': None}\n"
     ]
    }
   ],
   "source": [
    "Student = AMeta(\"Student\", (Person,), {\"school\": None})"
   ]
  },
  {
   "cell_type": "code",
   "execution_count": 85,
   "id": "c210bae1-9246-4333-b3f2-f334b028542d",
   "metadata": {},
   "outputs": [
    {
     "data": {
      "text/plain": [
       "(__main__.Student,\n",
       " mappingproxy({'school': None, '__module__': '__main__', '__doc__': None}))"
      ]
     },
     "execution_count": 85,
     "metadata": {},
     "output_type": "execute_result"
    }
   ],
   "source": [
    "Student, Student.__dict__"
   ]
  },
  {
   "cell_type": "code",
   "execution_count": 86,
   "id": "4a87114d-fa82-4b16-8228-2d12eb3e8deb",
   "metadata": {},
   "outputs": [
    {
     "name": "stdout",
     "output_type": "stream",
     "text": [
      "Meta __call__ <class '__main__.Student'> ('Lorem',) {}\n",
      "Person __new__ <__main__.Student object at 0x10d26d4f0>\n",
      "Person.__init__ Lorem\n"
     ]
    }
   ],
   "source": [
    "st = Student(\"Lorem\")"
   ]
  },
  {
   "cell_type": "code",
   "execution_count": null,
   "id": "68be8e20-df47-4ce5-b022-7a69dc1b63b4",
   "metadata": {},
   "outputs": [],
   "source": []
  },
  {
   "cell_type": "code",
   "execution_count": null,
   "id": "539f82de-5882-4ed8-ae35-bc4190f86363",
   "metadata": {},
   "outputs": [],
   "source": []
  },
  {
   "cell_type": "code",
   "execution_count": 88,
   "id": "176ca9e2-d5ca-47a4-887d-88fbdc0b8d65",
   "metadata": {},
   "outputs": [
    {
     "ename": "TypeError",
     "evalue": "AMeta.__new__() missing 2 required positional arguments: 'bases' and 'classdict'",
     "output_type": "error",
     "traceback": [
      "\u001b[0;31m---------------------------------------------------------------------------\u001b[0m",
      "\u001b[0;31mTypeError\u001b[0m                                 Traceback (most recent call last)",
      "Cell \u001b[0;32mIn[88], line 1\u001b[0m\n\u001b[0;32m----> 1\u001b[0m \u001b[43mAMeta\u001b[49m\u001b[43m(\u001b[49m\u001b[43m[\u001b[49m\u001b[38;5;241;43m1\u001b[39;49m\u001b[43m,\u001b[49m\u001b[43m \u001b[49m\u001b[38;5;241;43m2\u001b[39;49m\u001b[43m]\u001b[49m\u001b[43m)\u001b[49m\n",
      "\u001b[0;31mTypeError\u001b[0m: AMeta.__new__() missing 2 required positional arguments: 'bases' and 'classdict'"
     ]
    }
   ],
   "source": [
    "AMeta([1, 2])"
   ]
  },
  {
   "cell_type": "code",
   "execution_count": null,
   "id": "76a44351-0274-4378-8359-4e269d1e4dda",
   "metadata": {},
   "outputs": [],
   "source": []
  },
  {
   "cell_type": "code",
   "execution_count": null,
   "id": "a41f9092-c712-4522-a89f-dea95a0796e4",
   "metadata": {},
   "outputs": [],
   "source": []
  },
  {
   "cell_type": "code",
   "execution_count": 92,
   "id": "c209ec75-8419-4edd-8ecc-afccc6797166",
   "metadata": {},
   "outputs": [
    {
     "name": "stdout",
     "output_type": "stream",
     "text": [
      "SingleMeta.__call__ <class '__main__.Animal'>\n",
      "Animal.__init__ tiger\n",
      "id(tiger)=4527191680\n",
      "SingleMeta.__call__ <class '__main__.Animal'>\n",
      "id(tiger)=4527191680\n",
      "True tiger {'name': 'tiger'}\n"
     ]
    }
   ],
   "source": [
    "class SingleMeta(type):\n",
    "    _instances = {}\n",
    "\n",
    "    def __call__(cls, *args, **kwargs):\n",
    "        print(\"SingleMeta.__call__\", cls)\n",
    "\n",
    "        if cls not in cls._instances:\n",
    "            cls._instances[cls] = super().__call__(*args, **kwargs)\n",
    "\n",
    "        return cls._instances[cls]\n",
    "            \n",
    "\n",
    "class Animal(metaclass=SingleMeta):\n",
    "    def __init__(self, name):\n",
    "        print(\"Animal.__init__\", name)\n",
    "        self.name = name\n",
    "\n",
    "\n",
    "tiger = Animal(\"tiger\")\n",
    "print(f\"{id(tiger)=}\")\n",
    "\n",
    "dragon = Animal(\"dragon\")\n",
    "\n",
    "print(f\"{id(tiger)=}\")\n",
    "print(tiger is dragon, tiger.name, tiger.__dict__)"
   ]
  },
  {
   "cell_type": "code",
   "execution_count": 93,
   "id": "89a24f42-d1f3-4a21-9fde-0445ebca1b33",
   "metadata": {},
   "outputs": [],
   "source": [
    "class Divan(metaclass=SingleMeta):\n",
    "    def __init__(self, name):\n",
    "        print(\"Divan.__init__\", name)\n",
    "        self.name = name\n"
   ]
  },
  {
   "cell_type": "code",
   "execution_count": 95,
   "id": "4d5cd16b-0245-48f6-a96d-4335e9c58f96",
   "metadata": {},
   "outputs": [
    {
     "name": "stdout",
     "output_type": "stream",
     "text": [
      "SingleMeta.__call__ <class '__main__.Divan'>\n",
      "Divan.__init__ divan\n",
      "SingleMeta.__call__ <class '__main__.Divan'>\n"
     ]
    },
    {
     "data": {
      "text/plain": [
       "True"
      ]
     },
     "execution_count": 95,
     "metadata": {},
     "output_type": "execute_result"
    }
   ],
   "source": [
    "d1 = Divan(\"divan\")\n",
    "d2 = Divan(\"sofa\")\n",
    "\n",
    "d1 is d2"
   ]
  },
  {
   "cell_type": "code",
   "execution_count": 96,
   "id": "af6c6b75-a1f9-459d-a360-e15c1e791705",
   "metadata": {},
   "outputs": [
    {
     "name": "stdout",
     "output_type": "stream",
     "text": [
      "SingleMeta.__call__ <class '__main__.Animal'>\n"
     ]
    },
    {
     "data": {
      "text/plain": [
       "<__main__.Animal at 0x10dd77680>"
      ]
     },
     "execution_count": 96,
     "metadata": {},
     "output_type": "execute_result"
    }
   ],
   "source": [
    "Animal(\"tiger\")"
   ]
  },
  {
   "cell_type": "code",
   "execution_count": 97,
   "id": "88ed2a1f-5525-4372-8e27-656c27f58d6c",
   "metadata": {},
   "outputs": [
    {
     "data": {
      "text/plain": [
       "mappingproxy({'__module__': '__main__',\n",
       "              '__init__': <function __main__.Animal.__init__(self, name)>,\n",
       "              '__dict__': <attribute '__dict__' of 'Animal' objects>,\n",
       "              '__weakref__': <attribute '__weakref__' of 'Animal' objects>,\n",
       "              '__doc__': None})"
      ]
     },
     "execution_count": 97,
     "metadata": {},
     "output_type": "execute_result"
    }
   ],
   "source": [
    "Animal.__dict__"
   ]
  },
  {
   "cell_type": "code",
   "execution_count": null,
   "id": "1c8c81b7-cb42-4b22-b2f6-0dbbc7a02aa3",
   "metadata": {},
   "outputs": [],
   "source": []
  },
  {
   "cell_type": "code",
   "execution_count": null,
   "id": "e1c24393-7cd1-4fbf-bfa2-444a6045fa8a",
   "metadata": {},
   "outputs": [],
   "source": []
  },
  {
   "cell_type": "code",
   "execution_count": 99,
   "id": "8072eed2-3618-4204-8571-d98fc7965f06",
   "metadata": {},
   "outputs": [
    {
     "data": {
      "text/plain": [
       "({__main__.Animal: <__main__.Animal at 0x10dd77680>,\n",
       "  __main__.Divan: <__main__.Divan at 0x10dd8e450>},\n",
       " True)"
      ]
     },
     "execution_count": 99,
     "metadata": {},
     "output_type": "execute_result"
    }
   ],
   "source": [
    "Animal._instances, Animal._instances is Divan._instances"
   ]
  },
  {
   "cell_type": "code",
   "execution_count": null,
   "id": "47481309-932b-42d3-80dd-c84443a9fc59",
   "metadata": {},
   "outputs": [],
   "source": []
  },
  {
   "cell_type": "code",
   "execution_count": null,
   "id": "22b1778c-ee06-4341-8d0d-b08e6cec509c",
   "metadata": {},
   "outputs": [],
   "source": []
  },
  {
   "cell_type": "code",
   "execution_count": 101,
   "id": "37d3de11-5279-42e4-8b58-09ba15ccdc61",
   "metadata": {},
   "outputs": [],
   "source": [
    "import abc"
   ]
  },
  {
   "cell_type": "code",
   "execution_count": 106,
   "id": "7965140f-7f71-4be7-804b-22a24ebec5fa",
   "metadata": {},
   "outputs": [],
   "source": [
    "class Person(metaclass=abc.ABCMeta):\n",
    "    \n",
    "    @abc.abstractmethod\n",
    "    def eat(self, food):\n",
    "        print(\"Person.eat\", food)\n",
    "        return 99\n",
    "\n",
    "    @abc.abstractmethod\n",
    "    def walk(self):\n",
    "        pass\n",
    "\n",
    "    def study(self):\n",
    "        print(\"Person.study\")\n",
    "        self.eat(\"apple\")\n",
    "        self.walk()"
   ]
  },
  {
   "cell_type": "code",
   "execution_count": 107,
   "id": "269def7f-8be8-4177-b744-0123e8760200",
   "metadata": {},
   "outputs": [
    {
     "ename": "TypeError",
     "evalue": "Can't instantiate abstract class Person without an implementation for abstract methods 'eat', 'walk'",
     "output_type": "error",
     "traceback": [
      "\u001b[0;31m---------------------------------------------------------------------------\u001b[0m",
      "\u001b[0;31mTypeError\u001b[0m                                 Traceback (most recent call last)",
      "Cell \u001b[0;32mIn[107], line 1\u001b[0m\n\u001b[0;32m----> 1\u001b[0m steve \u001b[38;5;241m=\u001b[39m \u001b[43mPerson\u001b[49m\u001b[43m(\u001b[49m\u001b[43m)\u001b[49m\n",
      "\u001b[0;31mTypeError\u001b[0m: Can't instantiate abstract class Person without an implementation for abstract methods 'eat', 'walk'"
     ]
    }
   ],
   "source": [
    "steve = Person()"
   ]
  },
  {
   "cell_type": "code",
   "execution_count": 108,
   "id": "a5648d0c-98a1-4b88-9e91-8f34d562e039",
   "metadata": {},
   "outputs": [],
   "source": [
    "class Student(Person):\n",
    "    def walk(self):\n",
    "        print(\"Student.walk\")"
   ]
  },
  {
   "cell_type": "code",
   "execution_count": 109,
   "id": "f376e64f-5f31-4ad2-b43b-fefd4dd856d3",
   "metadata": {},
   "outputs": [
    {
     "ename": "TypeError",
     "evalue": "Can't instantiate abstract class Student without an implementation for abstract method 'eat'",
     "output_type": "error",
     "traceback": [
      "\u001b[0;31m---------------------------------------------------------------------------\u001b[0m",
      "\u001b[0;31mTypeError\u001b[0m                                 Traceback (most recent call last)",
      "Cell \u001b[0;32mIn[109], line 1\u001b[0m\n\u001b[0;32m----> 1\u001b[0m stue \u001b[38;5;241m=\u001b[39m \u001b[43mStudent\u001b[49m\u001b[43m(\u001b[49m\u001b[43m)\u001b[49m\n",
      "\u001b[0;31mTypeError\u001b[0m: Can't instantiate abstract class Student without an implementation for abstract method 'eat'"
     ]
    }
   ],
   "source": [
    "stue = Student()"
   ]
  },
  {
   "cell_type": "code",
   "execution_count": 126,
   "id": "3d4fc2b1-e92e-4b33-95a7-344dc0ad72e4",
   "metadata": {},
   "outputs": [],
   "source": [
    "class HSEStudent(Student):\n",
    "    def eat(self, food):\n",
    "        print(\"HSEStudent.eat\", food)\n",
    "\n",
    "        return super().eat(food)"
   ]
  },
  {
   "cell_type": "code",
   "execution_count": 127,
   "id": "de66484d-1766-4ef6-9d5b-0b232cf3762d",
   "metadata": {},
   "outputs": [],
   "source": [
    "hse = HSEStudent()"
   ]
  },
  {
   "cell_type": "code",
   "execution_count": 122,
   "id": "f19982e2-a99c-486c-89af-1643efa0a1c2",
   "metadata": {},
   "outputs": [
    {
     "data": {
      "text/plain": [
       "{}"
      ]
     },
     "execution_count": 122,
     "metadata": {},
     "output_type": "execute_result"
    }
   ],
   "source": [
    "hse.__dict__"
   ]
  },
  {
   "cell_type": "code",
   "execution_count": 128,
   "id": "ae3d2062-fa8f-44fc-9dcd-6ce7084be67e",
   "metadata": {},
   "outputs": [
    {
     "name": "stdout",
     "output_type": "stream",
     "text": [
      "HSEStudent.eat apple\n",
      "Person.eat apple\n",
      "99\n"
     ]
    }
   ],
   "source": [
    "print(hse.eat(\"apple\"))"
   ]
  },
  {
   "cell_type": "code",
   "execution_count": 115,
   "id": "2a27e40c-3ff6-4316-bee0-96350a4bfdbb",
   "metadata": {},
   "outputs": [
    {
     "name": "stdout",
     "output_type": "stream",
     "text": [
      "Student.walk\n"
     ]
    }
   ],
   "source": [
    "hse.walk()"
   ]
  },
  {
   "cell_type": "code",
   "execution_count": 119,
   "id": "fef0a276-c01c-4510-914d-d90958073fa7",
   "metadata": {},
   "outputs": [
    {
     "name": "stdout",
     "output_type": "stream",
     "text": [
      "Person.study\n",
      "HSEStudent.eat apple\n",
      "Student.walk\n"
     ]
    }
   ],
   "source": [
    "hse.study()"
   ]
  },
  {
   "cell_type": "code",
   "execution_count": null,
   "id": "4abcd4dd-7a3d-4b96-99a4-efc010f377a8",
   "metadata": {},
   "outputs": [],
   "source": []
  },
  {
   "cell_type": "code",
   "execution_count": null,
   "id": "de036ff9-c350-4de1-a0f9-5c1d6b0ef6bf",
   "metadata": {},
   "outputs": [],
   "source": []
  },
  {
   "cell_type": "code",
   "execution_count": 129,
   "id": "31f626de-2b50-46a4-99f5-f8fdbbf24a9e",
   "metadata": {},
   "outputs": [
    {
     "data": {
      "text/plain": [
       "\u001b[0;31mSignature:\u001b[0m \u001b[0mPerson\u001b[0m\u001b[0;34m.\u001b[0m\u001b[0mregister\u001b[0m\u001b[0;34m(\u001b[0m\u001b[0msubclass\u001b[0m\u001b[0;34m)\u001b[0m\u001b[0;34m\u001b[0m\u001b[0;34m\u001b[0m\u001b[0m\n",
       "\u001b[0;31mDocstring:\u001b[0m\n",
       "Register a virtual subclass of an ABC.\n",
       "\n",
       "Returns the subclass, to allow usage as a class decorator.\n",
       "\u001b[0;31mFile:\u001b[0m      ~/projects/hse_deep_python_autumn_2024/lesson-05/<frozen abc>\n",
       "\u001b[0;31mType:\u001b[0m      method"
      ]
     },
     "metadata": {},
     "output_type": "display_data"
    }
   ],
   "source": [
    "Person.register?"
   ]
  },
  {
   "cell_type": "code",
   "execution_count": null,
   "id": "b57c0661-923a-436b-bba4-52ac1a794113",
   "metadata": {},
   "outputs": [],
   "source": [
    "Person.register"
   ]
  },
  {
   "cell_type": "code",
   "execution_count": 130,
   "id": "e95c34f8-722c-450c-acdc-cf95dd85076c",
   "metadata": {},
   "outputs": [
    {
     "data": {
      "text/plain": [
       "(False, False)"
      ]
     },
     "execution_count": 130,
     "metadata": {},
     "output_type": "execute_result"
    }
   ],
   "source": [
    "isinstance(\"not_person\", Person), issubclass(str, Person)"
   ]
  },
  {
   "cell_type": "code",
   "execution_count": 131,
   "id": "d1d08ed4-9d6e-4e3a-999a-200261c4b859",
   "metadata": {},
   "outputs": [
    {
     "data": {
      "text/plain": [
       "str"
      ]
     },
     "execution_count": 131,
     "metadata": {},
     "output_type": "execute_result"
    }
   ],
   "source": [
    "Person.register(str)"
   ]
  },
  {
   "cell_type": "code",
   "execution_count": 132,
   "id": "1aa37173-4512-4b3c-aa98-2c3ea26fb5ef",
   "metadata": {},
   "outputs": [
    {
     "data": {
      "text/plain": [
       "(True, True)"
      ]
     },
     "execution_count": 132,
     "metadata": {},
     "output_type": "execute_result"
    }
   ],
   "source": [
    "isinstance(\"not_person\", Person), issubclass(str, Person)"
   ]
  },
  {
   "cell_type": "code",
   "execution_count": null,
   "id": "951b8aa4-2dce-41f8-8db1-5489bbe4279b",
   "metadata": {},
   "outputs": [],
   "source": []
  },
  {
   "cell_type": "code",
   "execution_count": null,
   "id": "3d65adc6-4e7c-49f8-83f3-6a03c450b99a",
   "metadata": {},
   "outputs": [],
   "source": []
  },
  {
   "cell_type": "code",
   "execution_count": 133,
   "id": "95f8810c-3bb8-4b92-9066-14b78ddb92ac",
   "metadata": {},
   "outputs": [],
   "source": [
    "from collections import abc as bc"
   ]
  },
  {
   "cell_type": "code",
   "execution_count": 134,
   "id": "0b8d32db-d311-4b7c-bcf1-820a0889d3e5",
   "metadata": {},
   "outputs": [
    {
     "data": {
      "text/plain": [
       "collections.abc.Hashable"
      ]
     },
     "execution_count": 134,
     "metadata": {},
     "output_type": "execute_result"
    }
   ],
   "source": [
    "bc.Hashable"
   ]
  },
  {
   "cell_type": "code",
   "execution_count": 135,
   "id": "fe0efb19-897b-45d2-aef4-1bd33b190e3e",
   "metadata": {},
   "outputs": [
    {
     "data": {
      "text/plain": [
       "True"
      ]
     },
     "execution_count": 135,
     "metadata": {},
     "output_type": "execute_result"
    }
   ],
   "source": [
    "isinstance(\"qwerty\", bc.Hashable)"
   ]
  },
  {
   "cell_type": "code",
   "execution_count": 136,
   "id": "14a0eb98-5e47-43cd-b2e1-82fc65d27d67",
   "metadata": {},
   "outputs": [
    {
     "data": {
      "text/plain": [
       "False"
      ]
     },
     "execution_count": 136,
     "metadata": {},
     "output_type": "execute_result"
    }
   ],
   "source": [
    "isinstance([1, 2, 3], bc.Hashable)"
   ]
  },
  {
   "cell_type": "code",
   "execution_count": 137,
   "id": "ffa8c3b5-378d-4c53-a921-ab2c11b0784f",
   "metadata": {},
   "outputs": [
    {
     "data": {
      "text/plain": [
       "(collections.abc.Iterable, collections.abc.Iterator)"
      ]
     },
     "execution_count": 137,
     "metadata": {},
     "output_type": "execute_result"
    }
   ],
   "source": [
    "bc.Iterable, bc.Iterator"
   ]
  },
  {
   "cell_type": "code",
   "execution_count": 138,
   "id": "c8b73872-ec5d-4c72-b360-e282a2ed4e55",
   "metadata": {},
   "outputs": [],
   "source": [
    "class SomeIterable:\n",
    "    def __iter__(self):\n",
    "        pass\n",
    "\n",
    "\n",
    "class SomeIterator:\n",
    "    def __next__(self):\n",
    "        pass\n",
    "\n",
    "\n",
    "class Some(SomeIterable, SomeIterator):\n",
    "    pass"
   ]
  },
  {
   "cell_type": "code",
   "execution_count": 141,
   "id": "bce8930c-1ebe-48ce-942f-0498af1b21d4",
   "metadata": {},
   "outputs": [
    {
     "name": "stdout",
     "output_type": "stream",
     "text": [
      "cls=<class '__main__.SomeIterable'>, issubclass(cls, bc.Iterable)=True, issubclass(cls, bc.Iterator)=False\n",
      "cls=<class '__main__.SomeIterator'>, issubclass(cls, bc.Iterable)=False, issubclass(cls, bc.Iterator)=False\n",
      "cls=<class '__main__.Some'>, issubclass(cls, bc.Iterable)=True, issubclass(cls, bc.Iterator)=True\n"
     ]
    }
   ],
   "source": [
    "for cls in (SomeIterable, SomeIterator, Some):\n",
    "    print(f\"{cls=}, {issubclass(cls, bc.Iterable)=}, {issubclass(cls, bc.Iterator)=}\")"
   ]
  },
  {
   "cell_type": "code",
   "execution_count": null,
   "id": "7a1b36ef-7352-42da-86f9-b6bad4789c16",
   "metadata": {},
   "outputs": [],
   "source": []
  },
  {
   "cell_type": "code",
   "execution_count": null,
   "id": "ca7f4a06-854a-4fcf-9fa7-9ba950cf2a9c",
   "metadata": {},
   "outputs": [],
   "source": []
  },
  {
   "cell_type": "code",
   "execution_count": null,
   "id": "15375d09-a1ae-4321-8f73-796dfab23458",
   "metadata": {},
   "outputs": [],
   "source": []
  },
  {
   "cell_type": "code",
   "execution_count": 194,
   "id": "b8ea1b3b-162a-4451-a0c3-a31b74846092",
   "metadata": {},
   "outputs": [],
   "source": [
    "class Predictable(abc.ABC):\n",
    "    @abc.abstractmethod\n",
    "    def predict(self):\n",
    "        print(\"Predictable.predict\")\n",
    "\n",
    "    @classmethod\n",
    "    def __subclasshook__(cls, C):\n",
    "        print(f\"Predictable.__subclasshook__, {cls=}, {C=}\")\n",
    "\n",
    "        if cls is not Predictable:\n",
    "            return NotImplemented\n",
    "\n",
    "        name = \"predict\"\n",
    "\n",
    "        for class_ in C.__mro__:\n",
    "            if name in class_.__dict__ and callable(class_.__dict__[name]):\n",
    "                return True\n",
    "\n",
    "        return NotImplemented"
   ]
  },
  {
   "cell_type": "code",
   "execution_count": 182,
   "id": "da2d2c56-e7fc-4a12-8d37-33ca299ef61a",
   "metadata": {},
   "outputs": [],
   "source": [
    "class LLama:\n",
    "    def predict(self, data):\n",
    "        return 42\n",
    "\n",
    "\n",
    "class LightTraffic:\n",
    "    predict = \"green\"\n",
    "\n",
    "\n",
    "llm = LLama()\n",
    "light = LightTraffic()"
   ]
  },
  {
   "cell_type": "code",
   "execution_count": 183,
   "id": "3494a58d-7c34-4f79-b5b8-3d9d67ed0b23",
   "metadata": {},
   "outputs": [
    {
     "name": "stdout",
     "output_type": "stream",
     "text": [
      "Predictable.__subclasshook__, cls=<class '__main__.Predictable'>, C=<class '__main__.LLama'>\n"
     ]
    },
    {
     "data": {
      "text/plain": [
       "(True, True)"
      ]
     },
     "execution_count": 183,
     "metadata": {},
     "output_type": "execute_result"
    }
   ],
   "source": [
    "isinstance(llm, Predictable), issubclass(LLama, Predictable)"
   ]
  },
  {
   "cell_type": "code",
   "execution_count": 184,
   "id": "1b28e15c-0d66-4a1f-b943-f024b0f3368b",
   "metadata": {},
   "outputs": [
    {
     "data": {
      "text/plain": [
       "True"
      ]
     },
     "execution_count": 184,
     "metadata": {},
     "output_type": "execute_result"
    }
   ],
   "source": [
    "issubclass(LLama, Predictable)"
   ]
  },
  {
   "cell_type": "code",
   "execution_count": 185,
   "id": "8a81e8d1-0a6a-4ffe-b827-167063c5ec76",
   "metadata": {},
   "outputs": [
    {
     "name": "stdout",
     "output_type": "stream",
     "text": [
      "Predictable.__subclasshook__, cls=<class '__main__.Predictable'>, C=<class '__main__.LightTraffic'>\n"
     ]
    },
    {
     "data": {
      "text/plain": [
       "(False, False)"
      ]
     },
     "execution_count": 185,
     "metadata": {},
     "output_type": "execute_result"
    }
   ],
   "source": [
    "isinstance(light, Predictable), issubclass(LightTraffic, Predictable)"
   ]
  },
  {
   "cell_type": "code",
   "execution_count": 186,
   "id": "cf39fe9e-4dac-4dd3-9ad4-12479aba78c1",
   "metadata": {},
   "outputs": [
    {
     "data": {
      "text/plain": [
       "__main__.Person"
      ]
     },
     "execution_count": 186,
     "metadata": {},
     "output_type": "execute_result"
    }
   ],
   "source": [
    "type(steve)"
   ]
  },
  {
   "cell_type": "code",
   "execution_count": 187,
   "id": "40aa7ed0-8b63-4624-bec8-85720236f107",
   "metadata": {},
   "outputs": [
    {
     "name": "stdout",
     "output_type": "stream",
     "text": [
      "Predictable.__subclasshook__, cls=<class '__main__.Predictable'>, C=<class '__main__.Person'>\n",
      "Predictable.__subclasshook__, cls=<class '__main__.Predictable'>, C=<class '__main__.Person'>\n"
     ]
    },
    {
     "data": {
      "text/plain": [
       "(False, False)"
      ]
     },
     "execution_count": 187,
     "metadata": {},
     "output_type": "execute_result"
    }
   ],
   "source": [
    "isinstance(steve, Predictable), issubclass(Person, Predictable)"
   ]
  },
  {
   "cell_type": "code",
   "execution_count": null,
   "id": "6506ada4-1204-48f4-8b62-b4ee61b5797e",
   "metadata": {},
   "outputs": [],
   "source": []
  },
  {
   "cell_type": "code",
   "execution_count": 192,
   "id": "56d32b4c-e768-4281-8515-d6b3921c6492",
   "metadata": {},
   "outputs": [],
   "source": [
    "class TrainPredictable(Predictable):\n",
    "    @abc.abstractmethod\n",
    "    def train(self):\n",
    "        pass\n",
    "\n",
    "    # @classmethod\n",
    "    # def __subclasshook__(cls, C):\n",
    "    #     print(f\"TrainPredictable.__subclasshook__, {cls=}, {C=}\")\n",
    "\n",
    "    #     if cls is not TrainPredictable:\n",
    "    #         return NotImplemented\n",
    "\n",
    "    #     name = \"predict\"\n",
    "\n",
    "    #     for class_ in C.__mro__:\n",
    "    #         if name in class_.__dict__ and callable(class_.__dict__[name]):\n",
    "    #             return True\n",
    "\n",
    "    #     return NotImplemented\n",
    "\n",
    "class LLamaTrain:\n",
    "    def predict(self, data):\n",
    "        return 42\n",
    "\n",
    "    def train(self):\n",
    "        pass\n",
    "\n",
    "\n",
    "model = LLamaTrain()"
   ]
  },
  {
   "cell_type": "code",
   "execution_count": 193,
   "id": "8479f24c-e9ef-4a6c-aa82-63094f174ad7",
   "metadata": {},
   "outputs": [
    {
     "name": "stdout",
     "output_type": "stream",
     "text": [
      "Predictable.__subclasshook__, cls=<class '__main__.TrainPredictable'>, C=<class '__main__.LLamaTrain'>\n"
     ]
    },
    {
     "data": {
      "text/plain": [
       "True"
      ]
     },
     "execution_count": 193,
     "metadata": {},
     "output_type": "execute_result"
    }
   ],
   "source": [
    "isinstance(model, TrainPredictable)"
   ]
  },
  {
   "cell_type": "code",
   "execution_count": null,
   "id": "f8704919-e408-46bc-a4d8-286f15cbc6ef",
   "metadata": {},
   "outputs": [],
   "source": []
  },
  {
   "cell_type": "code",
   "execution_count": null,
   "id": "e0978d4d-2600-49bd-8ecd-2130846f24fb",
   "metadata": {},
   "outputs": [],
   "source": []
  },
  {
   "cell_type": "code",
   "execution_count": null,
   "id": "76543d9b-3d97-43f1-8129-55f2bcc59cb8",
   "metadata": {},
   "outputs": [],
   "source": []
  },
  {
   "cell_type": "code",
   "execution_count": 195,
   "id": "5b4d4d00-711b-4fc4-be05-6c4276aca1fc",
   "metadata": {},
   "outputs": [
    {
     "data": {
      "text/plain": [
       "(0.1, 0.2)"
      ]
     },
     "execution_count": 195,
     "metadata": {},
     "output_type": "execute_result"
    }
   ],
   "source": [
    "0.1, 0.2"
   ]
  },
  {
   "cell_type": "code",
   "execution_count": 196,
   "id": "53a4b88a-fdf4-4a8b-a53e-6e905c67b021",
   "metadata": {},
   "outputs": [
    {
     "data": {
      "text/plain": [
       "0.30000000000000004"
      ]
     },
     "execution_count": 196,
     "metadata": {},
     "output_type": "execute_result"
    }
   ],
   "source": [
    "0.1 + 0.2"
   ]
  },
  {
   "cell_type": "code",
   "execution_count": 197,
   "id": "1235bea4-3884-4ee6-b747-5c5a4f5c0bbb",
   "metadata": {},
   "outputs": [
    {
     "data": {
      "text/plain": [
       "False"
      ]
     },
     "execution_count": 197,
     "metadata": {},
     "output_type": "execute_result"
    }
   ],
   "source": [
    "0.1 + 0.2 == 0.3"
   ]
  },
  {
   "cell_type": "code",
   "execution_count": 201,
   "id": "0ef8d129-6c59-44e6-b2fe-213afe8813b1",
   "metadata": {},
   "outputs": [
    {
     "name": "stdout",
     "output_type": "stream",
     "text": [
      "False\n",
      "True\n"
     ]
    }
   ],
   "source": [
    "a = 0.1 + 0.2\n",
    "b = 0.3\n",
    "\n",
    "print(a == b)\n",
    "\n",
    "print(abs(a - b) < 10e-14)"
   ]
  },
  {
   "cell_type": "code",
   "execution_count": 202,
   "id": "39272738-3e15-4274-a3bb-bcb34ebfb765",
   "metadata": {},
   "outputs": [],
   "source": [
    "import math"
   ]
  },
  {
   "cell_type": "code",
   "execution_count": 203,
   "id": "1918d4b5-370e-417d-a841-b8d0cc34ae25",
   "metadata": {},
   "outputs": [
    {
     "data": {
      "text/plain": [
       "True"
      ]
     },
     "execution_count": 203,
     "metadata": {},
     "output_type": "execute_result"
    }
   ],
   "source": [
    "math.isclose(a, b)"
   ]
  },
  {
   "cell_type": "code",
   "execution_count": 212,
   "id": "b4cabb88-9177-4b07-8589-2c321d57f697",
   "metadata": {},
   "outputs": [
    {
     "data": {
      "text/plain": [
       "False"
      ]
     },
     "execution_count": 212,
     "metadata": {},
     "output_type": "execute_result"
    }
   ],
   "source": [
    "math.isclose(a, b, rel_tol=10e-20)"
   ]
  },
  {
   "cell_type": "code",
   "execution_count": 215,
   "id": "3936ffc1-f914-4b95-89e8-c7b0e270848c",
   "metadata": {},
   "outputs": [
    {
     "data": {
      "text/plain": [
       "True"
      ]
     },
     "execution_count": 215,
     "metadata": {},
     "output_type": "execute_result"
    }
   ],
   "source": [
    "math.isclose(a, b, abs_tol=10e-100)"
   ]
  },
  {
   "cell_type": "code",
   "execution_count": null,
   "id": "6b7d1f2f-7f02-4753-879e-6e68c7c293cb",
   "metadata": {},
   "outputs": [],
   "source": []
  },
  {
   "cell_type": "code",
   "execution_count": 217,
   "id": "28b41826-9a2f-4719-8a02-2285e9ab00e7",
   "metadata": {},
   "outputs": [
    {
     "data": {
      "text/plain": [
       "(1351079888211149, 4503599627370496)"
      ]
     },
     "execution_count": 217,
     "metadata": {},
     "output_type": "execute_result"
    }
   ],
   "source": [
    "a.as_integer_ratio()"
   ]
  },
  {
   "cell_type": "code",
   "execution_count": 218,
   "id": "7d8d4517-829b-4563-b8a8-f70dd76aff81",
   "metadata": {},
   "outputs": [],
   "source": [
    "from decimal import Decimal\n",
    "from fractions import Fraction"
   ]
  },
  {
   "cell_type": "code",
   "execution_count": 219,
   "id": "e462b4e0-8574-47d1-91a2-10f79df0fb3b",
   "metadata": {},
   "outputs": [
    {
     "data": {
      "text/plain": [
       "Decimal('0.3')"
      ]
     },
     "execution_count": 219,
     "metadata": {},
     "output_type": "execute_result"
    }
   ],
   "source": [
    "d1 = Decimal(\"0.1\")\n",
    "d2 = Decimal(\"0.2\")\n",
    "\n",
    "d1 + d2"
   ]
  },
  {
   "cell_type": "code",
   "execution_count": 220,
   "id": "0e968a3c-4725-4b98-bb8b-b4ff129fb375",
   "metadata": {},
   "outputs": [
    {
     "data": {
      "text/plain": [
       "Decimal('0.3000000000000000055511151231')"
      ]
     },
     "execution_count": 220,
     "metadata": {},
     "output_type": "execute_result"
    }
   ],
   "source": [
    "d1 = Decimal(0.1)\n",
    "d2 = Decimal(\"0.2\")\n",
    "\n",
    "d1 + d2"
   ]
  },
  {
   "cell_type": "code",
   "execution_count": 221,
   "id": "bf528444-42a2-48a0-bbaa-efdefca83dcd",
   "metadata": {},
   "outputs": [
    {
     "data": {
      "text/plain": [
       "Decimal('0.1000000000000000055511151231257827021181583404541015625')"
      ]
     },
     "execution_count": 221,
     "metadata": {},
     "output_type": "execute_result"
    }
   ],
   "source": [
    "d1"
   ]
  },
  {
   "cell_type": "code",
   "execution_count": 222,
   "id": "b0631b8b-26cf-4431-8f6b-8e4bd515a31e",
   "metadata": {},
   "outputs": [
    {
     "data": {
      "text/plain": [
       "Decimal('0.3')"
      ]
     },
     "execution_count": 222,
     "metadata": {},
     "output_type": "execute_result"
    }
   ],
   "source": [
    "d1 = Decimal(\"0.1\")\n",
    "d2 = Decimal(\"0.2\")\n",
    "\n",
    "d1 + d2"
   ]
  },
  {
   "cell_type": "code",
   "execution_count": 223,
   "id": "dcb2cde0-0fdd-4dfb-8688-fc0fd389ccb5",
   "metadata": {},
   "outputs": [
    {
     "data": {
      "text/plain": [
       "Decimal('0.5')"
      ]
     },
     "execution_count": 223,
     "metadata": {},
     "output_type": "execute_result"
    }
   ],
   "source": [
    "d1 / d2"
   ]
  },
  {
   "cell_type": "code",
   "execution_count": 224,
   "id": "49dd0e25-7e11-46d3-aea9-8bd2dd54a0e8",
   "metadata": {},
   "outputs": [
    {
     "data": {
      "text/plain": [
       "Decimal('0.1428571428571428571428571429')"
      ]
     },
     "execution_count": 224,
     "metadata": {},
     "output_type": "execute_result"
    }
   ],
   "source": [
    "Decimal(1) / Decimal(7)"
   ]
  },
  {
   "cell_type": "code",
   "execution_count": null,
   "id": "66d914f1-5c1f-4292-aa2a-13a9ac40ebe8",
   "metadata": {},
   "outputs": [],
   "source": []
  },
  {
   "cell_type": "code",
   "execution_count": null,
   "id": "9cee905f-bab4-4c9c-8981-3245d38516ea",
   "metadata": {},
   "outputs": [],
   "source": []
  },
  {
   "cell_type": "code",
   "execution_count": 229,
   "id": "4dc923f9-713e-43e4-8bde-c204c9dfc5da",
   "metadata": {},
   "outputs": [],
   "source": [
    "f1 = Fraction(1, 7)\n",
    "f2 = Fraction(3, 14)"
   ]
  },
  {
   "cell_type": "code",
   "execution_count": 228,
   "id": "d6b2b460-e44f-44ae-a3ed-9e2468ee5a9d",
   "metadata": {},
   "outputs": [
    {
     "data": {
      "text/plain": [
       "(1, 7, Fraction(1, 7))"
      ]
     },
     "execution_count": 228,
     "metadata": {},
     "output_type": "execute_result"
    }
   ],
   "source": [
    "f1.numerator, f1.denominator, f1"
   ]
  },
  {
   "cell_type": "code",
   "execution_count": 230,
   "id": "1b17d3b0-6e79-4d54-894c-5f4d954c30b5",
   "metadata": {},
   "outputs": [
    {
     "data": {
      "text/plain": [
       "Fraction(5, 14)"
      ]
     },
     "execution_count": 230,
     "metadata": {},
     "output_type": "execute_result"
    }
   ],
   "source": [
    "f1 + f2"
   ]
  },
  {
   "cell_type": "code",
   "execution_count": 231,
   "id": "36f2d040-9220-4bea-938d-9edb5f17efb7",
   "metadata": {},
   "outputs": [
    {
     "data": {
      "text/plain": [
       "0.35714285714285715"
      ]
     },
     "execution_count": 231,
     "metadata": {},
     "output_type": "execute_result"
    }
   ],
   "source": [
    "5 / 14"
   ]
  },
  {
   "cell_type": "code",
   "execution_count": 232,
   "id": "970c2812-8fb0-4b25-8446-0c573f57dbe1",
   "metadata": {},
   "outputs": [
    {
     "data": {
      "text/plain": [
       "0.35714285714285715"
      ]
     },
     "execution_count": 232,
     "metadata": {},
     "output_type": "execute_result"
    }
   ],
   "source": [
    "float(f1 + f2)"
   ]
  },
  {
   "cell_type": "code",
   "execution_count": null,
   "id": "a3a0c9a2-ad02-4bd0-b2a7-8baaae66b890",
   "metadata": {},
   "outputs": [],
   "source": []
  }
 ],
 "metadata": {
  "kernelspec": {
   "display_name": "Python 3 (ipykernel)",
   "language": "python",
   "name": "python3"
  },
  "language_info": {
   "codemirror_mode": {
    "name": "ipython",
    "version": 3
   },
   "file_extension": ".py",
   "mimetype": "text/x-python",
   "name": "python",
   "nbconvert_exporter": "python",
   "pygments_lexer": "ipython3",
   "version": "3.12.5"
  }
 },
 "nbformat": 4,
 "nbformat_minor": 5
}
