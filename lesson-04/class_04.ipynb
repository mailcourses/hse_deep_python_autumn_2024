{
 "cells": [
  {
   "cell_type": "markdown",
   "id": "ac3aff43-e0f4-41cc-842d-d53c10035c2d",
   "metadata": {},
   "source": [
    "# property"
   ]
  },
  {
   "cell_type": "code",
   "execution_count": 21,
   "id": "f9d9aab8-b776-4dcf-8ca6-5f5f73925fac",
   "metadata": {},
   "outputs": [],
   "source": [
    "class Person:\n",
    "    def __init__(self, name):\n",
    "        self.name = name\n",
    "\n",
    "    @property\n",
    "    def name(self):\n",
    "        return f\"My name is {self.__name}\"\n",
    "\n",
    "    @name.setter\n",
    "    def name(self, val):\n",
    "        print(\"set_name\", val)\n",
    "    \n",
    "        if isinstance(val, str):\n",
    "            self.__name = val\n",
    "        else:\n",
    "            raise Exception(\"wrong type\")\n",
    "    \n",
    "    @name.deleter\n",
    "    def name(self):\n",
    "        print(\"delete name attr\")\n",
    "        del self.__name"
   ]
  },
  {
   "cell_type": "code",
   "execution_count": 22,
   "id": "2d73b9ea-a810-4050-bef3-d3c8f542a1d4",
   "metadata": {},
   "outputs": [
    {
     "name": "stdout",
     "output_type": "stream",
     "text": [
      "set_name Walter\n"
     ]
    }
   ],
   "source": [
    "pers = Person(\"Walter\")"
   ]
  },
  {
   "cell_type": "code",
   "execution_count": 23,
   "id": "9cca2cf5-cac2-4489-870d-e6175fc39719",
   "metadata": {},
   "outputs": [
    {
     "data": {
      "text/plain": [
       "'My name is Walter'"
      ]
     },
     "execution_count": 23,
     "metadata": {},
     "output_type": "execute_result"
    }
   ],
   "source": [
    "pers.name"
   ]
  },
  {
   "cell_type": "code",
   "execution_count": 24,
   "id": "001385f8-e115-4641-8908-773e74fbea0f",
   "metadata": {},
   "outputs": [
    {
     "name": "stdout",
     "output_type": "stream",
     "text": [
      "set_name WW\n"
     ]
    }
   ],
   "source": [
    "pers.name = \"WW\""
   ]
  },
  {
   "cell_type": "code",
   "execution_count": 25,
   "id": "99918aa8-97e9-4f2a-bb31-698502cdac00",
   "metadata": {},
   "outputs": [
    {
     "data": {
      "text/plain": [
       "'My name is WW'"
      ]
     },
     "execution_count": 25,
     "metadata": {},
     "output_type": "execute_result"
    }
   ],
   "source": [
    "pers.name"
   ]
  },
  {
   "cell_type": "code",
   "execution_count": 26,
   "id": "7f5ec5c9-98ae-4f8b-b249-27d99d70d6fc",
   "metadata": {},
   "outputs": [
    {
     "name": "stdout",
     "output_type": "stream",
     "text": [
      "delete name attr\n"
     ]
    }
   ],
   "source": [
    "del pers.name"
   ]
  },
  {
   "cell_type": "code",
   "execution_count": 27,
   "id": "726ba541-d505-4d88-9ed7-8fae3c3fbf10",
   "metadata": {},
   "outputs": [
    {
     "ename": "AttributeError",
     "evalue": "'Person' object has no attribute '_Person__name'",
     "output_type": "error",
     "traceback": [
      "\u001b[0;31m---------------------------------------------------------------------------\u001b[0m",
      "\u001b[0;31mAttributeError\u001b[0m                            Traceback (most recent call last)",
      "Cell \u001b[0;32mIn[27], line 1\u001b[0m\n\u001b[0;32m----> 1\u001b[0m \u001b[43mpers\u001b[49m\u001b[38;5;241;43m.\u001b[39;49m\u001b[43mname\u001b[49m\n",
      "Cell \u001b[0;32mIn[21], line 7\u001b[0m, in \u001b[0;36mPerson.name\u001b[0;34m(self)\u001b[0m\n\u001b[1;32m      5\u001b[0m \u001b[38;5;129m@property\u001b[39m\n\u001b[1;32m      6\u001b[0m \u001b[38;5;28;01mdef\u001b[39;00m \u001b[38;5;21mname\u001b[39m(\u001b[38;5;28mself\u001b[39m):\n\u001b[0;32m----> 7\u001b[0m     \u001b[38;5;28;01mreturn\u001b[39;00m \u001b[38;5;124mf\u001b[39m\u001b[38;5;124m\"\u001b[39m\u001b[38;5;124mMy name is \u001b[39m\u001b[38;5;132;01m{\u001b[39;00m\u001b[38;5;28;43mself\u001b[39;49m\u001b[38;5;241;43m.\u001b[39;49m\u001b[43m__name\u001b[49m\u001b[38;5;132;01m}\u001b[39;00m\u001b[38;5;124m\"\u001b[39m\n",
      "\u001b[0;31mAttributeError\u001b[0m: 'Person' object has no attribute '_Person__name'"
     ]
    }
   ],
   "source": [
    "pers.name"
   ]
  },
  {
   "cell_type": "code",
   "execution_count": 28,
   "id": "9d2f4820-58b3-4552-91c5-ca759ddc14ed",
   "metadata": {},
   "outputs": [
    {
     "name": "stdout",
     "output_type": "stream",
     "text": [
      "set_name Walter\n"
     ]
    }
   ],
   "source": [
    "pers.name = \"Walter\""
   ]
  },
  {
   "cell_type": "code",
   "execution_count": 29,
   "id": "a0e1fabe-0ce3-4315-b011-379c84e51eac",
   "metadata": {},
   "outputs": [
    {
     "data": {
      "text/plain": [
       "'My name is Walter'"
      ]
     },
     "execution_count": 29,
     "metadata": {},
     "output_type": "execute_result"
    }
   ],
   "source": [
    "pers.name"
   ]
  },
  {
   "cell_type": "code",
   "execution_count": 30,
   "id": "d2e4d496-eaf8-4853-a9d3-926959592e96",
   "metadata": {},
   "outputs": [
    {
     "name": "stdout",
     "output_type": "stream",
     "text": [
      "set_name 123\n"
     ]
    },
    {
     "ename": "Exception",
     "evalue": "wrong type",
     "output_type": "error",
     "traceback": [
      "\u001b[0;31m---------------------------------------------------------------------------\u001b[0m",
      "\u001b[0;31mException\u001b[0m                                 Traceback (most recent call last)",
      "Cell \u001b[0;32mIn[30], line 1\u001b[0m\n\u001b[0;32m----> 1\u001b[0m \u001b[43mpers\u001b[49m\u001b[38;5;241;43m.\u001b[39;49m\u001b[43mname\u001b[49m \u001b[38;5;241m=\u001b[39m \u001b[38;5;241m123\u001b[39m\n",
      "Cell \u001b[0;32mIn[21], line 16\u001b[0m, in \u001b[0;36mPerson.name\u001b[0;34m(self, val)\u001b[0m\n\u001b[1;32m     14\u001b[0m     \u001b[38;5;28mself\u001b[39m\u001b[38;5;241m.\u001b[39m__name \u001b[38;5;241m=\u001b[39m val\n\u001b[1;32m     15\u001b[0m \u001b[38;5;28;01melse\u001b[39;00m:\n\u001b[0;32m---> 16\u001b[0m     \u001b[38;5;28;01mraise\u001b[39;00m \u001b[38;5;167;01mException\u001b[39;00m(\u001b[38;5;124m\"\u001b[39m\u001b[38;5;124mwrong type\u001b[39m\u001b[38;5;124m\"\u001b[39m)\n",
      "\u001b[0;31mException\u001b[0m: wrong type"
     ]
    }
   ],
   "source": [
    "pers.name = 123"
   ]
  },
  {
   "cell_type": "code",
   "execution_count": 31,
   "id": "f5099cc1-7888-41ec-b7c2-ca9405fa506a",
   "metadata": {},
   "outputs": [
    {
     "data": {
      "text/plain": [
       "'My name is Walter'"
      ]
     },
     "execution_count": 31,
     "metadata": {},
     "output_type": "execute_result"
    }
   ],
   "source": [
    "pers.name"
   ]
  },
  {
   "cell_type": "code",
   "execution_count": 36,
   "id": "1c826f46-a539-4ea9-bbc7-e584b78e238f",
   "metadata": {},
   "outputs": [],
   "source": [
    "class PersonNoProp:\n",
    "    def __init__(self, name):\n",
    "        self.name = name\n",
    "\n",
    "    def check_name(self):\n",
    "        return True\n",
    "\n",
    "    def set_name(self, name):\n",
    "        if self.check_name(name):\n",
    "            self.name = name\n",
    "        else:\n",
    "            raise\n",
    "\n",
    "p1 = PersonNoProp(\"steve\")"
   ]
  },
  {
   "cell_type": "code",
   "execution_count": 33,
   "id": "c3b69861-4c18-4374-8065-2b1ace4fbd84",
   "metadata": {},
   "outputs": [
    {
     "data": {
      "text/plain": [
       "'steve'"
      ]
     },
     "execution_count": 33,
     "metadata": {},
     "output_type": "execute_result"
    }
   ],
   "source": [
    "p1.name"
   ]
  },
  {
   "cell_type": "code",
   "execution_count": 34,
   "id": "53e44a3e-5072-4e54-9d0a-e4367ce06428",
   "metadata": {},
   "outputs": [],
   "source": [
    "p1.name = \"walter\""
   ]
  },
  {
   "cell_type": "code",
   "execution_count": 35,
   "id": "2795eef1-8571-479b-b670-5c31e83281f0",
   "metadata": {},
   "outputs": [
    {
     "data": {
      "text/plain": [
       "'walter'"
      ]
     },
     "execution_count": 35,
     "metadata": {},
     "output_type": "execute_result"
    }
   ],
   "source": [
    "p1.name"
   ]
  },
  {
   "cell_type": "code",
   "execution_count": null,
   "id": "0527ebf7-cedc-4f90-a162-2d677547c77b",
   "metadata": {},
   "outputs": [],
   "source": []
  },
  {
   "cell_type": "code",
   "execution_count": null,
   "id": "e34577f6-7983-4d6f-84a4-7ad2784999ce",
   "metadata": {},
   "outputs": [],
   "source": []
  },
  {
   "cell_type": "code",
   "execution_count": null,
   "id": "fc6802fe-ae38-4f04-8e84-5ba992dc9dc6",
   "metadata": {},
   "outputs": [],
   "source": []
  },
  {
   "cell_type": "code",
   "execution_count": null,
   "id": "bc1cdc8d-b17a-4f7a-9732-b017f59a8fa3",
   "metadata": {},
   "outputs": [],
   "source": []
  },
  {
   "cell_type": "code",
   "execution_count": null,
   "id": "d223bae4-9324-49ac-b7d2-9b361550e7e6",
   "metadata": {},
   "outputs": [],
   "source": []
  },
  {
   "cell_type": "code",
   "execution_count": null,
   "id": "fc386783-8a0d-4d31-a70c-a00b273a5173",
   "metadata": {},
   "outputs": [],
   "source": []
  },
  {
   "cell_type": "code",
   "execution_count": 37,
   "id": "684a257b-b3cc-4336-8333-b096680f1812",
   "metadata": {},
   "outputs": [],
   "source": [
    "def make_hash_from_password(password):\n",
    "    return hash(password)\n",
    "\n",
    "\n",
    "class User:\n",
    "    def __init__(self, login, password):\n",
    "        self.__login = login\n",
    "        self.password_hash = None\n",
    "        self.password = password\n",
    "\n",
    "    @property\n",
    "    def login(self):\n",
    "        \"\"\"name is read-only\"\"\"\n",
    "        return self.__login\n",
    "\n",
    "    @property\n",
    "    def password(self):\n",
    "        raise AttributeError(\"Password is write-only\")\n",
    "\n",
    "    @password.setter\n",
    "    def password(self, plaintext):\n",
    "        self.password_hash = make_hash_from_password(plaintext)\n"
   ]
  },
  {
   "cell_type": "code",
   "execution_count": 38,
   "id": "7200f738-e245-4ae0-b080-eb9a9dd6b46a",
   "metadata": {},
   "outputs": [],
   "source": [
    "usr = User(\"logan\", \"wolf\")"
   ]
  },
  {
   "cell_type": "code",
   "execution_count": 39,
   "id": "6f384fa5-2d86-45ae-bbd1-d9608702856f",
   "metadata": {},
   "outputs": [
    {
     "data": {
      "text/plain": [
       "{'_User__login': 'logan', 'password_hash': -7691919870782257956}"
      ]
     },
     "execution_count": 39,
     "metadata": {},
     "output_type": "execute_result"
    }
   ],
   "source": [
    "usr.__dict__"
   ]
  },
  {
   "cell_type": "code",
   "execution_count": 40,
   "id": "9984731e-9bf0-4ffa-a15a-df321f4a912b",
   "metadata": {},
   "outputs": [
    {
     "data": {
      "text/plain": [
       "'logan'"
      ]
     },
     "execution_count": 40,
     "metadata": {},
     "output_type": "execute_result"
    }
   ],
   "source": [
    "usr.login"
   ]
  },
  {
   "cell_type": "code",
   "execution_count": 42,
   "id": "79a7476b-33a5-4dbb-a0b3-186968ef8a0a",
   "metadata": {},
   "outputs": [
    {
     "ename": "AttributeError",
     "evalue": "property 'login' of 'User' object has no setter",
     "output_type": "error",
     "traceback": [
      "\u001b[0;31m---------------------------------------------------------------------------\u001b[0m",
      "\u001b[0;31mAttributeError\u001b[0m                            Traceback (most recent call last)",
      "Cell \u001b[0;32mIn[42], line 1\u001b[0m\n\u001b[0;32m----> 1\u001b[0m \u001b[43musr\u001b[49m\u001b[38;5;241;43m.\u001b[39;49m\u001b[43mlogin\u001b[49m \u001b[38;5;241m=\u001b[39m \u001b[38;5;124m\"\u001b[39m\u001b[38;5;124mreno_logan\u001b[39m\u001b[38;5;124m\"\u001b[39m\n",
      "\u001b[0;31mAttributeError\u001b[0m: property 'login' of 'User' object has no setter"
     ]
    }
   ],
   "source": [
    "usr.login = \"reno_logan\""
   ]
  },
  {
   "cell_type": "code",
   "execution_count": 43,
   "id": "d23cf3d7-e9d4-4b5f-9b02-7d9319cf9b9a",
   "metadata": {},
   "outputs": [],
   "source": [
    "usr._User__login = \"reno_logan\""
   ]
  },
  {
   "cell_type": "code",
   "execution_count": 44,
   "id": "c45643e2-af40-47ce-a10e-948240f0a728",
   "metadata": {},
   "outputs": [
    {
     "data": {
      "text/plain": [
       "'reno_logan'"
      ]
     },
     "execution_count": 44,
     "metadata": {},
     "output_type": "execute_result"
    }
   ],
   "source": [
    "usr.login"
   ]
  },
  {
   "cell_type": "code",
   "execution_count": 45,
   "id": "5439a767-1a30-47ea-8b03-62cbc6b60dc2",
   "metadata": {},
   "outputs": [
    {
     "data": {
      "text/plain": [
       "-7691919870782257956"
      ]
     },
     "execution_count": 45,
     "metadata": {},
     "output_type": "execute_result"
    }
   ],
   "source": [
    "usr.password_hash"
   ]
  },
  {
   "cell_type": "code",
   "execution_count": 46,
   "id": "bf4a3ccb-ad6b-4b53-834b-882b1470d90d",
   "metadata": {},
   "outputs": [
    {
     "ename": "AttributeError",
     "evalue": "Password is write-only",
     "output_type": "error",
     "traceback": [
      "\u001b[0;31m---------------------------------------------------------------------------\u001b[0m",
      "\u001b[0;31mAttributeError\u001b[0m                            Traceback (most recent call last)",
      "Cell \u001b[0;32mIn[46], line 1\u001b[0m\n\u001b[0;32m----> 1\u001b[0m \u001b[43musr\u001b[49m\u001b[38;5;241;43m.\u001b[39;49m\u001b[43mpassword\u001b[49m\n",
      "Cell \u001b[0;32mIn[37], line 18\u001b[0m, in \u001b[0;36mUser.password\u001b[0;34m(self)\u001b[0m\n\u001b[1;32m     16\u001b[0m \u001b[38;5;129m@property\u001b[39m\n\u001b[1;32m     17\u001b[0m \u001b[38;5;28;01mdef\u001b[39;00m \u001b[38;5;21mpassword\u001b[39m(\u001b[38;5;28mself\u001b[39m):\n\u001b[0;32m---> 18\u001b[0m     \u001b[38;5;28;01mraise\u001b[39;00m \u001b[38;5;167;01mAttributeError\u001b[39;00m(\u001b[38;5;124m\"\u001b[39m\u001b[38;5;124mPassword is write-only\u001b[39m\u001b[38;5;124m\"\u001b[39m)\n",
      "\u001b[0;31mAttributeError\u001b[0m: Password is write-only"
     ]
    }
   ],
   "source": [
    "usr.password"
   ]
  },
  {
   "cell_type": "code",
   "execution_count": 47,
   "id": "976bf32c-0c41-4a88-a27d-985c61bb18aa",
   "metadata": {},
   "outputs": [],
   "source": [
    "usr.password = \"12345\""
   ]
  },
  {
   "cell_type": "code",
   "execution_count": 48,
   "id": "906f855d-f2a8-4f74-a28d-274379d76679",
   "metadata": {},
   "outputs": [
    {
     "data": {
      "text/plain": [
       "4430135470810555992"
      ]
     },
     "execution_count": 48,
     "metadata": {},
     "output_type": "execute_result"
    }
   ],
   "source": [
    "usr.password_hash"
   ]
  },
  {
   "cell_type": "code",
   "execution_count": 56,
   "id": "adc02b07-27fe-4ab9-9b23-5975aca43556",
   "metadata": {},
   "outputs": [
    {
     "ename": "TypeError",
     "evalue": "'User' object is not callable",
     "output_type": "error",
     "traceback": [
      "\u001b[0;31m---------------------------------------------------------------------------\u001b[0m",
      "\u001b[0;31mTypeError\u001b[0m                                 Traceback (most recent call last)",
      "Cell \u001b[0;32mIn[56], line 1\u001b[0m\n\u001b[0;32m----> 1\u001b[0m \u001b[43musr\u001b[49m\u001b[43m(\u001b[49m\u001b[43m)\u001b[49m\n",
      "\u001b[0;31mTypeError\u001b[0m: 'User' object is not callable"
     ]
    }
   ],
   "source": [
    "usr()"
   ]
  },
  {
   "cell_type": "code",
   "execution_count": null,
   "id": "15456484-9faa-4bcc-b54c-a0efd5f7d241",
   "metadata": {},
   "outputs": [],
   "source": []
  },
  {
   "cell_type": "code",
   "execution_count": null,
   "id": "4b4853ee-ae8e-4763-9ecf-65e98dde4183",
   "metadata": {},
   "outputs": [],
   "source": []
  },
  {
   "cell_type": "code",
   "execution_count": null,
   "id": "d196069e-b1b2-4508-ab07-b098e70fc10e",
   "metadata": {},
   "outputs": [],
   "source": []
  },
  {
   "cell_type": "code",
   "execution_count": 20,
   "id": "808ed3ed-d2be-420a-81eb-67c3d3ba26ab",
   "metadata": {},
   "outputs": [
    {
     "name": "stdout",
     "output_type": "stream",
     "text": [
      "owner=<class '__main__.Container'>, name='x'\n"
     ]
    }
   ],
   "source": [
    "class Attr:\n",
    "    def __set_name__(self, owner, name):\n",
    "        print(f\"{owner=}, {name=}\")\n",
    "        self.name = name\n",
    "\n",
    "\n",
    "class Container:\n",
    "    x = Attr()  # Automatically calls: x.__set_name__(A, \"x\")\n",
    "\n",
    "\n",
    "cont = Container()"
   ]
  },
  {
   "cell_type": "code",
   "execution_count": null,
   "id": "ecd17b15-b5c3-49ec-91d7-7438efcf9672",
   "metadata": {},
   "outputs": [],
   "source": []
  },
  {
   "cell_type": "code",
   "execution_count": null,
   "id": "fe2dd735-9ce5-4793-bbf6-7eacb5343365",
   "metadata": {},
   "outputs": [],
   "source": []
  },
  {
   "cell_type": "code",
   "execution_count": 49,
   "id": "8ca9f99c-b4d4-42d7-af7a-1152a07905fe",
   "metadata": {},
   "outputs": [],
   "source": [
    "def calc_speed():\n",
    "    return 42"
   ]
  },
  {
   "cell_type": "code",
   "execution_count": 51,
   "id": "5a0ea82a-addf-44df-9f65-339b68a30ee7",
   "metadata": {},
   "outputs": [
    {
     "data": {
      "text/plain": [
       "42"
      ]
     },
     "execution_count": 51,
     "metadata": {},
     "output_type": "execute_result"
    }
   ],
   "source": [
    "calc_speed.__call__()"
   ]
  },
  {
   "cell_type": "code",
   "execution_count": 52,
   "id": "fd024b2f-1d2f-4ac0-8c60-c4187224976b",
   "metadata": {},
   "outputs": [
    {
     "data": {
      "text/plain": [
       "42"
      ]
     },
     "execution_count": 52,
     "metadata": {},
     "output_type": "execute_result"
    }
   ],
   "source": [
    "calc_speed()"
   ]
  },
  {
   "cell_type": "code",
   "execution_count": 53,
   "id": "03dcb3c7-db09-4c7c-80bd-b2224f6abebf",
   "metadata": {},
   "outputs": [],
   "source": [
    "class Animal:\n",
    "    def __init__(self, name):\n",
    "        self.name = name\n",
    "\n",
    "    def __call__(self, food):\n",
    "        print(f\"call {self.name=} with {food=}\")"
   ]
  },
  {
   "cell_type": "code",
   "execution_count": 54,
   "id": "b38bae2d-cefe-4b5e-9dd5-26fd60789324",
   "metadata": {},
   "outputs": [],
   "source": [
    "zebra = Animal(\"zzz\")"
   ]
  },
  {
   "cell_type": "code",
   "execution_count": 55,
   "id": "93399a7b-a1b5-488c-980e-dcdfcf516706",
   "metadata": {},
   "outputs": [
    {
     "data": {
      "text/plain": [
       "'zzz'"
      ]
     },
     "execution_count": 55,
     "metadata": {},
     "output_type": "execute_result"
    }
   ],
   "source": [
    "zebra.name"
   ]
  },
  {
   "cell_type": "code",
   "execution_count": 57,
   "id": "9f6ed67d-6a35-4ae8-a517-bc3adf739d2d",
   "metadata": {},
   "outputs": [
    {
     "name": "stdout",
     "output_type": "stream",
     "text": [
      "call self.name='zzz' with food='grass'\n"
     ]
    }
   ],
   "source": [
    "zebra(\"grass\")"
   ]
  },
  {
   "cell_type": "code",
   "execution_count": 58,
   "id": "69beeff2-a869-4e15-a49e-d72b45f18da1",
   "metadata": {},
   "outputs": [
    {
     "data": {
      "text/plain": [
       "(True, False, True, True, True)"
      ]
     },
     "execution_count": 58,
     "metadata": {},
     "output_type": "execute_result"
    }
   ],
   "source": [
    "callable(zebra), callable(usr), callable(calc_speed), callable(Animal), callable(User)"
   ]
  },
  {
   "cell_type": "code",
   "execution_count": null,
   "id": "30bd6b6d-0b5b-46fa-bf4a-11dc16719afd",
   "metadata": {},
   "outputs": [],
   "source": []
  },
  {
   "cell_type": "code",
   "execution_count": null,
   "id": "76dfcdef-99b8-4183-9e84-d99918033a75",
   "metadata": {},
   "outputs": [],
   "source": []
  },
  {
   "cell_type": "markdown",
   "id": "ea1eab2c-024b-44e5-aaf4-171856f50dec",
   "metadata": {},
   "source": [
    "# Атрибуты"
   ]
  },
  {
   "cell_type": "code",
   "execution_count": 66,
   "id": "c61f66d9-5d73-43ea-a1f7-e1c77c66dee3",
   "metadata": {},
   "outputs": [
    {
     "name": "stdout",
     "output_type": "stream",
     "text": [
      "__setattr__ name='val', val=42\n"
     ]
    }
   ],
   "source": [
    "class AttrAccess:\n",
    "    name = \"cls_attribut_access\"\n",
    "\n",
    "    def __init__(self, val):\n",
    "        self.val = val\n",
    "\n",
    "    def __getattr__(self, name):\n",
    "        print(f\"__getattr__ {name=}\")\n",
    "\n",
    "        raise AttributeError(f\"no attr {name}\")\n",
    "        # return super().__getattr__(name)  # - error\n",
    "\n",
    "    def __getattribute__(self, name):\n",
    "        print(f\"__getattribute__ {name=}\")\n",
    "        \n",
    "        return super().__getattribute__(name)\n",
    "            \n",
    "    def __setattr__(self, name, val):\n",
    "        print(f\"__setattr__ {name=}, {val=}\")\n",
    "        \n",
    "        return super().__setattr__(name, val)\n",
    "    \n",
    "    def __delattr__(self, name):\n",
    "        print(f\"__delattr__ {name=}\")\n",
    "        \n",
    "        return super().__delattr__(name)\n",
    "\n",
    "    \n",
    "attr = AttrAccess(42)"
   ]
  },
  {
   "cell_type": "code",
   "execution_count": 60,
   "id": "b731a56b-cc56-4364-8477-e0937a47c68c",
   "metadata": {},
   "outputs": [
    {
     "name": "stdout",
     "output_type": "stream",
     "text": [
      "__getattribute__ name='__dict__'\n"
     ]
    },
    {
     "data": {
      "text/plain": [
       "{'val': 42}"
      ]
     },
     "execution_count": 60,
     "metadata": {},
     "output_type": "execute_result"
    }
   ],
   "source": [
    "attr.__dict__"
   ]
  },
  {
   "cell_type": "code",
   "execution_count": 62,
   "id": "7fc9a5c8-1030-4426-9ec5-65a74f6ea10a",
   "metadata": {},
   "outputs": [
    {
     "name": "stdout",
     "output_type": "stream",
     "text": [
      "__getattribute__ name='val'\n"
     ]
    },
    {
     "data": {
      "text/plain": [
       "42"
      ]
     },
     "execution_count": 62,
     "metadata": {},
     "output_type": "execute_result"
    }
   ],
   "source": [
    "attr.val"
   ]
  },
  {
   "cell_type": "code",
   "execution_count": 67,
   "id": "030c0c80-faac-4a73-bdc2-679da4187c51",
   "metadata": {},
   "outputs": [
    {
     "name": "stdout",
     "output_type": "stream",
     "text": [
      "__getattribute__ name='unknown'\n",
      "__getattr__ name='unknown'\n"
     ]
    },
    {
     "ename": "AttributeError",
     "evalue": "no attr unknown",
     "output_type": "error",
     "traceback": [
      "\u001b[0;31m---------------------------------------------------------------------------\u001b[0m",
      "\u001b[0;31mAttributeError\u001b[0m                            Traceback (most recent call last)",
      "Cell \u001b[0;32mIn[67], line 1\u001b[0m\n\u001b[0;32m----> 1\u001b[0m \u001b[43mattr\u001b[49m\u001b[38;5;241;43m.\u001b[39;49m\u001b[43munknown\u001b[49m\n",
      "Cell \u001b[0;32mIn[66], line 10\u001b[0m, in \u001b[0;36mAttrAccess.__getattr__\u001b[0;34m(self, name)\u001b[0m\n\u001b[1;32m      7\u001b[0m \u001b[38;5;28;01mdef\u001b[39;00m \u001b[38;5;21m__getattr__\u001b[39m(\u001b[38;5;28mself\u001b[39m, name):\n\u001b[1;32m      8\u001b[0m     \u001b[38;5;28mprint\u001b[39m(\u001b[38;5;124mf\u001b[39m\u001b[38;5;124m\"\u001b[39m\u001b[38;5;124m__getattr__ \u001b[39m\u001b[38;5;132;01m{\u001b[39;00mname\u001b[38;5;132;01m=}\u001b[39;00m\u001b[38;5;124m\"\u001b[39m)\n\u001b[0;32m---> 10\u001b[0m     \u001b[38;5;28;01mraise\u001b[39;00m \u001b[38;5;167;01mAttributeError\u001b[39;00m(\u001b[38;5;124mf\u001b[39m\u001b[38;5;124m\"\u001b[39m\u001b[38;5;124mno attr \u001b[39m\u001b[38;5;132;01m{\u001b[39;00mname\u001b[38;5;132;01m}\u001b[39;00m\u001b[38;5;124m\"\u001b[39m)\n",
      "\u001b[0;31mAttributeError\u001b[0m: no attr unknown"
     ]
    }
   ],
   "source": [
    "attr.unknown"
   ]
  },
  {
   "cell_type": "code",
   "execution_count": 68,
   "id": "573af73b-b148-4457-9a34-c33a5cbe2b2e",
   "metadata": {},
   "outputs": [
    {
     "name": "stdout",
     "output_type": "stream",
     "text": [
      "__setattr__ name='unknown', val='unknown value'\n"
     ]
    }
   ],
   "source": [
    "attr.unknown = \"unknown value\""
   ]
  },
  {
   "cell_type": "code",
   "execution_count": 69,
   "id": "fba69c1a-28f5-4e41-9708-7b044cc959c7",
   "metadata": {},
   "outputs": [
    {
     "name": "stdout",
     "output_type": "stream",
     "text": [
      "__getattribute__ name='unknown'\n"
     ]
    },
    {
     "data": {
      "text/plain": [
       "'unknown value'"
      ]
     },
     "execution_count": 69,
     "metadata": {},
     "output_type": "execute_result"
    }
   ],
   "source": [
    "attr.unknown"
   ]
  },
  {
   "cell_type": "code",
   "execution_count": null,
   "id": "0a3006f5-b362-4e90-92d3-9d7ed0b1b2d7",
   "metadata": {},
   "outputs": [],
   "source": []
  },
  {
   "cell_type": "code",
   "execution_count": null,
   "id": "ad952a0b-ec1c-419f-b858-55ef62344701",
   "metadata": {},
   "outputs": [],
   "source": []
  },
  {
   "cell_type": "code",
   "execution_count": 83,
   "id": "42cb8479-09ee-4dec-87ba-c1b8a85ef8dd",
   "metadata": {},
   "outputs": [
    {
     "name": "stdout",
     "output_type": "stream",
     "text": [
      "__setattr__ name='val', val=42\n"
     ]
    }
   ],
   "source": [
    "class AttrAccessNoGet:\n",
    "    name = \"cls_attribut_access\"\n",
    "\n",
    "    def __init__(self, val):\n",
    "        self.val = val\n",
    "\n",
    "    def __getattribute__(self, name):\n",
    "        print(f\"__getattribute__ {name=}\")\n",
    "        \n",
    "        return super().__getattribute__(name)\n",
    "            \n",
    "    def __setattr__(self, name, val):\n",
    "        print(f\"__setattr__ {name=}, {val=}\")\n",
    "        \n",
    "        return super().__setattr__(name, val)\n",
    "    \n",
    "    def __delattr__(self, name):\n",
    "        print(f\"__delattr__ {name=}\")\n",
    "        \n",
    "        return super().__delattr__(name)\n",
    "\n",
    "    \n",
    "attr = AttrAccessNoGet(42)"
   ]
  },
  {
   "cell_type": "code",
   "execution_count": 71,
   "id": "54bc4c47-5925-4374-ba1a-5ffe5b84df9b",
   "metadata": {},
   "outputs": [
    {
     "name": "stdout",
     "output_type": "stream",
     "text": [
      "__getattribute__ name='unknown'\n"
     ]
    },
    {
     "ename": "AttributeError",
     "evalue": "'AttrAccessNoGet' object has no attribute 'unknown'",
     "output_type": "error",
     "traceback": [
      "\u001b[0;31m---------------------------------------------------------------------------\u001b[0m",
      "\u001b[0;31mAttributeError\u001b[0m                            Traceback (most recent call last)",
      "Cell \u001b[0;32mIn[71], line 1\u001b[0m\n\u001b[0;32m----> 1\u001b[0m \u001b[43mattr\u001b[49m\u001b[38;5;241;43m.\u001b[39;49m\u001b[43munknown\u001b[49m\n",
      "Cell \u001b[0;32mIn[70], line 10\u001b[0m, in \u001b[0;36mAttrAccessNoGet.__getattribute__\u001b[0;34m(self, name)\u001b[0m\n\u001b[1;32m      7\u001b[0m \u001b[38;5;28;01mdef\u001b[39;00m \u001b[38;5;21m__getattribute__\u001b[39m(\u001b[38;5;28mself\u001b[39m, name):\n\u001b[1;32m      8\u001b[0m     \u001b[38;5;28mprint\u001b[39m(\u001b[38;5;124mf\u001b[39m\u001b[38;5;124m\"\u001b[39m\u001b[38;5;124m__getattribute__ \u001b[39m\u001b[38;5;132;01m{\u001b[39;00mname\u001b[38;5;132;01m=}\u001b[39;00m\u001b[38;5;124m\"\u001b[39m)\n\u001b[0;32m---> 10\u001b[0m     \u001b[38;5;28;01mreturn\u001b[39;00m \u001b[38;5;28;43msuper\u001b[39;49m\u001b[43m(\u001b[49m\u001b[43m)\u001b[49m\u001b[38;5;241;43m.\u001b[39;49m\u001b[38;5;21;43m__getattribute__\u001b[39;49m\u001b[43m(\u001b[49m\u001b[43mname\u001b[49m\u001b[43m)\u001b[49m\n",
      "\u001b[0;31mAttributeError\u001b[0m: 'AttrAccessNoGet' object has no attribute 'unknown'"
     ]
    }
   ],
   "source": [
    "attr.unknown"
   ]
  },
  {
   "cell_type": "code",
   "execution_count": null,
   "id": "bb0f1ef2-e64d-43a3-9cb6-cd0d851142b1",
   "metadata": {},
   "outputs": [],
   "source": []
  },
  {
   "cell_type": "code",
   "execution_count": 72,
   "id": "f08eaf45-9e94-4d10-878a-871db049d6ed",
   "metadata": {},
   "outputs": [
    {
     "name": "stdout",
     "output_type": "stream",
     "text": [
      "__getattribute__ name='val'\n"
     ]
    },
    {
     "data": {
      "text/plain": [
       "42"
      ]
     },
     "execution_count": 72,
     "metadata": {},
     "output_type": "execute_result"
    }
   ],
   "source": [
    "getattr(attr, \"val\")"
   ]
  },
  {
   "cell_type": "code",
   "execution_count": 73,
   "id": "0756d796-c38d-4221-830e-2b9f9aa84749",
   "metadata": {},
   "outputs": [
    {
     "name": "stdout",
     "output_type": "stream",
     "text": [
      "__getattribute__ name='val_no'\n"
     ]
    },
    {
     "ename": "AttributeError",
     "evalue": "'AttrAccessNoGet' object has no attribute 'val_no'",
     "output_type": "error",
     "traceback": [
      "\u001b[0;31m---------------------------------------------------------------------------\u001b[0m",
      "\u001b[0;31mAttributeError\u001b[0m                            Traceback (most recent call last)",
      "Cell \u001b[0;32mIn[73], line 1\u001b[0m\n\u001b[0;32m----> 1\u001b[0m \u001b[38;5;28;43mgetattr\u001b[39;49m\u001b[43m(\u001b[49m\u001b[43mattr\u001b[49m\u001b[43m,\u001b[49m\u001b[43m \u001b[49m\u001b[38;5;124;43m\"\u001b[39;49m\u001b[38;5;124;43mval_no\u001b[39;49m\u001b[38;5;124;43m\"\u001b[39;49m\u001b[43m)\u001b[49m\n",
      "Cell \u001b[0;32mIn[70], line 10\u001b[0m, in \u001b[0;36mAttrAccessNoGet.__getattribute__\u001b[0;34m(self, name)\u001b[0m\n\u001b[1;32m      7\u001b[0m \u001b[38;5;28;01mdef\u001b[39;00m \u001b[38;5;21m__getattribute__\u001b[39m(\u001b[38;5;28mself\u001b[39m, name):\n\u001b[1;32m      8\u001b[0m     \u001b[38;5;28mprint\u001b[39m(\u001b[38;5;124mf\u001b[39m\u001b[38;5;124m\"\u001b[39m\u001b[38;5;124m__getattribute__ \u001b[39m\u001b[38;5;132;01m{\u001b[39;00mname\u001b[38;5;132;01m=}\u001b[39;00m\u001b[38;5;124m\"\u001b[39m)\n\u001b[0;32m---> 10\u001b[0m     \u001b[38;5;28;01mreturn\u001b[39;00m \u001b[38;5;28;43msuper\u001b[39;49m\u001b[43m(\u001b[49m\u001b[43m)\u001b[49m\u001b[38;5;241;43m.\u001b[39;49m\u001b[38;5;21;43m__getattribute__\u001b[39;49m\u001b[43m(\u001b[49m\u001b[43mname\u001b[49m\u001b[43m)\u001b[49m\n",
      "\u001b[0;31mAttributeError\u001b[0m: 'AttrAccessNoGet' object has no attribute 'val_no'"
     ]
    }
   ],
   "source": [
    "getattr(attr, \"val_no\")"
   ]
  },
  {
   "cell_type": "code",
   "execution_count": 84,
   "id": "f38641f5-24da-49ac-8531-8e63edac981d",
   "metadata": {},
   "outputs": [
    {
     "name": "stdout",
     "output_type": "stream",
     "text": [
      "__getattribute__ name='val_no'\n",
      "__getattribute__ name='val'\n"
     ]
    },
    {
     "data": {
      "text/plain": [
       "('WRONG', 42)"
      ]
     },
     "execution_count": 84,
     "metadata": {},
     "output_type": "execute_result"
    }
   ],
   "source": [
    "getattr(attr, \"val_no\", \"WRONG\"), getattr(attr, \"val\", \"WRONG\")"
   ]
  },
  {
   "cell_type": "code",
   "execution_count": 75,
   "id": "8554dde4-3945-4c83-9e91-33e2b4210529",
   "metadata": {},
   "outputs": [
    {
     "name": "stdout",
     "output_type": "stream",
     "text": [
      "__setattr__ name='new_val', val=12345\n"
     ]
    }
   ],
   "source": [
    "setattr(attr, \"new_val\", 12345)"
   ]
  },
  {
   "cell_type": "code",
   "execution_count": 77,
   "id": "f991890a-c646-4954-9ced-3f0dec26ceaa",
   "metadata": {},
   "outputs": [
    {
     "name": "stdout",
     "output_type": "stream",
     "text": [
      "__getattribute__ name='__dict__'\n"
     ]
    },
    {
     "data": {
      "text/plain": [
       "{'val': 42, 'new_val': 12345}"
      ]
     },
     "execution_count": 77,
     "metadata": {},
     "output_type": "execute_result"
    }
   ],
   "source": [
    "attr.__dict__"
   ]
  },
  {
   "cell_type": "code",
   "execution_count": 78,
   "id": "0c0132b7-6e62-4008-8087-e8c07e4bc8c1",
   "metadata": {},
   "outputs": [
    {
     "name": "stdout",
     "output_type": "stream",
     "text": [
      "__delattr__ name='new_val'\n"
     ]
    }
   ],
   "source": [
    "delattr(attr, \"new_val\")"
   ]
  },
  {
   "cell_type": "code",
   "execution_count": 79,
   "id": "9ecc8151-7fce-469e-807e-6f2cde48bb5f",
   "metadata": {},
   "outputs": [
    {
     "name": "stdout",
     "output_type": "stream",
     "text": [
      "__delattr__ name='val'\n"
     ]
    }
   ],
   "source": [
    "del attr.val"
   ]
  },
  {
   "cell_type": "code",
   "execution_count": 80,
   "id": "7f63d10e-d9d9-4e1d-bd18-6c4baf970713",
   "metadata": {},
   "outputs": [
    {
     "name": "stdout",
     "output_type": "stream",
     "text": [
      "__getattribute__ name='__dict__'\n"
     ]
    },
    {
     "data": {
      "text/plain": [
       "{}"
      ]
     },
     "execution_count": 80,
     "metadata": {},
     "output_type": "execute_result"
    }
   ],
   "source": [
    "attr.__dict__"
   ]
  },
  {
   "cell_type": "code",
   "execution_count": 85,
   "id": "c764af20-a97a-42dd-b1df-dcea3d229af0",
   "metadata": {},
   "outputs": [],
   "source": [
    "setattr(AttrAccess, \"new_name\", \"new_name_value\")"
   ]
  },
  {
   "cell_type": "code",
   "execution_count": 86,
   "id": "d98806af-e7c4-4fd0-8f52-61eecb86da7c",
   "metadata": {},
   "outputs": [
    {
     "data": {
      "text/plain": [
       "'new_name_value'"
      ]
     },
     "execution_count": 86,
     "metadata": {},
     "output_type": "execute_result"
    }
   ],
   "source": [
    "AttrAccess.new_name"
   ]
  },
  {
   "cell_type": "code",
   "execution_count": null,
   "id": "d094ffc9-3aa5-473d-bf35-360675ade9d0",
   "metadata": {},
   "outputs": [],
   "source": []
  },
  {
   "cell_type": "code",
   "execution_count": null,
   "id": "0e5b7ecb-23d9-42e3-a6fd-8b13386e0934",
   "metadata": {},
   "outputs": [],
   "source": []
  },
  {
   "cell_type": "code",
   "execution_count": null,
   "id": "6d5fb470-bca3-4aa2-ab63-ceff9df5e5c5",
   "metadata": {},
   "outputs": [],
   "source": []
  },
  {
   "cell_type": "code",
   "execution_count": null,
   "id": "fba43b8d-6ed7-4f56-85d3-c5ff8a8fd0d9",
   "metadata": {},
   "outputs": [],
   "source": []
  },
  {
   "cell_type": "markdown",
   "id": "e1fee23a-3c1a-4bd3-b50a-c4c438b93c22",
   "metadata": {},
   "source": [
    "# MRO"
   ]
  },
  {
   "cell_type": "code",
   "execution_count": 87,
   "id": "a3d9d797-c12c-49fd-b5e6-2957c19613da",
   "metadata": {},
   "outputs": [
    {
     "data": {
      "text/plain": [
       "[__main__.D, __main__.B, __main__.C, __main__.A, object]"
      ]
     },
     "execution_count": 87,
     "metadata": {},
     "output_type": "execute_result"
    }
   ],
   "source": [
    "class A:\n",
    "    pass\n",
    "\n",
    "class B(A):\n",
    "    pass\n",
    "\n",
    "class C(A):\n",
    "    pass\n",
    "\n",
    "class D(B, C):\n",
    "    pass\n",
    "\n",
    "D.mro()"
   ]
  },
  {
   "cell_type": "code",
   "execution_count": 88,
   "id": "35574a0a-7efc-4799-8d9b-6e12abdf0196",
   "metadata": {},
   "outputs": [
    {
     "data": {
      "text/plain": [
       "(__main__.D, __main__.B, __main__.C, __main__.A, object)"
      ]
     },
     "execution_count": 88,
     "metadata": {},
     "output_type": "execute_result"
    }
   ],
   "source": [
    "D.__mro__"
   ]
  },
  {
   "cell_type": "code",
   "execution_count": null,
   "id": "19e6d18d-f510-4088-b9b7-7b4d29d2c04f",
   "metadata": {},
   "outputs": [],
   "source": []
  },
  {
   "cell_type": "code",
   "execution_count": 89,
   "id": "5473bf41-7fa0-48a8-8d5c-7a831811581d",
   "metadata": {},
   "outputs": [
    {
     "ename": "TypeError",
     "evalue": "Cannot create a consistent method resolution\norder (MRO) for bases A, C, B",
     "output_type": "error",
     "traceback": [
      "\u001b[0;31m---------------------------------------------------------------------------\u001b[0m",
      "\u001b[0;31mTypeError\u001b[0m                                 Traceback (most recent call last)",
      "Cell \u001b[0;32mIn[89], line 1\u001b[0m\n\u001b[0;32m----> 1\u001b[0m \u001b[38;5;28;43;01mclass\u001b[39;49;00m\u001b[43m \u001b[49m\u001b[38;5;21;43;01mE\u001b[39;49;00m\u001b[43m(\u001b[49m\u001b[43mA\u001b[49m\u001b[43m,\u001b[49m\u001b[43m \u001b[49m\u001b[43mC\u001b[49m\u001b[43m,\u001b[49m\u001b[43m \u001b[49m\u001b[43mB\u001b[49m\u001b[43m)\u001b[49m\u001b[43m:\u001b[49m\n\u001b[1;32m      2\u001b[0m \u001b[43m    \u001b[49m\u001b[38;5;28;43;01mpass\u001b[39;49;00m\n",
      "\u001b[0;31mTypeError\u001b[0m: Cannot create a consistent method resolution\norder (MRO) for bases A, C, B"
     ]
    }
   ],
   "source": [
    "class E(A, C, B):\n",
    "    pass"
   ]
  },
  {
   "cell_type": "code",
   "execution_count": null,
   "id": "8cbd1c94-5c3e-445e-97df-1af6242acde2",
   "metadata": {},
   "outputs": [],
   "source": []
  },
  {
   "cell_type": "code",
   "execution_count": null,
   "id": "15249be3-ba1a-46d5-aae5-baeeb47b56a9",
   "metadata": {},
   "outputs": [],
   "source": []
  },
  {
   "cell_type": "code",
   "execution_count": null,
   "id": "ca749426-7f35-4e74-a5f0-d4e40876c458",
   "metadata": {},
   "outputs": [],
   "source": []
  },
  {
   "cell_type": "code",
   "execution_count": null,
   "id": "d91b772e-df49-4855-b11c-226c8584be2f",
   "metadata": {},
   "outputs": [],
   "source": []
  },
  {
   "cell_type": "code",
   "execution_count": null,
   "id": "1efea256-b52a-4cf8-889f-afd29d745243",
   "metadata": {},
   "outputs": [],
   "source": []
  },
  {
   "cell_type": "code",
   "execution_count": 107,
   "id": "b5d459db-7030-4f39-8a4f-4e3e8415843f",
   "metadata": {},
   "outputs": [],
   "source": [
    "class Person:\n",
    "    def __init__(self, name, age):\n",
    "        self.name = name\n",
    "        self.__age = age\n",
    "\n",
    "        print(f\"Person.init({self=}, {name=}, {age=})\")\n",
    "\n",
    "    def eat(self):\n",
    "        print(f\"Person.eat({self=}, {self.name=}, {self.__age=})\")\n",
    "\n",
    "\n",
    "class Student(Person):\n",
    "    def __init__(self, school, *args, **kwargs):\n",
    "        print(f\"Student.init({self=}, {school=})\")\n",
    "\n",
    "        super().__init__(*args, **kwargs)\n",
    "        self.school = school\n",
    "\n",
    "    def eat(self):\n",
    "        print(f\"Student.eat({self=}, {self.name=}, {self.school=}, {self.__age=})\")\n",
    "        "
   ]
  },
  {
   "cell_type": "code",
   "execution_count": 91,
   "id": "9fda44db-4f68-4da8-975e-0721d393fd74",
   "metadata": {},
   "outputs": [
    {
     "name": "stdout",
     "output_type": "stream",
     "text": [
      "Person.init(self=<__main__.Person object at 0x109549700>, name='Walter', age=50)\n"
     ]
    }
   ],
   "source": [
    "pers = Person(\"Walter\", 50)"
   ]
  },
  {
   "cell_type": "code",
   "execution_count": 93,
   "id": "1d2fd7db-daa5-42ae-95cb-654350f5fda2",
   "metadata": {},
   "outputs": [
    {
     "name": "stdout",
     "output_type": "stream",
     "text": [
      "Person.eat(self=<__main__.Person object at 0x109549700>, self.name='Walter', self.__age=50)\n"
     ]
    }
   ],
   "source": [
    "pers.eat()"
   ]
  },
  {
   "cell_type": "code",
   "execution_count": 104,
   "id": "36b9b5e7-9b2d-43f5-84c9-c4667f8a5fda",
   "metadata": {},
   "outputs": [
    {
     "name": "stdout",
     "output_type": "stream",
     "text": [
      "Student.init(self=<__main__.Student object at 0x10952e360>, school='VSU')\n",
      "Person.init(self=<__main__.Student object at 0x10952e360>, name='Walter', age=50)\n"
     ]
    }
   ],
   "source": [
    "stud = Student(\"VSU\", \"Walter\", 50)"
   ]
  },
  {
   "cell_type": "code",
   "execution_count": 108,
   "id": "971929fd-2f40-4d39-a280-6d05f2215687",
   "metadata": {},
   "outputs": [
    {
     "ename": "AttributeError",
     "evalue": "'super' object has no attribute '_Student__age'",
     "output_type": "error",
     "traceback": [
      "\u001b[0;31m---------------------------------------------------------------------------\u001b[0m",
      "\u001b[0;31mAttributeError\u001b[0m                            Traceback (most recent call last)",
      "Cell \u001b[0;32mIn[108], line 1\u001b[0m\n\u001b[0;32m----> 1\u001b[0m \u001b[43mstud\u001b[49m\u001b[38;5;241;43m.\u001b[39;49m\u001b[43meat\u001b[49m\u001b[43m(\u001b[49m\u001b[43m)\u001b[49m\n",
      "Cell \u001b[0;32mIn[103], line 20\u001b[0m, in \u001b[0;36mStudent.eat\u001b[0;34m(self)\u001b[0m\n\u001b[1;32m     19\u001b[0m \u001b[38;5;28;01mdef\u001b[39;00m \u001b[38;5;21meat\u001b[39m(\u001b[38;5;28mself\u001b[39m):\n\u001b[0;32m---> 20\u001b[0m     age \u001b[38;5;241m=\u001b[39m \u001b[38;5;28;43msuper\u001b[39;49m\u001b[43m(\u001b[49m\u001b[43m)\u001b[49m\u001b[38;5;241;43m.\u001b[39;49m\u001b[43m__age\u001b[49m\n\u001b[1;32m     21\u001b[0m     \u001b[38;5;28mprint\u001b[39m(\u001b[38;5;124mf\u001b[39m\u001b[38;5;124m\"\u001b[39m\u001b[38;5;124mStudent.eat(\u001b[39m\u001b[38;5;132;01m{\u001b[39;00m\u001b[38;5;28mself\u001b[39m\u001b[38;5;132;01m=}\u001b[39;00m\u001b[38;5;124m, \u001b[39m\u001b[38;5;132;01m{\u001b[39;00m\u001b[38;5;28mself\u001b[39m\u001b[38;5;241m.\u001b[39mname\u001b[38;5;132;01m=}\u001b[39;00m\u001b[38;5;124m, \u001b[39m\u001b[38;5;132;01m{\u001b[39;00m\u001b[38;5;28mself\u001b[39m\u001b[38;5;241m.\u001b[39mschool\u001b[38;5;132;01m=}\u001b[39;00m\u001b[38;5;124m, \u001b[39m\u001b[38;5;132;01m{\u001b[39;00mage\u001b[38;5;132;01m=}\u001b[39;00m\u001b[38;5;124m)\u001b[39m\u001b[38;5;124m\"\u001b[39m)\n",
      "\u001b[0;31mAttributeError\u001b[0m: 'super' object has no attribute '_Student__age'"
     ]
    }
   ],
   "source": [
    "stud.eat()"
   ]
  },
  {
   "cell_type": "code",
   "execution_count": 102,
   "id": "0125b7db-7a54-4493-a356-f744d011f0f3",
   "metadata": {},
   "outputs": [
    {
     "data": {
      "text/plain": [
       "{'name': 'Walter', '_Person__age': 50, 'school': 'VSU'}"
      ]
     },
     "execution_count": 102,
     "metadata": {},
     "output_type": "execute_result"
    }
   ],
   "source": [
    "stud.__dict__"
   ]
  },
  {
   "cell_type": "code",
   "execution_count": null,
   "id": "58ebb769-65ec-49bc-9d4b-1c6796c3f7ad",
   "metadata": {},
   "outputs": [],
   "source": []
  },
  {
   "cell_type": "code",
   "execution_count": 109,
   "id": "e11bf6fe-89ec-4d42-be22-17a1d1137e67",
   "metadata": {},
   "outputs": [],
   "source": [
    "class Person:\n",
    "    def __init__(self, name, age):\n",
    "        self.name = name\n",
    "        self.__age = age\n",
    "\n",
    "        print(f\"Person.init({self=}, {name=}, {age=})\")\n",
    "\n",
    "    def eat(self):\n",
    "        print(f\"Person.eat({self=}, {self.name=}, {self.__age=})\")\n",
    "\n",
    "    @property\n",
    "    def age(self):\n",
    "        print(f\"Person.prop_age({self=},{self.__age=})\")\n",
    "        return self.__age\n",
    "\n",
    "\n",
    "class Student(Person):\n",
    "    def __init__(self, school, *args, **kwargs):\n",
    "        print(f\"Student.init({self=}, {school=})\")\n",
    "\n",
    "        super().__init__(*args, **kwargs)\n",
    "        self.school = school\n",
    "\n",
    "    def eat(self):\n",
    "        print(f\"Student.eat({self=}, {self.name=}, {self.school=}, {self.age=})\")\n",
    "        "
   ]
  },
  {
   "cell_type": "code",
   "execution_count": 110,
   "id": "93658f1e-0dab-455a-ba6e-4c440e751af0",
   "metadata": {},
   "outputs": [
    {
     "name": "stdout",
     "output_type": "stream",
     "text": [
      "Student.init(self=<__main__.Student object at 0x109251a00>, school='VSU')\n",
      "Person.init(self=<__main__.Student object at 0x109251a00>, name='Walter', age=50)\n"
     ]
    }
   ],
   "source": [
    "stud = Student(\"VSU\", \"Walter\", 50)"
   ]
  },
  {
   "cell_type": "code",
   "execution_count": 111,
   "id": "beee2214-933f-4caa-a2ae-95b137b6090c",
   "metadata": {},
   "outputs": [
    {
     "name": "stdout",
     "output_type": "stream",
     "text": [
      "Person.prop_age(self=<__main__.Student object at 0x109251a00>,self.__age=50)\n",
      "Student.eat(self=<__main__.Student object at 0x109251a00>, self.name='Walter', self.school='VSU', self.age=50)\n"
     ]
    }
   ],
   "source": [
    "stud.eat()"
   ]
  },
  {
   "cell_type": "code",
   "execution_count": null,
   "id": "059bf58f-5c7f-4a21-9223-2f4a92dc6c24",
   "metadata": {},
   "outputs": [],
   "source": []
  },
  {
   "cell_type": "code",
   "execution_count": 112,
   "id": "99efd665-a35c-4d72-8ab5-93c7b8fa795c",
   "metadata": {},
   "outputs": [],
   "source": [
    "class Person:\n",
    "    def __init__(self, name, age):\n",
    "        self.name = name\n",
    "        self.__age = age\n",
    "\n",
    "        print(f\"Person.init({self=}, {name=}, {age=})\")\n",
    "\n",
    "    def eat(self):\n",
    "        print(f\"Person.eat({self=}, {self.name=}, {self.__age=})\")\n",
    "\n",
    "    @property\n",
    "    def age(self):\n",
    "        print(f\"Person.prop_age({self=},{self.__age=})\")\n",
    "        return self.__age\n",
    "\n",
    "\n",
    "class Student(Person):\n",
    "    def __init__(self, school, *args, **kwargs):\n",
    "        print(f\"Student.init({self=}, {school=})\")\n",
    "\n",
    "        super().__init__(*args, **kwargs)\n",
    "        self.school = school\n",
    "\n",
    "    def eat(self):\n",
    "        super().eat()\n",
    "        print(f\"Student.eat({self=}, {self.name=}, {self.school=}, {self.age=})\")\n",
    "        "
   ]
  },
  {
   "cell_type": "code",
   "execution_count": 113,
   "id": "cc5b8a9e-1bd1-4bf4-b837-d4cfd7e46d05",
   "metadata": {},
   "outputs": [
    {
     "name": "stdout",
     "output_type": "stream",
     "text": [
      "Student.init(self=<__main__.Student object at 0x109253ad0>, school='VSU')\n",
      "Person.init(self=<__main__.Student object at 0x109253ad0>, name='Walter', age=50)\n"
     ]
    }
   ],
   "source": [
    "stud = Student(\"VSU\", \"Walter\", 50)"
   ]
  },
  {
   "cell_type": "code",
   "execution_count": 114,
   "id": "95c39790-ce31-423c-a54f-b041a525a3bf",
   "metadata": {},
   "outputs": [
    {
     "name": "stdout",
     "output_type": "stream",
     "text": [
      "Person.eat(self=<__main__.Student object at 0x109253ad0>, self.name='Walter', self.__age=50)\n",
      "Person.prop_age(self=<__main__.Student object at 0x109253ad0>,self.__age=50)\n",
      "Student.eat(self=<__main__.Student object at 0x109253ad0>, self.name='Walter', self.school='VSU', self.age=50)\n"
     ]
    }
   ],
   "source": [
    "stud.eat()"
   ]
  },
  {
   "cell_type": "code",
   "execution_count": null,
   "id": "8367b22b-5f54-4938-832f-b4bd1f8126e0",
   "metadata": {},
   "outputs": [],
   "source": []
  },
  {
   "cell_type": "code",
   "execution_count": 123,
   "id": "88f42ec2-a809-44c8-b277-6cc4beca1808",
   "metadata": {},
   "outputs": [],
   "source": [
    "class Person:\n",
    "    def __init__(self, name, age):\n",
    "        self.name = name\n",
    "        self.__age = age\n",
    "\n",
    "        print(f\"Person.init({self=}, {name=}, {age=})\")\n",
    "\n",
    "    def eat(self):\n",
    "        print(f\"Person.eat({self=}, {self.name=}, {self.__age=})\")\n",
    "\n",
    "    @property\n",
    "    def age(self):\n",
    "        print(f\"Person.prop_age({self=},{self.__age=})\")\n",
    "        return self.__age\n",
    "\n",
    "\n",
    "class Student(Person):\n",
    "    def __init__(self, school, *args, **kwargs):\n",
    "        print(f\"Student.init({self=}, {school=})\")\n",
    "\n",
    "        super().__init__(*args, **kwargs)\n",
    "        self.school = school\n",
    "\n",
    "    def eat(self):\n",
    "        print(f\"Student.eat({self=}, {self.school=}, {self.name=}, {self.age=})\")\n",
    "\n",
    "\n",
    "class Teacher(Person):\n",
    "    def __init__(self, degree, *args, **kwargs):\n",
    "        print(f\"Teacher.init({self=}, {degree=})\")\n",
    "\n",
    "        super().__init__(*args, **kwargs)\n",
    "        self.degree = degree\n",
    "\n",
    "\n",
    "class Aspirant(Teacher, Student):\n",
    "    def __init__(self, *args, **kwargs):\n",
    "        print(f\"Aspirant.init({self=})\")\n",
    "\n",
    "        super().__init__(*args, **kwargs)"
   ]
  },
  {
   "cell_type": "code",
   "execution_count": 124,
   "id": "b298c63e-bfe0-43c0-8738-4adcebfa1f5d",
   "metadata": {},
   "outputs": [
    {
     "name": "stdout",
     "output_type": "stream",
     "text": [
      "Aspirant.init(self=<__main__.Aspirant object at 0x10952e8d0>)\n",
      "Teacher.init(self=<__main__.Aspirant object at 0x10952e8d0>, degree='MD')\n",
      "Student.init(self=<__main__.Aspirant object at 0x10952e8d0>, school='VSU')\n",
      "Person.init(self=<__main__.Aspirant object at 0x10952e8d0>, name='Walter', age=50)\n"
     ]
    }
   ],
   "source": [
    "asp = Aspirant(degree=\"MD\", school=\"VSU\", name=\"Walter\", age=50)"
   ]
  },
  {
   "cell_type": "code",
   "execution_count": 125,
   "id": "f43d83ad-d54e-4c47-b80c-476c80409c7b",
   "metadata": {},
   "outputs": [
    {
     "data": {
      "text/plain": [
       "[__main__.Aspirant,\n",
       " __main__.Teacher,\n",
       " __main__.Student,\n",
       " __main__.Person,\n",
       " object]"
      ]
     },
     "execution_count": 125,
     "metadata": {},
     "output_type": "execute_result"
    }
   ],
   "source": [
    "Aspirant.mro()"
   ]
  },
  {
   "cell_type": "code",
   "execution_count": 126,
   "id": "cdce96a8-8a0b-4ce4-9bb1-ff069536af15",
   "metadata": {},
   "outputs": [
    {
     "name": "stdout",
     "output_type": "stream",
     "text": [
      "Person.prop_age(self=<__main__.Aspirant object at 0x10952e8d0>,self.__age=50)\n"
     ]
    },
    {
     "data": {
      "text/plain": [
       "50"
      ]
     },
     "execution_count": 126,
     "metadata": {},
     "output_type": "execute_result"
    }
   ],
   "source": [
    "asp.age"
   ]
  },
  {
   "cell_type": "code",
   "execution_count": 127,
   "id": "b78feeb2-b469-479e-b074-7f0a0ef2234b",
   "metadata": {},
   "outputs": [
    {
     "name": "stdout",
     "output_type": "stream",
     "text": [
      "Person.prop_age(self=<__main__.Aspirant object at 0x10952e8d0>,self.__age=50)\n",
      "Student.eat(self=<__main__.Aspirant object at 0x10952e8d0>, self.school='VSU', self.name='Walter', self.age=50)\n"
     ]
    }
   ],
   "source": [
    "asp.eat()"
   ]
  },
  {
   "cell_type": "code",
   "execution_count": 128,
   "id": "f40a6052-d036-4671-bcf7-184c2f84e413",
   "metadata": {},
   "outputs": [
    {
     "data": {
      "text/plain": [
       "{'name': 'Walter', '_Person__age': 50, 'school': 'VSU', 'degree': 'MD'}"
      ]
     },
     "execution_count": 128,
     "metadata": {},
     "output_type": "execute_result"
    }
   ],
   "source": [
    "asp.__dict__"
   ]
  },
  {
   "cell_type": "code",
   "execution_count": 129,
   "id": "b617b984-82d0-4a7e-a6cf-ea52ca0c77a5",
   "metadata": {},
   "outputs": [],
   "source": [
    "class Person:\n",
    "    def __init__(self, name, age):\n",
    "        self.name = name\n",
    "        self.__age = age\n",
    "\n",
    "        print(f\"Person.init({self=}, {name=}, {age=})\")\n",
    "\n",
    "    def eat(self):\n",
    "        print(f\"Person.eat({self=}, {self.name=}, {self.__age=})\")\n",
    "\n",
    "    @property\n",
    "    def age(self):\n",
    "        print(f\"Person.prop_age({self=},{self.__age=})\")\n",
    "        return self.__age\n",
    "\n",
    "\n",
    "class Student(Person):\n",
    "    def __init__(self, school, *args, **kwargs):\n",
    "        print(f\"Student.init({self=}, {school=})\")\n",
    "\n",
    "        super().__init__(*args, **kwargs)\n",
    "        self.school = school\n",
    "\n",
    "    def eat(self):\n",
    "        print(f\"Student.eat({self=}, {self.school=}, {self.name=}, {self.age=})\")\n",
    "\n",
    "\n",
    "class Teacher(Person):\n",
    "    def __init__(self, degree, *args, **kwargs):\n",
    "        print(f\"Teacher.init({self=}, {degree=})\")\n",
    "\n",
    "        super().__init__(*args, **kwargs)\n",
    "        self.degree = degree\n",
    "\n",
    "    @property\n",
    "    def age(self):\n",
    "        return 42\n",
    "\n",
    "\n",
    "class Aspirant(Teacher, Student):\n",
    "    def __init__(self, *args, **kwargs):\n",
    "        print(f\"Aspirant.init({self=})\")\n",
    "\n",
    "        super().__init__(*args, **kwargs)"
   ]
  },
  {
   "cell_type": "code",
   "execution_count": 130,
   "id": "2066b547-8e7b-4d55-9aa2-5a59a5ca0c82",
   "metadata": {},
   "outputs": [
    {
     "name": "stdout",
     "output_type": "stream",
     "text": [
      "Aspirant.init(self=<__main__.Aspirant object at 0x1090c5af0>)\n",
      "Teacher.init(self=<__main__.Aspirant object at 0x1090c5af0>, degree='MD')\n",
      "Student.init(self=<__main__.Aspirant object at 0x1090c5af0>, school='VSU')\n",
      "Person.init(self=<__main__.Aspirant object at 0x1090c5af0>, name='Walter', age=50)\n"
     ]
    }
   ],
   "source": [
    "asp = Aspirant(degree=\"MD\", school=\"VSU\", name=\"Walter\", age=50)"
   ]
  },
  {
   "cell_type": "code",
   "execution_count": 132,
   "id": "6c1ebe97-c2de-46cb-97e0-65e0f991e3d6",
   "metadata": {},
   "outputs": [],
   "source": [
    "asp._Person__age = 99"
   ]
  },
  {
   "cell_type": "code",
   "execution_count": 133,
   "id": "69531f03-f658-4e16-a611-4d776bd26980",
   "metadata": {},
   "outputs": [
    {
     "data": {
      "text/plain": [
       "42"
      ]
     },
     "execution_count": 133,
     "metadata": {},
     "output_type": "execute_result"
    }
   ],
   "source": [
    "asp.age"
   ]
  },
  {
   "cell_type": "code",
   "execution_count": null,
   "id": "61aca09e-053b-44bc-863a-1e1b9499d37d",
   "metadata": {},
   "outputs": [],
   "source": []
  },
  {
   "cell_type": "code",
   "execution_count": null,
   "id": "9a080271-9adb-46a9-92a8-9a81770057a4",
   "metadata": {},
   "outputs": [],
   "source": []
  },
  {
   "cell_type": "code",
   "execution_count": null,
   "id": "72510e70-6a41-4e7b-9fc8-d885311f6d64",
   "metadata": {},
   "outputs": [],
   "source": []
  },
  {
   "cell_type": "markdown",
   "id": "fe040c7b-c873-4b17-bf17-0b395a56ef66",
   "metadata": {},
   "source": [
    "# Дескрипторы"
   ]
  },
  {
   "cell_type": "code",
   "execution_count": null,
   "id": "454b27c7-ab48-49fd-bded-d5541f12f7ea",
   "metadata": {},
   "outputs": [],
   "source": [
    "class Attr:\n",
    "    def __set_name__(self, owner, name):\n",
    "        print(f\"{locals()}=\")\n",
    "        self.name = name\n",
    "\n",
    "        \n",
    "class A:\n",
    "    x = Attr()  # Automatically calls: x.__set_name__(A, \"x\")"
   ]
  },
  {
   "cell_type": "code",
   "execution_count": 138,
   "id": "5208868a-d7c4-4412-9ac9-acda6f564d6d",
   "metadata": {},
   "outputs": [],
   "source": [
    "class FieldDescriptor:\n",
    "    def __set_name__(self, owner, name):\n",
    "        self.name = name\n",
    "\n",
    "    def __get__(self, obj, objtype):\n",
    "         print(f\"get {obj} cls={objtype}\")\n",
    "            \n",
    "    def __set__(self, obj, val):\n",
    "        print(f\"set {val} for {obj}\")\n",
    "    \n",
    "    def __delete__(self, obj):\n",
    "        print(f\"delete from {obj}\")\n",
    "        \n",
    "\n",
    "class DbTable:\n",
    "    field = FieldDescriptor()\n",
    "\n",
    "    def __init__(self):\n",
    "        print(\"init\", self)"
   ]
  },
  {
   "cell_type": "code",
   "execution_count": 137,
   "id": "8c15aaed-d681-4dc7-a490-d6d245ebdbc0",
   "metadata": {},
   "outputs": [
    {
     "name": "stdout",
     "output_type": "stream",
     "text": [
      "get None cls=<class '__main__.DbTable'>\n"
     ]
    }
   ],
   "source": [
    "DbTable.field"
   ]
  },
  {
   "cell_type": "code",
   "execution_count": 139,
   "id": "6532ac9d-2535-4896-8071-d8519223e25b",
   "metadata": {},
   "outputs": [
    {
     "name": "stdout",
     "output_type": "stream",
     "text": [
      "init <__main__.DbTable object at 0x109548c80>\n"
     ]
    }
   ],
   "source": [
    "table = DbTable()"
   ]
  },
  {
   "cell_type": "code",
   "execution_count": 140,
   "id": "9d967919-276b-404a-a845-5ac27cd9d2c1",
   "metadata": {},
   "outputs": [
    {
     "name": "stdout",
     "output_type": "stream",
     "text": [
      "get <__main__.DbTable object at 0x109548c80> cls=<class '__main__.DbTable'>\n"
     ]
    }
   ],
   "source": [
    "table.field"
   ]
  },
  {
   "cell_type": "code",
   "execution_count": 141,
   "id": "df79947e-2ce1-4211-a951-e0277e1b6ad7",
   "metadata": {},
   "outputs": [
    {
     "name": "stdout",
     "output_type": "stream",
     "text": [
      "set 99 for <__main__.DbTable object at 0x109548c80>\n"
     ]
    }
   ],
   "source": [
    "table.field = 99"
   ]
  },
  {
   "cell_type": "code",
   "execution_count": 142,
   "id": "f942fb2d-6e21-4398-979e-e8a26b891f1c",
   "metadata": {},
   "outputs": [
    {
     "name": "stdout",
     "output_type": "stream",
     "text": [
      "delete from <__main__.DbTable object at 0x109548c80>\n"
     ]
    }
   ],
   "source": [
    "del table.field"
   ]
  },
  {
   "cell_type": "code",
   "execution_count": null,
   "id": "adbda739-0aa4-4749-9137-af3524851965",
   "metadata": {},
   "outputs": [],
   "source": []
  },
  {
   "cell_type": "code",
   "execution_count": null,
   "id": "2808e56b-77c6-4ed4-a20b-ab7bc49d967b",
   "metadata": {},
   "outputs": [],
   "source": []
  },
  {
   "cell_type": "code",
   "execution_count": 144,
   "id": "7c10750d-4b7d-412f-84d6-1dc6f9b405db",
   "metadata": {},
   "outputs": [],
   "source": [
    "class IntField:\n",
    "    def __set_name__(self, owner, name):\n",
    "        self.name = name\n",
    "\n",
    "    def __get__(self, obj, objtype):\n",
    "         print(f\"get {obj} cls={objtype}\")\n",
    "            \n",
    "    def __set__(self, obj, val):\n",
    "        print(f\"set {val} for {obj}\")\n",
    "    \n",
    "    def __delete__(self, obj):\n",
    "        print(f\"delete from {obj}\")\n",
    "        \n",
    "\n",
    "class TablePerson:\n",
    "    age = IntField()\n",
    "\n",
    "    def __init__(self):\n",
    "        print(\"init\", self)"
   ]
  },
  {
   "cell_type": "code",
   "execution_count": 145,
   "id": "2f16508c-63bd-475c-9858-f4b2295296da",
   "metadata": {},
   "outputs": [
    {
     "data": {
      "text/plain": [
       "mappingproxy({'__module__': '__main__',\n",
       "              'age': <__main__.IntField at 0x10954b4a0>,\n",
       "              '__init__': <function __main__.TablePerson.__init__(self)>,\n",
       "              '__dict__': <attribute '__dict__' of 'TablePerson' objects>,\n",
       "              '__weakref__': <attribute '__weakref__' of 'TablePerson' objects>,\n",
       "              '__doc__': None})"
      ]
     },
     "execution_count": 145,
     "metadata": {},
     "output_type": "execute_result"
    }
   ],
   "source": [
    "TablePerson.__dict__"
   ]
  },
  {
   "cell_type": "code",
   "execution_count": 146,
   "id": "34218e3a-d204-4b49-ab4f-8e2975e72eac",
   "metadata": {},
   "outputs": [
    {
     "name": "stdout",
     "output_type": "stream",
     "text": [
      "init <__main__.TablePerson object at 0x109681190>\n"
     ]
    }
   ],
   "source": [
    "pers1 = TablePerson()"
   ]
  },
  {
   "cell_type": "code",
   "execution_count": 147,
   "id": "b0110ff9-dc0f-40a2-a567-2bf90de082a2",
   "metadata": {},
   "outputs": [
    {
     "data": {
      "text/plain": [
       "{}"
      ]
     },
     "execution_count": 147,
     "metadata": {},
     "output_type": "execute_result"
    }
   ],
   "source": [
    "pers1.__dict__"
   ]
  },
  {
   "cell_type": "code",
   "execution_count": 148,
   "id": "91509bd7-10eb-4558-aa16-472e27979883",
   "metadata": {},
   "outputs": [
    {
     "name": "stdout",
     "output_type": "stream",
     "text": [
      "set 30 for <__main__.TablePerson object at 0x109681190>\n"
     ]
    }
   ],
   "source": [
    "pers1.age = 30"
   ]
  },
  {
   "cell_type": "code",
   "execution_count": 149,
   "id": "50006540-0075-4b35-bbc6-6713a16e7fea",
   "metadata": {},
   "outputs": [],
   "source": [
    "pers1.__dict__[\"age\"] = 99"
   ]
  },
  {
   "cell_type": "code",
   "execution_count": 151,
   "id": "2fc9feaf-b9bb-4f7c-99fc-6c3af29eae09",
   "metadata": {},
   "outputs": [
    {
     "name": "stdout",
     "output_type": "stream",
     "text": [
      "get <__main__.TablePerson object at 0x109681190> cls=<class '__main__.TablePerson'>\n"
     ]
    }
   ],
   "source": [
    "pers1.age"
   ]
  },
  {
   "cell_type": "code",
   "execution_count": 152,
   "id": "a2aa6993-38f5-421c-93fa-a4eed0251973",
   "metadata": {},
   "outputs": [
    {
     "data": {
      "text/plain": [
       "{'age': 99}"
      ]
     },
     "execution_count": 152,
     "metadata": {},
     "output_type": "execute_result"
    }
   ],
   "source": [
    "pers1.__dict__"
   ]
  },
  {
   "cell_type": "code",
   "execution_count": 153,
   "id": "db7060f7-6f86-4b2b-a6cd-e2b0c8523d59",
   "metadata": {},
   "outputs": [
    {
     "name": "stdout",
     "output_type": "stream",
     "text": [
      "set 77 for <__main__.TablePerson object at 0x109681190>\n"
     ]
    }
   ],
   "source": [
    "pers1.age = 77"
   ]
  },
  {
   "cell_type": "code",
   "execution_count": 155,
   "id": "67ffc4be-32f3-4b12-b33d-b9ac05ea6d3f",
   "metadata": {},
   "outputs": [
    {
     "name": "stdout",
     "output_type": "stream",
     "text": [
      "get <__main__.TablePerson object at 0x109681190> cls=<class '__main__.TablePerson'>\n"
     ]
    }
   ],
   "source": [
    "pers1.age"
   ]
  },
  {
   "cell_type": "code",
   "execution_count": 156,
   "id": "2632e70f-46a5-4599-a34e-c744e6f5ed64",
   "metadata": {},
   "outputs": [
    {
     "data": {
      "text/plain": [
       "{'age': 99}"
      ]
     },
     "execution_count": 156,
     "metadata": {},
     "output_type": "execute_result"
    }
   ],
   "source": [
    "pers1.__dict__"
   ]
  },
  {
   "cell_type": "code",
   "execution_count": null,
   "id": "f6b15277-c18c-4719-8dbf-edd5ce51bd0b",
   "metadata": {},
   "outputs": [],
   "source": []
  },
  {
   "cell_type": "code",
   "execution_count": null,
   "id": "d26e6482-7135-4b50-81f2-43eb2c2b76b7",
   "metadata": {},
   "outputs": [],
   "source": []
  },
  {
   "cell_type": "code",
   "execution_count": null,
   "id": "c533335b-77cd-44ee-b8be-547eb4bd83b8",
   "metadata": {},
   "outputs": [],
   "source": []
  },
  {
   "cell_type": "code",
   "execution_count": 166,
   "id": "dbc4bd12-d541-4407-b489-9463eccff8fe",
   "metadata": {},
   "outputs": [
    {
     "name": "stdout",
     "output_type": "stream",
     "text": [
      "init <__main__.TablePerson object at 0x109675820>\n",
      "set 42 for <__main__.TablePerson object at 0x109675820>\n"
     ]
    }
   ],
   "source": [
    "class IntField:  # плохой способ\n",
    "    def __init__(self):\n",
    "        self.value = None\n",
    "\n",
    "    def __get__(self, obj, objtype):\n",
    "        print(f\"get {obj} cls={objtype}\")\n",
    "        return self.value\n",
    "            \n",
    "    def __set__(self, obj, val):\n",
    "        print(f\"set {val} for {obj}\")\n",
    "        \n",
    "        self.value = val\n",
    "\n",
    "\n",
    "class TablePerson:\n",
    "    age = IntField()\n",
    "\n",
    "    def __init__(self):\n",
    "        print(\"init\", self)\n",
    "\n",
    "\n",
    "pers = TablePerson()\n",
    "pers.age = 42"
   ]
  },
  {
   "cell_type": "code",
   "execution_count": 167,
   "id": "805b7924-64f9-4500-8a1d-f3f21621589a",
   "metadata": {},
   "outputs": [
    {
     "name": "stdout",
     "output_type": "stream",
     "text": [
      "get <__main__.TablePerson object at 0x109675820> cls=<class '__main__.TablePerson'>\n"
     ]
    },
    {
     "data": {
      "text/plain": [
       "42"
      ]
     },
     "execution_count": 167,
     "metadata": {},
     "output_type": "execute_result"
    }
   ],
   "source": [
    "pers.age"
   ]
  },
  {
   "cell_type": "code",
   "execution_count": 168,
   "id": "b3b72db0-2227-47c2-9c11-84e248f0b230",
   "metadata": {},
   "outputs": [
    {
     "name": "stdout",
     "output_type": "stream",
     "text": [
      "init <__main__.TablePerson object at 0x1090c6690>\n",
      "get <__main__.TablePerson object at 0x1090c6690> cls=<class '__main__.TablePerson'>\n"
     ]
    },
    {
     "data": {
      "text/plain": [
       "42"
      ]
     },
     "execution_count": 168,
     "metadata": {},
     "output_type": "execute_result"
    }
   ],
   "source": [
    "pers1 = TablePerson()\n",
    "pers1.age"
   ]
  },
  {
   "cell_type": "code",
   "execution_count": 169,
   "id": "80290eb9-1357-407d-81a7-e00de347a1a9",
   "metadata": {},
   "outputs": [
    {
     "name": "stdout",
     "output_type": "stream",
     "text": [
      "set 8765 for <__main__.TablePerson object at 0x1090c6690>\n"
     ]
    }
   ],
   "source": [
    "pers1.age = 8765"
   ]
  },
  {
   "cell_type": "code",
   "execution_count": 170,
   "id": "23fa8ce3-c785-47a8-9b3a-21e6108326ae",
   "metadata": {},
   "outputs": [
    {
     "name": "stdout",
     "output_type": "stream",
     "text": [
      "get <__main__.TablePerson object at 0x1090c6690> cls=<class '__main__.TablePerson'>\n"
     ]
    },
    {
     "data": {
      "text/plain": [
       "8765"
      ]
     },
     "execution_count": 170,
     "metadata": {},
     "output_type": "execute_result"
    }
   ],
   "source": [
    "pers1.age"
   ]
  },
  {
   "cell_type": "code",
   "execution_count": 171,
   "id": "d906d0cd-85e6-4100-8079-d885865e7200",
   "metadata": {},
   "outputs": [
    {
     "name": "stdout",
     "output_type": "stream",
     "text": [
      "get <__main__.TablePerson object at 0x109675820> cls=<class '__main__.TablePerson'>\n"
     ]
    },
    {
     "data": {
      "text/plain": [
       "8765"
      ]
     },
     "execution_count": 171,
     "metadata": {},
     "output_type": "execute_result"
    }
   ],
   "source": [
    "pers.age"
   ]
  },
  {
   "cell_type": "code",
   "execution_count": null,
   "id": "13d98f88-fbd9-4992-bee9-490ae4023b18",
   "metadata": {},
   "outputs": [],
   "source": []
  },
  {
   "cell_type": "code",
   "execution_count": null,
   "id": "e3c90cbd-7b23-45d7-bd0d-35b29e9932b1",
   "metadata": {},
   "outputs": [],
   "source": []
  },
  {
   "cell_type": "code",
   "execution_count": 183,
   "id": "5632fbf6-73c6-4245-a131-b104264aa469",
   "metadata": {},
   "outputs": [
    {
     "name": "stdout",
     "output_type": "stream",
     "text": [
      "init <__main__.TablePerson object at 0x10952dbb0> 42 249\n",
      "init <__main__.TablePerson object at 0x1097cb7d0> 24 181\n",
      "\n",
      "self=<__main__.TablePerson object at 0x10952dbb0>, self.age=249, self.height=249\n",
      "self=<__main__.TablePerson object at 0x1097cb7d0>, self.age=181, self.height=181\n",
      "\n",
      "self=<__main__.TablePerson object at 0x10952dbb0>, self.age=99, self.height=99\n",
      "self=<__main__.TablePerson object at 0x1097cb7d0>, self.age=181, self.height=181\n",
      "\n",
      "self=<__main__.TablePerson object at 0x10952dbb0>, self.age=99, self.height=99\n",
      "self=<__main__.TablePerson object at 0x1097cb7d0>, self.age=3456, self.height=3456\n"
     ]
    },
    {
     "data": {
      "text/plain": [
       "(None, None)"
      ]
     },
     "execution_count": 183,
     "metadata": {},
     "output_type": "execute_result"
    }
   ],
   "source": [
    "class IntField:  # плохой способ\n",
    "    def __init__(self):\n",
    "        self.name = \"_some_int_field\"\n",
    "    \n",
    "    def __get__(self, obj, objtype):\n",
    "        # print(f\"get {obj} cls={objtype}\")\n",
    "        \n",
    "        if obj is None:\n",
    "            return\n",
    "\n",
    "        return getattr(obj, self.name)\n",
    "            \n",
    "    def __set__(self, obj, val):\n",
    "        # print(f\"set {val} for {obj}\")\n",
    "        \n",
    "        setattr(obj, self.name, val)\n",
    "\n",
    "\n",
    "class TablePerson:\n",
    "    age = IntField()\n",
    "    height = IntField()\n",
    "\n",
    "    def __init__(self, age, height):\n",
    "        print(\"init\", self, age, height)\n",
    "        self.age = age\n",
    "        self.height = height\n",
    "\n",
    "    def print(self):\n",
    "        print(f\"{self=}, {self.age=}, {self.height=}\")\n",
    "\n",
    "\n",
    "pers1 = TablePerson(42, 249)\n",
    "pers2 = TablePerson(24, 181)\n",
    "print()\n",
    "pers1.print(), pers2.print()\n",
    "print()\n",
    "\n",
    "pers1.age = 99\n",
    "pers1.print(), pers2.print()\n",
    "print()\n",
    "\n",
    "pers2.height = 3456\n",
    "pers1.print(), pers2.print()"
   ]
  },
  {
   "cell_type": "code",
   "execution_count": 184,
   "id": "59604941-fa73-49d8-86ed-d96138956309",
   "metadata": {},
   "outputs": [
    {
     "data": {
      "text/plain": [
       "{'_some_int_field': 99}"
      ]
     },
     "execution_count": 184,
     "metadata": {},
     "output_type": "execute_result"
    }
   ],
   "source": [
    "pers1.__dict__"
   ]
  },
  {
   "cell_type": "code",
   "execution_count": null,
   "id": "8fa0939f-f148-43e6-9ec0-d375e93d2e3b",
   "metadata": {},
   "outputs": [],
   "source": []
  },
  {
   "cell_type": "code",
   "execution_count": 187,
   "id": "59ae33c2-5c39-403e-8ffe-7c8eb4f9e881",
   "metadata": {},
   "outputs": [
    {
     "name": "stdout",
     "output_type": "stream",
     "text": [
      "init <__main__.TablePerson object at 0x109252b40> 42 249\n",
      "init <__main__.TablePerson object at 0x109253cb0> 24 181\n",
      "\n",
      "self=<__main__.TablePerson object at 0x109252b40>, self.age=42, self.height=249\n",
      "self=<__main__.TablePerson object at 0x109253cb0>, self.age=24, self.height=181\n",
      "\n",
      "self=<__main__.TablePerson object at 0x109252b40>, self.age=99, self.height=249\n",
      "self=<__main__.TablePerson object at 0x109253cb0>, self.age=24, self.height=181\n",
      "\n",
      "self=<__main__.TablePerson object at 0x109252b40>, self.age=99, self.height=249\n",
      "self=<__main__.TablePerson object at 0x109253cb0>, self.age=24, self.height=3456\n"
     ]
    },
    {
     "data": {
      "text/plain": [
       "(None, None)"
      ]
     },
     "execution_count": 187,
     "metadata": {},
     "output_type": "execute_result"
    }
   ],
   "source": [
    "class IntField:\n",
    "    def __set_name__(self, owner, name):\n",
    "        self.name = f\"_{name}_int_field\"\n",
    "\n",
    "    def __get__(self, obj, objtype):\n",
    "        if obj is None:\n",
    "            return\n",
    "\n",
    "        return getattr(obj, self.name)\n",
    "\n",
    "    def __set__(self, obj, val):\n",
    "        setattr(obj, self.name, val)\n",
    "\n",
    "\n",
    "class TablePerson:\n",
    "    age = IntField()\n",
    "    height = IntField()\n",
    "\n",
    "    def __init__(self, age, height):\n",
    "        print(\"init\", self, age, height)\n",
    "        self.age = age\n",
    "        self.height = height\n",
    "\n",
    "    def print(self):\n",
    "        print(f\"{self=}, {self.age=}, {self.height=}\")\n",
    "\n",
    "\n",
    "pers1 = TablePerson(42, 249)\n",
    "pers2 = TablePerson(24, 181)\n",
    "print()\n",
    "pers1.print(), pers2.print()\n",
    "print()\n",
    "\n",
    "pers1.age = 99\n",
    "pers1.print(), pers2.print()\n",
    "print()\n",
    "\n",
    "pers2.height = 3456\n",
    "pers1.print(), pers2.print()"
   ]
  },
  {
   "cell_type": "code",
   "execution_count": 188,
   "id": "e7017881-d854-4f6b-b186-7300522f7ad2",
   "metadata": {},
   "outputs": [
    {
     "data": {
      "text/plain": [
       "{'_age_int_field': 99, '_height_int_field': 249}"
      ]
     },
     "execution_count": 188,
     "metadata": {},
     "output_type": "execute_result"
    }
   ],
   "source": [
    "pers1.__dict__"
   ]
  },
  {
   "cell_type": "code",
   "execution_count": null,
   "id": "b0f9744a-3697-4294-9848-dc8ca0e07bac",
   "metadata": {},
   "outputs": [],
   "source": []
  },
  {
   "cell_type": "code",
   "execution_count": 194,
   "id": "828ed725-bba9-4585-b1e1-35c6e8026175",
   "metadata": {},
   "outputs": [
    {
     "name": "stdout",
     "output_type": "stream",
     "text": [
      "init <__main__.TablePerson object at 0x1097d2f30> 42\n"
     ]
    }
   ],
   "source": [
    "class IntField:\n",
    "    def __set_name__(self, owner, name):\n",
    "        self.name = f\"_{name}_int_field\"\n",
    "\n",
    "    def __get__(self, obj, objtype):\n",
    "        if obj is None:\n",
    "            return\n",
    "\n",
    "        return \"get_from_IntField\"\n",
    "\n",
    "\n",
    "class TablePerson:\n",
    "    age = IntField()\n",
    "\n",
    "    def __init__(self, age):\n",
    "        print(\"init\", self, age)\n",
    "        # self.age = age\n",
    "\n",
    "    def print(self):\n",
    "        print(f\"{self=}, {self.age=}\")\n",
    "\n",
    "\n",
    "pers = TablePerson(42)"
   ]
  },
  {
   "cell_type": "code",
   "execution_count": 195,
   "id": "9ba67448-31c5-453c-b606-793babd51691",
   "metadata": {},
   "outputs": [
    {
     "data": {
      "text/plain": [
       "{}"
      ]
     },
     "execution_count": 195,
     "metadata": {},
     "output_type": "execute_result"
    }
   ],
   "source": [
    "pers.__dict__"
   ]
  },
  {
   "cell_type": "code",
   "execution_count": 196,
   "id": "dad321bb-37fd-49e1-ba16-3a479fb88144",
   "metadata": {},
   "outputs": [
    {
     "data": {
      "text/plain": [
       "'get_from_IntField'"
      ]
     },
     "execution_count": 196,
     "metadata": {},
     "output_type": "execute_result"
    }
   ],
   "source": [
    "pers.age"
   ]
  },
  {
   "cell_type": "code",
   "execution_count": 198,
   "id": "4e86ac80-8fa8-4a7f-be77-068cc0d5d133",
   "metadata": {},
   "outputs": [],
   "source": [
    "pers.age = \"other value\""
   ]
  },
  {
   "cell_type": "code",
   "execution_count": 200,
   "id": "22cfc3c3-2241-458e-b963-ccc114e30457",
   "metadata": {},
   "outputs": [
    {
     "data": {
      "text/plain": [
       "('other value', {'age': 'other value'})"
      ]
     },
     "execution_count": 200,
     "metadata": {},
     "output_type": "execute_result"
    }
   ],
   "source": [
    "pers.age, pers.__dict__"
   ]
  },
  {
   "cell_type": "code",
   "execution_count": 201,
   "id": "20180b7a-5f69-4abe-b255-f67ffb9a6fe8",
   "metadata": {},
   "outputs": [],
   "source": [
    "del pers.age"
   ]
  },
  {
   "cell_type": "code",
   "execution_count": 203,
   "id": "9d8d9216-881c-4ba0-a5a6-e51fcde0d2f4",
   "metadata": {},
   "outputs": [
    {
     "data": {
      "text/plain": [
       "{}"
      ]
     },
     "execution_count": 203,
     "metadata": {},
     "output_type": "execute_result"
    }
   ],
   "source": [
    "pers.__dict__"
   ]
  },
  {
   "cell_type": "code",
   "execution_count": 202,
   "id": "008bdaf9-3f43-4f90-a910-86d54ab64dd6",
   "metadata": {},
   "outputs": [
    {
     "data": {
      "text/plain": [
       "'get_from_IntField'"
      ]
     },
     "execution_count": 202,
     "metadata": {},
     "output_type": "execute_result"
    }
   ],
   "source": [
    "pers.age"
   ]
  },
  {
   "cell_type": "code",
   "execution_count": null,
   "id": "25ad9d9e-523b-4877-bfbe-8e2ddb91deec",
   "metadata": {},
   "outputs": [],
   "source": []
  },
  {
   "cell_type": "code",
   "execution_count": null,
   "id": "af054321-7b93-472e-adff-fd1198b38339",
   "metadata": {},
   "outputs": [],
   "source": []
  }
 ],
 "metadata": {
  "kernelspec": {
   "display_name": "Python 3 (ipykernel)",
   "language": "python",
   "name": "python3"
  },
  "language_info": {
   "codemirror_mode": {
    "name": "ipython",
    "version": 3
   },
   "file_extension": ".py",
   "mimetype": "text/x-python",
   "name": "python",
   "nbconvert_exporter": "python",
   "pygments_lexer": "ipython3",
   "version": "3.12.5"
  }
 },
 "nbformat": 4,
 "nbformat_minor": 5
}
